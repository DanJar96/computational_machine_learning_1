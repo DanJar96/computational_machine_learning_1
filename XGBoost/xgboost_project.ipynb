{
  "cells": [
    {
      "cell_type": "markdown",
      "metadata": {},
      "source": [
        "# Project: Decision Trees"
      ]
    },
    {
      "cell_type": "markdown",
      "metadata": {},
      "source": [
        "## Importing modules"
      ]
    },
    {
      "cell_type": "code",
      "execution_count": 1,
      "metadata": {
        "colab": {
          "base_uri": "https://localhost:8080/"
        },
        "id": "ytU5xOo-L8f1",
        "outputId": "22ddbef0-9207-4eec-c9d1-1b3e35aeff15"
      },
      "outputs": [
        {
          "name": "stderr",
          "output_type": "stream",
          "text": [
            "[MLENS] backend: threading\n"
          ]
        }
      ],
      "source": [
        "import pandas as pd\n",
        "import seaborn as sns\n",
        "import numpy as np\n",
        "import ipywidgets\n",
        "import random\n",
        "import time\n",
        "import scipy\n",
        "import datetime as dt\n",
        "from dateutil.relativedelta import relativedelta\n",
        "import joblib\n",
        "import os\n",
        "\n",
        "\n",
        "from sklearn.model_selection import GridSearchCV\n",
        "from sklearn.feature_selection import SelectFromModel\n",
        "from sklearn.preprocessing import StandardScaler, RobustScaler, OneHotEncoder\n",
        "from sklearn.compose import ColumnTransformer\n",
        "from sklearn.ensemble import BaggingRegressor, ExtraTreesRegressor\n",
        "from sklearn.impute import KNNImputer, SimpleImputer\n",
        "from sklearn.svm import SVR\n",
        "from sklearn.tree import DecisionTreeRegressor\n",
        "\n",
        "\n",
        "from imblearn.pipeline import Pipeline\n",
        "from xgboost import XGBRegressor\n",
        "\n",
        "import mlens\n",
        "from mlens.visualization import corrmat\n",
        "from mlens.ensemble import SuperLearner, BlendEnsemble, Subsemble, SequentialEnsemble\n",
        "\n",
        "np.random.seed(3123) # impose random seed for reproducibility"
      ]
    },
    {
      "cell_type": "code",
      "execution_count": 2,
      "metadata": {
        "colab": {
          "base_uri": "https://localhost:8080/"
        },
        "id": "jaQMRXPMlD70",
        "outputId": "86230c02-d6d2-4387-83e1-a84d2cd119a3"
      },
      "outputs": [
        {
          "name": "stdout",
          "output_type": "stream",
          "text": [
            "/home/dante/CML/computational_machine_learning_1/XGBoost\n",
            "/home/dante/CML/computational_machine_learning_1/XGBoost/raw_data\n"
          ]
        }
      ],
      "source": [
        "# Getting folder location\n",
        "fl = os.getcwd()\n",
        "print(fl)\n",
        "\n",
        "# Locating data\n",
        "dl = os.path.join(os.getcwd(),'raw_data')\n",
        "print(dl)"
      ]
    },
    {
      "cell_type": "markdown",
      "metadata": {
        "id": "06uFNPdmnCSn"
      },
      "source": [
        "# Data ingestion\n"
      ]
    },
    {
      "cell_type": "code",
      "execution_count": 3,
      "metadata": {
        "id": "I8ibvtOtnBpK"
      },
      "outputs": [],
      "source": [
        "# Loading training data\n",
        "training = pd.read_csv(os.path.join(dl,'mimic_train.csv'))\n",
        "\n",
        "# Loading test data\n",
        "test = pd.read_csv(os.path.join(dl,'mimic_test_death.csv'))\n",
        "\n",
        "# Loading comorbidities data\n",
        "comorbidities = pd.read_csv(os.path.join(dl,'MIMIC_diagnoses.csv'))"
      ]
    },
    {
      "cell_type": "code",
      "execution_count": 4,
      "metadata": {
        "colab": {
          "base_uri": "https://localhost:8080/"
        },
        "id": "J71-OtoXpnNV",
        "outputId": "0bf92a90-ea09-404d-ea5b-db751e15c9d0"
      },
      "outputs": [
        {
          "name": "stdout",
          "output_type": "stream",
          "text": [
            "Index(['HOSPITAL_EXPIRE_FLAG', 'subject_id', 'hadm_id', 'icustay_id',\n",
            "       'HeartRate_Min', 'HeartRate_Max', 'HeartRate_Mean', 'SysBP_Min',\n",
            "       'SysBP_Max', 'SysBP_Mean', 'DiasBP_Min', 'DiasBP_Max', 'DiasBP_Mean',\n",
            "       'MeanBP_Min', 'MeanBP_Max', 'MeanBP_Mean', 'RespRate_Min',\n",
            "       'RespRate_Max', 'RespRate_Mean', 'TempC_Min', 'TempC_Max', 'TempC_Mean',\n",
            "       'SpO2_Min', 'SpO2_Max', 'SpO2_Mean', 'Glucose_Min', 'Glucose_Max',\n",
            "       'Glucose_Mean', 'GENDER', 'DOB', 'DOD', 'ADMITTIME', 'DISCHTIME',\n",
            "       'DEATHTIME', 'Diff', 'ADMISSION_TYPE', 'INSURANCE', 'RELIGION',\n",
            "       'MARITAL_STATUS', 'ETHNICITY', 'DIAGNOSIS', 'ICD9_diagnosis',\n",
            "       'FIRST_CAREUNIT', 'LOS'],\n",
            "      dtype='object')\n",
            "Index(['subject_id', 'hadm_id', 'icustay_id', 'HeartRate_Min', 'HeartRate_Max',\n",
            "       'HeartRate_Mean', 'SysBP_Min', 'SysBP_Max', 'SysBP_Mean', 'DiasBP_Min',\n",
            "       'DiasBP_Max', 'DiasBP_Mean', 'MeanBP_Min', 'MeanBP_Max', 'MeanBP_Mean',\n",
            "       'RespRate_Min', 'RespRate_Max', 'RespRate_Mean', 'TempC_Min',\n",
            "       'TempC_Max', 'TempC_Mean', 'SpO2_Min', 'SpO2_Max', 'SpO2_Mean',\n",
            "       'Glucose_Min', 'Glucose_Max', 'Glucose_Mean', 'GENDER', 'DOB',\n",
            "       'ADMITTIME', 'Diff', 'ADMISSION_TYPE', 'INSURANCE', 'RELIGION',\n",
            "       'MARITAL_STATUS', 'ETHNICITY', 'DIAGNOSIS', 'ICD9_diagnosis',\n",
            "       'FIRST_CAREUNIT'],\n",
            "      dtype='object')\n",
            "Index(['SUBJECT_ID', 'HADM_ID', 'SEQ_NUM', 'ICD9_CODE'], dtype='object')\n"
          ]
        }
      ],
      "source": [
        "# Checking variables available\n",
        "print(training.columns)\n",
        "print(test.columns)\n",
        "print(comorbidities.columns)"
      ]
    },
    {
      "cell_type": "markdown",
      "metadata": {
        "id": "IXqOEl7SHm5-"
      },
      "source": [
        "# Average lengt of stay sum - metric implementation\n",
        "The avg_LOS_sum will be based on the following intuition.\n",
        "\n",
        "a) having a certain ICD9 diagnosis has a potential impact on the Length of Stay in the ICU (LOS) for a given patient.\n",
        "\n",
        "b) having multiple ICD9 diagnoses has an arguably larger impact on the LOS for a given patient.\n",
        "\n",
        "To construct an index that takes this into account, I will perform the feature engineering/manipulation:\n",
        "\n",
        "1. Calculate the average LOS per co-morbidity.\n",
        "\n",
        "2. Group sum the average LOS per co-morbidity by hospitalization ID.\n",
        "\n",
        "3. Join this to the test and training data. Call this <font color='green'> avg_LOS_sum</font>.\n",
        "\n",
        "In essence, this should account for the 'additive strain' nature of having multiple ICD9 diagnoses at the same time.\n"
      ]
    },
    {
      "cell_type": "code",
      "execution_count": 5,
      "metadata": {},
      "outputs": [
        {
          "data": {
            "text/html": [
              "<div>\n",
              "<style scoped>\n",
              "    .dataframe tbody tr th:only-of-type {\n",
              "        vertical-align: middle;\n",
              "    }\n",
              "\n",
              "    .dataframe tbody tr th {\n",
              "        vertical-align: top;\n",
              "    }\n",
              "\n",
              "    .dataframe thead th {\n",
              "        text-align: right;\n",
              "    }\n",
              "</style>\n",
              "<table border=\"1\" class=\"dataframe\">\n",
              "  <thead>\n",
              "    <tr style=\"text-align: right;\">\n",
              "      <th></th>\n",
              "      <th>HOSPITAL_EXPIRE_FLAG</th>\n",
              "      <th>subject_id</th>\n",
              "      <th>hadm_id</th>\n",
              "      <th>icustay_id</th>\n",
              "      <th>HeartRate_Min</th>\n",
              "      <th>HeartRate_Max</th>\n",
              "      <th>HeartRate_Mean</th>\n",
              "      <th>SysBP_Min</th>\n",
              "      <th>SysBP_Max</th>\n",
              "      <th>SysBP_Mean</th>\n",
              "      <th>...</th>\n",
              "      <th>Diff</th>\n",
              "      <th>ADMISSION_TYPE</th>\n",
              "      <th>INSURANCE</th>\n",
              "      <th>RELIGION</th>\n",
              "      <th>MARITAL_STATUS</th>\n",
              "      <th>ETHNICITY</th>\n",
              "      <th>DIAGNOSIS</th>\n",
              "      <th>ICD9_diagnosis</th>\n",
              "      <th>FIRST_CAREUNIT</th>\n",
              "      <th>LOS</th>\n",
              "    </tr>\n",
              "  </thead>\n",
              "  <tbody>\n",
              "    <tr>\n",
              "      <th>0</th>\n",
              "      <td>0</td>\n",
              "      <td>55440</td>\n",
              "      <td>195768</td>\n",
              "      <td>228357</td>\n",
              "      <td>89.0</td>\n",
              "      <td>145.0</td>\n",
              "      <td>121.043478</td>\n",
              "      <td>74.0</td>\n",
              "      <td>127.0</td>\n",
              "      <td>106.586957</td>\n",
              "      <td>...</td>\n",
              "      <td>-61961.78470</td>\n",
              "      <td>EMERGENCY</td>\n",
              "      <td>Medicare</td>\n",
              "      <td>PROTESTANT QUAKER</td>\n",
              "      <td>SINGLE</td>\n",
              "      <td>WHITE</td>\n",
              "      <td>GASTROINTESTINAL BLEED</td>\n",
              "      <td>5789</td>\n",
              "      <td>MICU</td>\n",
              "      <td>4.5761</td>\n",
              "    </tr>\n",
              "    <tr>\n",
              "      <th>1</th>\n",
              "      <td>0</td>\n",
              "      <td>76908</td>\n",
              "      <td>126136</td>\n",
              "      <td>221004</td>\n",
              "      <td>63.0</td>\n",
              "      <td>110.0</td>\n",
              "      <td>79.117647</td>\n",
              "      <td>89.0</td>\n",
              "      <td>121.0</td>\n",
              "      <td>106.733333</td>\n",
              "      <td>...</td>\n",
              "      <td>-43146.18378</td>\n",
              "      <td>EMERGENCY</td>\n",
              "      <td>Private</td>\n",
              "      <td>UNOBTAINABLE</td>\n",
              "      <td>MARRIED</td>\n",
              "      <td>WHITE</td>\n",
              "      <td>ESOPHAGEAL FOOD IMPACTION</td>\n",
              "      <td>53013</td>\n",
              "      <td>MICU</td>\n",
              "      <td>0.7582</td>\n",
              "    </tr>\n",
              "    <tr>\n",
              "      <th>2</th>\n",
              "      <td>0</td>\n",
              "      <td>95798</td>\n",
              "      <td>136645</td>\n",
              "      <td>296315</td>\n",
              "      <td>81.0</td>\n",
              "      <td>98.0</td>\n",
              "      <td>91.689655</td>\n",
              "      <td>88.0</td>\n",
              "      <td>138.0</td>\n",
              "      <td>112.785714</td>\n",
              "      <td>...</td>\n",
              "      <td>-42009.96157</td>\n",
              "      <td>EMERGENCY</td>\n",
              "      <td>Medicare</td>\n",
              "      <td>PROTESTANT QUAKER</td>\n",
              "      <td>SEPARATED</td>\n",
              "      <td>BLACK/AFRICAN AMERICAN</td>\n",
              "      <td>UPPER GI BLEED</td>\n",
              "      <td>56983</td>\n",
              "      <td>MICU</td>\n",
              "      <td>3.7626</td>\n",
              "    </tr>\n",
              "    <tr>\n",
              "      <th>3</th>\n",
              "      <td>0</td>\n",
              "      <td>40708</td>\n",
              "      <td>102505</td>\n",
              "      <td>245557</td>\n",
              "      <td>76.0</td>\n",
              "      <td>128.0</td>\n",
              "      <td>98.857143</td>\n",
              "      <td>84.0</td>\n",
              "      <td>135.0</td>\n",
              "      <td>106.972973</td>\n",
              "      <td>...</td>\n",
              "      <td>-43585.37922</td>\n",
              "      <td>ELECTIVE</td>\n",
              "      <td>Medicare</td>\n",
              "      <td>NOT SPECIFIED</td>\n",
              "      <td>WIDOWED</td>\n",
              "      <td>WHITE</td>\n",
              "      <td>HIATAL HERNIA/SDA</td>\n",
              "      <td>5533</td>\n",
              "      <td>SICU</td>\n",
              "      <td>3.8734</td>\n",
              "    </tr>\n",
              "    <tr>\n",
              "      <th>4</th>\n",
              "      <td>0</td>\n",
              "      <td>28424</td>\n",
              "      <td>127337</td>\n",
              "      <td>225281</td>\n",
              "      <td>NaN</td>\n",
              "      <td>NaN</td>\n",
              "      <td>NaN</td>\n",
              "      <td>NaN</td>\n",
              "      <td>NaN</td>\n",
              "      <td>NaN</td>\n",
              "      <td>...</td>\n",
              "      <td>-50271.76602</td>\n",
              "      <td>EMERGENCY</td>\n",
              "      <td>Medicare</td>\n",
              "      <td>JEWISH</td>\n",
              "      <td>WIDOWED</td>\n",
              "      <td>WHITE</td>\n",
              "      <td>ABDOMINAL PAIN</td>\n",
              "      <td>56211</td>\n",
              "      <td>TSICU</td>\n",
              "      <td>5.8654</td>\n",
              "    </tr>\n",
              "  </tbody>\n",
              "</table>\n",
              "<p>5 rows × 44 columns</p>\n",
              "</div>"
            ],
            "text/plain": [
              "   HOSPITAL_EXPIRE_FLAG  subject_id  hadm_id  icustay_id  HeartRate_Min  \\\n",
              "0                     0       55440   195768      228357           89.0   \n",
              "1                     0       76908   126136      221004           63.0   \n",
              "2                     0       95798   136645      296315           81.0   \n",
              "3                     0       40708   102505      245557           76.0   \n",
              "4                     0       28424   127337      225281            NaN   \n",
              "\n",
              "   HeartRate_Max  HeartRate_Mean  SysBP_Min  SysBP_Max  SysBP_Mean  ...  \\\n",
              "0          145.0      121.043478       74.0      127.0  106.586957  ...   \n",
              "1          110.0       79.117647       89.0      121.0  106.733333  ...   \n",
              "2           98.0       91.689655       88.0      138.0  112.785714  ...   \n",
              "3          128.0       98.857143       84.0      135.0  106.972973  ...   \n",
              "4            NaN             NaN        NaN        NaN         NaN  ...   \n",
              "\n",
              "          Diff  ADMISSION_TYPE  INSURANCE           RELIGION  MARITAL_STATUS  \\\n",
              "0 -61961.78470       EMERGENCY   Medicare  PROTESTANT QUAKER          SINGLE   \n",
              "1 -43146.18378       EMERGENCY    Private       UNOBTAINABLE         MARRIED   \n",
              "2 -42009.96157       EMERGENCY   Medicare  PROTESTANT QUAKER       SEPARATED   \n",
              "3 -43585.37922        ELECTIVE   Medicare      NOT SPECIFIED         WIDOWED   \n",
              "4 -50271.76602       EMERGENCY   Medicare             JEWISH         WIDOWED   \n",
              "\n",
              "                ETHNICITY                  DIAGNOSIS  ICD9_diagnosis  \\\n",
              "0                   WHITE     GASTROINTESTINAL BLEED            5789   \n",
              "1                   WHITE  ESOPHAGEAL FOOD IMPACTION           53013   \n",
              "2  BLACK/AFRICAN AMERICAN             UPPER GI BLEED           56983   \n",
              "3                   WHITE          HIATAL HERNIA/SDA            5533   \n",
              "4                   WHITE             ABDOMINAL PAIN           56211   \n",
              "\n",
              "   FIRST_CAREUNIT     LOS  \n",
              "0            MICU  4.5761  \n",
              "1            MICU  0.7582  \n",
              "2            MICU  3.7626  \n",
              "3            SICU  3.8734  \n",
              "4           TSICU  5.8654  \n",
              "\n",
              "[5 rows x 44 columns]"
            ]
          },
          "execution_count": 5,
          "metadata": {},
          "output_type": "execute_result"
        }
      ],
      "source": [
        "training.head(5)"
      ]
    },
    {
      "cell_type": "code",
      "execution_count": 6,
      "metadata": {},
      "outputs": [
        {
          "data": {
            "text/html": [
              "<div>\n",
              "<style scoped>\n",
              "    .dataframe tbody tr th:only-of-type {\n",
              "        vertical-align: middle;\n",
              "    }\n",
              "\n",
              "    .dataframe tbody tr th {\n",
              "        vertical-align: top;\n",
              "    }\n",
              "\n",
              "    .dataframe thead th {\n",
              "        text-align: right;\n",
              "    }\n",
              "</style>\n",
              "<table border=\"1\" class=\"dataframe\">\n",
              "  <thead>\n",
              "    <tr style=\"text-align: right;\">\n",
              "      <th></th>\n",
              "      <th>subject_id</th>\n",
              "      <th>hadm_id</th>\n",
              "      <th>icustay_id</th>\n",
              "      <th>HeartRate_Min</th>\n",
              "      <th>HeartRate_Max</th>\n",
              "      <th>HeartRate_Mean</th>\n",
              "      <th>SysBP_Min</th>\n",
              "      <th>SysBP_Max</th>\n",
              "      <th>SysBP_Mean</th>\n",
              "      <th>DiasBP_Min</th>\n",
              "      <th>...</th>\n",
              "      <th>ADMITTIME</th>\n",
              "      <th>Diff</th>\n",
              "      <th>ADMISSION_TYPE</th>\n",
              "      <th>INSURANCE</th>\n",
              "      <th>RELIGION</th>\n",
              "      <th>MARITAL_STATUS</th>\n",
              "      <th>ETHNICITY</th>\n",
              "      <th>DIAGNOSIS</th>\n",
              "      <th>ICD9_diagnosis</th>\n",
              "      <th>FIRST_CAREUNIT</th>\n",
              "    </tr>\n",
              "  </thead>\n",
              "  <tbody>\n",
              "    <tr>\n",
              "      <th>0</th>\n",
              "      <td>64058</td>\n",
              "      <td>146725</td>\n",
              "      <td>208169</td>\n",
              "      <td>58.0</td>\n",
              "      <td>90.0</td>\n",
              "      <td>85.244898</td>\n",
              "      <td>77.0</td>\n",
              "      <td>153.0</td>\n",
              "      <td>98.490909</td>\n",
              "      <td>40.0</td>\n",
              "      <td>...</td>\n",
              "      <td>2196-02-23 11:45:00</td>\n",
              "      <td>-67454.42740</td>\n",
              "      <td>ELECTIVE</td>\n",
              "      <td>Medicare</td>\n",
              "      <td>CATHOLIC</td>\n",
              "      <td>MARRIED</td>\n",
              "      <td>WHITE</td>\n",
              "      <td>AORTIC STENOSIS\\CORONARY ARTERY BYPASS GRAFT W...</td>\n",
              "      <td>4241</td>\n",
              "      <td>CSRU</td>\n",
              "    </tr>\n",
              "    <tr>\n",
              "      <th>1</th>\n",
              "      <td>55871</td>\n",
              "      <td>108789</td>\n",
              "      <td>251754</td>\n",
              "      <td>91.0</td>\n",
              "      <td>145.0</td>\n",
              "      <td>115.055556</td>\n",
              "      <td>73.0</td>\n",
              "      <td>143.0</td>\n",
              "      <td>101.210526</td>\n",
              "      <td>42.0</td>\n",
              "      <td>...</td>\n",
              "      <td>2103-10-22 23:58:00</td>\n",
              "      <td>-34204.08546</td>\n",
              "      <td>EMERGENCY</td>\n",
              "      <td>Private</td>\n",
              "      <td>NOT SPECIFIED</td>\n",
              "      <td>MARRIED</td>\n",
              "      <td>WHITE</td>\n",
              "      <td>HYPERGLYCEMIA</td>\n",
              "      <td>25013</td>\n",
              "      <td>MICU</td>\n",
              "    </tr>\n",
              "    <tr>\n",
              "      <th>2</th>\n",
              "      <td>42892</td>\n",
              "      <td>139885</td>\n",
              "      <td>242171</td>\n",
              "      <td>106.0</td>\n",
              "      <td>132.0</td>\n",
              "      <td>117.750000</td>\n",
              "      <td>93.0</td>\n",
              "      <td>137.0</td>\n",
              "      <td>116.222222</td>\n",
              "      <td>51.0</td>\n",
              "      <td>...</td>\n",
              "      <td>2115-06-28 07:15:00</td>\n",
              "      <td>-38710.61714</td>\n",
              "      <td>ELECTIVE</td>\n",
              "      <td>Medicare</td>\n",
              "      <td>CATHOLIC</td>\n",
              "      <td>MARRIED</td>\n",
              "      <td>WHITE</td>\n",
              "      <td>KIDNEY STONES/SDA</td>\n",
              "      <td>5920</td>\n",
              "      <td>MICU</td>\n",
              "    </tr>\n",
              "    <tr>\n",
              "      <th>3</th>\n",
              "      <td>66629</td>\n",
              "      <td>173017</td>\n",
              "      <td>263035</td>\n",
              "      <td>72.0</td>\n",
              "      <td>105.0</td>\n",
              "      <td>83.627119</td>\n",
              "      <td>72.0</td>\n",
              "      <td>168.0</td>\n",
              "      <td>126.981818</td>\n",
              "      <td>39.0</td>\n",
              "      <td>...</td>\n",
              "      <td>2162-08-01 21:00:00</td>\n",
              "      <td>-54902.54313</td>\n",
              "      <td>EMERGENCY</td>\n",
              "      <td>Private</td>\n",
              "      <td>EPISCOPALIAN</td>\n",
              "      <td>WIDOWED</td>\n",
              "      <td>WHITE</td>\n",
              "      <td>RIGHT FEMUR FRACTURE</td>\n",
              "      <td>82120</td>\n",
              "      <td>CCU</td>\n",
              "    </tr>\n",
              "    <tr>\n",
              "      <th>4</th>\n",
              "      <td>79851</td>\n",
              "      <td>171573</td>\n",
              "      <td>279388</td>\n",
              "      <td>85.0</td>\n",
              "      <td>124.0</td>\n",
              "      <td>98.600000</td>\n",
              "      <td>86.0</td>\n",
              "      <td>144.0</td>\n",
              "      <td>110.666667</td>\n",
              "      <td>52.0</td>\n",
              "      <td>...</td>\n",
              "      <td>2103-01-16 22:05:00</td>\n",
              "      <td>-33906.93488</td>\n",
              "      <td>EMERGENCY</td>\n",
              "      <td>Medicare</td>\n",
              "      <td>CATHOLIC</td>\n",
              "      <td>SINGLE</td>\n",
              "      <td>WHITE</td>\n",
              "      <td>PNEUMONIA;RAPID AF;HYPOXIA</td>\n",
              "      <td>51884</td>\n",
              "      <td>MICU</td>\n",
              "    </tr>\n",
              "  </tbody>\n",
              "</table>\n",
              "<p>5 rows × 39 columns</p>\n",
              "</div>"
            ],
            "text/plain": [
              "   subject_id  hadm_id  icustay_id  HeartRate_Min  HeartRate_Max  \\\n",
              "0       64058   146725      208169           58.0           90.0   \n",
              "1       55871   108789      251754           91.0          145.0   \n",
              "2       42892   139885      242171          106.0          132.0   \n",
              "3       66629   173017      263035           72.0          105.0   \n",
              "4       79851   171573      279388           85.0          124.0   \n",
              "\n",
              "   HeartRate_Mean  SysBP_Min  SysBP_Max  SysBP_Mean  DiasBP_Min  ...  \\\n",
              "0       85.244898       77.0      153.0   98.490909        40.0  ...   \n",
              "1      115.055556       73.0      143.0  101.210526        42.0  ...   \n",
              "2      117.750000       93.0      137.0  116.222222        51.0  ...   \n",
              "3       83.627119       72.0      168.0  126.981818        39.0  ...   \n",
              "4       98.600000       86.0      144.0  110.666667        52.0  ...   \n",
              "\n",
              "             ADMITTIME         Diff  ADMISSION_TYPE  INSURANCE       RELIGION  \\\n",
              "0  2196-02-23 11:45:00 -67454.42740        ELECTIVE   Medicare       CATHOLIC   \n",
              "1  2103-10-22 23:58:00 -34204.08546       EMERGENCY    Private  NOT SPECIFIED   \n",
              "2  2115-06-28 07:15:00 -38710.61714        ELECTIVE   Medicare       CATHOLIC   \n",
              "3  2162-08-01 21:00:00 -54902.54313       EMERGENCY    Private   EPISCOPALIAN   \n",
              "4  2103-01-16 22:05:00 -33906.93488       EMERGENCY   Medicare       CATHOLIC   \n",
              "\n",
              "   MARITAL_STATUS  ETHNICITY  \\\n",
              "0         MARRIED      WHITE   \n",
              "1         MARRIED      WHITE   \n",
              "2         MARRIED      WHITE   \n",
              "3         WIDOWED      WHITE   \n",
              "4          SINGLE      WHITE   \n",
              "\n",
              "                                           DIAGNOSIS  ICD9_diagnosis  \\\n",
              "0  AORTIC STENOSIS\\CORONARY ARTERY BYPASS GRAFT W...            4241   \n",
              "1                                      HYPERGLYCEMIA           25013   \n",
              "2                                  KIDNEY STONES/SDA            5920   \n",
              "3                               RIGHT FEMUR FRACTURE           82120   \n",
              "4                         PNEUMONIA;RAPID AF;HYPOXIA           51884   \n",
              "\n",
              "   FIRST_CAREUNIT  \n",
              "0            CSRU  \n",
              "1            MICU  \n",
              "2            MICU  \n",
              "3             CCU  \n",
              "4            MICU  \n",
              "\n",
              "[5 rows x 39 columns]"
            ]
          },
          "execution_count": 6,
          "metadata": {},
          "output_type": "execute_result"
        }
      ],
      "source": [
        "test.head(5)"
      ]
    },
    {
      "cell_type": "code",
      "execution_count": 7,
      "metadata": {},
      "outputs": [
        {
          "data": {
            "text/html": [
              "<div>\n",
              "<style scoped>\n",
              "    .dataframe tbody tr th:only-of-type {\n",
              "        vertical-align: middle;\n",
              "    }\n",
              "\n",
              "    .dataframe tbody tr th {\n",
              "        vertical-align: top;\n",
              "    }\n",
              "\n",
              "    .dataframe thead th {\n",
              "        text-align: right;\n",
              "    }\n",
              "</style>\n",
              "<table border=\"1\" class=\"dataframe\">\n",
              "  <thead>\n",
              "    <tr style=\"text-align: right;\">\n",
              "      <th></th>\n",
              "      <th>SUBJECT_ID</th>\n",
              "      <th>HADM_ID</th>\n",
              "      <th>SEQ_NUM</th>\n",
              "      <th>ICD9_CODE</th>\n",
              "    </tr>\n",
              "  </thead>\n",
              "  <tbody>\n",
              "    <tr>\n",
              "      <th>0</th>\n",
              "      <td>256</td>\n",
              "      <td>108811</td>\n",
              "      <td>1.0</td>\n",
              "      <td>53240</td>\n",
              "    </tr>\n",
              "    <tr>\n",
              "      <th>1</th>\n",
              "      <td>256</td>\n",
              "      <td>108811</td>\n",
              "      <td>2.0</td>\n",
              "      <td>41071</td>\n",
              "    </tr>\n",
              "    <tr>\n",
              "      <th>2</th>\n",
              "      <td>256</td>\n",
              "      <td>108811</td>\n",
              "      <td>3.0</td>\n",
              "      <td>53560</td>\n",
              "    </tr>\n",
              "    <tr>\n",
              "      <th>3</th>\n",
              "      <td>256</td>\n",
              "      <td>108811</td>\n",
              "      <td>4.0</td>\n",
              "      <td>40390</td>\n",
              "    </tr>\n",
              "    <tr>\n",
              "      <th>4</th>\n",
              "      <td>256</td>\n",
              "      <td>108811</td>\n",
              "      <td>5.0</td>\n",
              "      <td>5859</td>\n",
              "    </tr>\n",
              "  </tbody>\n",
              "</table>\n",
              "</div>"
            ],
            "text/plain": [
              "   SUBJECT_ID  HADM_ID  SEQ_NUM ICD9_CODE\n",
              "0         256   108811      1.0     53240\n",
              "1         256   108811      2.0     41071\n",
              "2         256   108811      3.0     53560\n",
              "3         256   108811      4.0     40390\n",
              "4         256   108811      5.0      5859"
            ]
          },
          "execution_count": 7,
          "metadata": {},
          "output_type": "execute_result"
        }
      ],
      "source": [
        "comorbidities.head(5)"
      ]
    },
    {
      "cell_type": "code",
      "execution_count": 8,
      "metadata": {
        "id": "6fMZAFTpshxV"
      },
      "outputs": [
        {
          "name": "stderr",
          "output_type": "stream",
          "text": [
            "/tmp/ipykernel_24792/2015344326.py:8: FutureWarning: In a future version of pandas all arguments of DataFrame.drop except for the argument 'labels' will be keyword-only\n",
            "  comorb_copy.drop(['SEQ_NUM'],1,inplace=True)\n"
          ]
        }
      ],
      "source": [
        "# Creating a copy of the comorbidity dataframe\n",
        "comorb_copy = comorbidities.copy()\n",
        "\n",
        "# Renaming columns for easier data manipulation\n",
        "comorb_copy.rename(columns = {'HADM_ID' : 'hadm_id','SUBJECT_ID' : 'subject_id'},inplace=True)\n",
        "\n",
        "# Dropping sequence number (i.e. which disease diagnosis the ICD9_CODE corresponds to for a given hospital admission)\n",
        "comorb_copy.drop(['SEQ_NUM'],1,inplace=True)"
      ]
    },
    {
      "cell_type": "code",
      "execution_count": 9,
      "metadata": {
        "colab": {
          "base_uri": "https://localhost:8080/"
        },
        "id": "xnYMVTg-shxV",
        "outputId": "cdf31bf5-910d-4553-9a19-a50ef258989a"
      },
      "outputs": [
        {
          "name": "stdout",
          "output_type": "stream",
          "text": [
            "   subject_id  hadm_id ICD9_CODE\n",
            "0         256   108811     53240\n",
            "1         256   108811     41071\n",
            "2         256   108811     53560\n",
            "3         256   108811     40390\n",
            "4         256   108811      5859\n",
            "   hadm_id     LOS\n",
            "0   195768  4.5761\n",
            "1   126136  0.7582\n",
            "2   136645  3.7626\n",
            "3   102505  3.8734\n",
            "4   127337  5.8654\n"
          ]
        }
      ],
      "source": [
        "# Creating a dataframe that only contains training hospitalization admission id\n",
        "# and the length of stay for that hospital admission id. We will merge this info\n",
        "# to the comorbidities to calculate average LOS for each ICD9_code in comorbidities.\n",
        "di_df = training[['hadm_id','LOS']]\n",
        "print(comorb_copy.head())\n",
        "print(di_df.head())"
      ]
    },
    {
      "cell_type": "code",
      "execution_count": 10,
      "metadata": {
        "id": "XnO80DDmshxW"
      },
      "outputs": [
        {
          "data": {
            "text/html": [
              "<div>\n",
              "<style scoped>\n",
              "    .dataframe tbody tr th:only-of-type {\n",
              "        vertical-align: middle;\n",
              "    }\n",
              "\n",
              "    .dataframe tbody tr th {\n",
              "        vertical-align: top;\n",
              "    }\n",
              "\n",
              "    .dataframe thead th {\n",
              "        text-align: right;\n",
              "    }\n",
              "</style>\n",
              "<table border=\"1\" class=\"dataframe\">\n",
              "  <thead>\n",
              "    <tr style=\"text-align: right;\">\n",
              "      <th></th>\n",
              "      <th>hadm_id</th>\n",
              "      <th>LOS</th>\n",
              "      <th>ICD9_CODE</th>\n",
              "    </tr>\n",
              "  </thead>\n",
              "  <tbody>\n",
              "    <tr>\n",
              "      <th>0</th>\n",
              "      <td>195768</td>\n",
              "      <td>4.5761</td>\n",
              "      <td>5789</td>\n",
              "    </tr>\n",
              "    <tr>\n",
              "      <th>1</th>\n",
              "      <td>195768</td>\n",
              "      <td>4.5761</td>\n",
              "      <td>51881</td>\n",
              "    </tr>\n",
              "    <tr>\n",
              "      <th>2</th>\n",
              "      <td>195768</td>\n",
              "      <td>4.5761</td>\n",
              "      <td>41071</td>\n",
              "    </tr>\n",
              "    <tr>\n",
              "      <th>3</th>\n",
              "      <td>195768</td>\n",
              "      <td>4.5761</td>\n",
              "      <td>42831</td>\n",
              "    </tr>\n",
              "    <tr>\n",
              "      <th>4</th>\n",
              "      <td>195768</td>\n",
              "      <td>4.5761</td>\n",
              "      <td>42732</td>\n",
              "    </tr>\n",
              "  </tbody>\n",
              "</table>\n",
              "</div>"
            ],
            "text/plain": [
              "   hadm_id     LOS ICD9_CODE\n",
              "0   195768  4.5761      5789\n",
              "1   195768  4.5761     51881\n",
              "2   195768  4.5761     41071\n",
              "3   195768  4.5761     42831\n",
              "4   195768  4.5761     42732"
            ]
          },
          "execution_count": 10,
          "metadata": {},
          "output_type": "execute_result"
        }
      ],
      "source": [
        "# Here, we want to explode the data so that each hadm_id x icd9_code \n",
        "# combination is present in the dataset.\n",
        "di_df_merged=di_df.merge(comorb_copy[['hadm_id','ICD9_CODE']],how='left',on='hadm_id')\n",
        "\n",
        "# Inspecting..\n",
        "di_df_merged.head(5)"
      ]
    },
    {
      "cell_type": "code",
      "execution_count": 11,
      "metadata": {
        "id": "2QOMC7GFlTGA"
      },
      "outputs": [],
      "source": [
        "# What we want to do next is calculate the average LOS by ICD9_CODE...\n",
        "d_tot = di_df_merged.groupby('ICD9_CODE').agg({'LOS':'mean'})"
      ]
    },
    {
      "cell_type": "code",
      "execution_count": 12,
      "metadata": {
        "colab": {
          "base_uri": "https://localhost:8080/",
          "height": 1000
        },
        "id": "c1L3l6e_mRMJ",
        "outputId": "839da77d-2da0-4288-c2d7-cf5d2987ada9"
      },
      "outputs": [
        {
          "data": {
            "text/html": [
              "<div>\n",
              "<style scoped>\n",
              "    .dataframe tbody tr th:only-of-type {\n",
              "        vertical-align: middle;\n",
              "    }\n",
              "\n",
              "    .dataframe tbody tr th {\n",
              "        vertical-align: top;\n",
              "    }\n",
              "\n",
              "    .dataframe thead th {\n",
              "        text-align: right;\n",
              "    }\n",
              "</style>\n",
              "<table border=\"1\" class=\"dataframe\">\n",
              "  <thead>\n",
              "    <tr style=\"text-align: right;\">\n",
              "      <th></th>\n",
              "      <th>LOS</th>\n",
              "    </tr>\n",
              "    <tr>\n",
              "      <th>ICD9_CODE</th>\n",
              "      <th></th>\n",
              "    </tr>\n",
              "  </thead>\n",
              "  <tbody>\n",
              "    <tr>\n",
              "      <th>9580</th>\n",
              "      <td>101.7390</td>\n",
              "    </tr>\n",
              "    <tr>\n",
              "      <th>1463</th>\n",
              "      <td>63.4533</td>\n",
              "    </tr>\n",
              "    <tr>\n",
              "      <th>63491</th>\n",
              "      <td>61.9167</td>\n",
              "    </tr>\n",
              "    <tr>\n",
              "      <th>67403</th>\n",
              "      <td>61.9167</td>\n",
              "    </tr>\n",
              "    <tr>\n",
              "      <th>64203</th>\n",
              "      <td>61.9167</td>\n",
              "    </tr>\n",
              "  </tbody>\n",
              "</table>\n",
              "</div>"
            ],
            "text/plain": [
              "                LOS\n",
              "ICD9_CODE          \n",
              "9580       101.7390\n",
              "1463        63.4533\n",
              "63491       61.9167\n",
              "67403       61.9167\n",
              "64203       61.9167"
            ]
          },
          "execution_count": 12,
          "metadata": {},
          "output_type": "execute_result"
        }
      ],
      "source": [
        "d_tot = d_tot.sort_values(axis=0, by='LOS',ascending=False)\n",
        "\n",
        "# Consequently, we end up with the sum of LOS by ICD_9 code.\n",
        "d_tot.head(5)"
      ]
    },
    {
      "cell_type": "code",
      "execution_count": 13,
      "metadata": {
        "id": "6VbApdj7shxX"
      },
      "outputs": [
        {
          "data": {
            "text/html": [
              "<div>\n",
              "<style scoped>\n",
              "    .dataframe tbody tr th:only-of-type {\n",
              "        vertical-align: middle;\n",
              "    }\n",
              "\n",
              "    .dataframe tbody tr th {\n",
              "        vertical-align: top;\n",
              "    }\n",
              "\n",
              "    .dataframe thead th {\n",
              "        text-align: right;\n",
              "    }\n",
              "</style>\n",
              "<table border=\"1\" class=\"dataframe\">\n",
              "  <thead>\n",
              "    <tr style=\"text-align: right;\">\n",
              "      <th></th>\n",
              "      <th>avg_LOS</th>\n",
              "      <th>ICD9_CODE</th>\n",
              "    </tr>\n",
              "  </thead>\n",
              "  <tbody>\n",
              "    <tr>\n",
              "      <th>0</th>\n",
              "      <td>101.7390</td>\n",
              "      <td>9580</td>\n",
              "    </tr>\n",
              "    <tr>\n",
              "      <th>1</th>\n",
              "      <td>63.4533</td>\n",
              "      <td>1463</td>\n",
              "    </tr>\n",
              "    <tr>\n",
              "      <th>2</th>\n",
              "      <td>61.9167</td>\n",
              "      <td>63491</td>\n",
              "    </tr>\n",
              "    <tr>\n",
              "      <th>3</th>\n",
              "      <td>61.9167</td>\n",
              "      <td>67403</td>\n",
              "    </tr>\n",
              "    <tr>\n",
              "      <th>4</th>\n",
              "      <td>61.9167</td>\n",
              "      <td>64203</td>\n",
              "    </tr>\n",
              "  </tbody>\n",
              "</table>\n",
              "</div>"
            ],
            "text/plain": [
              "    avg_LOS ICD9_CODE\n",
              "0  101.7390      9580\n",
              "1   63.4533      1463\n",
              "2   61.9167     63491\n",
              "3   61.9167     67403\n",
              "4   61.9167     64203"
            ]
          },
          "execution_count": 13,
          "metadata": {},
          "output_type": "execute_result"
        }
      ],
      "source": [
        "# Renaming columns to reflect what we've done so far\n",
        "d_tot.rename(columns={'LOS' : 'avg_LOS'},inplace=True)\n",
        "\n",
        "# Casting as string\n",
        "d_tot['ICD9_CODE'] = d_tot.index.astype('str')\n",
        "\n",
        "# Resetting index \n",
        "d_tot = d_tot.reset_index(drop=True)\n",
        "\n",
        "# Inspecting work so far..\n",
        "d_tot.head()"
      ]
    },
    {
      "cell_type": "code",
      "execution_count": 14,
      "metadata": {
        "colab": {
          "base_uri": "https://localhost:8080/"
        },
        "id": "Qy9qSdnxshxX",
        "outputId": "e415b69c-eb06-4c91-a6f1-235f41435d94"
      },
      "outputs": [
        {
          "data": {
            "text/html": [
              "<div>\n",
              "<style scoped>\n",
              "    .dataframe tbody tr th:only-of-type {\n",
              "        vertical-align: middle;\n",
              "    }\n",
              "\n",
              "    .dataframe tbody tr th {\n",
              "        vertical-align: top;\n",
              "    }\n",
              "\n",
              "    .dataframe thead th {\n",
              "        text-align: right;\n",
              "    }\n",
              "</style>\n",
              "<table border=\"1\" class=\"dataframe\">\n",
              "  <thead>\n",
              "    <tr style=\"text-align: right;\">\n",
              "      <th></th>\n",
              "      <th>SUBJECT_ID</th>\n",
              "      <th>HADM_ID</th>\n",
              "      <th>SEQ_NUM</th>\n",
              "      <th>ICD9_CODE</th>\n",
              "    </tr>\n",
              "  </thead>\n",
              "  <tbody>\n",
              "    <tr>\n",
              "      <th>0</th>\n",
              "      <td>256</td>\n",
              "      <td>108811</td>\n",
              "      <td>1.0</td>\n",
              "      <td>53240</td>\n",
              "    </tr>\n",
              "    <tr>\n",
              "      <th>1</th>\n",
              "      <td>256</td>\n",
              "      <td>108811</td>\n",
              "      <td>2.0</td>\n",
              "      <td>41071</td>\n",
              "    </tr>\n",
              "    <tr>\n",
              "      <th>2</th>\n",
              "      <td>256</td>\n",
              "      <td>108811</td>\n",
              "      <td>3.0</td>\n",
              "      <td>53560</td>\n",
              "    </tr>\n",
              "    <tr>\n",
              "      <th>3</th>\n",
              "      <td>256</td>\n",
              "      <td>108811</td>\n",
              "      <td>4.0</td>\n",
              "      <td>40390</td>\n",
              "    </tr>\n",
              "    <tr>\n",
              "      <th>4</th>\n",
              "      <td>256</td>\n",
              "      <td>108811</td>\n",
              "      <td>5.0</td>\n",
              "      <td>5859</td>\n",
              "    </tr>\n",
              "  </tbody>\n",
              "</table>\n",
              "</div>"
            ],
            "text/plain": [
              "   SUBJECT_ID  HADM_ID  SEQ_NUM ICD9_CODE\n",
              "0         256   108811      1.0     53240\n",
              "1         256   108811      2.0     41071\n",
              "2         256   108811      3.0     53560\n",
              "3         256   108811      4.0     40390\n",
              "4         256   108811      5.0      5859"
            ]
          },
          "execution_count": 14,
          "metadata": {},
          "output_type": "execute_result"
        }
      ],
      "source": [
        "comorbidities.head()"
      ]
    },
    {
      "cell_type": "code",
      "execution_count": 15,
      "metadata": {
        "id": "OkqOorcushxX"
      },
      "outputs": [
        {
          "name": "stderr",
          "output_type": "stream",
          "text": [
            "/tmp/ipykernel_24792/2689733985.py:5: FutureWarning: In a future version of pandas all arguments of DataFrame.drop except for the argument 'labels' will be keyword-only\n",
            "  comorbidities_merged.drop(['SEQ_NUM'],1,inplace=True)\n"
          ]
        },
        {
          "data": {
            "text/html": [
              "<div>\n",
              "<style scoped>\n",
              "    .dataframe tbody tr th:only-of-type {\n",
              "        vertical-align: middle;\n",
              "    }\n",
              "\n",
              "    .dataframe tbody tr th {\n",
              "        vertical-align: top;\n",
              "    }\n",
              "\n",
              "    .dataframe thead th {\n",
              "        text-align: right;\n",
              "    }\n",
              "</style>\n",
              "<table border=\"1\" class=\"dataframe\">\n",
              "  <thead>\n",
              "    <tr style=\"text-align: right;\">\n",
              "      <th></th>\n",
              "      <th>SUBJECT_ID</th>\n",
              "      <th>HADM_ID</th>\n",
              "      <th>ICD9_CODE</th>\n",
              "      <th>avg_LOS</th>\n",
              "    </tr>\n",
              "  </thead>\n",
              "  <tbody>\n",
              "    <tr>\n",
              "      <th>0</th>\n",
              "      <td>256</td>\n",
              "      <td>108811</td>\n",
              "      <td>53240</td>\n",
              "      <td>4.263924</td>\n",
              "    </tr>\n",
              "    <tr>\n",
              "      <th>1</th>\n",
              "      <td>256</td>\n",
              "      <td>108811</td>\n",
              "      <td>41071</td>\n",
              "      <td>4.499102</td>\n",
              "    </tr>\n",
              "    <tr>\n",
              "      <th>2</th>\n",
              "      <td>256</td>\n",
              "      <td>108811</td>\n",
              "      <td>53560</td>\n",
              "      <td>2.736041</td>\n",
              "    </tr>\n",
              "    <tr>\n",
              "      <th>3</th>\n",
              "      <td>256</td>\n",
              "      <td>108811</td>\n",
              "      <td>40390</td>\n",
              "      <td>3.857329</td>\n",
              "    </tr>\n",
              "    <tr>\n",
              "      <th>4</th>\n",
              "      <td>256</td>\n",
              "      <td>108811</td>\n",
              "      <td>5859</td>\n",
              "      <td>3.895319</td>\n",
              "    </tr>\n",
              "  </tbody>\n",
              "</table>\n",
              "</div>"
            ],
            "text/plain": [
              "   SUBJECT_ID  HADM_ID ICD9_CODE   avg_LOS\n",
              "0         256   108811     53240  4.263924\n",
              "1         256   108811     41071  4.499102\n",
              "2         256   108811     53560  2.736041\n",
              "3         256   108811     40390  3.857329\n",
              "4         256   108811      5859  3.895319"
            ]
          },
          "execution_count": 15,
          "metadata": {},
          "output_type": "execute_result"
        }
      ],
      "source": [
        "# Here, we spread out the avg_LOS to the comorbidities data, and sum by hadm_id...\n",
        "comorbidities_merged=comorbidities.merge(d_tot[['ICD9_CODE','avg_LOS']],how='left',on='ICD9_CODE')\n",
        "\n",
        "# Dropping unnecessary columns...\n",
        "comorbidities_merged.drop(['SEQ_NUM'],1,inplace=True)\n",
        "\n",
        "# Inspecting..\n",
        "comorbidities_merged.head()"
      ]
    },
    {
      "cell_type": "code",
      "execution_count": 16,
      "metadata": {
        "id": "L3RgDa2xshxX"
      },
      "outputs": [
        {
          "data": {
            "text/html": [
              "<div>\n",
              "<style scoped>\n",
              "    .dataframe tbody tr th:only-of-type {\n",
              "        vertical-align: middle;\n",
              "    }\n",
              "\n",
              "    .dataframe tbody tr th {\n",
              "        vertical-align: top;\n",
              "    }\n",
              "\n",
              "    .dataframe thead th {\n",
              "        text-align: right;\n",
              "    }\n",
              "</style>\n",
              "<table border=\"1\" class=\"dataframe\">\n",
              "  <thead>\n",
              "    <tr style=\"text-align: right;\">\n",
              "      <th></th>\n",
              "      <th>avg_LOS_sum</th>\n",
              "      <th>disease_count</th>\n",
              "    </tr>\n",
              "    <tr>\n",
              "      <th>HADM_ID</th>\n",
              "      <th></th>\n",
              "      <th></th>\n",
              "    </tr>\n",
              "  </thead>\n",
              "  <tbody>\n",
              "    <tr>\n",
              "      <th>100001</th>\n",
              "      <td>55.567898</td>\n",
              "      <td>16</td>\n",
              "    </tr>\n",
              "    <tr>\n",
              "      <th>100003</th>\n",
              "      <td>35.696968</td>\n",
              "      <td>9</td>\n",
              "    </tr>\n",
              "    <tr>\n",
              "      <th>100006</th>\n",
              "      <td>42.188622</td>\n",
              "      <td>9</td>\n",
              "    </tr>\n",
              "    <tr>\n",
              "      <th>100007</th>\n",
              "      <td>31.335467</td>\n",
              "      <td>5</td>\n",
              "    </tr>\n",
              "    <tr>\n",
              "      <th>100009</th>\n",
              "      <td>63.940397</td>\n",
              "      <td>18</td>\n",
              "    </tr>\n",
              "  </tbody>\n",
              "</table>\n",
              "</div>"
            ],
            "text/plain": [
              "         avg_LOS_sum  disease_count\n",
              "HADM_ID                            \n",
              "100001     55.567898             16\n",
              "100003     35.696968              9\n",
              "100006     42.188622              9\n",
              "100007     31.335467              5\n",
              "100009     63.940397             18"
            ]
          },
          "execution_count": 16,
          "metadata": {},
          "output_type": "execute_result"
        }
      ],
      "source": [
        "# Creating disease count variable (will be summed up by hadm_id)\n",
        "comorbidities_merged['disease_count'] = 1\n",
        "\n",
        "# Summing/meaning up variables by hadm_id, for matching with training and test data purposes...\n",
        "d = {'avg_LOS':'avg_LOS_sum'}\n",
        "los_indexes=comorbidities_merged.groupby('HADM_ID').agg({'avg_LOS':'sum','disease_count':'sum'}).rename(columns=d)\n",
        "\n",
        "# Inspecting...\n",
        "los_indexes.head()"
      ]
    },
    {
      "cell_type": "code",
      "execution_count": 17,
      "metadata": {
        "id": "NmwwRCdeshxY"
      },
      "outputs": [],
      "source": [
        "# Creating a new column for the hadm_id..\n",
        "los_indexes['hadm_id'] = los_indexes.index.astype('str')"
      ]
    },
    {
      "cell_type": "code",
      "execution_count": 18,
      "metadata": {
        "colab": {
          "base_uri": "https://localhost:8080/",
          "height": 482
        },
        "id": "L0l-JBqCshxY",
        "outputId": "1e21fb61-3636-4de3-dd2a-948a56844398"
      },
      "outputs": [
        {
          "name": "stdout",
          "output_type": "stream",
          "text": [
            "count    58976.000000\n",
            "mean        46.907785\n",
            "std         35.339772\n",
            "min          0.000000\n",
            "25%         22.285436\n",
            "50%         40.086170\n",
            "75%         64.262579\n",
            "max        391.329149\n",
            "Name: avg_LOS_sum, dtype: float64\n"
          ]
        },
        {
          "data": {
            "text/plain": [
              "array([[<matplotlib.axes._subplots.AxesSubplot object at 0x7f6efe828730>]],\n",
              "      dtype=object)"
            ]
          },
          "execution_count": 18,
          "metadata": {},
          "output_type": "execute_result"
        },
        {
          "data": {
            "image/png": "[encoded data removed]",
            "text/plain": [
              "<Figure size 432x288 with 1 Axes>"
            ]
          },
          "metadata": {
            "needs_background": "light"
          },
          "output_type": "display_data"
        }
      ],
      "source": [
        "# Looking at the distribution of avg_LOS_sum across the comorbidities set.. \n",
        "# Seems like there is meaningful variation in the data!!!\n",
        "print(los_indexes.avg_LOS_sum.describe())\n",
        "los_indexes.hist(column='avg_LOS_sum')"
      ]
    },
    {
      "cell_type": "code",
      "execution_count": 19,
      "metadata": {},
      "outputs": [
        {
          "data": {
            "text/html": [
              "<div>\n",
              "<style scoped>\n",
              "    .dataframe tbody tr th:only-of-type {\n",
              "        vertical-align: middle;\n",
              "    }\n",
              "\n",
              "    .dataframe tbody tr th {\n",
              "        vertical-align: top;\n",
              "    }\n",
              "\n",
              "    .dataframe thead th {\n",
              "        text-align: right;\n",
              "    }\n",
              "</style>\n",
              "<table border=\"1\" class=\"dataframe\">\n",
              "  <thead>\n",
              "    <tr style=\"text-align: right;\">\n",
              "      <th></th>\n",
              "      <th>avg_LOS_sum</th>\n",
              "      <th>disease_count</th>\n",
              "      <th>hadm_id</th>\n",
              "    </tr>\n",
              "    <tr>\n",
              "      <th>HADM_ID</th>\n",
              "      <th></th>\n",
              "      <th></th>\n",
              "      <th></th>\n",
              "    </tr>\n",
              "  </thead>\n",
              "  <tbody>\n",
              "    <tr>\n",
              "      <th>100001</th>\n",
              "      <td>55.567898</td>\n",
              "      <td>16</td>\n",
              "      <td>100001</td>\n",
              "    </tr>\n",
              "    <tr>\n",
              "      <th>100003</th>\n",
              "      <td>35.696968</td>\n",
              "      <td>9</td>\n",
              "      <td>100003</td>\n",
              "    </tr>\n",
              "    <tr>\n",
              "      <th>100006</th>\n",
              "      <td>42.188622</td>\n",
              "      <td>9</td>\n",
              "      <td>100006</td>\n",
              "    </tr>\n",
              "    <tr>\n",
              "      <th>100007</th>\n",
              "      <td>31.335467</td>\n",
              "      <td>5</td>\n",
              "      <td>100007</td>\n",
              "    </tr>\n",
              "    <tr>\n",
              "      <th>100009</th>\n",
              "      <td>63.940397</td>\n",
              "      <td>18</td>\n",
              "      <td>100009</td>\n",
              "    </tr>\n",
              "  </tbody>\n",
              "</table>\n",
              "</div>"
            ],
            "text/plain": [
              "         avg_LOS_sum  disease_count hadm_id\n",
              "HADM_ID                                    \n",
              "100001     55.567898             16  100001\n",
              "100003     35.696968              9  100003\n",
              "100006     42.188622              9  100006\n",
              "100007     31.335467              5  100007\n",
              "100009     63.940397             18  100009"
            ]
          },
          "execution_count": 19,
          "metadata": {},
          "output_type": "execute_result"
        }
      ],
      "source": [
        "los_indexes.head()"
      ]
    },
    {
      "cell_type": "code",
      "execution_count": 20,
      "metadata": {
        "id": "DKbsQOnNshxY"
      },
      "outputs": [],
      "source": [
        "# Resetting index\n",
        "los_indexes.reset_index(inplace=True, drop = True)\n",
        "los_indexes['hadm_id'] = los_indexes['hadm_id'].astype('int')"
      ]
    },
    {
      "cell_type": "markdown",
      "metadata": {
        "id": "scMW9mRGZNfH"
      },
      "source": [
        "## Migrating disease count and avg_LOS_sum to training data"
      ]
    },
    {
      "cell_type": "code",
      "execution_count": 21,
      "metadata": {
        "id": "OGvXtHnDshxZ"
      },
      "outputs": [
        {
          "data": {
            "text/html": [
              "<div>\n",
              "<style scoped>\n",
              "    .dataframe tbody tr th:only-of-type {\n",
              "        vertical-align: middle;\n",
              "    }\n",
              "\n",
              "    .dataframe tbody tr th {\n",
              "        vertical-align: top;\n",
              "    }\n",
              "\n",
              "    .dataframe thead th {\n",
              "        text-align: right;\n",
              "    }\n",
              "</style>\n",
              "<table border=\"1\" class=\"dataframe\">\n",
              "  <thead>\n",
              "    <tr style=\"text-align: right;\">\n",
              "      <th></th>\n",
              "      <th>HOSPITAL_EXPIRE_FLAG</th>\n",
              "      <th>subject_id</th>\n",
              "      <th>hadm_id</th>\n",
              "      <th>icustay_id</th>\n",
              "      <th>HeartRate_Min</th>\n",
              "      <th>HeartRate_Max</th>\n",
              "      <th>HeartRate_Mean</th>\n",
              "      <th>SysBP_Min</th>\n",
              "      <th>SysBP_Max</th>\n",
              "      <th>SysBP_Mean</th>\n",
              "      <th>...</th>\n",
              "      <th>INSURANCE</th>\n",
              "      <th>RELIGION</th>\n",
              "      <th>MARITAL_STATUS</th>\n",
              "      <th>ETHNICITY</th>\n",
              "      <th>DIAGNOSIS</th>\n",
              "      <th>ICD9_CODE</th>\n",
              "      <th>FIRST_CAREUNIT</th>\n",
              "      <th>LOS</th>\n",
              "      <th>disease_count</th>\n",
              "      <th>avg_LOS_sum</th>\n",
              "    </tr>\n",
              "  </thead>\n",
              "  <tbody>\n",
              "    <tr>\n",
              "      <th>0</th>\n",
              "      <td>0</td>\n",
              "      <td>55440</td>\n",
              "      <td>195768</td>\n",
              "      <td>228357</td>\n",
              "      <td>89.0</td>\n",
              "      <td>145.0</td>\n",
              "      <td>121.043478</td>\n",
              "      <td>74.0</td>\n",
              "      <td>127.0</td>\n",
              "      <td>106.586957</td>\n",
              "      <td>...</td>\n",
              "      <td>Medicare</td>\n",
              "      <td>PROTESTANT QUAKER</td>\n",
              "      <td>SINGLE</td>\n",
              "      <td>WHITE</td>\n",
              "      <td>GASTROINTESTINAL BLEED</td>\n",
              "      <td>5789</td>\n",
              "      <td>MICU</td>\n",
              "      <td>4.5761</td>\n",
              "      <td>17</td>\n",
              "      <td>73.770483</td>\n",
              "    </tr>\n",
              "    <tr>\n",
              "      <th>1</th>\n",
              "      <td>0</td>\n",
              "      <td>76908</td>\n",
              "      <td>126136</td>\n",
              "      <td>221004</td>\n",
              "      <td>63.0</td>\n",
              "      <td>110.0</td>\n",
              "      <td>79.117647</td>\n",
              "      <td>89.0</td>\n",
              "      <td>121.0</td>\n",
              "      <td>106.733333</td>\n",
              "      <td>...</td>\n",
              "      <td>Private</td>\n",
              "      <td>UNOBTAINABLE</td>\n",
              "      <td>MARRIED</td>\n",
              "      <td>WHITE</td>\n",
              "      <td>ESOPHAGEAL FOOD IMPACTION</td>\n",
              "      <td>53013</td>\n",
              "      <td>MICU</td>\n",
              "      <td>0.7582</td>\n",
              "      <td>3</td>\n",
              "      <td>9.283488</td>\n",
              "    </tr>\n",
              "    <tr>\n",
              "      <th>2</th>\n",
              "      <td>0</td>\n",
              "      <td>95798</td>\n",
              "      <td>136645</td>\n",
              "      <td>296315</td>\n",
              "      <td>81.0</td>\n",
              "      <td>98.0</td>\n",
              "      <td>91.689655</td>\n",
              "      <td>88.0</td>\n",
              "      <td>138.0</td>\n",
              "      <td>112.785714</td>\n",
              "      <td>...</td>\n",
              "      <td>Medicare</td>\n",
              "      <td>PROTESTANT QUAKER</td>\n",
              "      <td>SEPARATED</td>\n",
              "      <td>BLACK/AFRICAN AMERICAN</td>\n",
              "      <td>UPPER GI BLEED</td>\n",
              "      <td>56983</td>\n",
              "      <td>MICU</td>\n",
              "      <td>3.7626</td>\n",
              "      <td>14</td>\n",
              "      <td>70.330355</td>\n",
              "    </tr>\n",
              "    <tr>\n",
              "      <th>3</th>\n",
              "      <td>0</td>\n",
              "      <td>40708</td>\n",
              "      <td>102505</td>\n",
              "      <td>245557</td>\n",
              "      <td>76.0</td>\n",
              "      <td>128.0</td>\n",
              "      <td>98.857143</td>\n",
              "      <td>84.0</td>\n",
              "      <td>135.0</td>\n",
              "      <td>106.972973</td>\n",
              "      <td>...</td>\n",
              "      <td>Medicare</td>\n",
              "      <td>NOT SPECIFIED</td>\n",
              "      <td>WIDOWED</td>\n",
              "      <td>WHITE</td>\n",
              "      <td>HIATAL HERNIA/SDA</td>\n",
              "      <td>5533</td>\n",
              "      <td>SICU</td>\n",
              "      <td>3.8734</td>\n",
              "      <td>15</td>\n",
              "      <td>60.433065</td>\n",
              "    </tr>\n",
              "    <tr>\n",
              "      <th>4</th>\n",
              "      <td>0</td>\n",
              "      <td>28424</td>\n",
              "      <td>127337</td>\n",
              "      <td>225281</td>\n",
              "      <td>NaN</td>\n",
              "      <td>NaN</td>\n",
              "      <td>NaN</td>\n",
              "      <td>NaN</td>\n",
              "      <td>NaN</td>\n",
              "      <td>NaN</td>\n",
              "      <td>...</td>\n",
              "      <td>Medicare</td>\n",
              "      <td>JEWISH</td>\n",
              "      <td>WIDOWED</td>\n",
              "      <td>WHITE</td>\n",
              "      <td>ABDOMINAL PAIN</td>\n",
              "      <td>56211</td>\n",
              "      <td>TSICU</td>\n",
              "      <td>5.8654</td>\n",
              "      <td>16</td>\n",
              "      <td>91.382473</td>\n",
              "    </tr>\n",
              "  </tbody>\n",
              "</table>\n",
              "<p>5 rows × 46 columns</p>\n",
              "</div>"
            ],
            "text/plain": [
              "   HOSPITAL_EXPIRE_FLAG  subject_id  hadm_id  icustay_id  HeartRate_Min  \\\n",
              "0                     0       55440   195768      228357           89.0   \n",
              "1                     0       76908   126136      221004           63.0   \n",
              "2                     0       95798   136645      296315           81.0   \n",
              "3                     0       40708   102505      245557           76.0   \n",
              "4                     0       28424   127337      225281            NaN   \n",
              "\n",
              "   HeartRate_Max  HeartRate_Mean  SysBP_Min  SysBP_Max  SysBP_Mean  ...  \\\n",
              "0          145.0      121.043478       74.0      127.0  106.586957  ...   \n",
              "1          110.0       79.117647       89.0      121.0  106.733333  ...   \n",
              "2           98.0       91.689655       88.0      138.0  112.785714  ...   \n",
              "3          128.0       98.857143       84.0      135.0  106.972973  ...   \n",
              "4            NaN             NaN        NaN        NaN         NaN  ...   \n",
              "\n",
              "   INSURANCE           RELIGION  MARITAL_STATUS               ETHNICITY  \\\n",
              "0   Medicare  PROTESTANT QUAKER          SINGLE                   WHITE   \n",
              "1    Private       UNOBTAINABLE         MARRIED                   WHITE   \n",
              "2   Medicare  PROTESTANT QUAKER       SEPARATED  BLACK/AFRICAN AMERICAN   \n",
              "3   Medicare      NOT SPECIFIED         WIDOWED                   WHITE   \n",
              "4   Medicare             JEWISH         WIDOWED                   WHITE   \n",
              "\n",
              "                   DIAGNOSIS  ICD9_CODE  FIRST_CAREUNIT     LOS  \\\n",
              "0     GASTROINTESTINAL BLEED       5789            MICU  4.5761   \n",
              "1  ESOPHAGEAL FOOD IMPACTION      53013            MICU  0.7582   \n",
              "2             UPPER GI BLEED      56983            MICU  3.7626   \n",
              "3          HIATAL HERNIA/SDA       5533            SICU  3.8734   \n",
              "4             ABDOMINAL PAIN      56211           TSICU  5.8654   \n",
              "\n",
              "   disease_count  avg_LOS_sum  \n",
              "0             17    73.770483  \n",
              "1              3     9.283488  \n",
              "2             14    70.330355  \n",
              "3             15    60.433065  \n",
              "4             16    91.382473  \n",
              "\n",
              "[5 rows x 46 columns]"
            ]
          },
          "execution_count": 21,
          "metadata": {},
          "output_type": "execute_result"
        }
      ],
      "source": [
        "# Defining variables we want to merge\n",
        "mergelist = ['hadm_id','disease_count','avg_LOS_sum']\n",
        "\n",
        "# Merging them\n",
        "training.rename(columns = {'ICD9_diagnosis' : 'ICD9_CODE'}, inplace = True)\n",
        "training_merged=training.merge(los_indexes[mergelist],how='left',on='hadm_id')\n",
        "\n",
        "# Inspecting result\n",
        "training_merged.head()"
      ]
    },
    {
      "cell_type": "markdown",
      "metadata": {
        "id": "MC_9eQ3oZUOT"
      },
      "source": [
        "## Migrating disease count and avg_LOS_sum to training data"
      ]
    },
    {
      "cell_type": "code",
      "execution_count": 22,
      "metadata": {
        "id": "tLsq3vKpshxZ"
      },
      "outputs": [
        {
          "data": {
            "text/html": [
              "<div>\n",
              "<style scoped>\n",
              "    .dataframe tbody tr th:only-of-type {\n",
              "        vertical-align: middle;\n",
              "    }\n",
              "\n",
              "    .dataframe tbody tr th {\n",
              "        vertical-align: top;\n",
              "    }\n",
              "\n",
              "    .dataframe thead th {\n",
              "        text-align: right;\n",
              "    }\n",
              "</style>\n",
              "<table border=\"1\" class=\"dataframe\">\n",
              "  <thead>\n",
              "    <tr style=\"text-align: right;\">\n",
              "      <th></th>\n",
              "      <th>subject_id</th>\n",
              "      <th>hadm_id</th>\n",
              "      <th>icustay_id</th>\n",
              "      <th>HeartRate_Min</th>\n",
              "      <th>HeartRate_Max</th>\n",
              "      <th>HeartRate_Mean</th>\n",
              "      <th>SysBP_Min</th>\n",
              "      <th>SysBP_Max</th>\n",
              "      <th>SysBP_Mean</th>\n",
              "      <th>DiasBP_Min</th>\n",
              "      <th>...</th>\n",
              "      <th>ADMISSION_TYPE</th>\n",
              "      <th>INSURANCE</th>\n",
              "      <th>RELIGION</th>\n",
              "      <th>MARITAL_STATUS</th>\n",
              "      <th>ETHNICITY</th>\n",
              "      <th>DIAGNOSIS</th>\n",
              "      <th>ICD9_CODE</th>\n",
              "      <th>FIRST_CAREUNIT</th>\n",
              "      <th>disease_count</th>\n",
              "      <th>avg_LOS_sum</th>\n",
              "    </tr>\n",
              "  </thead>\n",
              "  <tbody>\n",
              "    <tr>\n",
              "      <th>0</th>\n",
              "      <td>64058</td>\n",
              "      <td>146725</td>\n",
              "      <td>208169</td>\n",
              "      <td>58.0</td>\n",
              "      <td>90.0</td>\n",
              "      <td>85.244898</td>\n",
              "      <td>77.0</td>\n",
              "      <td>153.0</td>\n",
              "      <td>98.490909</td>\n",
              "      <td>40.0</td>\n",
              "      <td>...</td>\n",
              "      <td>ELECTIVE</td>\n",
              "      <td>Medicare</td>\n",
              "      <td>CATHOLIC</td>\n",
              "      <td>MARRIED</td>\n",
              "      <td>WHITE</td>\n",
              "      <td>AORTIC STENOSIS\\CORONARY ARTERY BYPASS GRAFT W...</td>\n",
              "      <td>4241</td>\n",
              "      <td>CSRU</td>\n",
              "      <td>20</td>\n",
              "      <td>81.151600</td>\n",
              "    </tr>\n",
              "    <tr>\n",
              "      <th>1</th>\n",
              "      <td>55871</td>\n",
              "      <td>108789</td>\n",
              "      <td>251754</td>\n",
              "      <td>91.0</td>\n",
              "      <td>145.0</td>\n",
              "      <td>115.055556</td>\n",
              "      <td>73.0</td>\n",
              "      <td>143.0</td>\n",
              "      <td>101.210526</td>\n",
              "      <td>42.0</td>\n",
              "      <td>...</td>\n",
              "      <td>EMERGENCY</td>\n",
              "      <td>Private</td>\n",
              "      <td>NOT SPECIFIED</td>\n",
              "      <td>MARRIED</td>\n",
              "      <td>WHITE</td>\n",
              "      <td>HYPERGLYCEMIA</td>\n",
              "      <td>25013</td>\n",
              "      <td>MICU</td>\n",
              "      <td>11</td>\n",
              "      <td>69.472542</td>\n",
              "    </tr>\n",
              "    <tr>\n",
              "      <th>2</th>\n",
              "      <td>42892</td>\n",
              "      <td>139885</td>\n",
              "      <td>242171</td>\n",
              "      <td>106.0</td>\n",
              "      <td>132.0</td>\n",
              "      <td>117.750000</td>\n",
              "      <td>93.0</td>\n",
              "      <td>137.0</td>\n",
              "      <td>116.222222</td>\n",
              "      <td>51.0</td>\n",
              "      <td>...</td>\n",
              "      <td>ELECTIVE</td>\n",
              "      <td>Medicare</td>\n",
              "      <td>CATHOLIC</td>\n",
              "      <td>MARRIED</td>\n",
              "      <td>WHITE</td>\n",
              "      <td>KIDNEY STONES/SDA</td>\n",
              "      <td>5920</td>\n",
              "      <td>MICU</td>\n",
              "      <td>12</td>\n",
              "      <td>61.872560</td>\n",
              "    </tr>\n",
              "    <tr>\n",
              "      <th>3</th>\n",
              "      <td>66629</td>\n",
              "      <td>173017</td>\n",
              "      <td>263035</td>\n",
              "      <td>72.0</td>\n",
              "      <td>105.0</td>\n",
              "      <td>83.627119</td>\n",
              "      <td>72.0</td>\n",
              "      <td>168.0</td>\n",
              "      <td>126.981818</td>\n",
              "      <td>39.0</td>\n",
              "      <td>...</td>\n",
              "      <td>EMERGENCY</td>\n",
              "      <td>Private</td>\n",
              "      <td>EPISCOPALIAN</td>\n",
              "      <td>WIDOWED</td>\n",
              "      <td>WHITE</td>\n",
              "      <td>RIGHT FEMUR FRACTURE</td>\n",
              "      <td>82120</td>\n",
              "      <td>CCU</td>\n",
              "      <td>16</td>\n",
              "      <td>66.723293</td>\n",
              "    </tr>\n",
              "    <tr>\n",
              "      <th>4</th>\n",
              "      <td>79851</td>\n",
              "      <td>171573</td>\n",
              "      <td>279388</td>\n",
              "      <td>85.0</td>\n",
              "      <td>124.0</td>\n",
              "      <td>98.600000</td>\n",
              "      <td>86.0</td>\n",
              "      <td>144.0</td>\n",
              "      <td>110.666667</td>\n",
              "      <td>52.0</td>\n",
              "      <td>...</td>\n",
              "      <td>EMERGENCY</td>\n",
              "      <td>Medicare</td>\n",
              "      <td>CATHOLIC</td>\n",
              "      <td>SINGLE</td>\n",
              "      <td>WHITE</td>\n",
              "      <td>PNEUMONIA;RAPID AF;HYPOXIA</td>\n",
              "      <td>51884</td>\n",
              "      <td>MICU</td>\n",
              "      <td>29</td>\n",
              "      <td>136.973273</td>\n",
              "    </tr>\n",
              "  </tbody>\n",
              "</table>\n",
              "<p>5 rows × 41 columns</p>\n",
              "</div>"
            ],
            "text/plain": [
              "   subject_id  hadm_id  icustay_id  HeartRate_Min  HeartRate_Max  \\\n",
              "0       64058   146725      208169           58.0           90.0   \n",
              "1       55871   108789      251754           91.0          145.0   \n",
              "2       42892   139885      242171          106.0          132.0   \n",
              "3       66629   173017      263035           72.0          105.0   \n",
              "4       79851   171573      279388           85.0          124.0   \n",
              "\n",
              "   HeartRate_Mean  SysBP_Min  SysBP_Max  SysBP_Mean  DiasBP_Min  ...  \\\n",
              "0       85.244898       77.0      153.0   98.490909        40.0  ...   \n",
              "1      115.055556       73.0      143.0  101.210526        42.0  ...   \n",
              "2      117.750000       93.0      137.0  116.222222        51.0  ...   \n",
              "3       83.627119       72.0      168.0  126.981818        39.0  ...   \n",
              "4       98.600000       86.0      144.0  110.666667        52.0  ...   \n",
              "\n",
              "   ADMISSION_TYPE  INSURANCE       RELIGION  MARITAL_STATUS  ETHNICITY  \\\n",
              "0        ELECTIVE   Medicare       CATHOLIC         MARRIED      WHITE   \n",
              "1       EMERGENCY    Private  NOT SPECIFIED         MARRIED      WHITE   \n",
              "2        ELECTIVE   Medicare       CATHOLIC         MARRIED      WHITE   \n",
              "3       EMERGENCY    Private   EPISCOPALIAN         WIDOWED      WHITE   \n",
              "4       EMERGENCY   Medicare       CATHOLIC          SINGLE      WHITE   \n",
              "\n",
              "                                           DIAGNOSIS  ICD9_CODE  \\\n",
              "0  AORTIC STENOSIS\\CORONARY ARTERY BYPASS GRAFT W...       4241   \n",
              "1                                      HYPERGLYCEMIA      25013   \n",
              "2                                  KIDNEY STONES/SDA       5920   \n",
              "3                               RIGHT FEMUR FRACTURE      82120   \n",
              "4                         PNEUMONIA;RAPID AF;HYPOXIA      51884   \n",
              "\n",
              "   FIRST_CAREUNIT  disease_count  avg_LOS_sum  \n",
              "0            CSRU             20    81.151600  \n",
              "1            MICU             11    69.472542  \n",
              "2            MICU             12    61.872560  \n",
              "3             CCU             16    66.723293  \n",
              "4            MICU             29   136.973273  \n",
              "\n",
              "[5 rows x 41 columns]"
            ]
          },
          "execution_count": 22,
          "metadata": {},
          "output_type": "execute_result"
        }
      ],
      "source": [
        "# Merging to test data\n",
        "test.rename(columns = {'ICD9_diagnosis' : 'ICD9_CODE'}, inplace = True) \n",
        "test_merged=test.merge(los_indexes[mergelist],how='left',on='hadm_id')\n",
        "\n",
        "# Inspecting result\n",
        "test_merged.head()"
      ]
    },
    {
      "cell_type": "markdown",
      "metadata": {
        "id": "HVGWenfuZkQ1"
      },
      "source": [
        "# Other feature engineering"
      ]
    },
    {
      "cell_type": "code",
      "execution_count": 23,
      "metadata": {
        "id": "zq7Ffm6q5cC7"
      },
      "outputs": [],
      "source": [
        "# Creating columns for whether a patient has been in the hospital and or the ICU before in the training data.\n",
        "training_merged['icu_again'] = np.where(training_merged.duplicated(subset=['subject_id', 'hadm_id']),1,0)\n",
        "training_merged['hospital_again'] = np.where(training_merged.duplicated(subset=['subject_id']),1,0)"
      ]
    },
    {
      "cell_type": "code",
      "execution_count": 24,
      "metadata": {
        "id": "xr0WjwwH6B8x"
      },
      "outputs": [],
      "source": [
        "# Creating columns for whether a patient has been in the hospital and or the ICU before in the test data.\n",
        "test_merged['icu_again'] = np.where(test_merged.duplicated(subset=['subject_id', 'hadm_id']),1,0)\n",
        "test_merged['hospital_again'] = np.where(test_merged.duplicated(subset=['subject_id']),1,0)"
      ]
    },
    {
      "cell_type": "code",
      "execution_count": 25,
      "metadata": {
        "colab": {
          "base_uri": "https://localhost:8080/"
        },
        "id": "xuI6TR4q5cAh",
        "outputId": "49b91919-56fa-48f9-c358-48592dbce18c"
      },
      "outputs": [
        {
          "data": {
            "text/plain": [
              "0    19749\n",
              "1     1136\n",
              "Name: icu_again, dtype: int64"
            ]
          },
          "execution_count": 25,
          "metadata": {},
          "output_type": "execute_result"
        }
      ],
      "source": [
        "# We see that there is a significant number of people in that appear several times in the ICU.\n",
        "# These people ought to be in worse shape -> could increase or decrease LOS...\n",
        "training_merged.icu_again.value_counts()"
      ]
    },
    {
      "cell_type": "code",
      "execution_count": 26,
      "metadata": {
        "colab": {
          "base_uri": "https://localhost:8080/"
        },
        "id": "k4GJV-VL5b91",
        "outputId": "7c91a6d5-309f-4cdf-cd21-041252eccf2a"
      },
      "outputs": [
        {
          "data": {
            "text/plain": [
              "0    5161\n",
              "1      60\n",
              "Name: icu_again, dtype: int64"
            ]
          },
          "execution_count": 26,
          "metadata": {},
          "output_type": "execute_result"
        }
      ],
      "source": [
        "# We see that there is a significant number of people in that appear several times in the ICU.\n",
        "# These people ought to be in worse shape -> could increase or decrease LOS...\n",
        "test_merged.icu_again.value_counts()"
      ]
    },
    {
      "cell_type": "code",
      "execution_count": 27,
      "metadata": {
        "id": "GMKd3C3zK5zQ"
      },
      "outputs": [],
      "source": [
        "# Renaming\n",
        "training = training_merged.copy()\n",
        "\n",
        "# Renaming\n",
        "test = test_merged.copy()"
      ]
    },
    {
      "cell_type": "code",
      "execution_count": 28,
      "metadata": {
        "id": "KyHch7xKa-Fu"
      },
      "outputs": [],
      "source": [
        "# Computing age & other variables (can't use a simple difference as this leads to overflow error...)\n",
        "training['ADMITTIME'] = pd.to_datetime(training['ADMITTIME'])\n",
        "training['DOB'] = pd.to_datetime(training['DOB'])\n",
        "training['age'] = [relativedelta(a, b).years for a, b in zip(training['ADMITTIME'], training['DOB'])]\n",
        "training['admit_year'] = pd.DatetimeIndex(training['ADMITTIME']).year\n",
        "training['admit_month'] = pd.DatetimeIndex(training['ADMITTIME']).month\n",
        "training['admit_hour'] = pd.DatetimeIndex(training['ADMITTIME']).hour"
      ]
    },
    {
      "cell_type": "code",
      "execution_count": 29,
      "metadata": {
        "id": "uigNFvKgW7C3"
      },
      "outputs": [],
      "source": [
        "# Dropping all irrelevant columns (both out of project prompt and found through tinkering)\n",
        "training.drop(['hadm_id','subject_id'],1,inplace=True)\n",
        "training.drop(['icustay_id','DOB','ADMITTIME','Diff','DIAGNOSIS'],1,inplace=True)\n",
        "# training.drop(['MARITAL_STATUS'],1,inplace=True)\n",
        "training.drop(['HOSPITAL_EXPIRE_FLAG'],1,inplace=True)\n",
        "training.drop(['ICD9_CODE'],1,inplace=True)"
      ]
    },
    {
      "cell_type": "code",
      "execution_count": 30,
      "metadata": {
        "id": "2bJNbViChGL8"
      },
      "outputs": [],
      "source": [
        "# Computing age & other variables (can't use a simple difference as this leads to overflow error...)\n",
        "test['ADMITTIME'] = pd.to_datetime(test['ADMITTIME'])\n",
        "test['DOB'] = pd.to_datetime(test['DOB'])\n",
        "test['age'] = [relativedelta(a, b).years for a, b in zip(test['ADMITTIME'], test['DOB'])]\n",
        "test['admit_year'] = pd.DatetimeIndex(test['ADMITTIME']).year\n",
        "test['admit_month'] = pd.DatetimeIndex(test['ADMITTIME']).month\n",
        "test['admit_hour'] = pd.DatetimeIndex(test['ADMITTIME']).hour"
      ]
    },
    {
      "cell_type": "code",
      "execution_count": 31,
      "metadata": {
        "id": "E3H6I0BBhGJr"
      },
      "outputs": [],
      "source": [
        "# Dropping all irrelevant columns (both out of project prompt and found through tinkering)\n",
        "test.drop(['DOB','ADMITTIME','Diff','DIAGNOSIS'],1,inplace=True)\n",
        "test.drop(['hadm_id'],1,inplace=True)\n",
        "# test.drop(['MARITAL_STATUS'],1,inplace=True)\n",
        "# test.drop(['RELIGION'],1,inplace=True)\n",
        "test.drop(['ICD9_CODE'],1,inplace=True)\n",
        "\n",
        "test_for_processing = test.drop(['icustay_id'],1)"
      ]
    },
    {
      "cell_type": "code",
      "execution_count": 32,
      "metadata": {
        "colab": {
          "base_uri": "https://localhost:8080/"
        },
        "id": "qormXGWjy5dt",
        "outputId": "df789c14-b74e-4720-9da5-8b580fed744d"
      },
      "outputs": [
        {
          "data": {
            "text/plain": [
              "Index(['subject_id', 'HeartRate_Min', 'HeartRate_Max', 'HeartRate_Mean',\n",
              "       'SysBP_Min', 'SysBP_Max', 'SysBP_Mean', 'DiasBP_Min', 'DiasBP_Max',\n",
              "       'DiasBP_Mean', 'MeanBP_Min', 'MeanBP_Max', 'MeanBP_Mean',\n",
              "       'RespRate_Min', 'RespRate_Max', 'RespRate_Mean', 'TempC_Min',\n",
              "       'TempC_Max', 'TempC_Mean', 'SpO2_Min', 'SpO2_Max', 'SpO2_Mean',\n",
              "       'Glucose_Min', 'Glucose_Max', 'Glucose_Mean', 'GENDER',\n",
              "       'ADMISSION_TYPE', 'INSURANCE', 'RELIGION', 'MARITAL_STATUS',\n",
              "       'ETHNICITY', 'FIRST_CAREUNIT', 'disease_count', 'avg_LOS_sum',\n",
              "       'icu_again', 'hospital_again', 'age', 'admit_year', 'admit_month',\n",
              "       'admit_hour'],\n",
              "      dtype='object')"
            ]
          },
          "execution_count": 32,
          "metadata": {},
          "output_type": "execute_result"
        }
      ],
      "source": [
        "test_for_processing.columns"
      ]
    },
    {
      "cell_type": "code",
      "execution_count": 33,
      "metadata": {
        "colab": {
          "base_uri": "https://localhost:8080/"
        },
        "id": "IoPs9qaXy63_",
        "outputId": "25046b36-c09d-4213-94b0-64e42d3e3d00"
      },
      "outputs": [
        {
          "data": {
            "text/plain": [
              "Index(['HeartRate_Min', 'HeartRate_Max', 'HeartRate_Mean', 'SysBP_Min',\n",
              "       'SysBP_Max', 'SysBP_Mean', 'DiasBP_Min', 'DiasBP_Max', 'DiasBP_Mean',\n",
              "       'MeanBP_Min', 'MeanBP_Max', 'MeanBP_Mean', 'RespRate_Min',\n",
              "       'RespRate_Max', 'RespRate_Mean', 'TempC_Min', 'TempC_Max', 'TempC_Mean',\n",
              "       'SpO2_Min', 'SpO2_Max', 'SpO2_Mean', 'Glucose_Min', 'Glucose_Max',\n",
              "       'Glucose_Mean', 'GENDER', 'DOD', 'DISCHTIME', 'DEATHTIME',\n",
              "       'ADMISSION_TYPE', 'INSURANCE', 'RELIGION', 'MARITAL_STATUS',\n",
              "       'ETHNICITY', 'FIRST_CAREUNIT', 'LOS', 'disease_count', 'avg_LOS_sum',\n",
              "       'icu_again', 'hospital_again', 'age', 'admit_year', 'admit_month',\n",
              "       'admit_hour'],\n",
              "      dtype='object')"
            ]
          },
          "execution_count": 33,
          "metadata": {},
          "output_type": "execute_result"
        }
      ],
      "source": [
        "training.columns"
      ]
    },
    {
      "cell_type": "code",
      "execution_count": 34,
      "metadata": {
        "colab": {
          "base_uri": "https://localhost:8080/"
        },
        "id": "c1JwSG3metJD",
        "outputId": "87153936-d4d5-4313-8a90-0b56fce754c6"
      },
      "outputs": [
        {
          "data": {
            "text/html": [
              "<div>\n",
              "<style scoped>\n",
              "    .dataframe tbody tr th:only-of-type {\n",
              "        vertical-align: middle;\n",
              "    }\n",
              "\n",
              "    .dataframe tbody tr th {\n",
              "        vertical-align: top;\n",
              "    }\n",
              "\n",
              "    .dataframe thead th {\n",
              "        text-align: right;\n",
              "    }\n",
              "</style>\n",
              "<table border=\"1\" class=\"dataframe\">\n",
              "  <thead>\n",
              "    <tr style=\"text-align: right;\">\n",
              "      <th></th>\n",
              "      <th>HeartRate_Min</th>\n",
              "      <th>HeartRate_Max</th>\n",
              "      <th>HeartRate_Mean</th>\n",
              "      <th>SysBP_Min</th>\n",
              "      <th>SysBP_Max</th>\n",
              "      <th>SysBP_Mean</th>\n",
              "      <th>DiasBP_Min</th>\n",
              "      <th>DiasBP_Max</th>\n",
              "      <th>DiasBP_Mean</th>\n",
              "      <th>MeanBP_Min</th>\n",
              "      <th>...</th>\n",
              "      <th>FIRST_CAREUNIT</th>\n",
              "      <th>LOS</th>\n",
              "      <th>disease_count</th>\n",
              "      <th>avg_LOS_sum</th>\n",
              "      <th>icu_again</th>\n",
              "      <th>hospital_again</th>\n",
              "      <th>age</th>\n",
              "      <th>admit_year</th>\n",
              "      <th>admit_month</th>\n",
              "      <th>admit_hour</th>\n",
              "    </tr>\n",
              "  </thead>\n",
              "  <tbody>\n",
              "    <tr>\n",
              "      <th>0</th>\n",
              "      <td>89.0</td>\n",
              "      <td>145.0</td>\n",
              "      <td>121.043478</td>\n",
              "      <td>74.0</td>\n",
              "      <td>127.0</td>\n",
              "      <td>106.586957</td>\n",
              "      <td>42.0</td>\n",
              "      <td>90.0</td>\n",
              "      <td>61.173913</td>\n",
              "      <td>59.0</td>\n",
              "      <td>...</td>\n",
              "      <td>MICU</td>\n",
              "      <td>4.5761</td>\n",
              "      <td>17</td>\n",
              "      <td>73.770483</td>\n",
              "      <td>0</td>\n",
              "      <td>0</td>\n",
              "      <td>69</td>\n",
              "      <td>2178</td>\n",
              "      <td>2</td>\n",
              "      <td>10</td>\n",
              "    </tr>\n",
              "    <tr>\n",
              "      <th>1</th>\n",
              "      <td>63.0</td>\n",
              "      <td>110.0</td>\n",
              "      <td>79.117647</td>\n",
              "      <td>89.0</td>\n",
              "      <td>121.0</td>\n",
              "      <td>106.733333</td>\n",
              "      <td>49.0</td>\n",
              "      <td>74.0</td>\n",
              "      <td>64.733333</td>\n",
              "      <td>58.0</td>\n",
              "      <td>...</td>\n",
              "      <td>MICU</td>\n",
              "      <td>0.7582</td>\n",
              "      <td>3</td>\n",
              "      <td>9.283488</td>\n",
              "      <td>0</td>\n",
              "      <td>0</td>\n",
              "      <td>42</td>\n",
              "      <td>2129</td>\n",
              "      <td>2</td>\n",
              "      <td>22</td>\n",
              "    </tr>\n",
              "    <tr>\n",
              "      <th>2</th>\n",
              "      <td>81.0</td>\n",
              "      <td>98.0</td>\n",
              "      <td>91.689655</td>\n",
              "      <td>88.0</td>\n",
              "      <td>138.0</td>\n",
              "      <td>112.785714</td>\n",
              "      <td>45.0</td>\n",
              "      <td>67.0</td>\n",
              "      <td>56.821429</td>\n",
              "      <td>64.0</td>\n",
              "      <td>...</td>\n",
              "      <td>MICU</td>\n",
              "      <td>3.7626</td>\n",
              "      <td>14</td>\n",
              "      <td>70.330355</td>\n",
              "      <td>0</td>\n",
              "      <td>0</td>\n",
              "      <td>68</td>\n",
              "      <td>2125</td>\n",
              "      <td>11</td>\n",
              "      <td>23</td>\n",
              "    </tr>\n",
              "    <tr>\n",
              "      <th>3</th>\n",
              "      <td>76.0</td>\n",
              "      <td>128.0</td>\n",
              "      <td>98.857143</td>\n",
              "      <td>84.0</td>\n",
              "      <td>135.0</td>\n",
              "      <td>106.972973</td>\n",
              "      <td>30.0</td>\n",
              "      <td>89.0</td>\n",
              "      <td>41.864865</td>\n",
              "      <td>48.0</td>\n",
              "      <td>...</td>\n",
              "      <td>SICU</td>\n",
              "      <td>3.8734</td>\n",
              "      <td>15</td>\n",
              "      <td>60.433065</td>\n",
              "      <td>0</td>\n",
              "      <td>0</td>\n",
              "      <td>74</td>\n",
              "      <td>2131</td>\n",
              "      <td>1</td>\n",
              "      <td>8</td>\n",
              "    </tr>\n",
              "    <tr>\n",
              "      <th>4</th>\n",
              "      <td>NaN</td>\n",
              "      <td>NaN</td>\n",
              "      <td>NaN</td>\n",
              "      <td>NaN</td>\n",
              "      <td>NaN</td>\n",
              "      <td>NaN</td>\n",
              "      <td>NaN</td>\n",
              "      <td>NaN</td>\n",
              "      <td>NaN</td>\n",
              "      <td>NaN</td>\n",
              "      <td>...</td>\n",
              "      <td>TSICU</td>\n",
              "      <td>5.8654</td>\n",
              "      <td>16</td>\n",
              "      <td>91.382473</td>\n",
              "      <td>0</td>\n",
              "      <td>0</td>\n",
              "      <td>79</td>\n",
              "      <td>2146</td>\n",
              "      <td>5</td>\n",
              "      <td>2</td>\n",
              "    </tr>\n",
              "  </tbody>\n",
              "</table>\n",
              "<p>5 rows × 43 columns</p>\n",
              "</div>"
            ],
            "text/plain": [
              "   HeartRate_Min  HeartRate_Max  HeartRate_Mean  SysBP_Min  SysBP_Max  \\\n",
              "0           89.0          145.0      121.043478       74.0      127.0   \n",
              "1           63.0          110.0       79.117647       89.0      121.0   \n",
              "2           81.0           98.0       91.689655       88.0      138.0   \n",
              "3           76.0          128.0       98.857143       84.0      135.0   \n",
              "4            NaN            NaN             NaN        NaN        NaN   \n",
              "\n",
              "   SysBP_Mean  DiasBP_Min  DiasBP_Max  DiasBP_Mean  MeanBP_Min  ...  \\\n",
              "0  106.586957        42.0        90.0    61.173913        59.0  ...   \n",
              "1  106.733333        49.0        74.0    64.733333        58.0  ...   \n",
              "2  112.785714        45.0        67.0    56.821429        64.0  ...   \n",
              "3  106.972973        30.0        89.0    41.864865        48.0  ...   \n",
              "4         NaN         NaN         NaN          NaN         NaN  ...   \n",
              "\n",
              "   FIRST_CAREUNIT     LOS  disease_count  avg_LOS_sum  icu_again  \\\n",
              "0            MICU  4.5761             17    73.770483          0   \n",
              "1            MICU  0.7582              3     9.283488          0   \n",
              "2            MICU  3.7626             14    70.330355          0   \n",
              "3            SICU  3.8734             15    60.433065          0   \n",
              "4           TSICU  5.8654             16    91.382473          0   \n",
              "\n",
              "   hospital_again  age  admit_year  admit_month  admit_hour  \n",
              "0               0   69        2178            2          10  \n",
              "1               0   42        2129            2          22  \n",
              "2               0   68        2125           11          23  \n",
              "3               0   74        2131            1           8  \n",
              "4               0   79        2146            5           2  \n",
              "\n",
              "[5 rows x 43 columns]"
            ]
          },
          "execution_count": 34,
          "metadata": {},
          "output_type": "execute_result"
        }
      ],
      "source": [
        "# Final look before prediction work..\n",
        "training.head()"
      ]
    },
    {
      "cell_type": "code",
      "execution_count": 35,
      "metadata": {},
      "outputs": [
        {
          "data": {
            "text/html": [
              "<div>\n",
              "<style scoped>\n",
              "    .dataframe tbody tr th:only-of-type {\n",
              "        vertical-align: middle;\n",
              "    }\n",
              "\n",
              "    .dataframe tbody tr th {\n",
              "        vertical-align: top;\n",
              "    }\n",
              "\n",
              "    .dataframe thead th {\n",
              "        text-align: right;\n",
              "    }\n",
              "</style>\n",
              "<table border=\"1\" class=\"dataframe\">\n",
              "  <thead>\n",
              "    <tr style=\"text-align: right;\">\n",
              "      <th></th>\n",
              "      <th>subject_id</th>\n",
              "      <th>icustay_id</th>\n",
              "      <th>HeartRate_Min</th>\n",
              "      <th>HeartRate_Max</th>\n",
              "      <th>HeartRate_Mean</th>\n",
              "      <th>SysBP_Min</th>\n",
              "      <th>SysBP_Max</th>\n",
              "      <th>SysBP_Mean</th>\n",
              "      <th>DiasBP_Min</th>\n",
              "      <th>DiasBP_Max</th>\n",
              "      <th>...</th>\n",
              "      <th>ETHNICITY</th>\n",
              "      <th>FIRST_CAREUNIT</th>\n",
              "      <th>disease_count</th>\n",
              "      <th>avg_LOS_sum</th>\n",
              "      <th>icu_again</th>\n",
              "      <th>hospital_again</th>\n",
              "      <th>age</th>\n",
              "      <th>admit_year</th>\n",
              "      <th>admit_month</th>\n",
              "      <th>admit_hour</th>\n",
              "    </tr>\n",
              "  </thead>\n",
              "  <tbody>\n",
              "    <tr>\n",
              "      <th>0</th>\n",
              "      <td>64058</td>\n",
              "      <td>208169</td>\n",
              "      <td>58.0</td>\n",
              "      <td>90.0</td>\n",
              "      <td>85.244898</td>\n",
              "      <td>77.0</td>\n",
              "      <td>153.0</td>\n",
              "      <td>98.490909</td>\n",
              "      <td>40.0</td>\n",
              "      <td>77.0</td>\n",
              "      <td>...</td>\n",
              "      <td>WHITE</td>\n",
              "      <td>CSRU</td>\n",
              "      <td>20</td>\n",
              "      <td>81.151600</td>\n",
              "      <td>0</td>\n",
              "      <td>0</td>\n",
              "      <td>81</td>\n",
              "      <td>2196</td>\n",
              "      <td>2</td>\n",
              "      <td>11</td>\n",
              "    </tr>\n",
              "    <tr>\n",
              "      <th>1</th>\n",
              "      <td>55871</td>\n",
              "      <td>251754</td>\n",
              "      <td>91.0</td>\n",
              "      <td>145.0</td>\n",
              "      <td>115.055556</td>\n",
              "      <td>73.0</td>\n",
              "      <td>143.0</td>\n",
              "      <td>101.210526</td>\n",
              "      <td>42.0</td>\n",
              "      <td>86.0</td>\n",
              "      <td>...</td>\n",
              "      <td>WHITE</td>\n",
              "      <td>MICU</td>\n",
              "      <td>11</td>\n",
              "      <td>69.472542</td>\n",
              "      <td>0</td>\n",
              "      <td>0</td>\n",
              "      <td>48</td>\n",
              "      <td>2103</td>\n",
              "      <td>10</td>\n",
              "      <td>23</td>\n",
              "    </tr>\n",
              "    <tr>\n",
              "      <th>2</th>\n",
              "      <td>42892</td>\n",
              "      <td>242171</td>\n",
              "      <td>106.0</td>\n",
              "      <td>132.0</td>\n",
              "      <td>117.750000</td>\n",
              "      <td>93.0</td>\n",
              "      <td>137.0</td>\n",
              "      <td>116.222222</td>\n",
              "      <td>51.0</td>\n",
              "      <td>76.0</td>\n",
              "      <td>...</td>\n",
              "      <td>WHITE</td>\n",
              "      <td>MICU</td>\n",
              "      <td>12</td>\n",
              "      <td>61.872560</td>\n",
              "      <td>0</td>\n",
              "      <td>0</td>\n",
              "      <td>42</td>\n",
              "      <td>2115</td>\n",
              "      <td>6</td>\n",
              "      <td>7</td>\n",
              "    </tr>\n",
              "    <tr>\n",
              "      <th>3</th>\n",
              "      <td>66629</td>\n",
              "      <td>263035</td>\n",
              "      <td>72.0</td>\n",
              "      <td>105.0</td>\n",
              "      <td>83.627119</td>\n",
              "      <td>72.0</td>\n",
              "      <td>168.0</td>\n",
              "      <td>126.981818</td>\n",
              "      <td>39.0</td>\n",
              "      <td>99.0</td>\n",
              "      <td>...</td>\n",
              "      <td>WHITE</td>\n",
              "      <td>CCU</td>\n",
              "      <td>16</td>\n",
              "      <td>66.723293</td>\n",
              "      <td>0</td>\n",
              "      <td>0</td>\n",
              "      <td>84</td>\n",
              "      <td>2162</td>\n",
              "      <td>8</td>\n",
              "      <td>21</td>\n",
              "    </tr>\n",
              "    <tr>\n",
              "      <th>4</th>\n",
              "      <td>79851</td>\n",
              "      <td>279388</td>\n",
              "      <td>85.0</td>\n",
              "      <td>124.0</td>\n",
              "      <td>98.600000</td>\n",
              "      <td>86.0</td>\n",
              "      <td>144.0</td>\n",
              "      <td>110.666667</td>\n",
              "      <td>52.0</td>\n",
              "      <td>133.0</td>\n",
              "      <td>...</td>\n",
              "      <td>WHITE</td>\n",
              "      <td>MICU</td>\n",
              "      <td>29</td>\n",
              "      <td>136.973273</td>\n",
              "      <td>0</td>\n",
              "      <td>0</td>\n",
              "      <td>52</td>\n",
              "      <td>2103</td>\n",
              "      <td>1</td>\n",
              "      <td>22</td>\n",
              "    </tr>\n",
              "  </tbody>\n",
              "</table>\n",
              "<p>5 rows × 41 columns</p>\n",
              "</div>"
            ],
            "text/plain": [
              "   subject_id  icustay_id  HeartRate_Min  HeartRate_Max  HeartRate_Mean  \\\n",
              "0       64058      208169           58.0           90.0       85.244898   \n",
              "1       55871      251754           91.0          145.0      115.055556   \n",
              "2       42892      242171          106.0          132.0      117.750000   \n",
              "3       66629      263035           72.0          105.0       83.627119   \n",
              "4       79851      279388           85.0          124.0       98.600000   \n",
              "\n",
              "   SysBP_Min  SysBP_Max  SysBP_Mean  DiasBP_Min  DiasBP_Max  ...  ETHNICITY  \\\n",
              "0       77.0      153.0   98.490909        40.0        77.0  ...      WHITE   \n",
              "1       73.0      143.0  101.210526        42.0        86.0  ...      WHITE   \n",
              "2       93.0      137.0  116.222222        51.0        76.0  ...      WHITE   \n",
              "3       72.0      168.0  126.981818        39.0        99.0  ...      WHITE   \n",
              "4       86.0      144.0  110.666667        52.0       133.0  ...      WHITE   \n",
              "\n",
              "   FIRST_CAREUNIT  disease_count  avg_LOS_sum  icu_again  hospital_again  age  \\\n",
              "0            CSRU             20    81.151600          0               0   81   \n",
              "1            MICU             11    69.472542          0               0   48   \n",
              "2            MICU             12    61.872560          0               0   42   \n",
              "3             CCU             16    66.723293          0               0   84   \n",
              "4            MICU             29   136.973273          0               0   52   \n",
              "\n",
              "   admit_year  admit_month  admit_hour  \n",
              "0        2196            2          11  \n",
              "1        2103           10          23  \n",
              "2        2115            6           7  \n",
              "3        2162            8          21  \n",
              "4        2103            1          22  \n",
              "\n",
              "[5 rows x 41 columns]"
            ]
          },
          "execution_count": 35,
          "metadata": {},
          "output_type": "execute_result"
        }
      ],
      "source": [
        "# Final look before prediction work..\n",
        "test.head()"
      ]
    },
    {
      "cell_type": "code",
      "execution_count": 36,
      "metadata": {
        "id": "oAOSVwGH0u6P"
      },
      "outputs": [],
      "source": [
        "numericals = [\n",
        "              'HeartRate_Min', 'HeartRate_Max', 'HeartRate_Mean', 'SysBP_Min', 'SysBP_Max', 'SysBP_Mean', 'DiasBP_Min',\n",
        "              'DiasBP_Max', 'DiasBP_Mean', 'MeanBP_Min', 'MeanBP_Max', 'MeanBP_Mean', 'RespRate_Min', 'RespRate_Max',\n",
        "              'RespRate_Mean', 'TempC_Min', 'TempC_Max', 'TempC_Mean', 'SpO2_Min', 'SpO2_Max', 'SpO2_Mean',\n",
        "              'Glucose_Min', 'Glucose_Max', 'Glucose_Mean', 'disease_count',\n",
        "              'avg_LOS_sum', 'icu_again', 'hospital_again', 'age', 'admit_year', 'admit_month', 'admit_hour'\n",
        "]\n",
        "\n",
        "categoricals = [\n",
        "                'GENDER', 'ADMISSION_TYPE', 'INSURANCE', 'RELIGION', 'MARITAL_STATUS', 'ETHNICITY', 'FIRST_CAREUNIT'\n",
        "]"
      ]
    },
    {
      "cell_type": "markdown",
      "metadata": {
        "id": "P8kAyNr1nHwB"
      },
      "source": [
        "# Pipeline construction and Model Fitting"
      ]
    },
    {
      "cell_type": "markdown",
      "metadata": {
        "id": "FyD2sAJBW1R4"
      },
      "source": [
        "## Vanilla XGBRegressor pipeline"
      ]
    },
    {
      "cell_type": "markdown",
      "metadata": {
        "id": "YNeSN-_obBeJ"
      },
      "source": [
        "### Description of pipeline\n",
        "In the vanilla XGBRegressor pipeline, the following steps are taken:\n",
        "\n",
        "1) Using sklearn's ColumnTransformer, I transform columns separately based on whether they are numerical or categorical. Please see the above 'numericals' and 'categoricals' lists for a full description of the split of the data columns. In particular:\n",
        "- **Columns of the numerical type** are simply scaled using sklearn's StandardScaler - NaN values are not processed separately using any imputer, as I am choosing to pass them to the final model as is. This is because I can thus avoid making any assumptions as to how the missing data came to be - the XGBRegressor model can take NaN's as input, and will then fit using the NaN's as information.\n",
        "- **Columns of the categorical type** are made into dummies using sklearn's OneHotEncoder - again,  NaN values are not processed separately using any technique, for the same reason as above. Notice that there is a positive probability that when the GridSeachCV is splitting the data into the cross-validation folds, categories in the categorical columns do not match between the test and training set. As such, to avoid producing an error when running the pipeline, I set the __handle_unknown__ option in the OneHotEncoder to equal \"<font color = 'red'>ignore</font>\", which sets the value of such categorical columns to zero in the set where the column doesn't exist.\n",
        "\n",
        "2) The pre-processed data from the ColumnTransformer is then passed to the XGBRegressor model for fitting/predicting."
      ]
    },
    {
      "cell_type": "code",
      "execution_count": 37,
      "metadata": {
        "id": "p-7p-rs5FSsL"
      },
      "outputs": [],
      "source": [
        "model = XGBRegressor()\n",
        "num_trans = Pipeline(steps=[(\"scaler\", StandardScaler())])\n",
        "cat_trans = OneHotEncoder(handle_unknown = \"ignore\")\n",
        "\n",
        "preprocessor = ColumnTransformer(\n",
        "    transformers=[\n",
        "                  (\"numericals\", num_trans, numericals),\n",
        "                  (\"categoricals\", cat_trans, categoricals)\n",
        "])\n",
        "\n",
        "pipeline = Pipeline(steps=[('transformer', preprocessor),\n",
        "                           ('xgb',model)\n",
        "                          ]\n",
        "                    )"
      ]
    },
    {
      "cell_type": "markdown",
      "metadata": {
        "id": "JMwGxt6KffIT"
      },
      "source": [
        "### Parameter grid definition\n",
        "In the vanilla XGBRegressor pipeline, I am choosing to GridSearch over the following parameters of the XGBRegressor model (primarily because these are the ones I understand):\n",
        "\n",
        "1) n_estimators – Number of gradient boosted trees. Equivalent to number of boosting rounds.\n",
        "\n",
        "2) learning_rate – Boosting learning rate (xgb’s “eta”).\n",
        "\n",
        "3) max_depth – Maximum tree depth for base learners."
      ]
    },
    {
      "cell_type": "code",
      "execution_count": 38,
      "metadata": {
        "id": "rU_eZXVu0ggr"
      },
      "outputs": [],
      "source": [
        "# N.B!!!\n",
        "\n",
        "# In the code cell below, you can see that I am not using gridsearching to search for optimal parameters,\n",
        "# in the sense that my parameter grid only contains unique values for each parameter\n",
        "# instead of a list. Rather, I am just using it to essentially fit and predict using the pipeline. \n",
        "\n",
        "# The reason behind this is simple - I ran extensive gridsearching over the grid that you can find below,\n",
        "# with the best parameters coming out as the ones you can see in the code cell below! (in the sense that\n",
        "# they performed best based on cross-validated scores). This was done so that I could save time when submitting\n",
        "# my notebook, because I don't have 20h of time to wait for the notebook to do the same gridsearch again :) \n",
        "\n",
        "# Here is the set of parameters that I used for the extensive gridsearching:\n",
        "\n",
        "# parameters = {'xgb__objective':['reg:squarederror'],\n",
        "#               'xgb__learning_rate': [0.03,0.05,0.07], #so called `eta` value\n",
        "#               'xgb__max_depth': [3,4,5,6,7,8,9,10],\n",
        "#               'xgb__n_estimators': [450],\n",
        "#               'xgb__random_state' : [43]}\n",
        "\n",
        "# For the parameters that were chosen to be included in the grid above, I chose them in the neighborhood of\n",
        "# the default values, because the default values of the XGBRegressor model are already highly optimized.\n",
        "\n",
        "# Please also note that as for xgb__n_estimators, the larger the value, the better the algorithm will perform.\n",
        "# Therefore, I am choosing to fix it at 450, which is due to the fact that the higher you make the number of \n",
        "# estimators, the higher the computational cost will be. Additionally, the returns from further increasing \n",
        "# the number of estimators diminish, while the computational time increases a lot. In my case, I judged \n",
        "# that 450 yields good enough performance without being prohibitively expensive to run."
      ]
    },
    {
      "cell_type": "code",
      "execution_count": 39,
      "metadata": {
        "id": "9HxxR7AqFkxP"
      },
      "outputs": [],
      "source": [
        "parameters = {'xgb__objective':['reg:squarederror'],\n",
        "              'xgb__learning_rate': [0.03], #so called `eta` value\n",
        "              'xgb__max_depth': [6],\n",
        "              'xgb__n_estimators': [450],\n",
        "              'xgb__random_state' : [43]} "
      ]
    },
    {
      "cell_type": "code",
      "execution_count": 40,
      "metadata": {
        "id": "O_UXlbwPW5NO"
      },
      "outputs": [],
      "source": [
        "# Defining the vanilla XGBRegressor grid (with cherry-picked parameter values from the extensive parameter grid two cells up)\n",
        "vanilla_grid = GridSearchCV(pipeline, parameters, n_jobs=-1, \n",
        "                   cv=5,\n",
        "                   scoring='neg_root_mean_squared_error',\n",
        "                   verbose=10, refit=True, error_score = \"raise\")"
      ]
    },
    {
      "cell_type": "code",
      "execution_count": 60,
      "metadata": {
        "colab": {
          "base_uri": "https://localhost:8080/"
        },
        "id": "iWCqf5MHaACo",
        "outputId": "8991628d-2072-4f37-d674-a22ab7694422"
      },
      "outputs": [
        {
          "data": {
            "text/plain": [
              "GridSearchCV(cv=5, error_score='raise',\n",
              "             estimator=Pipeline(steps=[('transformer',\n",
              "                                        ColumnTransformer(transformers=[('numericals',\n",
              "                                                                         Pipeline(steps=[('scaler',\n",
              "                                                                                          StandardScaler())]),\n",
              "                                                                         ['HeartRate_Min',\n",
              "                                                                          'HeartRate_Max',\n",
              "                                                                          'HeartRate_Mean',\n",
              "                                                                          'SysBP_Min',\n",
              "                                                                          'SysBP_Max',\n",
              "                                                                          'SysBP_Mean',\n",
              "                                                                          'DiasBP_Min',\n",
              "                                                                          'DiasBP_Max',\n",
              "                                                                          'DiasBP_Mean',\n",
              "                                                                          'MeanBP_Min',\n",
              "                                                                          'MeanBP_Max',\n",
              "                                                                          'MeanBP_Mean',\n",
              "                                                                          'RespRate_Mi...\n",
              "                                                     random_state=None,\n",
              "                                                     reg_alpha=None,\n",
              "                                                     reg_lambda=None,\n",
              "                                                     scale_pos_weight=None,\n",
              "                                                     subsample=None,\n",
              "                                                     tree_method=None,\n",
              "                                                     validate_parameters=None,\n",
              "                                                     verbosity=None))]),\n",
              "             n_jobs=-1,\n",
              "             param_grid={'xgb__learning_rate': [0.03], 'xgb__max_depth': [6],\n",
              "                         'xgb__n_estimators': [100],\n",
              "                         'xgb__objective': ['reg:squarederror'],\n",
              "                         'xgb__random_state': [43]},\n",
              "             scoring='neg_root_mean_squared_error', verbose=10)"
            ]
          },
          "execution_count": 60,
          "metadata": {},
          "output_type": "execute_result"
        }
      ],
      "source": [
        "# Fitting model\n",
        "vanilla_grid.fit(training.drop(columns=['LOS'],axis=1),training['LOS'])"
      ]
    },
    {
      "cell_type": "markdown",
      "metadata": {
        "id": "s9irAEXIYnhS"
      },
      "source": [
        "## Bagging XGBRegressor pipeline"
      ]
    },
    {
      "cell_type": "markdown",
      "metadata": {
        "id": "pp4YCmw3hJKm"
      },
      "source": [
        "### Description of pipeline\n",
        "In the Bagging XGBRegressor pipeline, the following steps are taken:\n",
        "\n",
        "1) Using sklearn's ColumnTransformer, I transform columns separately based on whether they are numerical or categorical. Please see the above 'numericals' and 'categoricals' lists for a full description of the split of the data columns. In particular:\n",
        "- **Columns of the numerical type** are simply scaled using sklearn's StandardScaler - NaN values are not processed separately using any imputer, as I am choosing to pass them to the final model as is. This is because I can thus avoid making any assumptions as to how the missing data came to be - the XGBRegressor model can take NaN's as input, and will then fit using the NaN's as information.\n",
        "- **Columns of the categorical type** are made into dummies using sklearn's OneHotEncoder - again,  NaN values are not processed separately using any technique, for the same reason as above. Notice that there is a positive probability that when the GridSeachCV is splitting the data into the cross-validation folds, categories in the categorical columns do not match between the test and training set. As such, to avoid producing an error when running the pipeline, I set the handle_unknown option in the OneHotEncoder to equal \"<font color = 'red'>ignore</font>\", which sets the value of such categorical columns to zero in the set where the column doesn't exist. \n",
        "\n",
        "2) The pre-processed data from the ColumnTransformer is then passed to sklearn's BaggingRegressor model for fitting/predicting. Please note that I am passing the best-performing XGBRegressor setup from the extensive gridsearching in part 3.1.2 as the base estimator to the BaggingRegressor. This is so that in case we have an overfitting situation, the bagging should eliminate that and consequently improve performance."
      ]
    },
    {
      "cell_type": "code",
      "execution_count": null,
      "metadata": {
        "id": "RNHNOcVbTajj"
      },
      "outputs": [],
      "source": [
        "# Taking best parameters from previous optimization to save on time\n",
        "xgb_best_params= {'learning_rate' : vanilla_grid.best_params_['xgb__learning_rate'],\n",
        "                   'max_depth' : vanilla_grid.best_params_['xgb__max_depth'],\n",
        "                   'n_estimators' : vanilla_grid.best_params_['xgb__n_estimators'],\n",
        "                   'objective' : vanilla_grid.best_params_['xgb__objective'],\n",
        "                   'random_state' : vanilla_grid.best_params_['xgb__random_state']}\n",
        "\n",
        "\n",
        "# Defining a new model, now with the best parameters.\n",
        "xgb_best = XGBRegressor(**xgb_best_params)\n",
        "model2 = BaggingRegressor(base_estimator=xgb_best)\n",
        "\n",
        "# Making a transformer for both the numerical columns and \n",
        "# categorical columns\n",
        "num_trans = Pipeline(steps=[(\"scaler\", StandardScaler())])\n",
        "cat_trans = OneHotEncoder(handle_unknown = \"ignore\")\n",
        "\n",
        "# Placing them in a pre-processor (ColumnTransformer)\n",
        "preprocessor = ColumnTransformer(\n",
        "    transformers=[\n",
        "                  (\"numericals\", num_trans, numericals),\n",
        "                  (\"categoricals\", cat_trans, categoricals)\n",
        "])\n",
        "\n",
        "# Defining final pipeline\n",
        "pipeline2 = Pipeline(steps=[('transformer', preprocessor),\n",
        "                           ('bagr',model2)\n",
        "                          ]\n",
        "                    )"
      ]
    },
    {
      "cell_type": "markdown",
      "metadata": {
        "id": "2JMw-8aShjnZ"
      },
      "source": [
        "### Parameter grid definition\n",
        "In the Bagging XGBRegressor pipeline, I am choosing to GridSearch over the following parameters of the BaggingRegressor (primarily because these are the ones I understand):\n",
        "\n",
        "1) bootstrap – Whether samples are drawn with replacement. If False, sampling without replacement is performed.\n",
        "\n",
        "2) bootstrap_features – Whether features are drawn with replacement.\n",
        "\n",
        "3) n_estimators – The number of base estimators in the ensemble.\n",
        "\n",
        "4) max_samples - The number of samples to draw from X to train each base estimator.\n",
        "\n",
        "5) base_estimator__objective - Specify the learning task and the corresponding learning objective (in our case, it is 'reg:squarederror') for the XGBRegressor that is used as the base estimator of the BaggingRegressor. Please note that this parameter along with the two below are all specific to the XGBRegressor, and would be different should we choose to use a different base estimator, for example DecisionTreeRegressor (which is the default base learner of the BaggingRegressor). <font color ='red'>NOT USED IN FINAL</font>\n",
        "\n",
        "6) base_estimator__learning_rate - Boosting learning rate (xgb’s “eta”). <font color ='red'>NOT USED IN FINAL</font>\n",
        "\n",
        "7) base_estimator__n_estimators - Number of gradient boosted trees in the base estimator of the BaggingRegressor Model. Generally, the larger the better for predictive performance, but computational cost will also increase, creating a trade-off. <font color ='red'>NOT USED IN FINAL</font>\n",
        "\n",
        "8) base_estimator__max_depth - Maximum tree depth for the base estimator. <font color ='red'>NOT USED IN FINAL</font>"
      ]
    },
    {
      "cell_type": "code",
      "execution_count": null,
      "metadata": {
        "id": "9H1Q1jBHY85X"
      },
      "outputs": [],
      "source": [
        "# N.B!!!\n",
        "\n",
        "# In the code cell below, you can see that I am not using gridsearching to search for optimal parameters,\n",
        "# in the sense that my parameter grid only contains unique values for each parameter\n",
        "# instead of a list. Rather, I am just using it to essentially fit and predict using the pipeline.\n",
        "\n",
        "# The reason behind this is simple - I ran extensive gridsearching over the grid that you can find below,\n",
        "# with the best parameters coming out as the ones you can see in the code cell below! (in the sense that\n",
        "# they performed best based on cross-validated scores). This was done so that I could save time when submitting\n",
        "# my notebook, because I don't have 20h of time to wait for the notebook to do the same gridsearch again :) \n",
        "\n",
        "# Here is the set of parameters that I used for the extensive gridsearching:\n",
        "\n",
        "# parameters2 = {\n",
        "#  'bagr__bootstrap': [True, False],\n",
        "#  'bagr__bootstrap_features': [True, False],    \n",
        "#  'bagr__n_estimators': [10,15,20,25,30],\n",
        "#  'bagr__max_samples' : [0.6, 0.8, 1.0],\n",
        "#  # 'base_estimator__objective': ['reg:squarederror'], (not used in final)   \n",
        "#  # 'base_estimator__learning_rate': [0.03,0.05,0.07], (not used in final)\n",
        "#  # 'base_estimator__max_depth' : [3,4,5,6,7,8,9,10], (not used in final)\n",
        "#  # 'base_estimator__n_estimators' : [450] (not used in final)\n",
        "# }"
      ]
    },
    {
      "cell_type": "code",
      "execution_count": 51,
      "metadata": {
        "id": "lcSEzQJxbiZ9"
      },
      "outputs": [],
      "source": [
        "parameters2 = {\n",
        " 'bagr__bootstrap': [True],\n",
        " 'bagr__bootstrap_features': [False],    \n",
        " 'bagr__n_estimators': [30],\n",
        " 'bagr__max_samples' : [1.0]\n",
        "#  'base_estimator__objective': ['reg:squarederror'],    \n",
        "#  'base_estimator__learning_rate': [0.03,0.05,0.07],\n",
        "#  'base_estimator__max_depth' : [3,4,5,6,7,8,9,10],\n",
        "#  'barg__base_estimator__n_estimators' : [450]\n",
        "}"
      ]
    },
    {
      "cell_type": "code",
      "execution_count": 52,
      "metadata": {
        "colab": {
          "base_uri": "https://localhost:8080/"
        },
        "id": "l0XjXLxVF8kJ",
        "outputId": "0c354468-5bf1-46b8-e044-7ec61e7a88a9"
      },
      "outputs": [
        {
          "data": {
            "text/plain": [
              "dict_keys(['cv', 'error_score', 'estimator__memory', 'estimator__steps', 'estimator__verbose', 'estimator__transformer', 'estimator__bagr', 'estimator__transformer__n_jobs', 'estimator__transformer__remainder', 'estimator__transformer__sparse_threshold', 'estimator__transformer__transformer_weights', 'estimator__transformer__transformers', 'estimator__transformer__verbose', 'estimator__transformer__verbose_feature_names_out', 'estimator__transformer__numericals', 'estimator__transformer__categoricals', 'estimator__transformer__numericals__memory', 'estimator__transformer__numericals__steps', 'estimator__transformer__numericals__verbose', 'estimator__transformer__numericals__scaler', 'estimator__transformer__numericals__scaler__copy', 'estimator__transformer__numericals__scaler__with_mean', 'estimator__transformer__numericals__scaler__with_std', 'estimator__transformer__categoricals__categories', 'estimator__transformer__categoricals__drop', 'estimator__transformer__categoricals__dtype', 'estimator__transformer__categoricals__handle_unknown', 'estimator__transformer__categoricals__sparse', 'estimator__bagr__base_estimator__objective', 'estimator__bagr__base_estimator__base_score', 'estimator__bagr__base_estimator__booster', 'estimator__bagr__base_estimator__colsample_bylevel', 'estimator__bagr__base_estimator__colsample_bynode', 'estimator__bagr__base_estimator__colsample_bytree', 'estimator__bagr__base_estimator__enable_categorical', 'estimator__bagr__base_estimator__gamma', 'estimator__bagr__base_estimator__gpu_id', 'estimator__bagr__base_estimator__importance_type', 'estimator__bagr__base_estimator__interaction_constraints', 'estimator__bagr__base_estimator__learning_rate', 'estimator__bagr__base_estimator__max_delta_step', 'estimator__bagr__base_estimator__max_depth', 'estimator__bagr__base_estimator__min_child_weight', 'estimator__bagr__base_estimator__missing', 'estimator__bagr__base_estimator__monotone_constraints', 'estimator__bagr__base_estimator__n_estimators', 'estimator__bagr__base_estimator__n_jobs', 'estimator__bagr__base_estimator__num_parallel_tree', 'estimator__bagr__base_estimator__predictor', 'estimator__bagr__base_estimator__random_state', 'estimator__bagr__base_estimator__reg_alpha', 'estimator__bagr__base_estimator__reg_lambda', 'estimator__bagr__base_estimator__scale_pos_weight', 'estimator__bagr__base_estimator__subsample', 'estimator__bagr__base_estimator__tree_method', 'estimator__bagr__base_estimator__validate_parameters', 'estimator__bagr__base_estimator__verbosity', 'estimator__bagr__base_estimator__xgb__learning_rate', 'estimator__bagr__base_estimator__xgb__max_depth', 'estimator__bagr__base_estimator__xgb__n_estimators', 'estimator__bagr__base_estimator__xgb__objective', 'estimator__bagr__base_estimator__xgb__random_state', 'estimator__bagr__base_estimator', 'estimator__bagr__bootstrap', 'estimator__bagr__bootstrap_features', 'estimator__bagr__max_features', 'estimator__bagr__max_samples', 'estimator__bagr__n_estimators', 'estimator__bagr__n_jobs', 'estimator__bagr__oob_score', 'estimator__bagr__random_state', 'estimator__bagr__verbose', 'estimator__bagr__warm_start', 'estimator', 'n_jobs', 'param_grid', 'pre_dispatch', 'refit', 'return_train_score', 'scoring', 'verbose'])"
            ]
          },
          "execution_count": 52,
          "metadata": {},
          "output_type": "execute_result"
        }
      ],
      "source": [
        "# Defining the BaggingRegressor grid (with cherry-picked parameter values from the extensive parameter grid two cells up)\n",
        "bagging_grid = GridSearchCV(pipeline2, parameters2, n_jobs=-1, \n",
        "                   cv=5,\n",
        "                   scoring='neg_root_mean_squared_error',\n",
        "                   verbose=10, refit=True, error_score = \"raise\")\n",
        "bagging_grid.get_params().keys()"
      ]
    },
    {
      "cell_type": "code",
      "execution_count": null,
      "metadata": {
        "colab": {
          "background_save": true,
          "base_uri": "https://localhost:8080/"
        },
        "id": "9NuL-ebsOI66",
        "outputId": "7004f3b9-abae-4a13-a5c3-9fc6b1fd55df"
      },
      "outputs": [],
      "source": [
        "# Fitting model\n",
        "bagging_grid.fit(training.drop(columns=['LOS'],axis=1),training['LOS'])"
      ]
    },
    {
      "cell_type": "markdown",
      "metadata": {
        "id": "hl1Y5AuNx7mu"
      },
      "source": [
        "# Prediction and model evaluation"
      ]
    },
    {
      "cell_type": "code",
      "execution_count": 53,
      "metadata": {
        "id": "LPeTY44ZzpwA"
      },
      "outputs": [],
      "source": [
        "# Performance reporting function\n",
        "def performance(model, model_name):\n",
        "    print(model_name)\n",
        "    print('Best Score: ' + str(-1*model.best_score_))\n",
        "    print('Best Parameters: ' + str(model.best_params_))"
      ]
    },
    {
      "cell_type": "code",
      "execution_count": null,
      "metadata": {
        "id": "2CxZb5cef3Vi"
      },
      "outputs": [],
      "source": [
        "# Predicting LOS with Vanilla gridsearch/pipeline\n",
        "yhat_vanilla = vanilla_grid.best_estimator_.predict(test_for_processing.drop(['subject_id'],1))\n",
        "\n",
        "# Predicting LOS with Bagging gridsearch/pipeline\n",
        "yhat_bagging = bagging_grid.best_estimator_.predict(test_for_processing.drop(['subject_id'],1))"
      ]
    },
    {
      "cell_type": "code",
      "execution_count": null,
      "metadata": {
        "id": "H0_wA5AJzDyj"
      },
      "outputs": [],
      "source": [
        "model_dict = {'vanilla' : vanilla_grid, 'bagging' : bagging_grid}"
      ]
    },
    {
      "cell_type": "code",
      "execution_count": null,
      "metadata": {
        "colab": {
          "base_uri": "https://localhost:8080/"
        },
        "id": "zrw-aeIkzveI",
        "outputId": "55480a13-fa8d-486e-cd28-1875523b0912"
      },
      "outputs": [
        {
          "name": "stdout",
          "output_type": "stream",
          "text": [
            "vanilla\n",
            "Best Score: 3.844245450751205\n",
            "Best Parameters: {'xgb__learning_rate': 0.03, 'xgb__max_depth': 6, 'xgb__n_estimators': 450, 'xgb__objective': 'reg:squarederror', 'xgb__random_state': 43}\n",
            "bagging\n",
            "Best Score: 3.874845349014471\n",
            "Best Parameters: {'bagr__n_estimators': 30}\n"
          ]
        }
      ],
      "source": [
        "for key in model_dict.keys():\n",
        "  performance(model_dict[key],str(key))"
      ]
    },
    {
      "cell_type": "markdown",
      "metadata": {
        "id": "Xn0PdwUb9uDR"
      },
      "source": [
        "## Discussion\n",
        "- From the above results, we can seen that the cross-validated root mean squared error is lower for the 'vanilla' XGBRegressor model than for Bagged version. \n",
        "\n",
        "- As such, it yields some evidence of the fact that the optimized version of the XGBRegressor model is not overfitting the data.\n",
        "\n",
        "- Therefore, I have chosen to use the 'vanilla' XGBRegressor model predictions as the final submission in the Kaggle competition."
      ]
    },
    {
      "cell_type": "code",
      "execution_count": null,
      "metadata": {
        "id": "XRlccm1enPDK"
      },
      "outputs": [],
      "source": [
        "# Taking our predictions and putting them in a list for final format...\n",
        "empty_list = []\n",
        "for observation in yhat_vanilla:\n",
        "  empty_list.append(observation)\n",
        "\n",
        "final_pred = np.array(empty_list)"
      ]
    },
    {
      "cell_type": "code",
      "execution_count": null,
      "metadata": {
        "id": "RLWegOhDnQsJ"
      },
      "outputs": [],
      "source": [
        "# Saving the final submission to Gdrive, for uploading...\n",
        "final_data = {'icustay_id': test.icustay_id, 'LOS': final_pred}\n",
        "submission = pd.DataFrame(data=final_data)\n",
        "submission.to_csv(os.path.join(fl,'processed_data/predicted_deaths.csv'), index =False)"
      ]
    }
  ],
  "metadata": {
    "colab": {
      "collapsed_sections": [],
      "name": "DGJ_200821-Decisiontrees_project.ipynb",
      "provenance": [],
      "toc_visible": true
    },
    "kernelspec": {
      "display_name": "Python 3",
      "name": "python3"
    },
    "language_info": {
      "codemirror_mode": {
        "name": "ipython",
        "version": 3
      },
      "file_extension": ".py",
      "mimetype": "text/x-python",
      "name": "python",
      "nbconvert_exporter": "python",
      "pygments_lexer": "ipython3",
      "version": "3.8.10"
    }
  },
  "nbformat": 4,
  "nbformat_minor": 0
}
