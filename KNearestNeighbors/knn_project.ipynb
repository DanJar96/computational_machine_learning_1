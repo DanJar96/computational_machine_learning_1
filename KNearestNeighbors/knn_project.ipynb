{
  "cells": [
    {
      "cell_type": "markdown",
      "metadata": {
        "id": "G7kClfi-LWFo"
      },
      "source": [
        "# Project: (K-) Nearest Neighbors\n"
      ]
    },
    {
      "cell_type": "markdown",
      "metadata": {
        "id": "R9WYLUGHLWFq"
      },
      "source": [
        "## Programming project: probability of death\n",
        "\n",
        "In this project, you have to predict the probability of death of a patient that is entering an ICU (Intensive Care Unit).\n",
        "\n",
        "The dataset comes from MIMIC project (https://mimic.physionet.org/). MIMIC-III (Medical Information Mart for Intensive Care III) is a large, freely-available database comprising deidentified health-related data associated with over forty thousand patients who stayed in critical care units of the Beth Israel Deaconess Medical Center between 2001 and 2012.\n",
        "\n",
        "Each row of *mimic_train.csv* correponds to one ICU stay (*hadm_id*+*icustay_id*) of one patient (*subject_id*). Column HOSPITAL_EXPIRE_FLAG is the indicator of death (=1) as a result of the current hospital stay; this is the outcome to predict in our modelling exercise.\n",
        "The remaining columns correspond to vitals of each patient (when entering the ICU), plus some general characteristics (age, gender, etc.), and their explanation can be found at *mimic_patient_metadata.csv*. \n",
        "\n",
        "Please don't use any feature that you infer you don't know the first day of a patient in an ICU.\n",
        "\n",
        "Note that the main cause/disease of patient condition is embedded as a code at *ICD9_diagnosis* column. The meaning of this code can be found at *MIMIC_metadata_diagnose.csv*. **But** this is only the main one; a patient can have co-occurrent diseases (comorbidities). These secondary codes can be found at *extra_data/MIMIC_diagnoses.csv*.\n",
        "\n",
        "As performance metric, you can use *AUC* for the binary classification case, but feel free to report as well any other metric if you can justify that is particularly suitable for this case.\n",
        "\n",
        "Main tasks are:\n",
        "+ Using *mimic_train.csv* file build a predictive model for *HOSPITAL_EXPIRE_FLAG* .\n",
        "+ For this analysis there is an extra test dataset, *mimic_test_death.csv*. Apply your final model to this extra dataset and generate predictions following the same format as *mimic_kaggle_death_sample_submission.csv*. Once ready, you can submit to our Kaggle competition and iterate to improve the accuracy.\n",
        "\n",
        "As a *bonus*, try different algorithms for neighbor search and for distance, and justify final selection. Try also different weights to cope with class imbalance and also to balance neighbor proximity. Try to assess somehow confidence interval of predictions.\n",
        "\n",
        "You can follow those **steps** in your first implementation:\n",
        "1. *Explore* and understand the dataset. \n",
        "2. Manage missing data.\n",
        "2. Manage categorial features. E.g. create *dummy variables* for relevant categorical features, or build an ad hoc distance function.\n",
        "3. Build a prediction model. Try to improve it using methods to tackle class imbalance.\n",
        "5. Assess expected accuracy  of previous models using *cross-validation*. \n",
        "6. Test the performance on the test file and report accuracy, following same preparation steps (missing data, dummies, etc). Remember that you should be able to yield a prediction for all the rows of the test dataset.\n",
        "\n",
        "Feel free to reduce the training dataset if you experience computational constraints.\n",
        "\n",
        "## Main criteria for grading\n",
        "From more to less important:\n",
        "+ Code runs\n",
        "+ Probability of death for each test patient is computed\n",
        "+ Accuracy of predictions for test patients is provided\n",
        "+ Nearest neighbor method(s) have been used\n",
        "+ Accuracy itself\n",
        "+ Data preparation\n",
        "+ Class imbalance management\n",
        "+ Hyperparameter optimization\n",
        "+ Neat and understandable code, with some titles and comments\n",
        "+ Improved methods from what we discussed in class (properly explained/justified)"
      ]
    },
    {
      "cell_type": "markdown",
      "metadata": {},
      "source": [
        "## Importing modules"
      ]
    },
    {
      "cell_type": "code",
      "execution_count": 1,
      "metadata": {
        "colab": {
          "base_uri": "https://localhost:8080/"
        },
        "id": "ytU5xOo-L8f1",
        "outputId": "f9f6429e-549a-4a16-f8ae-cb4f52aed0e9"
      },
      "outputs": [],
      "source": [
        "%matplotlib inline\n",
        "import matplotlib.pylab as plt\n",
        "\n",
        "#import auxiliar functions\n",
        "import os,sys,inspect\n",
        "\n",
        "import pandas as pd\n",
        "import seaborn as sns\n",
        "import numpy as np\n",
        "import ipywidgets\n",
        "import random\n",
        "import time\n",
        "import datetime as dt\n",
        "from dateutil.relativedelta import relativedelta\n",
        "\n",
        "\n",
        "from sklearn.neighbors import KNeighborsClassifier as KNN # Load k-NN from sklearn\n",
        "from sklearn.model_selection import GridSearchCV\n",
        "from sklearn.preprocessing import StandardScaler\n",
        "from imblearn.over_sampling import SMOTE\n",
        "\n",
        "from imblearn.combine import SMOTETomek\n",
        "from imblearn.pipeline import Pipeline\n",
        "from sklearn.svm import LinearSVC\n",
        "from sklearn.feature_selection import SelectFromModel\n",
        "\n",
        "np.random.seed(3123) # impose random seed for reproducibility"
      ]
    },
    {
      "cell_type": "markdown",
      "metadata": {
        "id": "taxA2GPCD3KO"
      },
      "source": [
        "# STRUCTURE OF NOTEBOOK:\n",
        "1) DI_INDEX IMPLEMENTATION\n",
        "\n",
        "2) FEATURE ENGINEERING\n",
        "\n",
        "3) MODEL FITTING / PREDICTING USING PIPELINE"
      ]
    },
    {
      "cell_type": "code",
      "execution_count": 2,
      "metadata": {
        "colab": {
          "base_uri": "https://localhost:8080/"
        },
        "id": "QdKiH9qgLpk5",
        "outputId": "d87db800-b104-4514-e3c3-c00409124fa1"
      },
      "outputs": [
        {
          "name": "stdout",
          "output_type": "stream",
          "text": [
            "/home/dante/CML/computational_machine_learning_1/KNearestNeighbors\n",
            "/home/dante/CML/computational_machine_learning_1/KNearestNeighbors/raw_data\n"
          ]
        }
      ],
      "source": [
        "# Getting folder location\n",
        "fl = os.getcwd()\n",
        "print(fl)\n",
        "# Locating data\n",
        "dl = os.path.join(os.getcwd(),'raw_data')\n",
        "print(dl)\n"
      ]
    },
    {
      "cell_type": "code",
      "execution_count": 3,
      "metadata": {
        "id": "EsZA6hSNLWFs"
      },
      "outputs": [],
      "source": [
        "# Loading training data\n",
        "training = pd.read_csv(os.path.join(dl,'mimic_train.csv'))\n",
        "\n",
        "# Loading test data\n",
        "test = pd.read_csv(os.path.join(dl,'mimic_test_death.csv'))\n",
        "\n",
        "# Loading comorbidities data\n",
        "comorbidities = pd.read_csv(os.path.join(dl,'MIMIC_diagnoses.csv'))\n"
      ]
    },
    {
      "cell_type": "code",
      "execution_count": 4,
      "metadata": {
        "colab": {
          "base_uri": "https://localhost:8080/",
          "height": 313
        },
        "id": "qzJhkyCvCl2Y",
        "outputId": "7e0add2d-4020-4d7c-dff7-245dea4a3b8d"
      },
      "outputs": [
        {
          "data": {
            "text/html": [
              "<div>\n",
              "<style scoped>\n",
              "    .dataframe tbody tr th:only-of-type {\n",
              "        vertical-align: middle;\n",
              "    }\n",
              "\n",
              "    .dataframe tbody tr th {\n",
              "        vertical-align: top;\n",
              "    }\n",
              "\n",
              "    .dataframe thead th {\n",
              "        text-align: right;\n",
              "    }\n",
              "</style>\n",
              "<table border=\"1\" class=\"dataframe\">\n",
              "  <thead>\n",
              "    <tr style=\"text-align: right;\">\n",
              "      <th></th>\n",
              "      <th>HOSPITAL_EXPIRE_FLAG</th>\n",
              "      <th>subject_id</th>\n",
              "      <th>hadm_id</th>\n",
              "      <th>icustay_id</th>\n",
              "      <th>HeartRate_Min</th>\n",
              "      <th>HeartRate_Max</th>\n",
              "      <th>HeartRate_Mean</th>\n",
              "      <th>SysBP_Min</th>\n",
              "      <th>SysBP_Max</th>\n",
              "      <th>SysBP_Mean</th>\n",
              "      <th>...</th>\n",
              "      <th>Diff</th>\n",
              "      <th>ADMISSION_TYPE</th>\n",
              "      <th>INSURANCE</th>\n",
              "      <th>RELIGION</th>\n",
              "      <th>MARITAL_STATUS</th>\n",
              "      <th>ETHNICITY</th>\n",
              "      <th>DIAGNOSIS</th>\n",
              "      <th>ICD9_diagnosis</th>\n",
              "      <th>FIRST_CAREUNIT</th>\n",
              "      <th>LOS</th>\n",
              "    </tr>\n",
              "  </thead>\n",
              "  <tbody>\n",
              "    <tr>\n",
              "      <th>0</th>\n",
              "      <td>0</td>\n",
              "      <td>55440</td>\n",
              "      <td>195768</td>\n",
              "      <td>228357</td>\n",
              "      <td>89.0</td>\n",
              "      <td>145.0</td>\n",
              "      <td>121.043478</td>\n",
              "      <td>74.0</td>\n",
              "      <td>127.0</td>\n",
              "      <td>106.586957</td>\n",
              "      <td>...</td>\n",
              "      <td>-61961.78470</td>\n",
              "      <td>EMERGENCY</td>\n",
              "      <td>Medicare</td>\n",
              "      <td>PROTESTANT QUAKER</td>\n",
              "      <td>SINGLE</td>\n",
              "      <td>WHITE</td>\n",
              "      <td>GASTROINTESTINAL BLEED</td>\n",
              "      <td>5789</td>\n",
              "      <td>MICU</td>\n",
              "      <td>4.5761</td>\n",
              "    </tr>\n",
              "    <tr>\n",
              "      <th>1</th>\n",
              "      <td>0</td>\n",
              "      <td>76908</td>\n",
              "      <td>126136</td>\n",
              "      <td>221004</td>\n",
              "      <td>63.0</td>\n",
              "      <td>110.0</td>\n",
              "      <td>79.117647</td>\n",
              "      <td>89.0</td>\n",
              "      <td>121.0</td>\n",
              "      <td>106.733333</td>\n",
              "      <td>...</td>\n",
              "      <td>-43146.18378</td>\n",
              "      <td>EMERGENCY</td>\n",
              "      <td>Private</td>\n",
              "      <td>UNOBTAINABLE</td>\n",
              "      <td>MARRIED</td>\n",
              "      <td>WHITE</td>\n",
              "      <td>ESOPHAGEAL FOOD IMPACTION</td>\n",
              "      <td>53013</td>\n",
              "      <td>MICU</td>\n",
              "      <td>0.7582</td>\n",
              "    </tr>\n",
              "    <tr>\n",
              "      <th>2</th>\n",
              "      <td>0</td>\n",
              "      <td>95798</td>\n",
              "      <td>136645</td>\n",
              "      <td>296315</td>\n",
              "      <td>81.0</td>\n",
              "      <td>98.0</td>\n",
              "      <td>91.689655</td>\n",
              "      <td>88.0</td>\n",
              "      <td>138.0</td>\n",
              "      <td>112.785714</td>\n",
              "      <td>...</td>\n",
              "      <td>-42009.96157</td>\n",
              "      <td>EMERGENCY</td>\n",
              "      <td>Medicare</td>\n",
              "      <td>PROTESTANT QUAKER</td>\n",
              "      <td>SEPARATED</td>\n",
              "      <td>BLACK/AFRICAN AMERICAN</td>\n",
              "      <td>UPPER GI BLEED</td>\n",
              "      <td>56983</td>\n",
              "      <td>MICU</td>\n",
              "      <td>3.7626</td>\n",
              "    </tr>\n",
              "    <tr>\n",
              "      <th>3</th>\n",
              "      <td>0</td>\n",
              "      <td>40708</td>\n",
              "      <td>102505</td>\n",
              "      <td>245557</td>\n",
              "      <td>76.0</td>\n",
              "      <td>128.0</td>\n",
              "      <td>98.857143</td>\n",
              "      <td>84.0</td>\n",
              "      <td>135.0</td>\n",
              "      <td>106.972973</td>\n",
              "      <td>...</td>\n",
              "      <td>-43585.37922</td>\n",
              "      <td>ELECTIVE</td>\n",
              "      <td>Medicare</td>\n",
              "      <td>NOT SPECIFIED</td>\n",
              "      <td>WIDOWED</td>\n",
              "      <td>WHITE</td>\n",
              "      <td>HIATAL HERNIA/SDA</td>\n",
              "      <td>5533</td>\n",
              "      <td>SICU</td>\n",
              "      <td>3.8734</td>\n",
              "    </tr>\n",
              "    <tr>\n",
              "      <th>4</th>\n",
              "      <td>0</td>\n",
              "      <td>28424</td>\n",
              "      <td>127337</td>\n",
              "      <td>225281</td>\n",
              "      <td>NaN</td>\n",
              "      <td>NaN</td>\n",
              "      <td>NaN</td>\n",
              "      <td>NaN</td>\n",
              "      <td>NaN</td>\n",
              "      <td>NaN</td>\n",
              "      <td>...</td>\n",
              "      <td>-50271.76602</td>\n",
              "      <td>EMERGENCY</td>\n",
              "      <td>Medicare</td>\n",
              "      <td>JEWISH</td>\n",
              "      <td>WIDOWED</td>\n",
              "      <td>WHITE</td>\n",
              "      <td>ABDOMINAL PAIN</td>\n",
              "      <td>56211</td>\n",
              "      <td>TSICU</td>\n",
              "      <td>5.8654</td>\n",
              "    </tr>\n",
              "  </tbody>\n",
              "</table>\n",
              "<p>5 rows × 44 columns</p>\n",
              "</div>"
            ],
            "text/plain": [
              "   HOSPITAL_EXPIRE_FLAG  subject_id  hadm_id  icustay_id  HeartRate_Min  \\\n",
              "0                     0       55440   195768      228357           89.0   \n",
              "1                     0       76908   126136      221004           63.0   \n",
              "2                     0       95798   136645      296315           81.0   \n",
              "3                     0       40708   102505      245557           76.0   \n",
              "4                     0       28424   127337      225281            NaN   \n",
              "\n",
              "   HeartRate_Max  HeartRate_Mean  SysBP_Min  SysBP_Max  SysBP_Mean  ...  \\\n",
              "0          145.0      121.043478       74.0      127.0  106.586957  ...   \n",
              "1          110.0       79.117647       89.0      121.0  106.733333  ...   \n",
              "2           98.0       91.689655       88.0      138.0  112.785714  ...   \n",
              "3          128.0       98.857143       84.0      135.0  106.972973  ...   \n",
              "4            NaN             NaN        NaN        NaN         NaN  ...   \n",
              "\n",
              "          Diff  ADMISSION_TYPE  INSURANCE           RELIGION  MARITAL_STATUS  \\\n",
              "0 -61961.78470       EMERGENCY   Medicare  PROTESTANT QUAKER          SINGLE   \n",
              "1 -43146.18378       EMERGENCY    Private       UNOBTAINABLE         MARRIED   \n",
              "2 -42009.96157       EMERGENCY   Medicare  PROTESTANT QUAKER       SEPARATED   \n",
              "3 -43585.37922        ELECTIVE   Medicare      NOT SPECIFIED         WIDOWED   \n",
              "4 -50271.76602       EMERGENCY   Medicare             JEWISH         WIDOWED   \n",
              "\n",
              "                ETHNICITY                  DIAGNOSIS  ICD9_diagnosis  \\\n",
              "0                   WHITE     GASTROINTESTINAL BLEED            5789   \n",
              "1                   WHITE  ESOPHAGEAL FOOD IMPACTION           53013   \n",
              "2  BLACK/AFRICAN AMERICAN             UPPER GI BLEED           56983   \n",
              "3                   WHITE          HIATAL HERNIA/SDA            5533   \n",
              "4                   WHITE             ABDOMINAL PAIN           56211   \n",
              "\n",
              "   FIRST_CAREUNIT     LOS  \n",
              "0            MICU  4.5761  \n",
              "1            MICU  0.7582  \n",
              "2            MICU  3.7626  \n",
              "3            SICU  3.8734  \n",
              "4           TSICU  5.8654  \n",
              "\n",
              "[5 rows x 44 columns]"
            ]
          },
          "execution_count": 4,
          "metadata": {},
          "output_type": "execute_result"
        }
      ],
      "source": [
        "training.head()"
      ]
    },
    {
      "cell_type": "code",
      "execution_count": 5,
      "metadata": {},
      "outputs": [
        {
          "data": {
            "text/html": [
              "<div>\n",
              "<style scoped>\n",
              "    .dataframe tbody tr th:only-of-type {\n",
              "        vertical-align: middle;\n",
              "    }\n",
              "\n",
              "    .dataframe tbody tr th {\n",
              "        vertical-align: top;\n",
              "    }\n",
              "\n",
              "    .dataframe thead th {\n",
              "        text-align: right;\n",
              "    }\n",
              "</style>\n",
              "<table border=\"1\" class=\"dataframe\">\n",
              "  <thead>\n",
              "    <tr style=\"text-align: right;\">\n",
              "      <th></th>\n",
              "      <th>subject_id</th>\n",
              "      <th>hadm_id</th>\n",
              "      <th>icustay_id</th>\n",
              "      <th>HeartRate_Min</th>\n",
              "      <th>HeartRate_Max</th>\n",
              "      <th>HeartRate_Mean</th>\n",
              "      <th>SysBP_Min</th>\n",
              "      <th>SysBP_Max</th>\n",
              "      <th>SysBP_Mean</th>\n",
              "      <th>DiasBP_Min</th>\n",
              "      <th>...</th>\n",
              "      <th>ADMITTIME</th>\n",
              "      <th>Diff</th>\n",
              "      <th>ADMISSION_TYPE</th>\n",
              "      <th>INSURANCE</th>\n",
              "      <th>RELIGION</th>\n",
              "      <th>MARITAL_STATUS</th>\n",
              "      <th>ETHNICITY</th>\n",
              "      <th>DIAGNOSIS</th>\n",
              "      <th>ICD9_diagnosis</th>\n",
              "      <th>FIRST_CAREUNIT</th>\n",
              "    </tr>\n",
              "  </thead>\n",
              "  <tbody>\n",
              "    <tr>\n",
              "      <th>0</th>\n",
              "      <td>64058</td>\n",
              "      <td>146725</td>\n",
              "      <td>208169</td>\n",
              "      <td>58.0</td>\n",
              "      <td>90.0</td>\n",
              "      <td>85.244898</td>\n",
              "      <td>77.0</td>\n",
              "      <td>153.0</td>\n",
              "      <td>98.490909</td>\n",
              "      <td>40.0</td>\n",
              "      <td>...</td>\n",
              "      <td>2196-02-23 11:45:00</td>\n",
              "      <td>-67454.42740</td>\n",
              "      <td>ELECTIVE</td>\n",
              "      <td>Medicare</td>\n",
              "      <td>CATHOLIC</td>\n",
              "      <td>MARRIED</td>\n",
              "      <td>WHITE</td>\n",
              "      <td>AORTIC STENOSIS\\CORONARY ARTERY BYPASS GRAFT W...</td>\n",
              "      <td>4241</td>\n",
              "      <td>CSRU</td>\n",
              "    </tr>\n",
              "    <tr>\n",
              "      <th>1</th>\n",
              "      <td>55871</td>\n",
              "      <td>108789</td>\n",
              "      <td>251754</td>\n",
              "      <td>91.0</td>\n",
              "      <td>145.0</td>\n",
              "      <td>115.055556</td>\n",
              "      <td>73.0</td>\n",
              "      <td>143.0</td>\n",
              "      <td>101.210526</td>\n",
              "      <td>42.0</td>\n",
              "      <td>...</td>\n",
              "      <td>2103-10-22 23:58:00</td>\n",
              "      <td>-34204.08546</td>\n",
              "      <td>EMERGENCY</td>\n",
              "      <td>Private</td>\n",
              "      <td>NOT SPECIFIED</td>\n",
              "      <td>MARRIED</td>\n",
              "      <td>WHITE</td>\n",
              "      <td>HYPERGLYCEMIA</td>\n",
              "      <td>25013</td>\n",
              "      <td>MICU</td>\n",
              "    </tr>\n",
              "    <tr>\n",
              "      <th>2</th>\n",
              "      <td>42892</td>\n",
              "      <td>139885</td>\n",
              "      <td>242171</td>\n",
              "      <td>106.0</td>\n",
              "      <td>132.0</td>\n",
              "      <td>117.750000</td>\n",
              "      <td>93.0</td>\n",
              "      <td>137.0</td>\n",
              "      <td>116.222222</td>\n",
              "      <td>51.0</td>\n",
              "      <td>...</td>\n",
              "      <td>2115-06-28 07:15:00</td>\n",
              "      <td>-38710.61714</td>\n",
              "      <td>ELECTIVE</td>\n",
              "      <td>Medicare</td>\n",
              "      <td>CATHOLIC</td>\n",
              "      <td>MARRIED</td>\n",
              "      <td>WHITE</td>\n",
              "      <td>KIDNEY STONES/SDA</td>\n",
              "      <td>5920</td>\n",
              "      <td>MICU</td>\n",
              "    </tr>\n",
              "    <tr>\n",
              "      <th>3</th>\n",
              "      <td>66629</td>\n",
              "      <td>173017</td>\n",
              "      <td>263035</td>\n",
              "      <td>72.0</td>\n",
              "      <td>105.0</td>\n",
              "      <td>83.627119</td>\n",
              "      <td>72.0</td>\n",
              "      <td>168.0</td>\n",
              "      <td>126.981818</td>\n",
              "      <td>39.0</td>\n",
              "      <td>...</td>\n",
              "      <td>2162-08-01 21:00:00</td>\n",
              "      <td>-54902.54313</td>\n",
              "      <td>EMERGENCY</td>\n",
              "      <td>Private</td>\n",
              "      <td>EPISCOPALIAN</td>\n",
              "      <td>WIDOWED</td>\n",
              "      <td>WHITE</td>\n",
              "      <td>RIGHT FEMUR FRACTURE</td>\n",
              "      <td>82120</td>\n",
              "      <td>CCU</td>\n",
              "    </tr>\n",
              "    <tr>\n",
              "      <th>4</th>\n",
              "      <td>79851</td>\n",
              "      <td>171573</td>\n",
              "      <td>279388</td>\n",
              "      <td>85.0</td>\n",
              "      <td>124.0</td>\n",
              "      <td>98.600000</td>\n",
              "      <td>86.0</td>\n",
              "      <td>144.0</td>\n",
              "      <td>110.666667</td>\n",
              "      <td>52.0</td>\n",
              "      <td>...</td>\n",
              "      <td>2103-01-16 22:05:00</td>\n",
              "      <td>-33906.93488</td>\n",
              "      <td>EMERGENCY</td>\n",
              "      <td>Medicare</td>\n",
              "      <td>CATHOLIC</td>\n",
              "      <td>SINGLE</td>\n",
              "      <td>WHITE</td>\n",
              "      <td>PNEUMONIA;RAPID AF;HYPOXIA</td>\n",
              "      <td>51884</td>\n",
              "      <td>MICU</td>\n",
              "    </tr>\n",
              "  </tbody>\n",
              "</table>\n",
              "<p>5 rows × 39 columns</p>\n",
              "</div>"
            ],
            "text/plain": [
              "   subject_id  hadm_id  icustay_id  HeartRate_Min  HeartRate_Max  \\\n",
              "0       64058   146725      208169           58.0           90.0   \n",
              "1       55871   108789      251754           91.0          145.0   \n",
              "2       42892   139885      242171          106.0          132.0   \n",
              "3       66629   173017      263035           72.0          105.0   \n",
              "4       79851   171573      279388           85.0          124.0   \n",
              "\n",
              "   HeartRate_Mean  SysBP_Min  SysBP_Max  SysBP_Mean  DiasBP_Min  ...  \\\n",
              "0       85.244898       77.0      153.0   98.490909        40.0  ...   \n",
              "1      115.055556       73.0      143.0  101.210526        42.0  ...   \n",
              "2      117.750000       93.0      137.0  116.222222        51.0  ...   \n",
              "3       83.627119       72.0      168.0  126.981818        39.0  ...   \n",
              "4       98.600000       86.0      144.0  110.666667        52.0  ...   \n",
              "\n",
              "             ADMITTIME         Diff  ADMISSION_TYPE  INSURANCE       RELIGION  \\\n",
              "0  2196-02-23 11:45:00 -67454.42740        ELECTIVE   Medicare       CATHOLIC   \n",
              "1  2103-10-22 23:58:00 -34204.08546       EMERGENCY    Private  NOT SPECIFIED   \n",
              "2  2115-06-28 07:15:00 -38710.61714        ELECTIVE   Medicare       CATHOLIC   \n",
              "3  2162-08-01 21:00:00 -54902.54313       EMERGENCY    Private   EPISCOPALIAN   \n",
              "4  2103-01-16 22:05:00 -33906.93488       EMERGENCY   Medicare       CATHOLIC   \n",
              "\n",
              "   MARITAL_STATUS  ETHNICITY  \\\n",
              "0         MARRIED      WHITE   \n",
              "1         MARRIED      WHITE   \n",
              "2         MARRIED      WHITE   \n",
              "3         WIDOWED      WHITE   \n",
              "4          SINGLE      WHITE   \n",
              "\n",
              "                                           DIAGNOSIS  ICD9_diagnosis  \\\n",
              "0  AORTIC STENOSIS\\CORONARY ARTERY BYPASS GRAFT W...            4241   \n",
              "1                                      HYPERGLYCEMIA           25013   \n",
              "2                                  KIDNEY STONES/SDA            5920   \n",
              "3                               RIGHT FEMUR FRACTURE           82120   \n",
              "4                         PNEUMONIA;RAPID AF;HYPOXIA           51884   \n",
              "\n",
              "   FIRST_CAREUNIT  \n",
              "0            CSRU  \n",
              "1            MICU  \n",
              "2            MICU  \n",
              "3             CCU  \n",
              "4            MICU  \n",
              "\n",
              "[5 rows x 39 columns]"
            ]
          },
          "execution_count": 5,
          "metadata": {},
          "output_type": "execute_result"
        }
      ],
      "source": [
        "test.head()"
      ]
    },
    {
      "cell_type": "code",
      "execution_count": 6,
      "metadata": {
        "colab": {
          "base_uri": "https://localhost:8080/",
          "height": 520
        },
        "id": "6cK25zhTCXo8",
        "outputId": "5cfed5f5-e12f-44b9-a0a2-db7eba7efc06"
      },
      "outputs": [
        {
          "data": {
            "text/html": [
              "<div>\n",
              "<style scoped>\n",
              "    .dataframe tbody tr th:only-of-type {\n",
              "        vertical-align: middle;\n",
              "    }\n",
              "\n",
              "    .dataframe tbody tr th {\n",
              "        vertical-align: top;\n",
              "    }\n",
              "\n",
              "    .dataframe thead th {\n",
              "        text-align: right;\n",
              "    }\n",
              "</style>\n",
              "<table border=\"1\" class=\"dataframe\">\n",
              "  <thead>\n",
              "    <tr style=\"text-align: right;\">\n",
              "      <th></th>\n",
              "      <th>SUBJECT_ID</th>\n",
              "      <th>HADM_ID</th>\n",
              "      <th>SEQ_NUM</th>\n",
              "      <th>ICD9_CODE</th>\n",
              "    </tr>\n",
              "  </thead>\n",
              "  <tbody>\n",
              "    <tr>\n",
              "      <th>0</th>\n",
              "      <td>256</td>\n",
              "      <td>108811</td>\n",
              "      <td>1.0</td>\n",
              "      <td>53240</td>\n",
              "    </tr>\n",
              "    <tr>\n",
              "      <th>1</th>\n",
              "      <td>256</td>\n",
              "      <td>108811</td>\n",
              "      <td>2.0</td>\n",
              "      <td>41071</td>\n",
              "    </tr>\n",
              "    <tr>\n",
              "      <th>2</th>\n",
              "      <td>256</td>\n",
              "      <td>108811</td>\n",
              "      <td>3.0</td>\n",
              "      <td>53560</td>\n",
              "    </tr>\n",
              "    <tr>\n",
              "      <th>3</th>\n",
              "      <td>256</td>\n",
              "      <td>108811</td>\n",
              "      <td>4.0</td>\n",
              "      <td>40390</td>\n",
              "    </tr>\n",
              "    <tr>\n",
              "      <th>4</th>\n",
              "      <td>256</td>\n",
              "      <td>108811</td>\n",
              "      <td>5.0</td>\n",
              "      <td>5859</td>\n",
              "    </tr>\n",
              "  </tbody>\n",
              "</table>\n",
              "</div>"
            ],
            "text/plain": [
              "   SUBJECT_ID  HADM_ID  SEQ_NUM ICD9_CODE\n",
              "0         256   108811      1.0     53240\n",
              "1         256   108811      2.0     41071\n",
              "2         256   108811      3.0     53560\n",
              "3         256   108811      4.0     40390\n",
              "4         256   108811      5.0      5859"
            ]
          },
          "execution_count": 6,
          "metadata": {},
          "output_type": "execute_result"
        }
      ],
      "source": [
        "comorbidities.head(5)"
      ]
    },
    {
      "cell_type": "code",
      "execution_count": 7,
      "metadata": {
        "colab": {
          "base_uri": "https://localhost:8080/"
        },
        "id": "J71-OtoXpnNV",
        "outputId": "f660a537-0810-4d16-eba9-c82f1d891947"
      },
      "outputs": [
        {
          "name": "stdout",
          "output_type": "stream",
          "text": [
            "Index(['HOSPITAL_EXPIRE_FLAG', 'subject_id', 'hadm_id', 'icustay_id',\n",
            "       'HeartRate_Min', 'HeartRate_Max', 'HeartRate_Mean', 'SysBP_Min',\n",
            "       'SysBP_Max', 'SysBP_Mean', 'DiasBP_Min', 'DiasBP_Max', 'DiasBP_Mean',\n",
            "       'MeanBP_Min', 'MeanBP_Max', 'MeanBP_Mean', 'RespRate_Min',\n",
            "       'RespRate_Max', 'RespRate_Mean', 'TempC_Min', 'TempC_Max', 'TempC_Mean',\n",
            "       'SpO2_Min', 'SpO2_Max', 'SpO2_Mean', 'Glucose_Min', 'Glucose_Max',\n",
            "       'Glucose_Mean', 'GENDER', 'DOB', 'DOD', 'ADMITTIME', 'DISCHTIME',\n",
            "       'DEATHTIME', 'Diff', 'ADMISSION_TYPE', 'INSURANCE', 'RELIGION',\n",
            "       'MARITAL_STATUS', 'ETHNICITY', 'DIAGNOSIS', 'ICD9_diagnosis',\n",
            "       'FIRST_CAREUNIT', 'LOS'],\n",
            "      dtype='object')\n",
            "Index(['subject_id', 'hadm_id', 'icustay_id', 'HeartRate_Min', 'HeartRate_Max',\n",
            "       'HeartRate_Mean', 'SysBP_Min', 'SysBP_Max', 'SysBP_Mean', 'DiasBP_Min',\n",
            "       'DiasBP_Max', 'DiasBP_Mean', 'MeanBP_Min', 'MeanBP_Max', 'MeanBP_Mean',\n",
            "       'RespRate_Min', 'RespRate_Max', 'RespRate_Mean', 'TempC_Min',\n",
            "       'TempC_Max', 'TempC_Mean', 'SpO2_Min', 'SpO2_Max', 'SpO2_Mean',\n",
            "       'Glucose_Min', 'Glucose_Max', 'Glucose_Mean', 'GENDER', 'DOB',\n",
            "       'ADMITTIME', 'Diff', 'ADMISSION_TYPE', 'INSURANCE', 'RELIGION',\n",
            "       'MARITAL_STATUS', 'ETHNICITY', 'DIAGNOSIS', 'ICD9_diagnosis',\n",
            "       'FIRST_CAREUNIT'],\n",
            "      dtype='object')\n",
            "Index(['SUBJECT_ID', 'HADM_ID', 'SEQ_NUM', 'ICD9_CODE'], dtype='object')\n"
          ]
        }
      ],
      "source": [
        "# Checking variables available\n",
        "print(training.columns)\n",
        "print(test.columns)\n",
        "print(comorbidities.columns)"
      ]
    },
    {
      "cell_type": "markdown",
      "metadata": {
        "id": "EZanfjX9Tcu0"
      },
      "source": [
        "## DI_INDEX IMPLEMENTATION"
      ]
    },
    {
      "cell_type": "markdown",
      "metadata": {
        "id": "IXqOEl7SHm5-"
      },
      "source": [
        "The Dante's inferno index will be based on the following intuition (basically target encoding).\n",
        "\n",
        "a) having a certain ICD9 diagnosis has a potentially negative impact on the probability of survival in the ICU for a given patient.\n",
        "\n",
        "b) having multiple ICD9 diagnoses has an arguably larger negative impact on the probability of survival in the ICU for a given patient.\n",
        "\n",
        "To construct an index that takes this into account, I will perform the feature engineering/manipulation below:\n",
        "\n",
        "1. Calculate the proportion of people that die in the ICU for all ICD9_diagnosis categories.\n",
        "\n",
        "2. Spread out this proportion to the co-morbidities data (per comorbidity, how many people die, on average according to training data)\n",
        "\n",
        "3. Sum the proportions by hadm_id (hospital admission id) in the co-morbidities data (*sumprop*).\n",
        "\n",
        "4. Join this to the test and training data. Call this <font color='blue'> di_index</font>.\n",
        "\n",
        "In essence, this 'index' could account for the 'additive strain' nature of having multiple ICD9 diagnoses at the same time.\n",
        "\n",
        "**N.B!** I am not claiming that the Dante's inferno index is by any means perfect... For some diseases, we have very little data (aka potential noise)...\n",
        "\n",
        "**P.S!** I tried to join the whole comorbidities dataset available in dummy form, on which I would then have cut down using featureselection (linearsvc), but at one stage in the process when performing a groupby, the kernel crashes. This happened for both the colab notebook and on my own pc. This would have been far better than the di_index, but c'est la vie!!\n",
        "\n",
        "**P.P.S!** Another obvious problem with this approach is that the di_index places the same weight for the 'probability of dying in the ICU' regardless of how many cases there are per disease provided that the ratio of deaths to survivals is the same. So for example, if pneumonia killed 500 people and another 500 survived the disease, then the di_index says the probability of dying from pneumonia is essentially the same as dying from another disease for which we only have 2 data points, one who survived and one who died..."
      ]
    },
    {
      "cell_type": "code",
      "execution_count": 8,
      "metadata": {
        "colab": {
          "base_uri": "https://localhost:8080/"
        },
        "id": "2qH2EvVL0tJE",
        "outputId": "decbeb76-97c6-4f62-cc6a-8a283169cd1a"
      },
      "outputs": [
        {
          "name": "stdout",
          "output_type": "stream",
          "text": [
            "HOSPITAL_EXPIRE_FLAG      0      1  di_index ICD9_CODE\n",
            "ICD9_diagnosis                                        \n",
            "0389                  683.0  289.0  0.297325      0389\n",
            "431                   308.0  107.0  0.257831       431\n",
            "51881                 308.0   83.0  0.212276     51881\n",
            "430                   181.0   42.0  0.188341       430\n",
            "486                   272.0   40.0  0.128205       486\n"
          ]
        }
      ],
      "source": [
        "# Getting the number of people that died and didn't die, per ICD9 diagnosis in the training data\n",
        "death_preds = pd.DataFrame(pd.pivot_table(training, index = 'HOSPITAL_EXPIRE_FLAG', columns = 'ICD9_diagnosis', values = 'Glucose_Max', aggfunc = 'count').T)\n",
        "\n",
        "# Filling NaNs with zeroes (could change this)\n",
        "death_preds[0] = death_preds[0].fillna(0)\n",
        "death_preds[1] = death_preds[1].fillna(0)\n",
        "\n",
        "# Calculating proportion of people that died per disease\n",
        "death_preds['di_index'] = death_preds[1] / (death_preds[0] + death_preds[1])\n",
        "\n",
        "# Sorting to view the deadliest diseases according to data\n",
        "death_preds = death_preds.sort_values(axis=0,by=1,ascending=False)\n",
        "\n",
        "# Casting ICD9_diagnosis as string\n",
        "death_preds['ICD9_CODE'] = death_preds.index.astype('str')\n",
        "\n",
        "# Inspecting visually\n",
        "print(death_preds.head())"
      ]
    },
    {
      "cell_type": "code",
      "execution_count": 9,
      "metadata": {
        "id": "LfFCr5IFi3VK"
      },
      "outputs": [],
      "source": [
        "# Here, we spread out the DI_index to the comorbidities data, and sum by hospitalization admission id\n",
        "# i.e. unique hospital stay\n",
        "comorbidities_merged=comorbidities.merge(death_preds[['ICD9_CODE','di_index']],how='left',on='ICD9_CODE')"
      ]
    },
    {
      "cell_type": "code",
      "execution_count": 10,
      "metadata": {
        "id": "y2V2q1mkkac2"
      },
      "outputs": [],
      "source": [
        "# There will most probably be a lot of ICD9_CODEs in the \n",
        "# comorbidities data that we do not have training data/deadliness on..\n",
        "#\n",
        "# Therefore, we will have to fill NaN's with zeroes...\n",
        "#\n",
        "# In this case, I am treating missing information as truly missing, which \n",
        "# might not be the most elegant solution, but c'est la vie...\n",
        "comorbidities_merged['di_index'] = comorbidities_merged['di_index'].fillna(0)\n",
        "\n",
        "# Next, we need to aggregate based on hadm_id...\n",
        "comorbidities_merged.drop(columns=['SEQ_NUM','SUBJECT_ID'],inplace=True)\n",
        "comorbidities_merged.head()\n",
        "\n",
        "# Summing up the di_index by hadm_id, for matching with training and test data purposes...\n",
        "death_indexes = comorbidities_merged.groupby(['HADM_ID']).sum()\n",
        "\n",
        "# Creating a new column for the hadm_id..\n",
        "death_indexes['hadm_id'] = death_indexes.index.astype('str')"
      ]
    },
    {
      "cell_type": "code",
      "execution_count": 11,
      "metadata": {
        "colab": {
          "base_uri": "https://localhost:8080/",
          "height": 472
        },
        "id": "QxyILvc9mham",
        "outputId": "77350409-63f0-4cf7-8422-191e344b97e0"
      },
      "outputs": [
        {
          "name": "stdout",
          "output_type": "stream",
          "text": [
            "count    58976.000000\n",
            "mean         0.572430\n",
            "std          0.623321\n",
            "min          0.000000\n",
            "25%          0.096154\n",
            "50%          0.378904\n",
            "75%          0.834082\n",
            "max          5.793390\n",
            "Name: di_index, dtype: float64\n"
          ]
        },
        {
          "data": {
            "text/plain": [
              "array([[<matplotlib.axes._subplots.AxesSubplot object at 0x7fe962516a00>]],\n",
              "      dtype=object)"
            ]
          },
          "execution_count": 11,
          "metadata": {},
          "output_type": "execute_result"
        },
        {
          "data": {
            "image/png": "[encoded data removed]",
            "text/plain": [
              "<Figure size 432x288 with 1 Axes>"
            ]
          },
          "metadata": {
            "needs_background": "light"
          },
          "output_type": "display_data"
        }
      ],
      "source": [
        "# Looking at the distribution of DI_Index across the comorbidities set.. \n",
        "print(death_indexes.di_index.describe())\n",
        "death_indexes.hist(column='di_index')\n",
        "\n",
        "# Seems like there is meaningful variation in the data!!!"
      ]
    },
    {
      "cell_type": "code",
      "execution_count": 12,
      "metadata": {},
      "outputs": [
        {
          "data": {
            "text/html": [
              "<div>\n",
              "<style scoped>\n",
              "    .dataframe tbody tr th:only-of-type {\n",
              "        vertical-align: middle;\n",
              "    }\n",
              "\n",
              "    .dataframe tbody tr th {\n",
              "        vertical-align: top;\n",
              "    }\n",
              "\n",
              "    .dataframe thead th {\n",
              "        text-align: right;\n",
              "    }\n",
              "</style>\n",
              "<table border=\"1\" class=\"dataframe\">\n",
              "  <thead>\n",
              "    <tr style=\"text-align: right;\">\n",
              "      <th></th>\n",
              "      <th>di_index</th>\n",
              "      <th>hadm_id</th>\n",
              "    </tr>\n",
              "    <tr>\n",
              "      <th>HADM_ID</th>\n",
              "      <th></th>\n",
              "      <th></th>\n",
              "    </tr>\n",
              "  </thead>\n",
              "  <tbody>\n",
              "    <tr>\n",
              "      <th>100001</th>\n",
              "      <td>0.256886</td>\n",
              "      <td>100001</td>\n",
              "    </tr>\n",
              "    <tr>\n",
              "      <th>100003</th>\n",
              "      <td>0.578856</td>\n",
              "      <td>100003</td>\n",
              "    </tr>\n",
              "    <tr>\n",
              "      <th>100006</th>\n",
              "      <td>1.397467</td>\n",
              "      <td>100006</td>\n",
              "    </tr>\n",
              "    <tr>\n",
              "      <th>100007</th>\n",
              "      <td>0.988205</td>\n",
              "      <td>100007</td>\n",
              "    </tr>\n",
              "    <tr>\n",
              "      <th>100009</th>\n",
              "      <td>0.008227</td>\n",
              "      <td>100009</td>\n",
              "    </tr>\n",
              "  </tbody>\n",
              "</table>\n",
              "</div>"
            ],
            "text/plain": [
              "         di_index hadm_id\n",
              "HADM_ID                  \n",
              "100001   0.256886  100001\n",
              "100003   0.578856  100003\n",
              "100006   1.397467  100006\n",
              "100007   0.988205  100007\n",
              "100009   0.008227  100009"
            ]
          },
          "execution_count": 12,
          "metadata": {},
          "output_type": "execute_result"
        }
      ],
      "source": [
        "death_indexes.head()"
      ]
    },
    {
      "cell_type": "code",
      "execution_count": 13,
      "metadata": {
        "id": "AKmkRctfpXjx"
      },
      "outputs": [],
      "source": [
        "# Re-indexing dataframe\n",
        "death_indexes.reset_index(inplace=True,drop=True)\n",
        "death_indexes['hadm_id'] = death_indexes['hadm_id'].astype('int')"
      ]
    },
    {
      "cell_type": "code",
      "execution_count": 14,
      "metadata": {
        "colab": {
          "base_uri": "https://localhost:8080/",
          "height": 206
        },
        "id": "SNFc--n-quwy",
        "outputId": "25e3e3d4-7b68-4509-8a9f-c64a98022259"
      },
      "outputs": [
        {
          "data": {
            "text/html": [
              "<div>\n",
              "<style scoped>\n",
              "    .dataframe tbody tr th:only-of-type {\n",
              "        vertical-align: middle;\n",
              "    }\n",
              "\n",
              "    .dataframe tbody tr th {\n",
              "        vertical-align: top;\n",
              "    }\n",
              "\n",
              "    .dataframe thead th {\n",
              "        text-align: right;\n",
              "    }\n",
              "</style>\n",
              "<table border=\"1\" class=\"dataframe\">\n",
              "  <thead>\n",
              "    <tr style=\"text-align: right;\">\n",
              "      <th></th>\n",
              "      <th>di_index</th>\n",
              "      <th>hadm_id</th>\n",
              "    </tr>\n",
              "  </thead>\n",
              "  <tbody>\n",
              "    <tr>\n",
              "      <th>0</th>\n",
              "      <td>0.256886</td>\n",
              "      <td>100001</td>\n",
              "    </tr>\n",
              "    <tr>\n",
              "      <th>1</th>\n",
              "      <td>0.578856</td>\n",
              "      <td>100003</td>\n",
              "    </tr>\n",
              "    <tr>\n",
              "      <th>2</th>\n",
              "      <td>1.397467</td>\n",
              "      <td>100006</td>\n",
              "    </tr>\n",
              "    <tr>\n",
              "      <th>3</th>\n",
              "      <td>0.988205</td>\n",
              "      <td>100007</td>\n",
              "    </tr>\n",
              "    <tr>\n",
              "      <th>4</th>\n",
              "      <td>0.008227</td>\n",
              "      <td>100009</td>\n",
              "    </tr>\n",
              "  </tbody>\n",
              "</table>\n",
              "</div>"
            ],
            "text/plain": [
              "   di_index  hadm_id\n",
              "0  0.256886   100001\n",
              "1  0.578856   100003\n",
              "2  1.397467   100006\n",
              "3  0.988205   100007\n",
              "4  0.008227   100009"
            ]
          },
          "execution_count": 14,
          "metadata": {},
          "output_type": "execute_result"
        }
      ],
      "source": [
        "# What we have below is the di_index ready to be merged into both the training and test data...\n",
        "death_indexes.head()"
      ]
    },
    {
      "cell_type": "code",
      "execution_count": 15,
      "metadata": {
        "id": "hZFql4r-swCx"
      },
      "outputs": [
        {
          "data": {
            "text/html": [
              "<div>\n",
              "<style scoped>\n",
              "    .dataframe tbody tr th:only-of-type {\n",
              "        vertical-align: middle;\n",
              "    }\n",
              "\n",
              "    .dataframe tbody tr th {\n",
              "        vertical-align: top;\n",
              "    }\n",
              "\n",
              "    .dataframe thead th {\n",
              "        text-align: right;\n",
              "    }\n",
              "</style>\n",
              "<table border=\"1\" class=\"dataframe\">\n",
              "  <thead>\n",
              "    <tr style=\"text-align: right;\">\n",
              "      <th>HOSPITAL_EXPIRE_FLAG</th>\n",
              "      <th>0</th>\n",
              "      <th>1</th>\n",
              "      <th>di_index_main</th>\n",
              "      <th>ICD9_CODE</th>\n",
              "    </tr>\n",
              "    <tr>\n",
              "      <th>ICD9_diagnosis</th>\n",
              "      <th></th>\n",
              "      <th></th>\n",
              "      <th></th>\n",
              "      <th></th>\n",
              "    </tr>\n",
              "  </thead>\n",
              "  <tbody>\n",
              "    <tr>\n",
              "      <th>0389</th>\n",
              "      <td>683.0</td>\n",
              "      <td>289.0</td>\n",
              "      <td>0.297325</td>\n",
              "      <td>0389</td>\n",
              "    </tr>\n",
              "    <tr>\n",
              "      <th>431</th>\n",
              "      <td>308.0</td>\n",
              "      <td>107.0</td>\n",
              "      <td>0.257831</td>\n",
              "      <td>431</td>\n",
              "    </tr>\n",
              "    <tr>\n",
              "      <th>51881</th>\n",
              "      <td>308.0</td>\n",
              "      <td>83.0</td>\n",
              "      <td>0.212276</td>\n",
              "      <td>51881</td>\n",
              "    </tr>\n",
              "    <tr>\n",
              "      <th>430</th>\n",
              "      <td>181.0</td>\n",
              "      <td>42.0</td>\n",
              "      <td>0.188341</td>\n",
              "      <td>430</td>\n",
              "    </tr>\n",
              "    <tr>\n",
              "      <th>486</th>\n",
              "      <td>272.0</td>\n",
              "      <td>40.0</td>\n",
              "      <td>0.128205</td>\n",
              "      <td>486</td>\n",
              "    </tr>\n",
              "  </tbody>\n",
              "</table>\n",
              "</div>"
            ],
            "text/plain": [
              "HOSPITAL_EXPIRE_FLAG      0      1  di_index_main ICD9_CODE\n",
              "ICD9_diagnosis                                             \n",
              "0389                  683.0  289.0       0.297325      0389\n",
              "431                   308.0  107.0       0.257831       431\n",
              "51881                 308.0   83.0       0.212276     51881\n",
              "430                   181.0   42.0       0.188341       430\n",
              "486                   272.0   40.0       0.128205       486"
            ]
          },
          "execution_count": 15,
          "metadata": {},
          "output_type": "execute_result"
        }
      ],
      "source": [
        "# Creating a copy of the earlier death predictions data frame with\n",
        "# hospital expiry 0 | hospital_expiry 1 | di_index | ICD9_CODE\n",
        "death_preds_c = death_preds.copy()\n",
        "death_preds_c.rename(columns = {'di_index' : 'di_index_main'},inplace=True)\n",
        "death_preds_c.head()"
      ]
    },
    {
      "cell_type": "markdown",
      "metadata": {},
      "source": [
        "### Merging di_index into training data"
      ]
    },
    {
      "cell_type": "code",
      "execution_count": 16,
      "metadata": {
        "id": "kihIyQneJV4F"
      },
      "outputs": [
        {
          "name": "stdout",
          "output_type": "stream",
          "text": [
            "False    20885\n",
            "Name: di_index, dtype: int64\n"
          ]
        },
        {
          "name": "stderr",
          "output_type": "stream",
          "text": [
            "/tmp/ipykernel_13146/2848953659.py:11: FutureWarning: In a future version of pandas all arguments of DataFrame.drop except for the argument 'labels' will be keyword-only\n",
            "  training_merged.drop(['di_index_main'],1,inplace=True)\n"
          ]
        },
        {
          "data": {
            "text/html": [
              "<div>\n",
              "<style scoped>\n",
              "    .dataframe tbody tr th:only-of-type {\n",
              "        vertical-align: middle;\n",
              "    }\n",
              "\n",
              "    .dataframe tbody tr th {\n",
              "        vertical-align: top;\n",
              "    }\n",
              "\n",
              "    .dataframe thead th {\n",
              "        text-align: right;\n",
              "    }\n",
              "</style>\n",
              "<table border=\"1\" class=\"dataframe\">\n",
              "  <thead>\n",
              "    <tr style=\"text-align: right;\">\n",
              "      <th></th>\n",
              "      <th>HOSPITAL_EXPIRE_FLAG</th>\n",
              "      <th>subject_id</th>\n",
              "      <th>hadm_id</th>\n",
              "      <th>icustay_id</th>\n",
              "      <th>HeartRate_Min</th>\n",
              "      <th>HeartRate_Max</th>\n",
              "      <th>HeartRate_Mean</th>\n",
              "      <th>SysBP_Min</th>\n",
              "      <th>SysBP_Max</th>\n",
              "      <th>SysBP_Mean</th>\n",
              "      <th>...</th>\n",
              "      <th>ADMISSION_TYPE</th>\n",
              "      <th>INSURANCE</th>\n",
              "      <th>RELIGION</th>\n",
              "      <th>MARITAL_STATUS</th>\n",
              "      <th>ETHNICITY</th>\n",
              "      <th>DIAGNOSIS</th>\n",
              "      <th>ICD9_CODE</th>\n",
              "      <th>FIRST_CAREUNIT</th>\n",
              "      <th>LOS</th>\n",
              "      <th>di_index</th>\n",
              "    </tr>\n",
              "  </thead>\n",
              "  <tbody>\n",
              "    <tr>\n",
              "      <th>0</th>\n",
              "      <td>0</td>\n",
              "      <td>55440</td>\n",
              "      <td>195768</td>\n",
              "      <td>228357</td>\n",
              "      <td>89.0</td>\n",
              "      <td>145.0</td>\n",
              "      <td>121.043478</td>\n",
              "      <td>74.0</td>\n",
              "      <td>127.0</td>\n",
              "      <td>106.586957</td>\n",
              "      <td>...</td>\n",
              "      <td>EMERGENCY</td>\n",
              "      <td>Medicare</td>\n",
              "      <td>PROTESTANT QUAKER</td>\n",
              "      <td>SINGLE</td>\n",
              "      <td>WHITE</td>\n",
              "      <td>GASTROINTESTINAL BLEED</td>\n",
              "      <td>5789</td>\n",
              "      <td>MICU</td>\n",
              "      <td>4.5761</td>\n",
              "      <td>0.852726</td>\n",
              "    </tr>\n",
              "    <tr>\n",
              "      <th>1</th>\n",
              "      <td>0</td>\n",
              "      <td>76908</td>\n",
              "      <td>126136</td>\n",
              "      <td>221004</td>\n",
              "      <td>63.0</td>\n",
              "      <td>110.0</td>\n",
              "      <td>79.117647</td>\n",
              "      <td>89.0</td>\n",
              "      <td>121.0</td>\n",
              "      <td>106.733333</td>\n",
              "      <td>...</td>\n",
              "      <td>EMERGENCY</td>\n",
              "      <td>Private</td>\n",
              "      <td>UNOBTAINABLE</td>\n",
              "      <td>MARRIED</td>\n",
              "      <td>WHITE</td>\n",
              "      <td>ESOPHAGEAL FOOD IMPACTION</td>\n",
              "      <td>53013</td>\n",
              "      <td>MICU</td>\n",
              "      <td>0.7582</td>\n",
              "      <td>0.000000</td>\n",
              "    </tr>\n",
              "    <tr>\n",
              "      <th>2</th>\n",
              "      <td>0</td>\n",
              "      <td>95798</td>\n",
              "      <td>136645</td>\n",
              "      <td>296315</td>\n",
              "      <td>81.0</td>\n",
              "      <td>98.0</td>\n",
              "      <td>91.689655</td>\n",
              "      <td>88.0</td>\n",
              "      <td>138.0</td>\n",
              "      <td>112.785714</td>\n",
              "      <td>...</td>\n",
              "      <td>EMERGENCY</td>\n",
              "      <td>Medicare</td>\n",
              "      <td>PROTESTANT QUAKER</td>\n",
              "      <td>SEPARATED</td>\n",
              "      <td>BLACK/AFRICAN AMERICAN</td>\n",
              "      <td>UPPER GI BLEED</td>\n",
              "      <td>56983</td>\n",
              "      <td>MICU</td>\n",
              "      <td>3.7626</td>\n",
              "      <td>1.199769</td>\n",
              "    </tr>\n",
              "    <tr>\n",
              "      <th>3</th>\n",
              "      <td>0</td>\n",
              "      <td>40708</td>\n",
              "      <td>102505</td>\n",
              "      <td>245557</td>\n",
              "      <td>76.0</td>\n",
              "      <td>128.0</td>\n",
              "      <td>98.857143</td>\n",
              "      <td>84.0</td>\n",
              "      <td>135.0</td>\n",
              "      <td>106.972973</td>\n",
              "      <td>...</td>\n",
              "      <td>ELECTIVE</td>\n",
              "      <td>Medicare</td>\n",
              "      <td>NOT SPECIFIED</td>\n",
              "      <td>WIDOWED</td>\n",
              "      <td>WHITE</td>\n",
              "      <td>HIATAL HERNIA/SDA</td>\n",
              "      <td>5533</td>\n",
              "      <td>SICU</td>\n",
              "      <td>3.8734</td>\n",
              "      <td>0.776220</td>\n",
              "    </tr>\n",
              "    <tr>\n",
              "      <th>4</th>\n",
              "      <td>0</td>\n",
              "      <td>28424</td>\n",
              "      <td>127337</td>\n",
              "      <td>225281</td>\n",
              "      <td>NaN</td>\n",
              "      <td>NaN</td>\n",
              "      <td>NaN</td>\n",
              "      <td>NaN</td>\n",
              "      <td>NaN</td>\n",
              "      <td>NaN</td>\n",
              "      <td>...</td>\n",
              "      <td>EMERGENCY</td>\n",
              "      <td>Medicare</td>\n",
              "      <td>JEWISH</td>\n",
              "      <td>WIDOWED</td>\n",
              "      <td>WHITE</td>\n",
              "      <td>ABDOMINAL PAIN</td>\n",
              "      <td>56211</td>\n",
              "      <td>TSICU</td>\n",
              "      <td>5.8654</td>\n",
              "      <td>1.211302</td>\n",
              "    </tr>\n",
              "  </tbody>\n",
              "</table>\n",
              "<p>5 rows × 45 columns</p>\n",
              "</div>"
            ],
            "text/plain": [
              "   HOSPITAL_EXPIRE_FLAG  subject_id  hadm_id  icustay_id  HeartRate_Min  \\\n",
              "0                     0       55440   195768      228357           89.0   \n",
              "1                     0       76908   126136      221004           63.0   \n",
              "2                     0       95798   136645      296315           81.0   \n",
              "3                     0       40708   102505      245557           76.0   \n",
              "4                     0       28424   127337      225281            NaN   \n",
              "\n",
              "   HeartRate_Max  HeartRate_Mean  SysBP_Min  SysBP_Max  SysBP_Mean  ...  \\\n",
              "0          145.0      121.043478       74.0      127.0  106.586957  ...   \n",
              "1          110.0       79.117647       89.0      121.0  106.733333  ...   \n",
              "2           98.0       91.689655       88.0      138.0  112.785714  ...   \n",
              "3          128.0       98.857143       84.0      135.0  106.972973  ...   \n",
              "4            NaN             NaN        NaN        NaN         NaN  ...   \n",
              "\n",
              "   ADMISSION_TYPE  INSURANCE           RELIGION  MARITAL_STATUS  \\\n",
              "0       EMERGENCY   Medicare  PROTESTANT QUAKER          SINGLE   \n",
              "1       EMERGENCY    Private       UNOBTAINABLE         MARRIED   \n",
              "2       EMERGENCY   Medicare  PROTESTANT QUAKER       SEPARATED   \n",
              "3        ELECTIVE   Medicare      NOT SPECIFIED         WIDOWED   \n",
              "4       EMERGENCY   Medicare             JEWISH         WIDOWED   \n",
              "\n",
              "                ETHNICITY                  DIAGNOSIS  ICD9_CODE  \\\n",
              "0                   WHITE     GASTROINTESTINAL BLEED       5789   \n",
              "1                   WHITE  ESOPHAGEAL FOOD IMPACTION      53013   \n",
              "2  BLACK/AFRICAN AMERICAN             UPPER GI BLEED      56983   \n",
              "3                   WHITE          HIATAL HERNIA/SDA       5533   \n",
              "4                   WHITE             ABDOMINAL PAIN      56211   \n",
              "\n",
              "   FIRST_CAREUNIT     LOS  di_index  \n",
              "0            MICU  4.5761  0.852726  \n",
              "1            MICU  0.7582  0.000000  \n",
              "2            MICU  3.7626  1.199769  \n",
              "3            SICU  3.8734  0.776220  \n",
              "4           TSICU  5.8654  1.211302  \n",
              "\n",
              "[5 rows x 45 columns]"
            ]
          },
          "execution_count": 16,
          "metadata": {},
          "output_type": "execute_result"
        }
      ],
      "source": [
        "# STARTING WITH THE TRAINING DATA\n",
        "\n",
        "# We begin by migrating the comorbidities di_index to the training dataset\n",
        "training.rename(columns = {'ICD9_diagnosis' : 'ICD9_CODE'}, inplace = True) \n",
        "training_merged=training.merge(death_indexes[['hadm_id','di_index']],how='left',on='hadm_id')\n",
        "\n",
        "# Next, we need to match the co-morbidities\n",
        "training_merged=training_merged.merge(death_preds_c[['ICD9_CODE','di_index_main']],how='left',on='ICD9_CODE')\n",
        "\n",
        "# Deleting the temporary columns...\n",
        "training_merged.drop(['di_index_main'],1,inplace=True)\n",
        "\n",
        "# Checking if we have NaNs...\n",
        "print(training_merged.di_index.isna().value_counts())\n",
        "\n",
        "# Visualizing the result\n",
        "training_merged.head()"
      ]
    },
    {
      "cell_type": "markdown",
      "metadata": {},
      "source": [
        "### Merging di_index into test data"
      ]
    },
    {
      "cell_type": "code",
      "execution_count": 17,
      "metadata": {
        "id": "ZGA4vW3KuU9A"
      },
      "outputs": [
        {
          "name": "stderr",
          "output_type": "stream",
          "text": [
            "/tmp/ipykernel_13146/357702598.py:11: FutureWarning: In a future version of pandas all arguments of DataFrame.drop except for the argument 'labels' will be keyword-only\n",
            "  test_merged.drop(['di_index_main'],1,inplace=True)\n"
          ]
        },
        {
          "name": "stdout",
          "output_type": "stream",
          "text": [
            "False    5221\n",
            "Name: di_index, dtype: int64\n"
          ]
        },
        {
          "data": {
            "text/html": [
              "<div>\n",
              "<style scoped>\n",
              "    .dataframe tbody tr th:only-of-type {\n",
              "        vertical-align: middle;\n",
              "    }\n",
              "\n",
              "    .dataframe tbody tr th {\n",
              "        vertical-align: top;\n",
              "    }\n",
              "\n",
              "    .dataframe thead th {\n",
              "        text-align: right;\n",
              "    }\n",
              "</style>\n",
              "<table border=\"1\" class=\"dataframe\">\n",
              "  <thead>\n",
              "    <tr style=\"text-align: right;\">\n",
              "      <th></th>\n",
              "      <th>subject_id</th>\n",
              "      <th>hadm_id</th>\n",
              "      <th>icustay_id</th>\n",
              "      <th>HeartRate_Min</th>\n",
              "      <th>HeartRate_Max</th>\n",
              "      <th>HeartRate_Mean</th>\n",
              "      <th>SysBP_Min</th>\n",
              "      <th>SysBP_Max</th>\n",
              "      <th>SysBP_Mean</th>\n",
              "      <th>DiasBP_Min</th>\n",
              "      <th>...</th>\n",
              "      <th>Diff</th>\n",
              "      <th>ADMISSION_TYPE</th>\n",
              "      <th>INSURANCE</th>\n",
              "      <th>RELIGION</th>\n",
              "      <th>MARITAL_STATUS</th>\n",
              "      <th>ETHNICITY</th>\n",
              "      <th>DIAGNOSIS</th>\n",
              "      <th>ICD9_CODE</th>\n",
              "      <th>FIRST_CAREUNIT</th>\n",
              "      <th>di_index</th>\n",
              "    </tr>\n",
              "  </thead>\n",
              "  <tbody>\n",
              "    <tr>\n",
              "      <th>0</th>\n",
              "      <td>64058</td>\n",
              "      <td>146725</td>\n",
              "      <td>208169</td>\n",
              "      <td>58.0</td>\n",
              "      <td>90.0</td>\n",
              "      <td>85.244898</td>\n",
              "      <td>77.0</td>\n",
              "      <td>153.0</td>\n",
              "      <td>98.490909</td>\n",
              "      <td>40.0</td>\n",
              "      <td>...</td>\n",
              "      <td>-67454.42740</td>\n",
              "      <td>ELECTIVE</td>\n",
              "      <td>Medicare</td>\n",
              "      <td>CATHOLIC</td>\n",
              "      <td>MARRIED</td>\n",
              "      <td>WHITE</td>\n",
              "      <td>AORTIC STENOSIS\\CORONARY ARTERY BYPASS GRAFT W...</td>\n",
              "      <td>4241</td>\n",
              "      <td>CSRU</td>\n",
              "      <td>0.417914</td>\n",
              "    </tr>\n",
              "    <tr>\n",
              "      <th>1</th>\n",
              "      <td>55871</td>\n",
              "      <td>108789</td>\n",
              "      <td>251754</td>\n",
              "      <td>91.0</td>\n",
              "      <td>145.0</td>\n",
              "      <td>115.055556</td>\n",
              "      <td>73.0</td>\n",
              "      <td>143.0</td>\n",
              "      <td>101.210526</td>\n",
              "      <td>42.0</td>\n",
              "      <td>...</td>\n",
              "      <td>-34204.08546</td>\n",
              "      <td>EMERGENCY</td>\n",
              "      <td>Private</td>\n",
              "      <td>NOT SPECIFIED</td>\n",
              "      <td>MARRIED</td>\n",
              "      <td>WHITE</td>\n",
              "      <td>HYPERGLYCEMIA</td>\n",
              "      <td>25013</td>\n",
              "      <td>MICU</td>\n",
              "      <td>0.971712</td>\n",
              "    </tr>\n",
              "    <tr>\n",
              "      <th>2</th>\n",
              "      <td>42892</td>\n",
              "      <td>139885</td>\n",
              "      <td>242171</td>\n",
              "      <td>106.0</td>\n",
              "      <td>132.0</td>\n",
              "      <td>117.750000</td>\n",
              "      <td>93.0</td>\n",
              "      <td>137.0</td>\n",
              "      <td>116.222222</td>\n",
              "      <td>51.0</td>\n",
              "      <td>...</td>\n",
              "      <td>-38710.61714</td>\n",
              "      <td>ELECTIVE</td>\n",
              "      <td>Medicare</td>\n",
              "      <td>CATHOLIC</td>\n",
              "      <td>MARRIED</td>\n",
              "      <td>WHITE</td>\n",
              "      <td>KIDNEY STONES/SDA</td>\n",
              "      <td>5920</td>\n",
              "      <td>MICU</td>\n",
              "      <td>1.511370</td>\n",
              "    </tr>\n",
              "    <tr>\n",
              "      <th>3</th>\n",
              "      <td>66629</td>\n",
              "      <td>173017</td>\n",
              "      <td>263035</td>\n",
              "      <td>72.0</td>\n",
              "      <td>105.0</td>\n",
              "      <td>83.627119</td>\n",
              "      <td>72.0</td>\n",
              "      <td>168.0</td>\n",
              "      <td>126.981818</td>\n",
              "      <td>39.0</td>\n",
              "      <td>...</td>\n",
              "      <td>-54902.54313</td>\n",
              "      <td>EMERGENCY</td>\n",
              "      <td>Private</td>\n",
              "      <td>EPISCOPALIAN</td>\n",
              "      <td>WIDOWED</td>\n",
              "      <td>WHITE</td>\n",
              "      <td>RIGHT FEMUR FRACTURE</td>\n",
              "      <td>82120</td>\n",
              "      <td>CCU</td>\n",
              "      <td>1.364361</td>\n",
              "    </tr>\n",
              "    <tr>\n",
              "      <th>4</th>\n",
              "      <td>79851</td>\n",
              "      <td>171573</td>\n",
              "      <td>279388</td>\n",
              "      <td>85.0</td>\n",
              "      <td>124.0</td>\n",
              "      <td>98.600000</td>\n",
              "      <td>86.0</td>\n",
              "      <td>144.0</td>\n",
              "      <td>110.666667</td>\n",
              "      <td>52.0</td>\n",
              "      <td>...</td>\n",
              "      <td>-33906.93488</td>\n",
              "      <td>EMERGENCY</td>\n",
              "      <td>Medicare</td>\n",
              "      <td>CATHOLIC</td>\n",
              "      <td>SINGLE</td>\n",
              "      <td>WHITE</td>\n",
              "      <td>PNEUMONIA;RAPID AF;HYPOXIA</td>\n",
              "      <td>51884</td>\n",
              "      <td>MICU</td>\n",
              "      <td>1.114860</td>\n",
              "    </tr>\n",
              "  </tbody>\n",
              "</table>\n",
              "<p>5 rows × 40 columns</p>\n",
              "</div>"
            ],
            "text/plain": [
              "   subject_id  hadm_id  icustay_id  HeartRate_Min  HeartRate_Max  \\\n",
              "0       64058   146725      208169           58.0           90.0   \n",
              "1       55871   108789      251754           91.0          145.0   \n",
              "2       42892   139885      242171          106.0          132.0   \n",
              "3       66629   173017      263035           72.0          105.0   \n",
              "4       79851   171573      279388           85.0          124.0   \n",
              "\n",
              "   HeartRate_Mean  SysBP_Min  SysBP_Max  SysBP_Mean  DiasBP_Min  ...  \\\n",
              "0       85.244898       77.0      153.0   98.490909        40.0  ...   \n",
              "1      115.055556       73.0      143.0  101.210526        42.0  ...   \n",
              "2      117.750000       93.0      137.0  116.222222        51.0  ...   \n",
              "3       83.627119       72.0      168.0  126.981818        39.0  ...   \n",
              "4       98.600000       86.0      144.0  110.666667        52.0  ...   \n",
              "\n",
              "          Diff  ADMISSION_TYPE  INSURANCE       RELIGION  MARITAL_STATUS  \\\n",
              "0 -67454.42740        ELECTIVE   Medicare       CATHOLIC         MARRIED   \n",
              "1 -34204.08546       EMERGENCY    Private  NOT SPECIFIED         MARRIED   \n",
              "2 -38710.61714        ELECTIVE   Medicare       CATHOLIC         MARRIED   \n",
              "3 -54902.54313       EMERGENCY    Private   EPISCOPALIAN         WIDOWED   \n",
              "4 -33906.93488       EMERGENCY   Medicare       CATHOLIC          SINGLE   \n",
              "\n",
              "   ETHNICITY                                          DIAGNOSIS  ICD9_CODE  \\\n",
              "0      WHITE  AORTIC STENOSIS\\CORONARY ARTERY BYPASS GRAFT W...       4241   \n",
              "1      WHITE                                      HYPERGLYCEMIA      25013   \n",
              "2      WHITE                                  KIDNEY STONES/SDA       5920   \n",
              "3      WHITE                               RIGHT FEMUR FRACTURE      82120   \n",
              "4      WHITE                         PNEUMONIA;RAPID AF;HYPOXIA      51884   \n",
              "\n",
              "   FIRST_CAREUNIT  di_index  \n",
              "0            CSRU  0.417914  \n",
              "1            MICU  0.971712  \n",
              "2            MICU  1.511370  \n",
              "3             CCU  1.364361  \n",
              "4            MICU  1.114860  \n",
              "\n",
              "[5 rows x 40 columns]"
            ]
          },
          "execution_count": 17,
          "metadata": {},
          "output_type": "execute_result"
        }
      ],
      "source": [
        "# CONTINUING WITH THE TEST DATA\n",
        "\n",
        "# We begin by migrating the comorbidities di_index to the test dataset\n",
        "test.rename(columns = {'ICD9_diagnosis' : 'ICD9_CODE'}, inplace = True) \n",
        "test_merged=test.merge(death_indexes[['hadm_id','di_index']],how='left',on='hadm_id')\n",
        "\n",
        "# Next, we need to match the co-morbidities\n",
        "test_merged=test_merged.merge(death_preds_c[['ICD9_CODE','di_index_main']],how='left',on='ICD9_CODE')\n",
        "\n",
        "# Deleting the temporary columns...\n",
        "test_merged.drop(['di_index_main'],1,inplace=True)\n",
        "\n",
        "# Checking if we have NaNs..\n",
        "print(test_merged.di_index.isna().value_counts())\n",
        "\n",
        "# Visualizing the result\n",
        "test_merged.head()"
      ]
    },
    {
      "cell_type": "markdown",
      "metadata": {
        "id": "b5gUSKFQVl4I"
      },
      "source": [
        "## Feature Engineering"
      ]
    },
    {
      "cell_type": "code",
      "execution_count": 18,
      "metadata": {
        "colab": {
          "base_uri": "https://localhost:8080/"
        },
        "id": "GMKd3C3zK5zQ",
        "outputId": "7fea2c82-2f3a-4e32-efe2-bfb549c6e329"
      },
      "outputs": [
        {
          "data": {
            "text/plain": [
              "Index(['HOSPITAL_EXPIRE_FLAG', 'subject_id', 'hadm_id', 'icustay_id',\n",
              "       'HeartRate_Min', 'HeartRate_Max', 'HeartRate_Mean', 'SysBP_Min',\n",
              "       'SysBP_Max', 'SysBP_Mean', 'DiasBP_Min', 'DiasBP_Max', 'DiasBP_Mean',\n",
              "       'MeanBP_Min', 'MeanBP_Max', 'MeanBP_Mean', 'RespRate_Min',\n",
              "       'RespRate_Max', 'RespRate_Mean', 'TempC_Min', 'TempC_Max', 'TempC_Mean',\n",
              "       'SpO2_Min', 'SpO2_Max', 'SpO2_Mean', 'Glucose_Min', 'Glucose_Max',\n",
              "       'Glucose_Mean', 'GENDER', 'DOB', 'DOD', 'ADMITTIME', 'DISCHTIME',\n",
              "       'DEATHTIME', 'Diff', 'ADMISSION_TYPE', 'INSURANCE', 'RELIGION',\n",
              "       'MARITAL_STATUS', 'ETHNICITY', 'DIAGNOSIS', 'ICD9_CODE',\n",
              "       'FIRST_CAREUNIT', 'LOS', 'di_index'],\n",
              "      dtype='object')"
            ]
          },
          "execution_count": 18,
          "metadata": {},
          "output_type": "execute_result"
        }
      ],
      "source": [
        "training_merged.columns"
      ]
    },
    {
      "cell_type": "code",
      "execution_count": 19,
      "metadata": {
        "colab": {
          "base_uri": "https://localhost:8080/"
        },
        "id": "luYz85HXK824",
        "outputId": "8cbca3d8-ed34-4ba9-e5ed-558f196d89c5"
      },
      "outputs": [
        {
          "data": {
            "text/plain": [
              "Index(['subject_id', 'hadm_id', 'icustay_id', 'HeartRate_Min', 'HeartRate_Max',\n",
              "       'HeartRate_Mean', 'SysBP_Min', 'SysBP_Max', 'SysBP_Mean', 'DiasBP_Min',\n",
              "       'DiasBP_Max', 'DiasBP_Mean', 'MeanBP_Min', 'MeanBP_Max', 'MeanBP_Mean',\n",
              "       'RespRate_Min', 'RespRate_Max', 'RespRate_Mean', 'TempC_Min',\n",
              "       'TempC_Max', 'TempC_Mean', 'SpO2_Min', 'SpO2_Max', 'SpO2_Mean',\n",
              "       'Glucose_Min', 'Glucose_Max', 'Glucose_Mean', 'GENDER', 'DOB',\n",
              "       'ADMITTIME', 'Diff', 'ADMISSION_TYPE', 'INSURANCE', 'RELIGION',\n",
              "       'MARITAL_STATUS', 'ETHNICITY', 'DIAGNOSIS', 'ICD9_CODE',\n",
              "       'FIRST_CAREUNIT', 'di_index'],\n",
              "      dtype='object')"
            ]
          },
          "execution_count": 19,
          "metadata": {},
          "output_type": "execute_result"
        }
      ],
      "source": [
        "test_merged.columns"
      ]
    },
    {
      "cell_type": "markdown",
      "metadata": {
        "id": "WWbrYZb9H4q8"
      },
      "source": [
        "## 2.1) Training data"
      ]
    },
    {
      "cell_type": "code",
      "execution_count": 20,
      "metadata": {
        "id": "7t0UAI-NP8qo"
      },
      "outputs": [],
      "source": [
        "# narrowing down the glucose levels as they are way too high for some... (outlier deletion)\n",
        "training = training[training.Glucose_Max < 1000]\n",
        "training = training[training.Glucose_Mean < 1000]"
      ]
    },
    {
      "cell_type": "code",
      "execution_count": 21,
      "metadata": {
        "id": "Y0nuDMCZVloE"
      },
      "outputs": [],
      "source": [
        "# CHOOSING WHICH COLUMNS I WANT TO DUMMIFY...\n",
        "training = pd.get_dummies(training_merged, prefix=['INSURED'], columns=['INSURANCE'], drop_first = True)\n",
        "training = pd.get_dummies(training, prefix=['SEX'], columns=['GENDER'], drop_first = True)\n",
        "#training = pd.get_dummies(training, prefix=['ICD9'], columns=['ICD9_diagnosis'], drop_first = True)\n",
        "training = pd.get_dummies(training, prefix=['ADM_T'], columns=['ADMISSION_TYPE'], drop_first = True)\n",
        "#training = pd.get_dummies(training, prefix=['MAR_STAT'], columns=['MARITAL_STATUS'], drop_first = True)\n",
        "training = pd.get_dummies(training, prefix=['FST_CAR'], columns=['FIRST_CAREUNIT'], drop_first = True)\n",
        "#training = pd.get_dummies(training, prefix=['REL'], columns=['RELIGION'], drop_first = True)\n",
        "#training = pd.get_dummies(training, prefix =['DIAG'], columns = ['DIAGNOSIS'], drop_first = True)\n",
        "#training = pd.get_dummies(training, prefix=['ETH'], columns=['ETHNICITY'], drop_first = True)"
      ]
    },
    {
      "cell_type": "code",
      "execution_count": 22,
      "metadata": {
        "id": "KyHch7xKa-Fu"
      },
      "outputs": [],
      "source": [
        "# Computing age variable (can't use a simple difference as this leads to overflow error...)\n",
        "training['ADMITTIME'] = pd.to_datetime(training['ADMITTIME'])\n",
        "training['DOB'] = pd.to_datetime(training['DOB'])\n",
        "training['age'] = [relativedelta(a, b).years for a, b in zip(training['ADMITTIME'], training['DOB'])]"
      ]
    },
    {
      "cell_type": "code",
      "execution_count": 23,
      "metadata": {
        "id": "uigNFvKgW7C3"
      },
      "outputs": [],
      "source": [
        "# Dropping all irrelevant columns (both out of project prompt and found through tinkering)\n",
        "training.drop(['hadm_id','subject_id'],1,inplace=True)\n",
        "training.drop(['icustay_id','DOB','DOD','ADMITTIME','DISCHTIME','DEATHTIME','Diff','LOS','DIAGNOSIS'],1,inplace=True)\n",
        "training.drop(['MARITAL_STATUS'],1,inplace=True)\n",
        "training.drop(['ICD9_CODE'],1,inplace=True)\n",
        "training.drop(['RELIGION'],1,inplace=True)\n",
        "training.drop(['ETHNICITY'],1,inplace=True)"
      ]
    },
    {
      "cell_type": "code",
      "execution_count": 24,
      "metadata": {
        "colab": {
          "base_uri": "https://localhost:8080/"
        },
        "id": "f4JpVowDXjTp",
        "outputId": "6ab8aa40-3c9e-45cd-ebd5-5e30094b63ff"
      },
      "outputs": [
        {
          "data": {
            "text/plain": [
              "Index(['HeartRate_Min', 'HeartRate_Max', 'HeartRate_Mean', 'SysBP_Min',\n",
              "       'SysBP_Max', 'SysBP_Mean', 'DiasBP_Min', 'DiasBP_Max', 'DiasBP_Mean',\n",
              "       'MeanBP_Min', 'MeanBP_Max', 'MeanBP_Mean', 'RespRate_Min',\n",
              "       'RespRate_Max', 'RespRate_Mean', 'TempC_Min', 'TempC_Max', 'TempC_Mean',\n",
              "       'SpO2_Min', 'SpO2_Max', 'SpO2_Mean', 'Glucose_Min', 'Glucose_Max',\n",
              "       'Glucose_Mean', 'di_index', 'INSURED_Medicaid', 'INSURED_Medicare',\n",
              "       'INSURED_Private', 'INSURED_Self Pay', 'SEX_M', 'ADM_T_EMERGENCY',\n",
              "       'ADM_T_URGENT', 'FST_CAR_CSRU', 'FST_CAR_MICU', 'FST_CAR_SICU',\n",
              "       'FST_CAR_TSICU', 'age'],\n",
              "      dtype='object')"
            ]
          },
          "execution_count": 24,
          "metadata": {},
          "output_type": "execute_result"
        }
      ],
      "source": [
        "training.columns[1:50]"
      ]
    },
    {
      "cell_type": "code",
      "execution_count": 25,
      "metadata": {
        "id": "lKGItITQWQqO"
      },
      "outputs": [
        {
          "data": {
            "text/plain": [
              "False"
            ]
          },
          "execution_count": 25,
          "metadata": {},
          "output_type": "execute_result"
        }
      ],
      "source": [
        "# Imputing means on the training data\n",
        "# Imputing means for each category that have missing values...\n",
        "for col in training.columns.tolist():\n",
        "  col = str(col)\n",
        "  if 'Min' in col:\n",
        "    training[col] = training[col].fillna(training[col].mean())\n",
        "  if 'Max' in col:\n",
        "    training[col] = training[col].fillna(training[col].mean())\n",
        "  if 'Mean' in col:\n",
        "    training[col] = training[col].fillna(training[col].mean())\n",
        "\n",
        "# Checking that we have gotten rid of NaNs...\n",
        "training.isnull().values.any()"
      ]
    },
    {
      "cell_type": "code",
      "execution_count": 26,
      "metadata": {
        "colab": {
          "base_uri": "https://localhost:8080/"
        },
        "id": "dr1waxYPYTBp",
        "outputId": "9aa78ec9-b7c9-4bdd-db50-aa5837345abc"
      },
      "outputs": [
        {
          "name": "stdout",
          "output_type": "stream",
          "text": [
            "<class 'pandas.core.frame.DataFrame'>\n",
            "Int64Index: 20885 entries, 0 to 20884\n",
            "Data columns (total 38 columns):\n",
            " #   Column                Non-Null Count  Dtype  \n",
            "---  ------                --------------  -----  \n",
            " 0   HOSPITAL_EXPIRE_FLAG  20885 non-null  int64  \n",
            " 1   HeartRate_Min         20885 non-null  float64\n",
            " 2   HeartRate_Max         20885 non-null  float64\n",
            " 3   HeartRate_Mean        20885 non-null  float64\n",
            " 4   SysBP_Min             20885 non-null  float64\n",
            " 5   SysBP_Max             20885 non-null  float64\n",
            " 6   SysBP_Mean            20885 non-null  float64\n",
            " 7   DiasBP_Min            20885 non-null  float64\n",
            " 8   DiasBP_Max            20885 non-null  float64\n",
            " 9   DiasBP_Mean           20885 non-null  float64\n",
            " 10  MeanBP_Min            20885 non-null  float64\n",
            " 11  MeanBP_Max            20885 non-null  float64\n",
            " 12  MeanBP_Mean           20885 non-null  float64\n",
            " 13  RespRate_Min          20885 non-null  float64\n",
            " 14  RespRate_Max          20885 non-null  float64\n",
            " 15  RespRate_Mean         20885 non-null  float64\n",
            " 16  TempC_Min             20885 non-null  float64\n",
            " 17  TempC_Max             20885 non-null  float64\n",
            " 18  TempC_Mean            20885 non-null  float64\n",
            " 19  SpO2_Min              20885 non-null  float64\n",
            " 20  SpO2_Max              20885 non-null  float64\n",
            " 21  SpO2_Mean             20885 non-null  float64\n",
            " 22  Glucose_Min           20885 non-null  float64\n",
            " 23  Glucose_Max           20885 non-null  float64\n",
            " 24  Glucose_Mean          20885 non-null  float64\n",
            " 25  di_index              20885 non-null  float64\n",
            " 26  INSURED_Medicaid      20885 non-null  uint8  \n",
            " 27  INSURED_Medicare      20885 non-null  uint8  \n",
            " 28  INSURED_Private       20885 non-null  uint8  \n",
            " 29  INSURED_Self Pay      20885 non-null  uint8  \n",
            " 30  SEX_M                 20885 non-null  uint8  \n",
            " 31  ADM_T_EMERGENCY       20885 non-null  uint8  \n",
            " 32  ADM_T_URGENT          20885 non-null  uint8  \n",
            " 33  FST_CAR_CSRU          20885 non-null  uint8  \n",
            " 34  FST_CAR_MICU          20885 non-null  uint8  \n",
            " 35  FST_CAR_SICU          20885 non-null  uint8  \n",
            " 36  FST_CAR_TSICU         20885 non-null  uint8  \n",
            " 37  age                   20885 non-null  int64  \n",
            "dtypes: float64(25), int64(2), uint8(11)\n",
            "memory usage: 4.7 MB\n"
          ]
        }
      ],
      "source": [
        "training.info()"
      ]
    },
    {
      "cell_type": "markdown",
      "metadata": {
        "id": "Sei3Dfa9H8ic"
      },
      "source": [
        "## 2.2) Test data"
      ]
    },
    {
      "cell_type": "code",
      "execution_count": 27,
      "metadata": {
        "id": "Fws0HM6uhGSd"
      },
      "outputs": [],
      "source": [
        "# CHOOSING WHICH COLUMNS I WANT TO DUMMIFY... (has to match training choice)\n",
        "test = pd.get_dummies(test_merged, prefix=['INSURED'], columns=['INSURANCE'], drop_first = True)\n",
        "test = pd.get_dummies(test, prefix=['SEX'], columns=['GENDER'], drop_first = True)\n",
        "#test = pd.get_dummies(test, prefix=['ICD9'], columns=['ICD9_diagnosis'], drop_first = True)\n",
        "test = pd.get_dummies(test, prefix=['ADM_T'], columns=['ADMISSION_TYPE'], drop_first = True)\n",
        "#test = pd.get_dummies(test, prefix=['MAR_STAT'], columns=['MARITAL_STATUS'], drop_first = True)\n",
        "test = pd.get_dummies(test, prefix=['FST_CAR'], columns=['FIRST_CAREUNIT'], drop_first = True)\n",
        "#test = pd.get_dummies(test, prefix=['REL'], columns=['RELIGION'], drop_first = True)\n",
        "#test = pd.get_dummies(test, prefix =['DIAG'], columns = ['DIAGNOSIS'], drop_first = True)\n",
        "#test = pd.get_dummies(test, prefix=['ETH'], columns=['ETHNICITY'], drop_first = True)"
      ]
    },
    {
      "cell_type": "code",
      "execution_count": 28,
      "metadata": {
        "id": "2bJNbViChGL8"
      },
      "outputs": [],
      "source": [
        "# Computing age variable (can't use a simple difference as this leads to overflow error...)\n",
        "test['ADMITTIME'] = pd.to_datetime(test['ADMITTIME'])\n",
        "test['DOB'] = pd.to_datetime(test['DOB'])\n",
        "test['age'] = [relativedelta(a, b).years for a, b in zip(test['ADMITTIME'], test['DOB'])]"
      ]
    },
    {
      "cell_type": "code",
      "execution_count": 29,
      "metadata": {
        "id": "E3H6I0BBhGJr"
      },
      "outputs": [],
      "source": [
        "# Dropping all irrelevant columns (both out of project prompt and found through tinkering)\n",
        "test.drop(['DOB','ADMITTIME','Diff','DIAGNOSIS'],1,inplace=True)\n",
        "test.drop(['hadm_id'],1,inplace=True)\n",
        "test.drop(['MARITAL_STATUS','ICD9_CODE'],1,inplace=True)\n",
        "test.drop(['ETHNICITY'],1,inplace=True)\n",
        "test.drop(['RELIGION'],1,inplace=True)\n",
        "test_for_processing = test.drop(['icustay_id'],1)"
      ]
    },
    {
      "cell_type": "code",
      "execution_count": 30,
      "metadata": {
        "id": "wBPNeTc5jbJV"
      },
      "outputs": [
        {
          "data": {
            "text/plain": [
              "False"
            ]
          },
          "execution_count": 30,
          "metadata": {},
          "output_type": "execute_result"
        }
      ],
      "source": [
        "# we will proceed by using the means from the test set data...\n",
        "for col in test_for_processing.columns.tolist():\n",
        "  col = str(col)\n",
        "  if 'Min' in col:\n",
        "    test_for_processing[col] = test_for_processing[col].fillna(test_for_processing[col].mean())\n",
        "  if 'Max' in col:\n",
        "    test_for_processing[col] = test_for_processing[col].fillna(test_for_processing[col].mean())\n",
        "  if 'Mean' in col:\n",
        "    test_for_processing[col] = test_for_processing[col].fillna(test_for_processing[col].mean())\n",
        "\n",
        "# Checking that we have gotten rid of NaNs...\n",
        "test_for_processing.isnull().values.any()"
      ]
    },
    {
      "cell_type": "code",
      "execution_count": 31,
      "metadata": {
        "colab": {
          "base_uri": "https://localhost:8080/"
        },
        "id": "SrfR5J8AQHM0",
        "outputId": "d76462a7-287d-488a-c5d1-7ec3edf29085"
      },
      "outputs": [
        {
          "name": "stdout",
          "output_type": "stream",
          "text": [
            "<class 'pandas.core.frame.DataFrame'>\n",
            "Int64Index: 5221 entries, 0 to 5220\n",
            "Data columns (total 38 columns):\n",
            " #   Column            Non-Null Count  Dtype  \n",
            "---  ------            --------------  -----  \n",
            " 0   subject_id        5221 non-null   int64  \n",
            " 1   HeartRate_Min     5221 non-null   float64\n",
            " 2   HeartRate_Max     5221 non-null   float64\n",
            " 3   HeartRate_Mean    5221 non-null   float64\n",
            " 4   SysBP_Min         5221 non-null   float64\n",
            " 5   SysBP_Max         5221 non-null   float64\n",
            " 6   SysBP_Mean        5221 non-null   float64\n",
            " 7   DiasBP_Min        5221 non-null   float64\n",
            " 8   DiasBP_Max        5221 non-null   float64\n",
            " 9   DiasBP_Mean       5221 non-null   float64\n",
            " 10  MeanBP_Min        5221 non-null   float64\n",
            " 11  MeanBP_Max        5221 non-null   float64\n",
            " 12  MeanBP_Mean       5221 non-null   float64\n",
            " 13  RespRate_Min      5221 non-null   float64\n",
            " 14  RespRate_Max      5221 non-null   float64\n",
            " 15  RespRate_Mean     5221 non-null   float64\n",
            " 16  TempC_Min         5221 non-null   float64\n",
            " 17  TempC_Max         5221 non-null   float64\n",
            " 18  TempC_Mean        5221 non-null   float64\n",
            " 19  SpO2_Min          5221 non-null   float64\n",
            " 20  SpO2_Max          5221 non-null   float64\n",
            " 21  SpO2_Mean         5221 non-null   float64\n",
            " 22  Glucose_Min       5221 non-null   float64\n",
            " 23  Glucose_Max       5221 non-null   float64\n",
            " 24  Glucose_Mean      5221 non-null   float64\n",
            " 25  di_index          5221 non-null   float64\n",
            " 26  INSURED_Medicaid  5221 non-null   uint8  \n",
            " 27  INSURED_Medicare  5221 non-null   uint8  \n",
            " 28  INSURED_Private   5221 non-null   uint8  \n",
            " 29  INSURED_Self Pay  5221 non-null   uint8  \n",
            " 30  SEX_M             5221 non-null   uint8  \n",
            " 31  ADM_T_EMERGENCY   5221 non-null   uint8  \n",
            " 32  ADM_T_URGENT      5221 non-null   uint8  \n",
            " 33  FST_CAR_CSRU      5221 non-null   uint8  \n",
            " 34  FST_CAR_MICU      5221 non-null   uint8  \n",
            " 35  FST_CAR_SICU      5221 non-null   uint8  \n",
            " 36  FST_CAR_TSICU     5221 non-null   uint8  \n",
            " 37  age               5221 non-null   int64  \n",
            "dtypes: float64(25), int64(2), uint8(11)\n",
            "memory usage: 1.2 MB\n"
          ]
        }
      ],
      "source": [
        "test_for_processing.info()"
      ]
    },
    {
      "cell_type": "markdown",
      "metadata": {
        "id": "iW8yDUx8IrcG"
      },
      "source": [
        "## Model Fitting / Predicting Using Pipeline\n"
      ]
    },
    {
      "cell_type": "markdown",
      "metadata": {
        "id": "BTrrrx6AJJD2"
      },
      "source": [
        "### General comments\n",
        "\n",
        "- Notice that below I am constructing a imblearn Pipeline, in order for me to be able to do the model fitting and analysis in a more neat way.\n",
        "- For the KNN algorithm, I noticed that the algorithm was beginning to overfit on the final testing data that is submitted to Kaggle, so I tinkered around and noticed that for my setup, the n_neighbors sweetspot is around 60. Anything above or below makes the Kaggle performance deteriorate.\n",
        "- For the sake of efficiency I have tidied the below pipeline to only use these parameters...\n",
        "\n",
        "### Pipeline construction comments\n",
        "In my Pipeline, I am using the following components:\n",
        "\n",
        "1) Feature selection using the SelectFromModel + LinearSVC from the sklearn library,\n",
        "- The reason why I am implementing the feature selection is that I am worried about the high-dimensional nature of the data that I am inputting.\n",
        "\n",
        "2) StandardScaler from the sklearn library,\n",
        "\n",
        "3) Synthetic Minority Over-sampling Technique from sklearn, and finally\n",
        "- (this tackles the class imbalance issue at hand with way more HOSPITAL_EXPIRE_FLAG 0s than 1s in the training data)...\n",
        "- I can use oversampling here because KNN is not that computationally expensive and finishes quite quickly.\n",
        "\n",
        "4) KNearestNeighbors classifier from sklearn."
      ]
    },
    {
      "cell_type": "code",
      "execution_count": 32,
      "metadata": {
        "id": "0sE0MEFtbkhz"
      },
      "outputs": [],
      "source": [
        "# Defining the scaler to be used in the pipeline\n",
        "scaler = StandardScaler()\n",
        "\n",
        "# Defining the synthetic minority oversampler to be used in the pipeline\n",
        "smt = SMOTE()\n",
        "\n",
        "# Defining our model to be used in the pipeline\n",
        "knn = KNN()\n",
        "\n",
        "# Defining our final pipeline to be used \n",
        "pipeline = Pipeline([('scaler',scaler),\n",
        "                     ('smote',smt),\n",
        "                     ('feat_sel',SelectFromModel(LinearSVC(penalty=\"l1\",dual=False))),\n",
        "                     ('knn',knn)])"
      ]
    },
    {
      "cell_type": "code",
      "execution_count": 33,
      "metadata": {
        "id": "VOCipOCRbz4W"
      },
      "outputs": [],
      "source": [
        "# Best setup for the KNN classifier, found by extensive tinkering...\n",
        "grid_params = {'knn__n_neighbors' : [60], 'knn__algorithm' : ['brute']}"
      ]
    },
    {
      "cell_type": "code",
      "execution_count": 34,
      "metadata": {
        "id": "I7CmSj1Ubz4X"
      },
      "outputs": [],
      "source": [
        "# Simple performance reporting function\n",
        "def clf_performance(classifier, model_name):\n",
        "    print(model_name)\n",
        "    print('Best Score: ' + str(classifier.best_score_))\n",
        "    print('Best Parameters: ' + str(classifier.best_params_))"
      ]
    },
    {
      "cell_type": "code",
      "execution_count": 35,
      "metadata": {
        "colab": {
          "base_uri": "https://localhost:8080/"
        },
        "id": "ne1OE_qpbz4Y",
        "outputId": "c189f45d-d509-4719-b083-ad95e2b0577f"
      },
      "outputs": [
        {
          "name": "stdout",
          "output_type": "stream",
          "text": [
            "Pipeline(steps=[('scaler', StandardScaler()), ('smote', SMOTE()),\n",
            "                ('feat_sel',\n",
            "                 SelectFromModel(estimator=LinearSVC(dual=False,\n",
            "                                                     penalty='l1'))),\n",
            "                ('knn', KNeighborsClassifier())])\n"
          ]
        }
      ],
      "source": [
        "# Printing the setup to make sure it's alright.\n",
        "print(pipeline)"
      ]
    },
    {
      "cell_type": "code",
      "execution_count": 36,
      "metadata": {
        "colab": {
          "base_uri": "https://localhost:8080/"
        },
        "id": "meZZ2hPVbz4a",
        "outputId": "73f325c2-d5cf-4e62-8584-c619f2b98cc1"
      },
      "outputs": [
        {
          "data": {
            "text/plain": [
              "dict_keys(['cv', 'error_score', 'estimator__memory', 'estimator__steps', 'estimator__verbose', 'estimator__scaler', 'estimator__smote', 'estimator__feat_sel', 'estimator__knn', 'estimator__scaler__copy', 'estimator__scaler__with_mean', 'estimator__scaler__with_std', 'estimator__smote__k_neighbors', 'estimator__smote__n_jobs', 'estimator__smote__random_state', 'estimator__smote__sampling_strategy', 'estimator__feat_sel__estimator__C', 'estimator__feat_sel__estimator__class_weight', 'estimator__feat_sel__estimator__dual', 'estimator__feat_sel__estimator__fit_intercept', 'estimator__feat_sel__estimator__intercept_scaling', 'estimator__feat_sel__estimator__loss', 'estimator__feat_sel__estimator__max_iter', 'estimator__feat_sel__estimator__multi_class', 'estimator__feat_sel__estimator__penalty', 'estimator__feat_sel__estimator__random_state', 'estimator__feat_sel__estimator__tol', 'estimator__feat_sel__estimator__verbose', 'estimator__feat_sel__estimator', 'estimator__feat_sel__importance_getter', 'estimator__feat_sel__max_features', 'estimator__feat_sel__norm_order', 'estimator__feat_sel__prefit', 'estimator__feat_sel__threshold', 'estimator__knn__algorithm', 'estimator__knn__leaf_size', 'estimator__knn__metric', 'estimator__knn__metric_params', 'estimator__knn__n_jobs', 'estimator__knn__n_neighbors', 'estimator__knn__p', 'estimator__knn__weights', 'estimator', 'n_jobs', 'param_grid', 'pre_dispatch', 'refit', 'return_train_score', 'scoring', 'verbose'])"
            ]
          },
          "execution_count": 36,
          "metadata": {},
          "output_type": "execute_result"
        }
      ],
      "source": [
        "# Setting up the search grid, and having a look at what I can change should I wish to...\n",
        "grid = GridSearchCV(pipeline, param_grid = grid_params, cv = 5, scoring = 'roc_auc')\n",
        "grid.get_params().keys()"
      ]
    },
    {
      "cell_type": "code",
      "execution_count": 37,
      "metadata": {
        "colab": {
          "base_uri": "https://localhost:8080/"
        },
        "id": "EHfVaLTjbz4b",
        "outputId": "2994e711-2b2e-4490-a4d4-a52f56b1f5de"
      },
      "outputs": [
        {
          "data": {
            "text/plain": [
              "GridSearchCV(cv=5,\n",
              "             estimator=Pipeline(steps=[('scaler', StandardScaler()),\n",
              "                                       ('smote', SMOTE()),\n",
              "                                       ('feat_sel',\n",
              "                                        SelectFromModel(estimator=LinearSVC(dual=False,\n",
              "                                                                            penalty='l1'))),\n",
              "                                       ('knn', KNeighborsClassifier())]),\n",
              "             param_grid={'knn__algorithm': ['brute'], 'knn__n_neighbors': [60]},\n",
              "             scoring='roc_auc')"
            ]
          },
          "execution_count": 37,
          "metadata": {},
          "output_type": "execute_result"
        }
      ],
      "source": [
        "# Fitting the actual grid...\n",
        "grid.fit(np.array(training.drop(['HOSPITAL_EXPIRE_FLAG'],1)),np.array(training['HOSPITAL_EXPIRE_FLAG']))"
      ]
    },
    {
      "cell_type": "code",
      "execution_count": 38,
      "metadata": {
        "colab": {
          "base_uri": "https://localhost:8080/"
        },
        "id": "-Spt8yNjbzkt",
        "outputId": "1d76ec00-7352-42ea-c15a-820acc7d8d26"
      },
      "outputs": [
        {
          "name": "stdout",
          "output_type": "stream",
          "text": [
            "KNN\n",
            "Best Score: 0.8246828156949878\n",
            "Best Parameters: {'knn__algorithm': 'brute', 'knn__n_neighbors': 60}\n"
          ]
        }
      ],
      "source": [
        "# Gauging the best performing estimator\n",
        "clf_performance(grid,'KNN')"
      ]
    },
    {
      "cell_type": "code",
      "execution_count": 39,
      "metadata": {
        "id": "8d6j-qr2bzii"
      },
      "outputs": [],
      "source": [
        "# Predicting using the best estimator.\n",
        "y_hat_clf_knn = grid.best_estimator_.predict_proba(test_for_processing.drop(['subject_id'],1))"
      ]
    },
    {
      "cell_type": "code",
      "execution_count": 40,
      "metadata": {
        "colab": {
          "base_uri": "https://localhost:8080/"
        },
        "id": "lTViZNJxjyp4",
        "outputId": "a91c7b63-e3c3-4ae7-db40-a2ec07dfcd5e"
      },
      "outputs": [
        {
          "name": "stdout",
          "output_type": "stream",
          "text": [
            "[0.0, 0.36666666666666664, 0.5, 0.6166666666666667, 0.5666666666666667, 0.4166666666666667, 0.3333333333333333, 0.3333333333333333, 0.18333333333333332, 0.016666666666666666, 0.65, 0.8, 0.6, 0.75, 0.4166666666666667, 0.2, 0.7, 0.31666666666666665, 0.2833333333333333, 0.3, 0.7833333333333333, 0.15, 0.5, 0.7666666666666667, 0.7333333333333333, 0.8166666666666667, 0.26666666666666666, 0.3, 0.48333333333333334, 0.45, 0.11666666666666667, 0.8, 0.8833333333333333, 0.15, 0.6666666666666666, 0.6833333333333333, 0.06666666666666667, 0.15, 0.5833333333333334, 0.1, 0.9333333333333333, 0.8, 0.0, 0.4, 0.16666666666666666, 0.08333333333333333, 0.0, 0.13333333333333333, 0.5166666666666667, 0.7833333333333333, 0.8833333333333333, 0.8666666666666667, 0.35, 0.7833333333333333, 0.26666666666666666, 0.4166666666666667, 0.36666666666666664, 0.3, 0.5166666666666667, 0.26666666666666666, 0.5666666666666667, 0.25, 0.3, 0.36666666666666664, 0.35, 0.3, 0.48333333333333334, 0.18333333333333332, 0.8166666666666667, 0.4166666666666667, 0.5, 0.5166666666666667, 0.6666666666666666, 0.9, 0.8833333333333333, 0.8833333333333333, 0.5166666666666667, 0.16666666666666666, 0.38333333333333336, 0.7333333333333333, 0.5333333333333333, 0.0, 0.35, 0.16666666666666666, 0.35, 0.016666666666666666, 0.03333333333333333, 0.26666666666666666, 0.03333333333333333, 0.18333333333333332, 0.0, 0.5666666666666667, 0.38333333333333336, 0.6166666666666667, 0.4166666666666667, 0.38333333333333336, 0.7, 0.31666666666666665, 0.45, 0.11666666666666667, 0.16666666666666666, 0.8666666666666667, 0.45, 0.8, 0.38333333333333336, 0.11666666666666667, 0.03333333333333333, 0.8666666666666667, 0.08333333333333333, 0.4666666666666667, 0.2833333333333333, 0.06666666666666667, 0.6166666666666667, 0.8166666666666667, 0.7166666666666667, 0.26666666666666666, 0.0, 0.5333333333333333, 0.25, 0.55, 0.016666666666666666, 0.3, 0.8, 0.65, 0.8166666666666667, 0.0, 0.08333333333333333, 0.36666666666666664, 0.05, 0.08333333333333333, 0.11666666666666667, 0.48333333333333334, 0.08333333333333333, 0.0, 0.43333333333333335, 0.3, 0.7666666666666667, 0.5166666666666667, 0.26666666666666666, 0.55, 0.0, 0.4666666666666667, 0.11666666666666667, 0.0, 0.55, 0.0, 0.16666666666666666, 0.5166666666666667, 0.5, 0.11666666666666667, 0.0, 0.9166666666666666, 0.21666666666666667, 0.0, 0.6, 0.5, 0.31666666666666665, 0.9666666666666667, 0.5, 0.6166666666666667, 0.0, 0.35, 0.48333333333333334, 0.3333333333333333, 0.6833333333333333, 0.7833333333333333, 0.0, 0.7333333333333333, 0.5833333333333334, 0.36666666666666664, 0.6833333333333333, 0.75, 0.4166666666666667, 0.55, 0.3333333333333333, 0.7666666666666667, 0.55, 0.38333333333333336, 0.8166666666666667, 0.7, 0.03333333333333333, 0.7333333333333333, 0.06666666666666667, 0.0, 0.6, 0.8, 0.18333333333333332, 0.0, 0.5, 0.2, 0.35, 0.31666666666666665, 0.03333333333333333, 0.6833333333333333, 0.08333333333333333, 0.36666666666666664, 0.6333333333333333, 0.9, 0.45, 0.21666666666666667, 0.8, 0.5833333333333334, 0.7666666666666667, 0.0, 0.7833333333333333, 0.4166666666666667, 0.48333333333333334, 0.7, 0.7166666666666667, 0.45, 0.6833333333333333, 0.11666666666666667, 0.06666666666666667, 0.2, 0.4166666666666667, 0.2833333333333333, 0.8166666666666667, 0.016666666666666666, 0.8166666666666667, 0.0, 0.05, 0.0, 0.4, 0.8666666666666667, 0.6666666666666666, 0.08333333333333333, 0.6333333333333333, 0.16666666666666666, 0.48333333333333334, 0.25, 0.4666666666666667, 0.8666666666666667, 0.03333333333333333, 0.8333333333333334, 0.6666666666666666, 0.4, 0.25, 0.4, 0.6666666666666666, 0.45, 0.4666666666666667, 0.11666666666666667, 0.6166666666666667, 0.35, 0.0, 0.38333333333333336, 0.7833333333333333, 0.5333333333333333, 0.7666666666666667, 0.8, 0.5166666666666667, 0.25, 0.26666666666666666, 0.2833333333333333, 0.31666666666666665, 0.7, 0.0, 0.26666666666666666, 0.6666666666666666, 0.8333333333333334, 0.016666666666666666, 0.6833333333333333, 0.38333333333333336, 0.21666666666666667, 0.0, 0.11666666666666667, 0.6666666666666666, 0.45, 0.4666666666666667, 0.55, 0.35, 0.0, 0.26666666666666666, 0.8666666666666667, 0.43333333333333335, 0.4166666666666667, 0.6, 0.7666666666666667, 0.35, 0.75, 0.16666666666666666, 0.55, 0.8166666666666667, 0.31666666666666665, 0.016666666666666666, 0.0, 0.85, 0.2, 0.38333333333333336, 0.2, 0.5166666666666667, 0.0, 0.5833333333333334, 0.016666666666666666, 0.0, 0.7833333333333333, 0.05, 0.38333333333333336, 0.016666666666666666, 0.5166666666666667, 0.65, 0.31666666666666665, 0.36666666666666664, 0.0, 0.7666666666666667, 0.6333333333333333, 0.5166666666666667, 0.0, 0.65, 0.016666666666666666, 0.48333333333333334, 0.7, 0.1, 0.48333333333333334, 0.08333333333333333, 0.8666666666666667, 0.7333333333333333, 0.4, 0.05, 0.11666666666666667, 0.7333333333333333, 0.5333333333333333, 0.9, 0.55, 0.0, 0.25, 0.03333333333333333, 0.25, 0.85, 0.31666666666666665, 0.26666666666666666, 0.43333333333333335, 0.5666666666666667, 0.6333333333333333, 0.7166666666666667, 0.2, 0.9333333333333333, 0.48333333333333334, 0.4666666666666667, 0.21666666666666667, 0.7333333333333333, 0.55, 0.7333333333333333, 0.8333333333333334, 0.6833333333333333, 0.5333333333333333, 0.7166666666666667, 0.0, 0.4666666666666667, 0.0, 0.48333333333333334, 0.15, 0.1, 0.3, 0.26666666666666666, 0.7333333333333333, 0.5, 0.16666666666666666, 0.8, 0.1, 0.4166666666666667, 0.5833333333333334, 0.2833333333333333, 0.48333333333333334, 0.8333333333333334, 0.5, 0.65, 0.4666666666666667, 0.18333333333333332, 0.7833333333333333, 0.45, 0.05, 0.6333333333333333, 0.08333333333333333, 0.4, 0.15, 0.75, 0.4166666666666667, 0.03333333333333333, 0.5166666666666667, 0.4, 0.48333333333333334, 0.6833333333333333, 0.6166666666666667, 0.0, 0.3, 0.26666666666666666, 0.0, 0.0, 0.9333333333333333, 0.06666666666666667, 0.21666666666666667, 0.7166666666666667, 0.6833333333333333, 0.5333333333333333, 0.9333333333333333, 0.5166666666666667, 0.35, 0.6833333333333333, 0.7333333333333333, 0.8166666666666667, 0.8333333333333334, 0.35, 0.5666666666666667, 0.65, 0.18333333333333332, 0.9, 0.8, 0.08333333333333333, 0.9, 0.0, 0.0, 0.75, 0.5, 0.48333333333333334, 0.23333333333333334, 0.7166666666666667, 0.0, 0.016666666666666666, 0.35, 0.2833333333333333, 0.3, 0.8166666666666667, 0.5, 0.2833333333333333, 0.05, 0.8333333333333334, 0.18333333333333332, 0.3, 0.3, 0.0, 0.05, 0.7166666666666667, 0.36666666666666664, 0.0, 0.0, 0.55, 0.65, 0.05, 0.9666666666666667, 0.4166666666666667, 0.4, 0.2833333333333333, 0.05, 0.38333333333333336, 0.45, 0.9166666666666666, 0.8, 0.6333333333333333, 0.11666666666666667, 0.3, 0.03333333333333333, 0.4166666666666667, 0.31666666666666665, 0.7666666666666667, 0.016666666666666666, 0.43333333333333335, 0.36666666666666664, 0.4166666666666667, 0.8333333333333334, 0.8, 0.36666666666666664, 0.016666666666666666, 0.6166666666666667, 0.05, 0.3333333333333333, 0.0, 0.9166666666666666, 0.6666666666666666, 0.016666666666666666, 0.7, 0.6, 0.03333333333333333, 0.45, 0.6833333333333333, 0.6, 0.0, 0.3333333333333333, 0.5833333333333334, 0.0, 0.16666666666666666, 0.4, 0.45, 0.43333333333333335, 0.4, 0.4, 0.65, 0.4166666666666667, 0.2, 0.5166666666666667, 0.0, 0.0, 0.7833333333333333, 0.5666666666666667, 0.7666666666666667, 0.15, 0.4166666666666667, 0.16666666666666666, 0.0, 0.0, 0.16666666666666666, 0.7333333333333333, 0.5166666666666667, 0.65, 0.06666666666666667, 0.13333333333333333, 0.6333333333333333, 0.8833333333333333, 0.8666666666666667, 0.8166666666666667, 0.6333333333333333, 0.3333333333333333, 0.7833333333333333, 0.0, 0.4666666666666667, 0.9666666666666667, 0.0, 0.2, 0.7, 0.4, 0.8333333333333334, 0.4666666666666667, 0.85, 0.45, 0.5166666666666667, 0.3, 0.25, 0.3333333333333333, 0.06666666666666667, 0.0, 0.75, 0.08333333333333333, 0.36666666666666664, 0.85, 0.8666666666666667, 0.016666666666666666, 0.16666666666666666, 0.0, 0.43333333333333335, 0.16666666666666666, 0.1, 0.43333333333333335, 0.18333333333333332, 0.13333333333333333, 0.25, 0.6833333333333333, 0.016666666666666666, 0.3333333333333333, 0.2833333333333333, 0.03333333333333333, 0.8, 0.1, 0.38333333333333336, 0.8, 0.06666666666666667, 0.16666666666666666, 0.0, 0.8166666666666667, 0.6, 0.2833333333333333, 0.75, 0.0, 0.8, 0.7333333333333333, 0.8666666666666667, 0.6666666666666666, 0.43333333333333335, 0.016666666666666666, 0.5833333333333334, 0.23333333333333334, 0.6166666666666667, 0.0, 0.23333333333333334, 0.5, 0.0, 0.35, 0.5166666666666667, 0.4666666666666667, 0.85, 0.6166666666666667, 0.8, 0.38333333333333336, 0.1, 0.0, 0.5166666666666667, 0.11666666666666667, 0.65, 0.55, 0.1, 0.3, 0.5, 0.45, 0.7166666666666667, 0.43333333333333335, 0.3, 0.7166666666666667, 0.4666666666666667, 0.016666666666666666, 0.6666666666666666, 0.2, 0.06666666666666667, 0.45, 0.0, 0.95, 0.65, 0.6166666666666667, 0.7333333333333333, 0.7666666666666667, 0.8666666666666667, 0.13333333333333333, 0.5166666666666667, 0.2833333333333333, 0.6166666666666667, 0.45, 0.6666666666666666, 0.8666666666666667, 0.8166666666666667, 0.3, 0.31666666666666665, 0.7, 0.5333333333333333, 0.7, 0.8, 0.6166666666666667, 0.6, 0.65, 0.45, 0.7666666666666667, 0.6, 0.6166666666666667, 0.6166666666666667, 0.0, 0.4666666666666667, 0.6, 0.3333333333333333, 0.1, 0.9833333333333333, 0.2833333333333333, 0.5166666666666667, 0.4666666666666667, 0.48333333333333334, 0.55, 0.0, 0.4166666666666667, 0.08333333333333333, 0.6333333333333333, 0.06666666666666667, 0.11666666666666667, 0.43333333333333335, 0.7333333333333333, 0.5333333333333333, 0.26666666666666666, 0.26666666666666666, 0.2, 0.6833333333333333, 0.0, 0.6166666666666667, 0.18333333333333332, 0.55, 0.2, 0.55, 0.43333333333333335, 0.4166666666666667, 0.16666666666666666, 0.36666666666666664, 0.35, 0.55, 0.26666666666666666, 0.5666666666666667, 0.06666666666666667, 0.4666666666666667, 1.0, 0.6166666666666667, 0.6, 0.7333333333333333, 0.5333333333333333, 0.5333333333333333, 0.7, 0.5333333333333333, 0.0, 0.6833333333333333, 0.05, 0.6833333333333333, 0.6666666666666666, 0.45, 0.2833333333333333, 0.0, 0.31666666666666665, 0.31666666666666665, 0.6666666666666666, 0.0, 0.5, 0.23333333333333334, 0.23333333333333334, 0.2833333333333333, 0.85, 0.0, 0.5166666666666667, 0.15, 0.18333333333333332, 0.8333333333333334, 0.2, 0.6833333333333333, 0.45, 0.4666666666666667, 0.0, 0.5333333333333333, 0.5166666666666667, 0.13333333333333333, 0.6166666666666667, 0.6833333333333333, 0.06666666666666667, 0.2, 0.7833333333333333, 0.38333333333333336, 0.08333333333333333, 0.016666666666666666, 0.5, 0.03333333333333333, 0.2, 0.3333333333333333, 0.08333333333333333, 0.5666666666666667, 0.2, 0.45, 0.75, 0.4666666666666667, 0.5333333333333333, 0.31666666666666665, 0.43333333333333335, 0.6333333333333333, 0.03333333333333333, 0.43333333333333335, 0.7333333333333333, 0.35, 0.25, 0.6666666666666666, 0.65, 0.2833333333333333, 0.5166666666666667, 0.35, 0.2833333333333333, 0.8833333333333333, 0.7166666666666667, 0.7833333333333333, 0.48333333333333334, 0.5166666666666667, 0.43333333333333335, 0.48333333333333334, 0.15, 0.016666666666666666, 0.35, 0.8, 0.5, 0.23333333333333334, 0.16666666666666666, 0.65, 0.0, 0.3333333333333333, 0.36666666666666664, 0.5833333333333334, 0.6333333333333333, 0.48333333333333334, 0.15, 0.6333333333333333, 0.016666666666666666, 0.26666666666666666, 0.2, 0.0, 0.0, 0.5666666666666667, 0.5166666666666667, 0.26666666666666666, 0.16666666666666666, 0.23333333333333334, 0.8166666666666667, 0.8166666666666667, 0.5666666666666667, 0.0, 0.4, 0.2833333333333333, 0.4166666666666667, 0.7333333333333333, 0.16666666666666666, 0.36666666666666664, 0.6, 0.6166666666666667, 0.5333333333333333, 0.11666666666666667, 0.5833333333333334, 0.8, 0.5333333333333333, 0.8333333333333334, 0.9333333333333333, 0.45, 0.0, 0.8666666666666667, 0.08333333333333333, 0.8333333333333334, 0.08333333333333333, 0.6666666666666666, 0.05, 0.9, 0.9, 0.48333333333333334, 0.7666666666666667, 0.0, 0.9, 0.45, 0.21666666666666667, 0.16666666666666666, 0.0, 0.8333333333333334, 0.35, 0.8666666666666667, 0.4, 0.0, 0.15, 0.25, 0.7333333333333333, 0.26666666666666666, 0.26666666666666666, 0.43333333333333335, 0.5833333333333334, 0.7333333333333333, 0.05, 0.5, 0.6666666666666666, 0.13333333333333333, 0.11666666666666667, 0.08333333333333333, 0.5, 0.5333333333333333, 0.3, 0.55, 0.05, 0.6833333333333333, 0.11666666666666667, 0.7833333333333333, 0.7166666666666667, 0.55, 0.95, 0.7166666666666667, 0.3333333333333333, 0.26666666666666666, 0.8833333333333333, 0.11666666666666667, 0.2833333333333333, 0.1, 0.8166666666666667, 0.36666666666666664, 0.7166666666666667, 0.5833333333333334, 0.8333333333333334, 0.31666666666666665, 0.8, 0.38333333333333336, 0.7833333333333333, 0.3, 0.03333333333333333, 0.48333333333333334, 0.7333333333333333, 0.0, 0.7666666666666667, 0.16666666666666666, 0.6, 0.5833333333333334, 0.7, 0.16666666666666666, 0.43333333333333335, 0.65, 0.16666666666666666, 0.4166666666666667, 0.06666666666666667, 0.2833333333333333, 0.03333333333333333, 0.6166666666666667, 0.05, 0.0, 0.43333333333333335, 0.2, 0.06666666666666667, 0.6333333333333333, 0.21666666666666667, 0.5333333333333333, 0.26666666666666666, 0.65, 0.0, 0.25, 0.5833333333333334, 0.7333333333333333, 0.75, 0.0, 0.08333333333333333, 0.55, 0.016666666666666666, 0.0, 0.16666666666666666, 0.13333333333333333, 0.6166666666666667, 0.016666666666666666, 0.7, 0.23333333333333334, 0.0, 0.7, 0.0, 0.6, 0.03333333333333333, 0.06666666666666667, 0.25, 0.48333333333333334, 0.85, 0.7833333333333333, 0.2, 0.7666666666666667, 0.5833333333333334, 0.6333333333333333, 0.3333333333333333, 0.0, 0.4166666666666667, 0.35, 0.31666666666666665, 0.5, 0.48333333333333334, 0.6666666666666666, 0.13333333333333333, 0.36666666666666664, 0.75, 0.65, 0.65, 0.35, 0.95, 0.35, 0.9833333333333333, 0.31666666666666665, 0.1, 0.36666666666666664, 0.8333333333333334, 0.2833333333333333, 0.75, 0.016666666666666666, 0.6666666666666666, 0.06666666666666667, 0.18333333333333332, 0.9833333333333333, 0.9166666666666666, 0.3, 0.65, 0.4, 0.11666666666666667, 0.8, 0.5833333333333334, 0.38333333333333336, 0.31666666666666665, 0.43333333333333335, 0.6166666666666667, 0.03333333333333333, 0.4666666666666667, 0.43333333333333335, 0.6333333333333333, 0.4166666666666667, 0.38333333333333336, 0.0, 0.08333333333333333, 0.06666666666666667, 0.21666666666666667, 0.55, 0.18333333333333332, 0.55, 0.7833333333333333, 0.5, 0.65, 0.0, 0.05, 0.2, 0.75, 0.48333333333333334, 0.0, 1.0, 0.0, 0.38333333333333336, 0.5333333333333333, 0.0, 0.9333333333333333, 0.5333333333333333, 0.0, 0.0, 0.48333333333333334, 0.6333333333333333, 0.65, 0.13333333333333333, 0.15, 0.16666666666666666, 0.7166666666666667, 0.08333333333333333, 0.5, 0.1, 0.03333333333333333, 0.43333333333333335, 0.03333333333333333, 0.45, 0.7333333333333333, 0.15, 0.0, 0.6333333333333333, 0.45, 0.55, 0.5333333333333333, 0.35, 0.4166666666666667, 0.4666666666666667, 0.38333333333333336, 0.3, 0.1, 0.8166666666666667, 0.05, 0.5666666666666667, 0.5833333333333334, 0.26666666666666666, 0.23333333333333334, 0.0, 0.4166666666666667, 0.5, 0.7166666666666667, 0.8333333333333334, 0.3333333333333333, 0.0, 0.48333333333333334, 0.35, 0.06666666666666667, 0.7166666666666667, 0.08333333333333333, 0.9833333333333333, 0.4166666666666667, 0.5, 0.7666666666666667, 0.3, 0.05, 0.75, 0.31666666666666665, 0.65, 0.5833333333333334, 0.1, 0.35, 0.016666666666666666, 0.2, 0.0, 0.0, 0.0, 0.5666666666666667, 0.31666666666666665, 0.11666666666666667, 0.3333333333333333, 0.43333333333333335, 0.6, 0.5166666666666667, 0.26666666666666666, 0.3333333333333333, 0.08333333333333333, 0.6166666666666667, 0.4666666666666667, 0.6, 0.21666666666666667, 0.05, 0.2, 0.6333333333333333, 0.016666666666666666, 0.75, 0.35, 0.35, 0.25, 0.05, 0.0, 0.4666666666666667, 0.4, 0.55, 0.23333333333333334, 0.7666666666666667, 0.0, 0.8666666666666667, 0.18333333333333332, 0.21666666666666667, 0.4666666666666667, 0.55, 0.43333333333333335, 0.0, 0.18333333333333332, 0.7166666666666667, 0.11666666666666667, 0.13333333333333333, 0.9833333333333333, 0.9, 0.7833333333333333, 0.8, 0.0, 0.25, 0.45, 0.2833333333333333, 0.5166666666666667, 0.31666666666666665, 0.0, 0.016666666666666666, 0.25, 0.65, 0.6166666666666667, 0.18333333333333332, 0.08333333333333333, 0.15, 0.08333333333333333, 0.15, 0.23333333333333334, 0.06666666666666667, 0.43333333333333335, 0.6666666666666666, 0.06666666666666667, 0.4666666666666667, 0.0, 0.6333333333333333, 0.7, 0.36666666666666664, 0.2, 0.1, 0.2, 0.4, 0.43333333333333335, 0.03333333333333333, 0.45, 0.36666666666666664, 0.0, 0.4666666666666667, 0.13333333333333333, 0.35, 0.9, 0.21666666666666667, 0.6666666666666666, 0.6333333333333333, 0.08333333333333333, 0.4666666666666667, 0.9833333333333333, 0.7666666666666667, 0.38333333333333336, 0.13333333333333333, 0.5333333333333333, 0.65, 0.06666666666666667, 0.08333333333333333, 0.1, 0.8833333333333333, 0.31666666666666665, 0.016666666666666666, 0.18333333333333332, 0.0, 0.6, 0.5333333333333333, 0.03333333333333333, 0.8, 0.16666666666666666, 0.75, 0.26666666666666666, 0.25, 0.13333333333333333, 0.7666666666666667, 0.08333333333333333, 0.05, 0.2, 0.6, 0.55, 0.3333333333333333, 0.3, 0.4, 0.0, 0.2, 0.11666666666666667, 0.6833333333333333, 0.55, 0.0, 0.7333333333333333, 0.0, 0.5, 0.18333333333333332, 0.9, 0.36666666666666664, 0.08333333333333333, 0.6666666666666666, 0.5166666666666667, 0.3, 0.7166666666666667, 0.55, 0.0, 0.7, 0.0, 0.13333333333333333, 0.7666666666666667, 0.3333333333333333, 0.65, 0.18333333333333332, 0.15, 0.36666666666666664, 0.21666666666666667, 0.2833333333333333, 0.48333333333333334, 0.35, 0.4666666666666667, 0.0, 0.21666666666666667, 0.13333333333333333, 0.8333333333333334, 0.8, 0.03333333333333333, 0.36666666666666664, 0.35, 0.2, 0.31666666666666665, 0.25, 0.85, 0.3, 0.31666666666666665, 0.38333333333333336, 0.35, 0.3333333333333333, 0.38333333333333336, 0.75, 0.8333333333333334, 0.0, 0.8, 0.75, 0.16666666666666666, 0.35, 0.016666666666666666, 0.75, 0.36666666666666664, 0.21666666666666667, 0.48333333333333334, 0.08333333333333333, 0.0, 0.5, 0.1, 0.11666666666666667, 0.0, 0.6166666666666667, 0.21666666666666667, 0.5, 0.016666666666666666, 0.5, 0.4666666666666667, 0.55, 0.16666666666666666, 0.016666666666666666, 0.6833333333333333, 0.48333333333333334, 0.0, 0.0, 0.55, 0.3, 0.36666666666666664, 0.31666666666666665, 0.16666666666666666, 0.16666666666666666, 0.6833333333333333, 0.15, 0.2, 0.7333333333333333, 0.1, 0.15, 0.7333333333333333, 0.5166666666666667, 0.75, 0.0, 0.8, 0.3, 0.55, 0.31666666666666665, 0.36666666666666664, 0.5333333333333333, 0.0, 0.45, 0.4, 0.26666666666666666, 0.0, 0.7, 0.25, 0.0, 0.8333333333333334, 0.8833333333333333, 0.7166666666666667, 0.8666666666666667, 0.0, 0.5666666666666667, 0.26666666666666666, 0.6, 0.5, 0.7666666666666667, 0.8833333333333333, 0.11666666666666667, 0.11666666666666667, 0.06666666666666667, 0.08333333333333333, 0.5166666666666667, 0.0, 0.15, 0.0, 0.7833333333333333, 0.06666666666666667, 0.11666666666666667, 0.8666666666666667, 0.6833333333333333, 0.5666666666666667, 0.06666666666666667, 0.08333333333333333, 0.25, 0.3, 0.6833333333333333, 0.2833333333333333, 0.5166666666666667, 0.6833333333333333, 0.0, 0.5833333333333334, 0.26666666666666666, 0.0, 0.8, 0.3333333333333333, 0.5, 0.5833333333333334, 0.43333333333333335, 0.05, 0.5666666666666667, 0.0, 0.7833333333333333, 0.55, 0.5333333333333333, 0.65, 0.11666666666666667, 0.3, 0.23333333333333334, 0.4166666666666667, 0.45, 0.38333333333333336, 0.7, 0.2, 0.21666666666666667, 0.2, 0.7833333333333333, 0.48333333333333334, 0.6166666666666667, 0.0, 0.31666666666666665, 0.1, 0.0, 0.65, 0.23333333333333334, 0.3, 0.65, 0.0, 0.36666666666666664, 0.45, 0.0, 0.0, 0.0, 0.5333333333333333, 0.5833333333333334, 0.7666666666666667, 0.0, 0.5, 0.18333333333333332, 0.85, 0.11666666666666667, 0.3333333333333333, 0.23333333333333334, 0.43333333333333335, 0.7666666666666667, 0.0, 0.06666666666666667, 0.4666666666666667, 0.43333333333333335, 0.2833333333333333, 0.45, 0.03333333333333333, 0.38333333333333336, 0.18333333333333332, 0.5, 0.6833333333333333, 0.6666666666666666, 0.38333333333333336, 0.8666666666666667, 0.5333333333333333, 0.25, 0.35, 0.25, 0.7, 0.0, 0.0, 0.5666666666666667, 0.7666666666666667, 0.43333333333333335, 0.6333333333333333, 0.35, 0.31666666666666665, 0.016666666666666666, 0.4, 0.38333333333333336, 0.06666666666666667, 0.55, 0.5666666666666667, 0.7333333333333333, 0.21666666666666667, 0.0, 0.5, 0.03333333333333333, 0.95, 0.1, 0.15, 0.15, 0.3333333333333333, 0.8333333333333334, 0.8, 0.7833333333333333, 0.4666666666666667, 0.9333333333333333, 0.016666666666666666, 0.9, 0.21666666666666667, 0.5166666666666667, 0.0, 0.6, 0.2833333333333333, 0.6, 0.45, 0.06666666666666667, 0.9333333333333333, 0.7833333333333333, 0.5, 0.3333333333333333, 0.016666666666666666, 0.7, 0.38333333333333336, 0.08333333333333333, 0.1, 0.3333333333333333, 0.7333333333333333, 0.6666666666666666, 0.3, 0.23333333333333334, 0.13333333333333333, 0.48333333333333334, 0.6, 0.1, 0.3, 0.8, 0.6833333333333333, 0.9, 0.15, 0.6166666666666667, 0.4666666666666667, 0.2, 0.75, 0.4666666666666667, 0.6333333333333333, 0.7, 0.6166666666666667, 0.35, 1.0, 0.3333333333333333, 0.016666666666666666, 0.5833333333333334, 0.016666666666666666, 0.6833333333333333, 0.18333333333333332, 0.15, 0.15, 0.8333333333333334, 0.4666666666666667, 0.4, 0.7333333333333333, 0.9, 0.11666666666666667, 0.06666666666666667, 0.0, 0.8833333333333333, 0.5166666666666667, 0.5833333333333334, 0.36666666666666664, 0.18333333333333332, 0.31666666666666665, 0.9166666666666666, 0.23333333333333334, 0.9, 0.6, 0.7833333333333333, 0.55, 0.1, 0.65, 0.21666666666666667, 0.8, 0.5833333333333334, 0.75, 0.8333333333333334, 0.6833333333333333, 0.25, 0.5333333333333333, 0.2833333333333333, 0.7833333333333333, 0.5166666666666667, 0.7833333333333333, 0.4, 0.4166666666666667, 0.4, 0.8833333333333333, 0.4666666666666667, 0.38333333333333336, 0.7833333333333333, 0.0, 0.0, 0.16666666666666666, 0.15, 0.23333333333333334, 0.35, 0.13333333333333333, 0.18333333333333332, 0.23333333333333334, 0.0, 0.65, 0.3333333333333333, 0.55, 0.6333333333333333, 0.75, 0.65, 0.1, 0.4, 0.7833333333333333, 0.0, 0.45, 0.55, 0.23333333333333334, 0.55, 0.6666666666666666, 0.0, 0.8833333333333333, 0.75, 0.0, 0.5, 0.36666666666666664, 0.5833333333333334, 0.21666666666666667, 0.18333333333333332, 0.0, 0.25, 0.26666666666666666, 0.5333333333333333, 0.38333333333333336, 0.1, 0.03333333333333333, 0.13333333333333333, 0.65, 0.16666666666666666, 0.0, 0.23333333333333334, 0.16666666666666666, 0.5666666666666667, 0.21666666666666667, 0.13333333333333333, 0.5333333333333333, 0.36666666666666664, 0.0, 0.8, 0.0, 0.4, 0.35, 0.13333333333333333, 0.2, 0.0, 0.0, 0.5833333333333334, 0.2833333333333333, 0.38333333333333336, 0.7, 0.7166666666666667, 0.11666666666666667, 0.3333333333333333, 0.05, 0.6, 0.65, 0.25, 0.1, 0.5833333333333334, 0.4166666666666667, 0.1, 0.65, 0.23333333333333334, 0.5333333333333333, 0.48333333333333334, 0.0, 0.6833333333333333, 0.5666666666666667, 0.48333333333333334, 0.4166666666666667, 0.6833333333333333, 0.3, 0.3, 0.85, 0.35, 0.5333333333333333, 0.38333333333333336, 0.0, 0.5333333333333333, 0.1, 0.0, 0.08333333333333333, 0.55, 0.38333333333333336, 0.25, 0.7333333333333333, 0.25, 0.6833333333333333, 0.48333333333333334, 1.0, 0.4166666666666667, 0.3333333333333333, 0.31666666666666665, 0.6, 0.11666666666666667, 0.03333333333333333, 0.16666666666666666, 0.0, 0.4666666666666667, 0.5, 0.9166666666666666, 0.13333333333333333, 0.7833333333333333, 0.0, 0.5333333333333333, 0.15, 0.11666666666666667, 0.2833333333333333, 0.9666666666666667, 0.31666666666666665, 0.21666666666666667, 0.016666666666666666, 0.9333333333333333, 0.06666666666666667, 0.4666666666666667, 0.21666666666666667, 0.8166666666666667, 0.16666666666666666, 0.5, 0.5166666666666667, 0.7666666666666667, 0.5833333333333334, 0.05, 0.5666666666666667, 0.2, 0.35, 0.15, 0.8666666666666667, 0.48333333333333334, 0.8166666666666667, 0.18333333333333332, 0.36666666666666664, 0.3, 0.45, 0.5833333333333334, 0.8166666666666667, 0.6666666666666666, 0.48333333333333334, 0.16666666666666666, 0.016666666666666666, 0.21666666666666667, 0.1, 0.4166666666666667, 0.7, 0.9, 0.31666666666666665, 0.8333333333333334, 0.6833333333333333, 0.1, 0.36666666666666664, 0.06666666666666667, 0.0, 0.13333333333333333, 0.0, 0.2, 0.08333333333333333, 0.6666666666666666, 0.26666666666666666, 0.03333333333333333, 0.26666666666666666, 0.9666666666666667, 0.31666666666666665, 0.65, 0.18333333333333332, 0.13333333333333333, 0.45, 0.05, 0.7166666666666667, 0.9333333333333333, 0.9333333333333333, 0.08333333333333333, 0.5666666666666667, 0.5833333333333334, 0.0, 0.8166666666666667, 0.6333333333333333, 0.35, 0.0, 0.55, 0.7166666666666667, 0.06666666666666667, 0.2, 0.7333333333333333, 0.8666666666666667, 0.8833333333333333, 0.4, 0.6833333333333333, 0.95, 0.9833333333333333, 0.45, 0.18333333333333332, 0.4666666666666667, 0.4166666666666667, 0.13333333333333333, 0.85, 0.85, 0.4166666666666667, 0.0, 0.8666666666666667, 0.8666666666666667, 0.26666666666666666, 0.25, 0.48333333333333334, 0.4666666666666667, 0.11666666666666667, 0.11666666666666667, 0.7166666666666667, 0.4, 0.6833333333333333, 0.7166666666666667, 0.23333333333333334, 0.5166666666666667, 0.4, 0.4, 0.7666666666666667, 0.5666666666666667, 0.03333333333333333, 0.0, 0.7166666666666667, 0.2833333333333333, 0.7833333333333333, 0.5666666666666667, 0.55, 0.7166666666666667, 0.23333333333333334, 0.11666666666666667, 0.03333333333333333, 0.6666666666666666, 0.38333333333333336, 0.08333333333333333, 0.0, 0.2833333333333333, 0.05, 0.6, 0.48333333333333334, 0.4166666666666667, 0.26666666666666666, 0.8, 0.6166666666666667, 0.2, 0.7333333333333333, 0.18333333333333332, 0.0, 0.6333333333333333, 0.48333333333333334, 0.2, 0.35, 0.0, 0.3333333333333333, 0.0, 0.6, 0.21666666666666667, 0.5833333333333334, 0.4166666666666667, 0.26666666666666666, 0.8, 0.2, 0.7, 0.1, 0.3333333333333333, 0.0, 0.55, 0.9666666666666667, 0.0, 0.0, 0.3, 0.8166666666666667, 0.0, 0.25, 0.1, 0.16666666666666666, 0.7, 0.55, 0.03333333333333333, 0.23333333333333334, 0.9166666666666666, 0.16666666666666666, 0.3, 0.9833333333333333, 0.06666666666666667, 0.7833333333333333, 0.85, 0.7166666666666667, 0.35, 0.15, 0.15, 0.2833333333333333, 0.4666666666666667, 0.0, 0.1, 0.0, 0.2833333333333333, 0.3333333333333333, 0.6166666666666667, 0.0, 0.1, 0.15, 0.7333333333333333, 0.21666666666666667, 0.016666666666666666, 0.08333333333333333, 0.35, 0.23333333333333334, 0.2, 0.0, 0.5833333333333334, 0.6666666666666666, 0.4166666666666667, 0.7666666666666667, 0.6666666666666666, 0.5, 0.21666666666666667, 0.7666666666666667, 0.85, 0.9166666666666666, 0.6, 0.21666666666666667, 0.4666666666666667, 0.03333333333333333, 0.6, 0.25, 0.35, 0.95, 0.6, 0.4166666666666667, 0.08333333333333333, 0.05, 0.03333333333333333, 0.18333333333333332, 0.08333333333333333, 0.55, 0.05, 0.08333333333333333, 0.8666666666666667, 0.6, 0.0, 0.48333333333333334, 0.85, 0.03333333333333333, 0.7833333333333333, 0.36666666666666664, 0.11666666666666667, 0.45, 0.6, 0.3333333333333333, 0.5, 0.7, 0.0, 0.36666666666666664, 0.4166666666666667, 0.7833333333333333, 0.6833333333333333, 0.26666666666666666, 0.0, 0.23333333333333334, 0.06666666666666667, 0.15, 0.08333333333333333, 0.31666666666666665, 0.6666666666666666, 0.5666666666666667, 0.0, 0.1, 0.75, 0.9333333333333333, 0.36666666666666664, 0.25, 0.15, 0.0, 0.0, 0.08333333333333333, 0.7, 0.36666666666666664, 0.06666666666666667, 0.5666666666666667, 0.6833333333333333, 0.6666666666666666, 0.5, 0.5166666666666667, 0.3, 0.3, 0.75, 0.0, 0.5, 0.13333333333333333, 0.8, 0.7166666666666667, 0.9166666666666666, 0.08333333333333333, 0.6666666666666666, 0.15, 0.6333333333333333, 0.5333333333333333, 0.45, 0.38333333333333336, 0.5, 0.55, 0.0, 0.0, 0.1, 0.8333333333333334, 0.2, 0.21666666666666667, 0.6, 0.6833333333333333, 0.016666666666666666, 0.0, 0.4166666666666667, 0.26666666666666666, 0.45, 0.08333333333333333, 0.3333333333333333, 0.9, 0.15, 0.0, 0.08333333333333333, 0.65, 0.5166666666666667, 0.7333333333333333, 0.7333333333333333, 0.45, 0.36666666666666664, 0.6166666666666667, 0.5333333333333333, 0.7333333333333333, 0.0, 0.16666666666666666, 0.3333333333333333, 0.9166666666666666, 0.5666666666666667, 0.31666666666666665, 0.18333333333333332, 0.0, 0.3333333333333333, 0.43333333333333335, 0.6166666666666667, 0.2833333333333333, 0.1, 0.4666666666666667, 0.11666666666666667, 0.016666666666666666, 0.7666666666666667, 0.5333333333333333, 0.7166666666666667, 0.0, 0.8666666666666667, 0.48333333333333334, 0.21666666666666667, 0.36666666666666664, 0.5, 0.016666666666666666, 0.0, 0.6333333333333333, 0.7333333333333333, 0.016666666666666666, 0.6333333333333333, 0.3, 0.38333333333333336, 0.55, 0.3333333333333333, 0.0, 0.016666666666666666, 0.9333333333333333, 0.8833333333333333, 0.6166666666666667, 0.23333333333333334, 0.16666666666666666, 0.48333333333333334, 0.2833333333333333, 0.8833333333333333, 0.03333333333333333, 0.0, 0.8, 0.5333333333333333, 0.2833333333333333, 0.06666666666666667, 0.2, 0.7833333333333333, 0.4666666666666667, 0.23333333333333334, 0.5, 0.3, 0.0, 0.0, 0.0, 0.1, 0.9666666666666667, 0.48333333333333334, 0.06666666666666667, 0.21666666666666667, 0.21666666666666667, 0.05, 0.6833333333333333, 0.75, 0.0, 0.36666666666666664, 0.03333333333333333, 0.5166666666666667, 0.0, 0.5833333333333334, 0.11666666666666667, 0.6833333333333333, 0.6166666666666667, 0.13333333333333333, 0.9666666666666667, 0.15, 0.6333333333333333, 0.8333333333333334, 0.7, 0.6166666666666667, 0.16666666666666666, 0.38333333333333336, 0.8, 0.26666666666666666, 0.55, 0.65, 0.31666666666666665, 0.35, 0.6333333333333333, 0.7333333333333333, 0.5166666666666667, 0.7166666666666667, 0.13333333333333333, 0.7, 0.48333333333333334, 0.6166666666666667, 0.7, 0.8166666666666667, 0.21666666666666667, 0.16666666666666666, 0.8666666666666667, 0.5, 0.05, 0.1, 0.06666666666666667, 0.55, 0.65, 0.65, 0.6833333333333333, 0.85, 0.18333333333333332, 0.6, 0.75, 0.1, 0.45, 0.75, 0.7, 0.2833333333333333, 0.8666666666666667, 0.0, 0.6333333333333333, 0.95, 0.13333333333333333, 0.3, 0.016666666666666666, 0.8333333333333334, 0.03333333333333333, 0.18333333333333332, 0.23333333333333334, 0.5166666666666667, 0.13333333333333333, 0.38333333333333336, 0.7833333333333333, 0.06666666666666667, 0.45, 0.6666666666666666, 0.25, 0.7833333333333333, 0.55, 0.75, 0.5833333333333334, 0.6333333333333333, 0.3, 0.7166666666666667, 0.5, 0.7333333333333333, 0.95, 0.18333333333333332, 0.7166666666666667, 0.3333333333333333, 0.55, 0.7666666666666667, 0.0, 0.5166666666666667, 0.5666666666666667, 0.016666666666666666, 0.4666666666666667, 0.5, 0.2, 0.5166666666666667, 0.05, 0.11666666666666667, 0.43333333333333335, 0.03333333333333333, 0.5833333333333334, 0.5666666666666667, 0.11666666666666667, 0.75, 0.8833333333333333, 0.8666666666666667, 0.5333333333333333, 0.2, 0.9833333333333333, 0.65, 0.48333333333333334, 0.75, 0.16666666666666666, 0.26666666666666666, 0.3333333333333333, 0.65, 0.8333333333333334, 0.08333333333333333, 0.15, 0.6, 0.5166666666666667, 0.25, 0.11666666666666667, 0.8, 0.26666666666666666, 0.5, 0.5166666666666667, 0.016666666666666666, 0.48333333333333334, 0.31666666666666665, 0.85, 0.15, 0.2, 0.26666666666666666, 0.6333333333333333, 0.31666666666666665, 0.0, 0.8166666666666667, 0.7166666666666667, 0.6833333333333333, 0.38333333333333336, 0.1, 0.36666666666666664, 0.5833333333333334, 0.48333333333333334, 0.4666666666666667, 0.35, 0.4166666666666667, 0.6, 0.36666666666666664, 0.0, 0.23333333333333334, 0.6666666666666666, 0.7666666666666667, 0.03333333333333333, 0.1, 0.85, 0.6, 0.7666666666666667, 0.6666666666666666, 0.03333333333333333, 0.3, 0.4, 0.6166666666666667, 0.1, 0.65, 0.8166666666666667, 0.7333333333333333, 0.35, 0.8166666666666667, 0.6666666666666666, 0.016666666666666666, 0.3, 0.2833333333333333, 0.26666666666666666, 0.3, 0.21666666666666667, 0.7833333333333333, 0.15, 0.2833333333333333, 0.08333333333333333, 0.0, 0.36666666666666664, 0.35, 0.95, 0.5666666666666667, 0.05, 0.26666666666666666, 0.5, 0.05, 0.6166666666666667, 0.9166666666666666, 0.26666666666666666, 0.1, 0.36666666666666664, 0.5666666666666667, 0.3333333333333333, 0.5666666666666667, 0.7333333333333333, 0.7666666666666667, 0.1, 0.0, 0.5333333333333333, 0.1, 0.31666666666666665, 0.18333333333333332, 0.75, 0.8833333333333333, 0.48333333333333334, 0.21666666666666667, 0.0, 0.55, 0.45, 0.3333333333333333, 0.8166666666666667, 0.5333333333333333, 0.85, 0.0, 0.0, 0.13333333333333333, 0.4666666666666667, 0.45, 0.0, 0.0, 0.08333333333333333, 0.31666666666666665, 0.2, 0.31666666666666665, 0.4, 0.85, 0.3, 0.25, 0.0, 0.5833333333333334, 0.48333333333333334, 0.5, 0.48333333333333334, 0.4166666666666667, 0.5833333333333334, 0.13333333333333333, 0.5333333333333333, 0.23333333333333334, 0.31666666666666665, 0.13333333333333333, 0.4666666666666667, 0.0, 0.5, 0.36666666666666664, 0.1, 0.15, 0.4666666666666667, 0.16666666666666666, 0.5833333333333334, 0.13333333333333333, 0.05, 0.3, 0.18333333333333332, 0.05, 0.0, 0.5, 0.16666666666666666, 0.48333333333333334, 0.25, 0.3, 0.03333333333333333, 0.11666666666666667, 0.5166666666666667, 0.0, 0.6333333333333333, 0.35, 0.48333333333333334, 0.7833333333333333, 0.0, 0.48333333333333334, 0.08333333333333333, 0.7333333333333333, 0.25, 0.5, 0.7166666666666667, 0.3333333333333333, 0.3, 0.6333333333333333, 0.7666666666666667, 0.2, 0.48333333333333334, 0.7666666666666667, 0.95, 0.5833333333333334, 0.0, 0.6333333333333333, 0.7833333333333333, 0.48333333333333334, 0.0, 0.4, 0.5, 0.18333333333333332, 0.45, 0.0, 0.7333333333333333, 0.5666666666666667, 0.4166666666666667, 0.7, 0.0, 0.4, 0.8333333333333334, 0.95, 0.31666666666666665, 0.9333333333333333, 0.0, 0.0, 0.8833333333333333, 0.3, 0.31666666666666665, 0.0, 0.4666666666666667, 0.03333333333333333, 0.9333333333333333, 0.9333333333333333, 0.31666666666666665, 0.75, 0.06666666666666667, 0.0, 0.23333333333333334, 0.016666666666666666, 0.8666666666666667, 0.03333333333333333, 0.6666666666666666, 0.18333333333333332, 0.1, 0.6, 0.05, 0.0, 0.2, 0.0, 0.5, 0.8333333333333334, 0.75, 0.06666666666666667, 0.5833333333333334, 0.38333333333333336, 0.6666666666666666, 0.16666666666666666, 0.6166666666666667, 0.5, 0.5333333333333333, 0.23333333333333334, 0.45, 0.55, 0.016666666666666666, 0.38333333333333336, 0.55, 0.65, 0.65, 0.75, 0.3333333333333333, 0.7833333333333333, 0.08333333333333333, 0.016666666666666666, 0.5333333333333333, 0.03333333333333333, 0.6333333333333333, 0.85, 0.0, 0.016666666666666666, 0.0, 0.15, 0.35, 0.6666666666666666, 0.18333333333333332, 0.5666666666666667, 0.31666666666666665, 0.4, 0.85, 0.08333333333333333, 0.26666666666666666, 0.4666666666666667, 0.3, 0.5833333333333334, 0.36666666666666664, 0.45, 0.1, 0.3333333333333333, 0.15, 0.65, 0.0, 0.38333333333333336, 0.15, 0.6, 0.48333333333333334, 0.0, 0.65, 0.31666666666666665, 0.1, 0.03333333333333333, 0.8833333333333333, 0.1, 0.0, 0.8666666666666667, 0.15, 0.0, 0.6333333333333333, 0.31666666666666665, 0.11666666666666667, 0.11666666666666667, 0.7833333333333333, 0.7666666666666667, 0.5333333333333333, 0.26666666666666666, 0.7166666666666667, 0.31666666666666665, 0.08333333333333333, 0.11666666666666667, 0.38333333333333336, 0.45, 0.7, 0.31666666666666665, 0.15, 0.38333333333333336, 0.5333333333333333, 0.6, 0.8333333333333334, 0.6666666666666666, 0.7333333333333333, 0.6, 0.45, 0.48333333333333334, 0.0, 0.5333333333333333, 0.4166666666666667, 0.13333333333333333, 0.5166666666666667, 0.5333333333333333, 0.43333333333333335, 0.9666666666666667, 0.5666666666666667, 0.0, 0.85, 0.36666666666666664, 0.5166666666666667, 0.7333333333333333, 0.0, 0.25, 0.11666666666666667, 0.85, 0.5333333333333333, 0.38333333333333336, 0.85, 0.65, 0.45, 0.0, 0.2, 0.06666666666666667, 0.7, 0.6333333333333333, 0.0, 0.45, 0.15, 0.1, 0.55, 0.5166666666666667, 0.0, 0.8, 0.05, 0.26666666666666666, 0.0, 0.1, 0.4, 0.43333333333333335, 0.5833333333333334, 0.23333333333333334, 0.18333333333333332, 0.7166666666666667, 0.35, 0.9333333333333333, 0.1, 0.6, 0.21666666666666667, 0.4666666666666667, 0.5833333333333334, 0.6666666666666666, 0.15, 0.05, 0.9, 0.9, 0.48333333333333334, 0.5166666666666667, 0.03333333333333333, 0.06666666666666667, 0.16666666666666666, 0.0, 0.0, 0.3333333333333333, 0.31666666666666665, 0.65, 0.43333333333333335, 0.05, 0.9166666666666666, 0.2, 0.08333333333333333, 0.1, 0.05, 0.5833333333333334, 0.13333333333333333, 0.31666666666666665, 0.55, 0.25, 0.15, 0.11666666666666667, 0.3333333333333333, 0.21666666666666667, 0.05, 0.65, 0.06666666666666667, 0.35, 0.36666666666666664, 0.15, 0.11666666666666667, 0.0, 0.21666666666666667, 0.05, 0.8, 0.6666666666666666, 0.23333333333333334, 0.06666666666666667, 0.5, 0.8, 0.75, 0.7833333333333333, 0.45, 0.8666666666666667, 0.35, 0.7166666666666667, 0.6333333333333333, 0.5, 0.7, 0.016666666666666666, 0.13333333333333333, 0.5, 0.23333333333333334, 0.0, 0.8, 0.0, 0.5166666666666667, 0.31666666666666665, 0.43333333333333335, 0.7333333333333333, 0.5833333333333334, 0.2, 0.03333333333333333, 0.1, 0.25, 0.016666666666666666, 0.06666666666666667, 0.5666666666666667, 0.21666666666666667, 0.31666666666666665, 0.1, 0.55, 0.4666666666666667, 0.18333333333333332, 0.35, 0.7666666666666667, 0.016666666666666666, 0.6666666666666666, 0.7666666666666667, 0.75, 0.6833333333333333, 0.9166666666666666, 0.23333333333333334, 0.5666666666666667, 0.06666666666666667, 0.11666666666666667, 0.25, 0.6166666666666667, 0.16666666666666666, 0.36666666666666664, 0.4166666666666667, 0.23333333333333334, 0.31666666666666665, 0.4, 0.45, 0.43333333333333335, 0.2833333333333333, 0.05, 0.05, 0.38333333333333336, 0.11666666666666667, 0.6166666666666667, 0.08333333333333333, 0.9666666666666667, 0.0, 0.08333333333333333, 0.3333333333333333, 0.95, 0.5166666666666667, 0.0, 0.0, 0.1, 0.23333333333333334, 0.21666666666666667, 0.75, 0.8166666666666667, 0.08333333333333333, 0.31666666666666665, 0.8333333333333334, 0.4, 0.2, 0.75, 0.75, 0.7666666666666667, 0.43333333333333335, 0.7833333333333333, 0.6833333333333333, 0.38333333333333336, 0.5833333333333334, 0.48333333333333334, 0.15, 0.2833333333333333, 0.0, 0.15, 0.65, 0.4666666666666667, 0.5666666666666667, 0.7666666666666667, 0.23333333333333334, 0.4, 0.4166666666666667, 0.26666666666666666, 0.6, 0.2, 0.5833333333333334, 0.0, 0.4666666666666667, 0.6166666666666667, 0.5833333333333334, 0.08333333333333333, 0.08333333333333333, 0.6833333333333333, 0.23333333333333334, 0.5333333333333333, 0.06666666666666667, 0.05, 0.0, 0.16666666666666666, 0.05, 0.8166666666666667, 0.0, 0.5833333333333334, 0.7833333333333333, 0.23333333333333334, 0.0, 0.7, 0.3, 0.0, 0.06666666666666667, 0.48333333333333334, 0.5333333333333333, 0.7, 0.4166666666666667, 0.11666666666666667, 0.35, 0.3333333333333333, 0.6166666666666667, 0.31666666666666665, 0.36666666666666664, 0.55, 0.06666666666666667, 0.48333333333333334, 0.43333333333333335, 0.0, 0.7166666666666667, 0.43333333333333335, 0.85, 0.0, 0.45, 0.0, 0.08333333333333333, 0.7833333333333333, 0.65, 0.55, 0.85, 0.3, 0.06666666666666667, 0.45, 0.3, 0.1, 0.4166666666666667, 0.1, 0.7166666666666667, 0.65, 0.0, 0.2833333333333333, 0.7, 0.55, 0.5666666666666667, 0.2, 0.8666666666666667, 0.95, 0.75, 0.5833333333333334, 0.8666666666666667, 0.7333333333333333, 0.23333333333333334, 0.23333333333333334, 0.8833333333333333, 0.8, 0.9, 0.38333333333333336, 0.31666666666666665, 0.8333333333333334, 0.25, 0.016666666666666666, 0.03333333333333333, 0.0, 0.2, 0.43333333333333335, 0.43333333333333335, 0.95, 0.15, 0.6333333333333333, 0.9666666666666667, 0.0, 0.75, 0.4666666666666667, 0.0, 0.4666666666666667, 0.2, 0.11666666666666667, 0.36666666666666664, 0.4, 0.6166666666666667, 0.25, 0.36666666666666664, 0.7666666666666667, 0.25, 0.26666666666666666, 0.5666666666666667, 0.7833333333333333, 0.7166666666666667, 0.8, 0.21666666666666667, 0.016666666666666666, 0.7666666666666667, 0.7, 0.21666666666666667, 0.1, 0.6833333333333333, 0.18333333333333332, 0.1, 0.13333333333333333, 0.016666666666666666, 0.7833333333333333, 0.35, 0.8, 0.2, 0.3, 0.48333333333333334, 0.7166666666666667, 0.03333333333333333, 0.8666666666666667, 0.5666666666666667, 0.65, 0.45, 0.38333333333333336, 0.21666666666666667, 0.7, 0.1, 0.0, 0.8166666666666667, 0.23333333333333334, 0.25, 0.9166666666666666, 0.18333333333333332, 0.9333333333333333, 0.2833333333333333, 0.4, 0.38333333333333336, 0.5833333333333334, 0.6333333333333333, 0.6, 0.3333333333333333, 0.23333333333333334, 0.5666666666666667, 0.03333333333333333, 0.4166666666666667, 0.016666666666666666, 0.23333333333333334, 0.2, 0.06666666666666667, 0.35, 0.25, 0.65, 0.7833333333333333, 0.8833333333333333, 0.0, 0.4, 0.13333333333333333, 0.8, 0.25, 0.4, 0.3, 0.2, 0.4166666666666667, 0.5, 0.26666666666666666, 0.0, 0.2833333333333333, 0.5833333333333334, 0.8833333333333333, 0.7166666666666667, 0.36666666666666664, 0.8, 0.11666666666666667, 0.03333333333333333, 0.3, 0.9833333333333333, 0.13333333333333333, 0.7, 0.0, 0.06666666666666667, 0.7833333333333333, 0.9, 0.23333333333333334, 0.48333333333333334, 0.4, 0.13333333333333333, 0.4166666666666667, 0.65, 0.13333333333333333, 0.8333333333333334, 0.8833333333333333, 0.2, 0.45, 0.4666666666666667, 0.9833333333333333, 0.06666666666666667, 0.0, 0.08333333333333333, 0.21666666666666667, 0.45, 0.7333333333333333, 0.8, 0.0, 0.85, 0.1, 0.016666666666666666, 0.38333333333333336, 0.43333333333333335, 0.9333333333333333, 0.3, 0.08333333333333333, 0.36666666666666664, 0.5166666666666667, 0.2833333333333333, 0.6, 0.0, 0.2833333333333333, 0.2, 0.3, 0.6, 0.55, 0.016666666666666666, 0.06666666666666667, 0.7, 0.65, 0.36666666666666664, 0.6666666666666666, 0.21666666666666667, 0.9, 0.75, 0.0, 0.4666666666666667, 0.08333333333333333, 0.16666666666666666, 0.36666666666666664, 0.55, 0.0, 0.05, 0.4, 0.18333333333333332, 0.2833333333333333, 0.26666666666666666, 0.48333333333333334, 0.35, 0.4166666666666667, 0.2, 0.7833333333333333, 0.03333333333333333, 0.38333333333333336, 0.6, 0.0, 0.31666666666666665, 0.06666666666666667, 0.08333333333333333, 0.9833333333333333, 0.2, 0.18333333333333332, 0.3, 0.6166666666666667, 0.13333333333333333, 0.5166666666666667, 0.75, 0.16666666666666666, 0.21666666666666667, 0.7166666666666667, 0.06666666666666667, 0.75, 0.03333333333333333, 0.26666666666666666, 0.4666666666666667, 0.23333333333333334, 0.06666666666666667, 0.0, 0.5, 0.8333333333333334, 0.31666666666666665, 0.31666666666666665, 0.7166666666666667, 0.55, 0.36666666666666664, 0.55, 0.11666666666666667, 0.4666666666666667, 0.21666666666666667, 0.7666666666666667, 0.1, 0.26666666666666666, 0.0, 0.11666666666666667, 0.8166666666666667, 0.2, 0.4166666666666667, 0.016666666666666666, 0.7333333333333333, 0.0, 0.11666666666666667, 0.8, 0.13333333333333333, 0.0, 0.36666666666666664, 0.35, 0.11666666666666667, 0.7666666666666667, 0.0, 0.4, 0.1, 0.05, 0.6166666666666667, 0.43333333333333335, 0.18333333333333332, 0.1, 0.0, 0.6666666666666666, 0.16666666666666666, 0.7833333333333333, 0.8833333333333333, 0.06666666666666667, 0.4166666666666667, 0.43333333333333335, 0.0, 0.016666666666666666, 0.0, 0.5666666666666667, 0.7833333333333333, 0.18333333333333332, 0.016666666666666666, 0.7, 0.4, 0.8333333333333334, 0.5333333333333333, 0.1, 0.7333333333333333, 0.3, 0.06666666666666667, 0.4666666666666667, 0.25, 0.43333333333333335, 0.0, 0.4666666666666667, 0.5833333333333334, 0.6, 0.3333333333333333, 0.48333333333333334, 0.05, 0.2833333333333333, 0.45, 0.1, 0.4166666666666667, 0.45, 0.5166666666666667, 0.7833333333333333, 0.5, 0.08333333333333333, 0.4666666666666667, 0.1, 0.6166666666666667, 0.4, 0.8166666666666667, 0.36666666666666664, 0.21666666666666667, 0.3, 0.26666666666666666, 0.3333333333333333, 0.08333333333333333, 0.0, 0.48333333333333334, 0.0, 0.5166666666666667, 0.6, 0.3, 0.36666666666666664, 0.03333333333333333, 0.36666666666666664, 0.23333333333333334, 0.3333333333333333, 0.4666666666666667, 0.4, 0.5833333333333334, 0.16666666666666666, 0.3, 0.5333333333333333, 0.4666666666666667, 0.0, 0.7666666666666667, 0.0, 0.0, 0.48333333333333334, 0.0, 0.2, 0.08333333333333333, 0.05, 0.2, 0.2833333333333333, 0.15, 0.43333333333333335, 0.35, 0.75, 0.0, 0.05, 0.5333333333333333, 0.6666666666666666, 0.3, 0.016666666666666666, 0.65, 0.1, 0.48333333333333334, 0.25, 0.7333333333333333, 0.0, 0.5, 0.55, 0.43333333333333335, 1.0, 0.35, 0.0, 0.6333333333333333, 0.4166666666666667, 0.2, 0.0, 0.1, 0.6333333333333333, 0.4166666666666667, 0.16666666666666666, 0.75, 0.0, 0.8333333333333334, 0.2, 0.8333333333333334, 0.65, 0.5333333333333333, 0.13333333333333333, 0.11666666666666667, 0.8166666666666667, 0.9, 0.6833333333333333, 0.36666666666666664, 0.5166666666666667, 0.0, 0.3333333333333333, 0.5, 0.2833333333333333, 0.4666666666666667, 0.0, 0.08333333333333333, 0.5, 0.5833333333333334, 0.26666666666666666, 0.65, 0.0, 0.23333333333333334, 0.5166666666666667, 0.18333333333333332, 0.5333333333333333, 0.75, 0.4, 0.08333333333333333, 0.05, 0.0, 0.8333333333333334, 0.4, 0.7166666666666667, 0.4166666666666667, 0.08333333333333333, 0.7666666666666667, 0.16666666666666666, 0.35, 0.75, 0.4166666666666667, 0.3, 0.5833333333333334, 0.6833333333333333, 0.4166666666666667, 0.08333333333333333, 0.05, 0.8333333333333334, 0.8333333333333334, 0.5666666666666667, 0.38333333333333336, 0.26666666666666666, 0.6, 0.13333333333333333, 0.55, 0.9, 0.26666666666666666, 0.35, 0.016666666666666666, 0.1, 0.75, 0.25, 0.016666666666666666, 0.25, 0.13333333333333333, 0.18333333333333332, 0.55, 0.55, 0.4666666666666667, 0.7333333333333333, 0.43333333333333335, 0.95, 0.21666666666666667, 0.26666666666666666, 0.5833333333333334, 0.7, 0.4, 0.6333333333333333, 0.0, 0.03333333333333333, 0.55, 0.21666666666666667, 0.016666666666666666, 0.9333333333333333, 0.75, 0.25, 0.85, 0.25, 0.6166666666666667, 0.5, 0.5333333333333333, 0.5333333333333333, 0.3, 0.0, 0.7, 0.43333333333333335, 0.0, 0.016666666666666666, 0.0, 0.45, 0.3333333333333333, 0.0, 0.48333333333333334, 0.9, 0.31666666666666665, 0.5666666666666667, 0.7, 0.2833333333333333, 0.3333333333333333, 0.0, 0.5, 0.75, 0.2833333333333333, 0.9, 0.8666666666666667, 0.5833333333333334, 0.11666666666666667, 0.7166666666666667, 0.95, 0.3, 0.11666666666666667, 0.0, 0.8833333333333333, 0.08333333333333333, 0.4666666666666667, 0.0, 0.9666666666666667, 0.8833333333333333, 0.26666666666666666, 0.05, 0.9833333333333333, 0.8, 0.65, 0.65, 0.7, 0.4166666666666667, 0.0, 0.05, 0.5666666666666667, 0.11666666666666667, 0.03333333333333333, 0.7666666666666667, 0.5, 0.6666666666666666, 0.3333333333333333, 0.65, 0.7333333333333333, 0.1, 0.85, 0.85, 0.23333333333333334, 0.0, 0.4666666666666667, 0.36666666666666664, 0.15, 0.5, 0.18333333333333332, 0.55, 0.0, 0.55, 0.21666666666666667, 0.31666666666666665, 0.7833333333333333, 0.7166666666666667, 0.15, 0.0, 0.5, 0.8666666666666667, 0.38333333333333336, 0.6, 0.5666666666666667, 0.03333333333333333, 0.0, 0.31666666666666665, 0.9166666666666666, 0.2833333333333333, 0.9166666666666666, 0.15, 0.18333333333333332, 0.65, 0.6, 0.5833333333333334, 0.43333333333333335, 0.26666666666666666, 0.7333333333333333, 0.43333333333333335, 0.1, 0.7333333333333333, 0.55, 0.2, 0.45, 0.03333333333333333, 0.7833333333333333, 0.7, 0.65, 0.65, 0.5, 0.38333333333333336, 0.48333333333333334, 0.35, 0.5, 0.16666666666666666, 0.08333333333333333, 0.1, 0.7333333333333333, 0.2, 0.13333333333333333, 0.11666666666666667, 0.45, 0.5, 0.5666666666666667, 0.21666666666666667, 0.2, 0.2833333333333333, 0.05, 0.4166666666666667, 0.05, 0.31666666666666665, 0.0, 0.21666666666666667, 0.6333333333333333, 0.65, 0.2, 0.03333333333333333, 0.08333333333333333, 0.5166666666666667, 0.5, 0.6333333333333333, 0.65, 0.23333333333333334, 0.8166666666666667, 0.18333333333333332, 0.23333333333333334, 0.36666666666666664, 0.3333333333333333, 0.31666666666666665, 0.7, 0.55, 0.0, 0.38333333333333336, 0.5666666666666667, 0.11666666666666667, 0.4666666666666667, 0.8, 0.65, 0.3, 0.5166666666666667, 0.85, 0.2833333333333333, 0.0, 0.21666666666666667, 0.31666666666666665, 0.9666666666666667, 0.45, 0.15, 0.2833333333333333, 0.6, 0.0, 0.05, 0.9, 0.5666666666666667, 0.23333333333333334, 0.9333333333333333, 0.38333333333333336, 0.26666666666666666, 0.2, 0.5333333333333333, 0.7333333333333333, 0.0, 0.05, 0.1, 0.6666666666666666, 0.3, 0.7166666666666667, 0.4, 0.4666666666666667, 0.7, 0.13333333333333333, 0.016666666666666666, 0.48333333333333334, 0.65, 0.5166666666666667, 0.6666666666666666, 0.43333333333333335, 0.26666666666666666, 0.43333333333333335, 0.35, 0.5166666666666667, 0.5333333333333333, 0.7666666666666667, 0.48333333333333334, 0.25, 0.2, 0.0, 0.4166666666666667, 0.48333333333333334, 0.6, 0.16666666666666666, 0.2833333333333333, 0.5166666666666667, 0.03333333333333333, 0.5, 0.1, 0.7, 0.1, 0.13333333333333333, 0.38333333333333336, 0.5833333333333334, 0.36666666666666664, 0.15, 0.43333333333333335, 0.3, 0.6833333333333333, 0.35, 0.35, 0.11666666666666667, 0.85, 0.11666666666666667, 0.5166666666666667, 0.8333333333333334, 0.05, 0.8166666666666667, 0.6333333333333333, 0.016666666666666666, 0.9, 0.03333333333333333, 0.85, 0.5, 0.5833333333333334, 0.0, 0.13333333333333333, 0.6333333333333333, 0.9833333333333333, 0.85, 0.5333333333333333, 0.8333333333333334, 0.6, 0.08333333333333333, 0.31666666666666665, 0.06666666666666667, 0.7, 0.6833333333333333, 0.6166666666666667, 0.4166666666666667, 0.48333333333333334, 0.9666666666666667, 0.2, 0.6333333333333333, 0.13333333333333333, 0.18333333333333332, 0.05, 0.8166666666666667, 0.5666666666666667, 0.38333333333333336, 0.65, 0.3333333333333333, 0.15, 0.31666666666666665, 0.36666666666666664, 0.3, 0.4, 0.5333333333333333, 0.0, 0.85, 0.45, 0.25, 0.1, 0.5666666666666667, 0.21666666666666667, 0.31666666666666665, 0.8666666666666667, 0.5833333333333334, 0.0, 0.0, 0.5, 0.016666666666666666, 0.75, 0.6666666666666666, 0.21666666666666667, 0.2, 0.23333333333333334, 0.18333333333333332, 0.38333333333333336, 0.43333333333333335, 0.48333333333333334, 0.5333333333333333, 0.31666666666666665, 0.7166666666666667, 0.5166666666666667, 0.016666666666666666, 0.3, 0.0, 0.43333333333333335, 0.55, 0.6333333333333333, 0.8, 0.95, 0.08333333333333333, 1.0, 0.13333333333333333, 0.31666666666666665, 0.0, 0.2, 0.8166666666666667, 0.31666666666666665, 0.6166666666666667, 0.0, 0.65, 0.18333333333333332, 0.31666666666666665, 0.45, 0.0, 0.7666666666666667, 0.5333333333333333, 0.8666666666666667, 0.36666666666666664, 0.65, 0.21666666666666667, 0.7166666666666667, 0.7333333333333333, 0.9166666666666666, 0.08333333333333333, 0.2, 0.6666666666666666, 0.0, 0.016666666666666666, 0.95, 0.7166666666666667, 0.7166666666666667, 0.25, 0.35, 0.45, 0.48333333333333334, 0.8833333333333333, 0.21666666666666667, 0.13333333333333333, 0.4, 0.6, 0.45, 0.0, 0.0, 0.48333333333333334, 0.06666666666666667, 0.6833333333333333, 0.7333333333333333, 0.4, 0.0, 0.4, 0.6, 0.4666666666666667, 0.45, 0.48333333333333334, 0.5166666666666667, 0.5, 0.5, 0.23333333333333334, 0.5833333333333334, 0.45, 0.2833333333333333, 0.06666666666666667, 0.18333333333333332, 0.0, 0.0, 0.23333333333333334, 0.36666666666666664, 0.05, 0.35, 0.16666666666666666, 0.8333333333333334, 0.5166666666666667, 0.13333333333333333, 0.8166666666666667, 0.3333333333333333, 0.0, 0.5166666666666667, 0.5166666666666667, 0.38333333333333336, 0.13333333333333333, 0.1, 0.9166666666666666, 0.6833333333333333, 0.8333333333333334, 0.38333333333333336, 0.6833333333333333, 0.3333333333333333, 0.11666666666666667, 0.75, 0.8833333333333333, 0.18333333333333332, 0.1, 0.0, 0.5333333333333333, 0.85, 0.3, 0.3, 0.2, 0.6666666666666666, 0.26666666666666666, 0.08333333333333333, 0.06666666666666667, 0.9833333333333333, 0.9166666666666666, 0.2, 0.21666666666666667, 0.21666666666666667, 0.38333333333333336, 0.06666666666666667, 0.55, 0.21666666666666667, 0.36666666666666664, 0.5333333333333333, 0.16666666666666666, 0.2833333333333333, 0.7333333333333333, 0.03333333333333333, 0.85, 0.3333333333333333, 0.26666666666666666, 0.4, 0.4666666666666667, 0.31666666666666665, 0.8833333333333333, 0.75, 0.43333333333333335, 0.21666666666666667, 0.8166666666666667, 0.9, 0.08333333333333333, 0.7666666666666667, 0.21666666666666667, 0.35, 0.65, 0.35, 0.05, 0.05, 0.0, 0.48333333333333334, 0.7, 0.0, 0.15, 0.15, 0.0, 0.55, 0.5333333333333333, 0.7333333333333333, 0.21666666666666667, 0.4166666666666667, 0.5666666666666667, 0.21666666666666667, 0.7333333333333333, 0.75, 0.06666666666666667, 0.5666666666666667, 0.15, 0.3333333333333333, 0.7333333333333333, 0.0, 0.0, 0.0, 0.31666666666666665, 0.1, 0.5666666666666667, 0.8, 0.3333333333333333, 0.4166666666666667, 0.8833333333333333, 0.4666666666666667, 0.8666666666666667, 0.5833333333333334, 0.3333333333333333, 0.8166666666666667, 0.7666666666666667, 0.26666666666666666, 0.3333333333333333, 0.25, 0.23333333333333334, 0.18333333333333332, 0.4166666666666667, 0.0, 0.45, 0.4166666666666667, 0.38333333333333336, 0.48333333333333334, 0.23333333333333334, 0.5333333333333333, 0.7, 0.9, 0.6333333333333333, 0.3333333333333333, 0.1, 0.05, 0.3333333333333333, 0.4166666666666667, 0.11666666666666667, 0.5, 0.06666666666666667, 0.48333333333333334, 0.85, 0.13333333333333333, 0.16666666666666666, 0.23333333333333334, 0.08333333333333333, 0.4166666666666667, 0.4, 0.7166666666666667, 0.6833333333333333, 0.35, 0.5833333333333334, 0.6333333333333333, 0.3333333333333333, 0.7166666666666667, 0.18333333333333332, 0.5666666666666667, 0.4166666666666667, 0.26666666666666666, 0.6, 0.1, 0.3333333333333333, 0.18333333333333332, 0.48333333333333334, 0.08333333333333333, 0.65, 0.05, 0.4, 0.48333333333333334, 0.4666666666666667, 0.6666666666666666, 0.2833333333333333, 0.45, 0.11666666666666667, 0.13333333333333333, 0.43333333333333335, 0.13333333333333333, 0.95, 0.016666666666666666, 0.0, 0.8333333333333334, 0.4166666666666667, 0.5, 0.1, 0.31666666666666665, 0.21666666666666667, 0.3333333333333333, 0.2833333333333333, 0.0, 0.6, 0.8833333333333333, 0.13333333333333333, 0.0, 0.3, 0.43333333333333335, 0.08333333333333333, 0.2833333333333333, 0.7, 0.9833333333333333, 0.2, 0.8833333333333333, 0.16666666666666666, 0.0, 0.5666666666666667, 0.5333333333333333, 0.48333333333333334, 0.38333333333333336, 0.21666666666666667, 0.1, 0.3333333333333333, 0.05, 0.6, 0.9666666666666667, 0.2, 0.03333333333333333, 0.6166666666666667, 0.18333333333333332, 0.03333333333333333, 0.23333333333333334, 0.08333333333333333, 0.5166666666666667, 0.4, 0.35, 0.7333333333333333, 0.5833333333333334, 0.03333333333333333, 0.26666666666666666, 0.0, 0.6333333333333333, 0.55, 0.4666666666666667, 0.38333333333333336, 0.0, 0.8166666666666667, 0.016666666666666666, 0.7833333333333333, 0.2833333333333333, 0.6, 0.16666666666666666, 0.5666666666666667, 0.4166666666666667, 0.8833333333333333, 0.6833333333333333, 0.8666666666666667, 0.0, 0.7166666666666667, 0.7833333333333333, 0.2833333333333333, 0.75, 0.48333333333333334, 0.2833333333333333, 0.1, 0.23333333333333334, 0.0, 0.5333333333333333, 0.2, 0.06666666666666667, 0.11666666666666667, 0.0, 0.7333333333333333, 0.0, 0.15, 0.23333333333333334, 0.7166666666666667, 0.3, 0.9, 0.5166666666666667, 0.6833333333333333, 0.016666666666666666, 0.16666666666666666, 0.7333333333333333, 0.65, 0.5333333333333333, 0.03333333333333333, 0.06666666666666667, 0.35, 0.4, 0.03333333333333333, 0.7333333333333333, 0.5833333333333334, 0.7666666666666667, 0.05, 0.6833333333333333, 0.6833333333333333, 0.08333333333333333, 0.7666666666666667, 0.8166666666666667, 0.05, 0.016666666666666666, 0.75, 0.4666666666666667, 0.4, 0.6166666666666667, 0.7, 0.21666666666666667, 0.18333333333333332, 0.05, 0.5833333333333334, 0.4666666666666667, 0.5833333333333334, 0.55, 0.36666666666666664, 0.13333333333333333, 0.6333333333333333, 0.6833333333333333, 0.5, 0.3, 0.6166666666666667, 0.4, 0.4666666666666667, 0.65, 0.6166666666666667, 0.0, 0.31666666666666665, 0.8666666666666667, 0.15, 0.4166666666666667, 0.26666666666666666, 0.4, 0.25, 0.5833333333333334, 0.26666666666666666, 0.4166666666666667, 0.36666666666666664, 0.5166666666666667, 0.48333333333333334, 0.35, 0.13333333333333333, 0.8166666666666667, 0.31666666666666665, 0.5166666666666667, 0.5, 0.4, 0.8, 0.55, 0.7333333333333333, 0.016666666666666666, 0.21666666666666667, 0.03333333333333333, 0.8, 0.2, 0.7666666666666667, 0.2833333333333333, 0.38333333333333336, 0.0, 0.55, 0.55, 0.2, 0.3, 0.5333333333333333, 0.6666666666666666, 0.0, 0.25, 0.23333333333333334, 0.5, 0.7833333333333333, 0.3, 0.36666666666666664, 0.36666666666666664, 0.6, 0.4166666666666667, 0.21666666666666667, 0.26666666666666666, 0.0, 0.1, 0.0, 0.2, 0.45, 0.18333333333333332, 0.4166666666666667, 0.85, 0.4166666666666667, 0.2, 0.26666666666666666, 0.43333333333333335, 0.5666666666666667, 0.4166666666666667, 0.38333333333333336, 0.05, 0.16666666666666666, 0.08333333333333333, 0.23333333333333334, 0.2833333333333333, 0.4, 0.6666666666666666, 0.8833333333333333, 0.9833333333333333, 0.26666666666666666, 0.4166666666666667, 0.5333333333333333, 0.2833333333333333, 0.75, 0.7333333333333333, 0.3333333333333333, 0.0, 0.6333333333333333, 0.5, 0.38333333333333336, 0.15, 0.5666666666666667, 0.0, 0.0, 0.6166666666666667, 0.0, 0.21666666666666667, 0.18333333333333332, 0.45, 0.0, 0.7666666666666667, 0.4166666666666667, 0.5666666666666667, 0.16666666666666666, 0.5833333333333334, 0.75, 0.4166666666666667, 0.5333333333333333, 0.7166666666666667, 0.16666666666666666, 0.23333333333333334, 0.0, 0.5666666666666667, 0.21666666666666667, 0.0, 0.8, 0.48333333333333334, 0.7166666666666667, 0.5166666666666667, 0.45, 0.03333333333333333, 0.5166666666666667, 0.4166666666666667, 0.03333333333333333, 0.7, 0.48333333333333334, 0.7333333333333333, 0.7, 0.6666666666666666, 0.5333333333333333, 0.03333333333333333, 0.8, 0.6833333333333333, 0.43333333333333335, 0.6666666666666666, 0.5666666666666667, 0.75, 0.36666666666666664, 0.95, 0.45, 0.11666666666666667, 0.5666666666666667, 0.35, 0.06666666666666667, 0.03333333333333333, 0.18333333333333332, 0.9833333333333333, 0.7666666666666667, 0.16666666666666666, 0.35, 0.6, 0.0, 0.15, 0.0, 0.45, 0.0, 0.25, 0.08333333333333333, 0.6666666666666666, 0.0, 0.7166666666666667, 0.16666666666666666, 0.45, 0.8666666666666667, 0.2833333333333333, 0.05, 0.3, 0.7333333333333333, 0.0, 0.25, 0.8333333333333334, 0.03333333333333333, 0.4, 0.31666666666666665, 0.65, 0.7833333333333333, 0.4, 0.7166666666666667, 0.06666666666666667, 0.3, 0.5166666666666667, 0.13333333333333333, 0.16666666666666666, 0.48333333333333334, 0.85, 0.9166666666666666, 0.2, 0.5166666666666667, 0.4, 0.08333333333333333, 0.0, 0.5333333333333333, 0.1, 0.15, 0.23333333333333334, 0.8833333333333333, 0.9, 0.48333333333333334, 0.6666666666666666, 0.5166666666666667, 0.8166666666666667, 0.016666666666666666, 0.1, 0.0, 0.4166666666666667, 0.03333333333333333, 0.26666666666666666, 0.0, 0.21666666666666667, 0.43333333333333335, 0.65, 0.5833333333333334, 0.8833333333333333, 0.4166666666666667, 0.11666666666666667, 0.11666666666666667, 0.4166666666666667, 0.16666666666666666, 0.36666666666666664, 0.21666666666666667, 0.6, 0.25, 0.0, 0.35, 0.016666666666666666, 0.7666666666666667, 0.2, 0.3333333333333333, 0.31666666666666665, 0.2833333333333333, 0.3333333333333333, 0.5, 0.8, 0.2, 0.35, 0.11666666666666667, 0.21666666666666667, 0.6833333333333333, 0.6833333333333333, 0.05, 0.8833333333333333, 0.55, 0.5, 0.05, 0.08333333333333333, 0.5833333333333334, 0.36666666666666664, 0.05, 0.48333333333333334, 0.03333333333333333, 0.6333333333333333, 0.8166666666666667, 0.43333333333333335, 0.75, 0.6, 0.85, 0.8166666666666667, 0.7166666666666667, 0.85, 0.38333333333333336, 0.1, 0.3, 0.13333333333333333, 0.6333333333333333, 0.0, 0.06666666666666667, 0.7333333333333333, 0.7333333333333333, 0.03333333333333333, 0.2, 0.3, 0.7166666666666667, 0.55, 0.65, 0.26666666666666666, 0.2833333333333333, 0.0, 0.25, 0.26666666666666666, 0.35, 0.15, 0.18333333333333332, 0.016666666666666666, 0.06666666666666667, 0.0, 0.7333333333333333, 0.0, 0.7666666666666667, 0.48333333333333334, 0.7666666666666667, 0.5, 0.6, 0.36666666666666664, 0.9166666666666666, 0.43333333333333335, 0.7833333333333333, 0.13333333333333333, 0.4666666666666667, 0.5333333333333333, 0.2833333333333333, 0.0, 0.16666666666666666, 0.8333333333333334, 0.2, 0.6166666666666667, 0.43333333333333335, 0.45, 0.15, 0.3333333333333333, 0.9666666666666667, 0.05, 0.0, 0.15, 0.3333333333333333, 0.7666666666666667, 0.8333333333333334, 0.4166666666666667, 0.2, 0.06666666666666667, 0.6333333333333333, 0.4166666666666667, 0.9166666666666666, 0.8333333333333334, 0.0, 0.0, 0.6333333333333333, 0.2833333333333333, 0.0, 0.26666666666666666, 0.05, 0.8, 0.016666666666666666, 0.8166666666666667, 0.6833333333333333, 0.35, 0.1, 0.8, 0.8833333333333333, 0.5, 0.8, 0.5333333333333333, 0.1, 0.4166666666666667, 0.05, 0.0, 0.11666666666666667, 0.3, 0.0, 0.05, 0.18333333333333332, 0.2833333333333333, 0.4666666666666667, 0.016666666666666666, 0.45, 0.9333333333333333, 0.6, 0.0, 0.55, 0.6833333333333333, 0.6166666666666667, 0.13333333333333333, 0.7666666666666667, 0.18333333333333332, 0.48333333333333334, 0.8833333333333333, 0.5833333333333334, 0.5, 0.26666666666666666, 0.2833333333333333, 0.05, 0.0, 0.4166666666666667, 0.6666666666666666, 0.0, 0.85, 0.9333333333333333, 0.05, 0.1, 0.4, 0.5166666666666667, 0.65, 0.0, 0.36666666666666664, 0.6833333333333333, 0.23333333333333334, 0.4, 0.7166666666666667, 0.2, 0.5666666666666667, 0.31666666666666665, 0.2833333333333333, 0.35, 0.23333333333333334, 0.9166666666666666, 0.5333333333333333, 0.6166666666666667, 0.8666666666666667, 0.6333333333333333, 0.4166666666666667, 0.6333333333333333, 0.7, 0.6333333333333333, 0.9333333333333333, 0.4, 0.05, 0.36666666666666664, 0.4, 0.6, 0.4166666666666667, 0.06666666666666667, 0.0, 0.35, 0.9833333333333333, 0.23333333333333334, 0.0, 0.03333333333333333, 0.31666666666666665, 0.6666666666666666, 0.0, 0.36666666666666664, 0.5666666666666667, 0.5666666666666667, 0.11666666666666667, 0.016666666666666666, 0.6333333333333333, 0.21666666666666667, 0.8666666666666667, 0.48333333333333334, 0.7333333333333333, 0.0, 0.4, 0.06666666666666667, 0.6833333333333333, 0.5833333333333334, 0.4166666666666667, 0.7, 0.3333333333333333, 0.6833333333333333, 0.21666666666666667, 0.38333333333333336, 0.48333333333333334, 0.36666666666666664, 0.6166666666666667, 0.4166666666666667, 0.26666666666666666, 0.5166666666666667, 0.1, 0.7, 0.15, 0.35, 0.1, 0.16666666666666666, 0.48333333333333334, 0.8666666666666667, 0.6166666666666667, 0.48333333333333334, 0.8333333333333334, 0.85, 0.2, 0.08333333333333333, 0.35, 0.3333333333333333, 0.8666666666666667, 0.21666666666666667, 0.38333333333333336, 0.26666666666666666, 0.31666666666666665, 0.8666666666666667, 0.16666666666666666, 0.6, 0.8, 0.3, 0.6166666666666667, 0.0, 0.1, 0.5166666666666667, 0.8166666666666667, 0.8, 0.25, 0.7, 0.7166666666666667, 0.75, 0.6833333333333333, 0.18333333333333332, 0.36666666666666664, 0.3333333333333333, 0.11666666666666667, 0.5666666666666667, 0.9, 0.6166666666666667, 0.8166666666666667, 0.7333333333333333, 0.23333333333333334, 0.16666666666666666, 0.5333333333333333, 0.5166666666666667, 0.1, 0.05, 0.9666666666666667, 0.25, 0.0, 0.5166666666666667, 0.7833333333333333, 0.1, 0.75, 0.7833333333333333, 0.7833333333333333, 0.6, 0.0, 0.16666666666666666, 0.2, 0.9166666666666666, 0.95, 0.38333333333333336, 0.55, 0.23333333333333334, 0.9, 0.6333333333333333, 0.38333333333333336, 0.3, 0.6833333333333333, 0.35, 0.21666666666666667, 0.03333333333333333, 0.75, 0.4, 0.3333333333333333, 0.0, 0.9833333333333333, 0.5833333333333334, 0.18333333333333332, 0.08333333333333333, 0.7666666666666667, 0.6, 0.6, 0.38333333333333336, 0.0, 0.6333333333333333, 0.05, 0.4166666666666667, 0.8666666666666667, 0.13333333333333333, 0.03333333333333333, 0.7333333333333333, 0.21666666666666667, 0.8166666666666667, 0.75, 0.23333333333333334, 0.5833333333333334, 0.65, 0.8666666666666667, 0.16666666666666666, 0.5, 0.48333333333333334, 0.1, 0.43333333333333335, 0.5166666666666667, 0.36666666666666664, 0.8, 0.45, 0.3, 0.21666666666666667, 0.4, 0.0, 0.3, 0.8833333333333333, 1.0, 0.15, 0.0, 0.55, 0.18333333333333332, 0.8, 0.5, 0.8333333333333334, 0.5166666666666667, 0.016666666666666666, 0.6166666666666667, 0.016666666666666666, 0.4, 0.36666666666666664, 0.6333333333333333, 0.8666666666666667, 0.5333333333333333, 0.8666666666666667, 0.2, 0.21666666666666667, 0.16666666666666666, 0.4166666666666667, 0.9166666666666666, 0.36666666666666664, 0.5, 0.06666666666666667, 0.0, 0.9166666666666666, 0.0, 0.85, 0.16666666666666666, 0.8333333333333334, 0.2, 0.5, 0.6, 0.2833333333333333, 0.18333333333333332, 0.6666666666666666, 0.55, 0.36666666666666664, 0.26666666666666666, 0.05, 0.7, 0.6, 0.55, 0.03333333333333333, 0.08333333333333333, 0.3333333333333333, 0.016666666666666666, 0.38333333333333336, 0.4166666666666667, 0.06666666666666667, 0.45, 0.5666666666666667, 0.36666666666666664, 0.6333333333333333, 0.7666666666666667, 0.21666666666666667, 0.48333333333333334, 0.5166666666666667, 0.3333333333333333, 0.11666666666666667, 0.06666666666666667, 0.8, 0.2833333333333333, 0.6833333333333333, 0.48333333333333334, 0.5333333333333333, 0.0, 0.3, 0.85, 0.43333333333333335, 0.5833333333333334, 0.45, 0.18333333333333332, 0.3333333333333333, 0.4, 0.35, 0.2833333333333333, 1.0, 0.2833333333333333, 0.6333333333333333, 0.7666666666666667, 0.8333333333333334, 0.15, 0.43333333333333335, 0.1, 0.7166666666666667, 0.4, 0.8, 0.08333333333333333, 0.48333333333333334, 0.8666666666666667, 0.6833333333333333, 0.85, 0.7333333333333333, 0.43333333333333335, 0.6166666666666667, 0.55, 0.3333333333333333, 0.85, 0.8833333333333333, 0.05, 0.6333333333333333, 0.0, 0.5666666666666667, 0.6333333333333333, 0.08333333333333333, 0.06666666666666667, 0.4166666666666667, 0.5166666666666667, 0.6666666666666666, 0.15, 0.13333333333333333, 0.31666666666666665, 0.3333333333333333, 0.5666666666666667, 0.06666666666666667, 0.4666666666666667, 0.5833333333333334, 0.18333333333333332, 0.03333333333333333, 0.08333333333333333, 0.8166666666666667, 0.31666666666666665, 0.016666666666666666, 0.0, 0.13333333333333333, 0.08333333333333333, 0.3, 0.8833333333333333, 0.5, 0.08333333333333333, 0.05, 0.35, 0.25, 0.11666666666666667, 0.38333333333333336, 0.48333333333333334, 0.11666666666666667, 0.5666666666666667, 0.8, 0.5, 0.5, 0.9, 0.0, 0.6833333333333333, 0.2833333333333333, 0.7333333333333333, 0.0, 0.7833333333333333, 0.0, 0.9, 0.43333333333333335, 0.5166666666666667, 0.8833333333333333, 0.5666666666666667, 0.48333333333333334, 0.45, 0.7833333333333333, 0.6666666666666666, 0.13333333333333333, 0.6666666666666666, 0.016666666666666666, 0.3, 0.0, 0.75, 0.8166666666666667, 0.6666666666666666, 0.7, 0.3333333333333333, 0.13333333333333333, 0.31666666666666665, 0.8833333333333333, 0.2, 0.5333333333333333, 0.7833333333333333, 0.0, 0.18333333333333332, 0.5166666666666667, 0.43333333333333335, 0.43333333333333335, 0.5333333333333333, 0.6, 0.2, 0.05, 0.05, 0.7333333333333333, 0.7666666666666667, 0.15, 0.13333333333333333, 0.4, 0.06666666666666667, 0.3333333333333333, 0.35, 0.18333333333333332, 0.26666666666666666, 0.0, 0.8, 0.1, 0.3333333333333333, 0.2833333333333333, 0.8666666666666667, 0.23333333333333334, 0.016666666666666666, 0.5333333333333333, 0.0, 0.4666666666666667, 0.8666666666666667, 0.3, 0.26666666666666666, 0.23333333333333334, 0.05, 0.23333333333333334, 0.11666666666666667, 0.05, 0.6333333333333333, 0.75, 0.4166666666666667, 0.6333333333333333, 0.3, 0.1, 0.9166666666666666, 0.2833333333333333, 0.6333333333333333, 0.0, 0.6, 0.26666666666666666, 0.21666666666666667, 0.45, 0.0, 0.03333333333333333, 0.43333333333333335, 0.45, 0.13333333333333333, 0.06666666666666667, 0.45, 0.2, 0.55, 0.48333333333333334, 0.0, 0.7, 0.8, 0.0, 0.3, 0.43333333333333335, 0.2833333333333333, 0.15, 0.13333333333333333, 0.26666666666666666, 0.5666666666666667, 0.2, 0.4666666666666667, 0.15, 0.0, 0.08333333333333333, 0.0, 0.8166666666666667, 0.6333333333333333, 0.2833333333333333, 0.06666666666666667, 0.6166666666666667, 0.4666666666666667, 0.65, 0.8833333333333333, 0.26666666666666666, 0.7833333333333333, 0.5, 0.0, 0.016666666666666666, 0.5166666666666667, 0.35, 0.31666666666666665, 0.8666666666666667, 0.03333333333333333, 0.11666666666666667, 0.3, 0.0, 0.11666666666666667, 0.85, 0.25, 0.06666666666666667, 0.7, 0.48333333333333334, 0.3333333333333333, 0.7666666666666667, 1.0, 0.18333333333333332, 0.13333333333333333, 0.36666666666666664, 0.6, 0.016666666666666666, 0.7, 0.21666666666666667, 0.6833333333333333, 0.65, 0.25, 0.08333333333333333, 0.7833333333333333, 0.6666666666666666, 0.7, 0.8166666666666667, 0.05, 0.36666666666666664, 0.4166666666666667, 0.15, 0.0, 0.4, 0.6, 0.05, 0.25, 0.18333333333333332, 0.31666666666666665, 0.3333333333333333, 0.3, 0.6833333333333333, 0.11666666666666667, 0.8333333333333334, 0.38333333333333336, 0.03333333333333333, 0.6666666666666666, 0.7333333333333333, 0.95, 0.48333333333333334, 0.25, 0.0, 0.1, 0.35, 0.5333333333333333, 0.6166666666666667, 0.5833333333333334, 0.4166666666666667, 0.36666666666666664, 0.1, 0.3, 0.5333333333333333, 0.7, 0.6333333333333333, 0.3, 0.35, 0.016666666666666666, 0.6166666666666667, 0.016666666666666666, 0.08333333333333333, 0.85, 0.48333333333333334, 0.45, 0.35, 0.03333333333333333, 0.23333333333333334, 0.0, 0.31666666666666665, 0.6, 0.25, 0.2833333333333333, 0.15, 0.31666666666666665, 0.0, 0.6333333333333333, 0.31666666666666665, 0.7, 0.5333333333333333, 0.9, 0.6333333333333333, 0.3333333333333333, 0.36666666666666664, 0.31666666666666665, 0.016666666666666666, 0.13333333333333333, 0.8166666666666667, 0.35, 0.38333333333333336, 0.2, 0.25, 0.2833333333333333, 0.0, 0.25, 0.36666666666666664, 0.6666666666666666, 0.7833333333333333, 0.18333333333333332, 0.5833333333333334, 0.7666666666666667, 0.8833333333333333, 0.05, 0.4666666666666667, 0.6833333333333333, 0.25, 0.5166666666666667, 0.65, 0.016666666666666666, 0.7666666666666667, 0.15, 0.3, 0.5166666666666667, 0.016666666666666666, 0.3, 0.9333333333333333, 0.0, 0.0, 0.8833333333333333, 0.85, 0.3, 0.3333333333333333, 0.35, 0.31666666666666665, 0.0, 0.26666666666666666, 0.05, 0.6333333333333333, 0.1, 0.8, 0.15, 0.2833333333333333, 0.7666666666666667, 0.2833333333333333, 0.55, 0.65, 0.6, 0.26666666666666666, 0.21666666666666667, 0.4, 0.7833333333333333, 0.0, 0.016666666666666666, 0.3333333333333333, 0.6666666666666666, 0.9833333333333333, 0.7333333333333333, 0.45, 0.4666666666666667, 0.0, 0.0, 0.2, 0.0, 0.5166666666666667, 0.05, 0.21666666666666667, 0.25, 0.5166666666666667, 0.4, 0.5666666666666667, 0.4666666666666667, 0.0, 0.05, 0.55, 0.48333333333333334, 0.11666666666666667, 0.08333333333333333, 0.11666666666666667, 0.16666666666666666, 0.38333333333333336, 0.45, 0.38333333333333336, 0.3, 0.5166666666666667, 0.6833333333333333, 0.8333333333333334, 0.8, 0.36666666666666664, 0.18333333333333332, 0.4166666666666667, 0.9166666666666666, 0.016666666666666666, 0.25, 0.45, 0.6666666666666666, 0.05, 0.95, 0.6833333333333333, 0.43333333333333335, 0.4, 0.03333333333333333, 0.48333333333333334, 0.0, 0.35, 0.6666666666666666, 0.48333333333333334, 0.7166666666666667, 0.5333333333333333, 0.16666666666666666, 0.0, 0.65, 0.65, 0.2833333333333333, 0.9666666666666667, 0.31666666666666665, 0.5666666666666667, 0.06666666666666667, 0.18333333333333332, 0.7833333333333333, 0.0, 0.23333333333333334, 0.7166666666666667, 0.0, 0.6666666666666666, 0.3, 0.016666666666666666, 0.85, 0.3, 0.0, 0.2833333333333333, 0.36666666666666664, 0.75, 0.18333333333333332, 0.4666666666666667, 0.4666666666666667, 1.0, 0.5166666666666667, 0.08333333333333333, 0.3, 0.13333333333333333, 0.5333333333333333, 0.6, 0.45, 0.1, 0.85, 0.65, 0.8333333333333334, 0.7333333333333333, 0.38333333333333336, 0.21666666666666667, 0.18333333333333332, 0.9, 0.7666666666666667, 0.0, 0.48333333333333334, 0.25, 0.6166666666666667, 0.2833333333333333, 0.3333333333333333, 0.65, 0.0, 0.21666666666666667, 0.15, 0.36666666666666664, 0.5, 0.7666666666666667, 0.2, 0.5166666666666667, 0.0, 0.0, 0.7833333333333333, 0.5666666666666667, 0.31666666666666665, 0.4, 0.45, 0.5166666666666667, 0.5666666666666667, 0.55, 0.0, 0.08333333333333333, 0.03333333333333333, 0.8166666666666667, 0.7833333333333333, 0.3, 0.7166666666666667, 0.65, 0.6333333333333333, 0.95, 0.95, 0.7666666666666667, 0.5666666666666667, 0.3333333333333333, 0.0, 0.4166666666666667, 0.0, 0.8, 0.6333333333333333, 0.016666666666666666, 0.6833333333333333, 0.6166666666666667, 0.6666666666666666, 0.43333333333333335, 0.7833333333333333, 0.016666666666666666, 0.9333333333333333, 0.5166666666666667, 0.0, 0.3333333333333333, 0.6666666666666666, 0.7, 0.5, 0.0, 0.5333333333333333, 0.4, 0.31666666666666665, 0.7166666666666667, 0.6833333333333333, 0.13333333333333333, 0.7, 0.7833333333333333, 0.3333333333333333, 0.6833333333333333, 0.21666666666666667, 0.6166666666666667, 0.31666666666666665, 0.7666666666666667, 0.5833333333333334, 0.48333333333333334, 0.7833333333333333, 0.06666666666666667, 0.5833333333333334, 0.31666666666666665, 0.08333333333333333, 0.55, 0.4666666666666667, 0.25, 0.03333333333333333, 0.5, 0.6666666666666666, 0.0, 0.31666666666666665, 0.4666666666666667, 0.38333333333333336, 0.43333333333333335, 0.3333333333333333, 0.6, 0.5333333333333333, 0.18333333333333332, 0.6333333333333333, 0.31666666666666665, 0.8333333333333334, 0.35, 0.0, 0.4166666666666667, 0.08333333333333333, 0.23333333333333334, 0.26666666666666666, 0.23333333333333334, 0.85, 0.6, 0.9166666666666666, 0.55, 0.36666666666666664, 0.4666666666666667, 0.31666666666666665, 0.15, 0.9333333333333333, 0.5166666666666667, 0.26666666666666666, 0.15, 0.36666666666666664, 0.0, 0.05, 0.3333333333333333, 0.25, 0.8, 0.7166666666666667, 0.6, 0.11666666666666667, 0.16666666666666666, 0.11666666666666667, 0.55, 0.03333333333333333, 0.7, 0.06666666666666667, 0.1, 0.0, 0.55, 0.4166666666666667, 0.0, 0.05, 0.06666666666666667, 0.18333333333333332, 0.1, 0.05, 0.31666666666666665, 0.1, 0.5166666666666667, 0.6166666666666667, 0.0, 0.43333333333333335, 0.1, 0.38333333333333336, 0.21666666666666667, 0.5666666666666667, 0.03333333333333333, 0.15, 0.18333333333333332, 0.5166666666666667, 0.4666666666666667, 0.18333333333333332, 0.43333333333333335, 0.5833333333333334, 0.43333333333333335, 0.8166666666666667, 0.05, 0.3, 0.6166666666666667, 0.03333333333333333, 0.7333333333333333, 0.6833333333333333, 0.5666666666666667, 0.21666666666666667, 0.31666666666666665, 0.0, 0.16666666666666666, 0.0, 0.8, 0.03333333333333333, 0.5833333333333334, 0.1, 0.3333333333333333, 0.8333333333333334, 0.5166666666666667, 0.2, 0.2833333333333333, 0.23333333333333334, 0.21666666666666667, 0.6, 0.13333333333333333, 0.4, 0.6833333333333333, 0.2833333333333333, 0.0, 0.13333333333333333, 0.15, 0.48333333333333334, 0.55, 0.7, 0.48333333333333334, 0.11666666666666667, 0.3, 0.6, 0.48333333333333334, 0.9833333333333333, 0.5, 0.016666666666666666, 0.0, 0.4666666666666667, 0.7, 0.016666666666666666, 0.11666666666666667, 0.2833333333333333, 0.6, 0.6, 0.3, 0.75, 0.5666666666666667, 0.38333333333333336, 0.7166666666666667, 0.25, 0.4166666666666667, 0.5166666666666667, 0.35, 0.06666666666666667, 0.6666666666666666, 0.7666666666666667, 0.7833333333333333, 0.0, 0.7166666666666667, 0.5, 0.15, 0.016666666666666666, 0.05, 0.85, 0.8666666666666667, 0.23333333333333334, 0.45, 0.36666666666666664, 0.75, 0.7166666666666667, 0.3, 0.6, 0.1, 0.26666666666666666, 0.1, 0.8333333333333334, 0.7833333333333333, 0.16666666666666666, 0.6666666666666666, 0.8166666666666667, 0.6333333333333333, 0.2833333333333333, 0.31666666666666665, 0.55, 0.016666666666666666, 0.0, 0.5, 0.5333333333333333, 0.8333333333333334, 0.6, 0.9, 0.9833333333333333, 0.8333333333333334, 0.5333333333333333, 0.1, 0.16666666666666666, 0.45, 0.5666666666666667, 0.6166666666666667, 0.6, 0.38333333333333336, 0.9333333333333333, 0.0, 0.7166666666666667, 0.6666666666666666, 0.36666666666666664, 0.31666666666666665, 0.7666666666666667, 0.21666666666666667, 0.25, 0.08333333333333333, 0.0]\n"
          ]
        }
      ],
      "source": [
        "# Taking our predictions and putting them in a list for final format...\n",
        "empty_list = []\n",
        "for observation in y_hat_clf_knn:\n",
        "  empty_list.append(observation[1])\n",
        "print(empty_list)\n",
        "\n",
        "final_pred = np.array(empty_list)\n"
      ]
    },
    {
      "cell_type": "code",
      "execution_count": 41,
      "metadata": {
        "id": "R2HhybzwbzZb"
      },
      "outputs": [],
      "source": [
        "# Saving the final submission, for uploading...\n",
        "final_data = {'icustay_id': test.icustay_id, 'HOSPITAL_EXPIRE_FLAG': final_pred}\n",
        "submission = pd.DataFrame(data=final_data)\n",
        "submission.to_csv(os.path.join(fl,'processed_data/predicted_deaths.csv'), index =False)"
      ]
    }
  ],
  "metadata": {
    "colab": {
      "collapsed_sections": [],
      "name": "DGJ_200821 - KNN_project.ipynb",
      "provenance": []
    },
    "kernelspec": {
      "display_name": "Python 3",
      "language": "python",
      "name": "python3"
    },
    "language_info": {
      "codemirror_mode": {
        "name": "ipython",
        "version": 3
      },
      "file_extension": ".py",
      "mimetype": "text/x-python",
      "name": "python",
      "nbconvert_exporter": "python",
      "pygments_lexer": "ipython3",
      "version": "3.8.10"
    },
    "toc": {
      "base_numbering": 1,
      "nav_menu": {},
      "number_sections": true,
      "sideBar": true,
      "skip_h1_title": false,
      "title_cell": "Table of Contents",
      "title_sidebar": "Contents",
      "toc_cell": false,
      "toc_position": {},
      "toc_section_display": true,
      "toc_window_display": true
    }
  },
  "nbformat": 4,
  "nbformat_minor": 0
}
