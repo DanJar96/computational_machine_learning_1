{
  "cells": [
    {
      "cell_type": "markdown",
      "metadata": {
        "id": "G7kClfi-LWFo"
      },
      "source": [
        "# Project: Support Vector Machines (SVM)"
      ]
    },
    {
      "cell_type": "markdown",
      "metadata": {
        "id": "R9WYLUGHLWFq"
      },
      "source": [
        "## Programming project: probability of death\n",
        "\n",
        "In this project, you have to predict the probability of death of a patient that is entering an ICU (Intensive Care Unit).\n",
        "\n",
        "The dataset comes from MIMIC project (https://mimic.physionet.org/). MIMIC-III (Medical Information Mart for Intensive Care III) is a large, freely-available database comprising deidentified health-related data associated with over forty thousand patients who stayed in critical care units of the Beth Israel Deaconess Medical Center between 2001 and 2012.\n",
        "\n",
        "Each row of *mimic_train.csv* correponds to one ICU stay (*hadm_id*+*icustay_id*) of one patient (*subject_id*). Column HOSPITAL_EXPIRE_FLAG is the indicator of death (=1) as a result of the current hospital stay; this is the outcome to predict in our modelling exercise.\n",
        "The remaining columns correspond to vitals of each patient (when entering the ICU), plus some general characteristics (age, gender, etc.), and their explanation can be found at *mimic_patient_metadata.csv*. \n",
        "\n",
        "Note that the main cause/disease of patient contidition is embedded as a code at *ICD9_diagnosis* column. The meaning of this code can be found at *MIMIC_metadata_diagnose.csv*. **But** this is only the main one; a patient can have co-occurrent diseases (comorbidities). These secondary codes can be found at *extra_data/MIMIC_diagnoses.csv*.\n",
        "\n",
        "Don't use features that you don't know the first day a patient enters the ICU, such as LOS.\n",
        "\n",
        "As performance metric, you can use *AUC* for the binary classification case, but feel free to report as well any other metric if you can justify that is particularly suitable for this case.\n",
        "\n",
        "Main tasks are:\n",
        "+ Using *mimic_train.csv* file build a predictive model for *HOSPITAL_EXPIRE_FLAG* .\n",
        "+ For this analysis there is an extra test dataset, *mimic_test.csv*. Apply your final model to this extra dataset and submit to Kaggle competition to obtain accuracy of prediction (follow the requested format).\n",
        "\n",
        "Try to optimize hyperparameters of your SVM model.\n",
        "\n",
        "You can follow those **steps** in your first implementation:\n",
        "1. *Explore* and understand the dataset. \n",
        "2. Manage missing data.\n",
        "2. Manage categorial features. E.g. create *dummy variables* for relevant categorical features, or build an ad hoc distance function.\n",
        "3. Build a prediction model. Try to improve it using methods to tackle class imbalance.\n",
        "5. Assess expected accuracy  of previous models using *cross-validation*. \n",
        "6. Test the performance on the test file by submitting to Kaggle, following same preparation steps (missing data, dummies, etc). Remember that you should be able to yield a prediction for all the rows of the test dataset.\n",
        "\n",
        "For the in-class version, feel free to reduce the training dataset if you experience computational constraints.\n",
        "\n",
        "## Main criteria for grading (In-class)\n",
        "From more to less important:\n",
        "+ SVMs method(s) have been used\n",
        "+ Data preparation\n",
        "+ Code runs\n",
        "+ Probability of death for each test patient is computed\n",
        "+ Accuracy of predictions for test patients is evaluated\n",
        "+ Accuracy itself\n",
        "+ Hyperparameter optimization\n",
        "+ Class imbalance management\n",
        "\n",
        "\n",
        "## Main criteria for grading (Extended)\n",
        "From more to less important:\n",
        "+ SVMs method(s) have been used\n",
        "+ Data preparation\n",
        "+ Probability of death for each test patient is computed\n",
        "+ Accuracy of predictions for test patients is evaluated\n",
        "+ Accuracy itself\n",
        "+ Hyperparameter optimization\n",
        "+ Class imbalance management\n",
        "+ Neat and understandable code, with some titles and comments\n",
        "+ Improved methods from what we discussed in class (properly explained/justified)\n",
        "+ Code runs"
      ]
    },
    {
      "cell_type": "markdown",
      "metadata": {},
      "source": [
        "## Importing modules"
      ]
    },
    {
      "cell_type": "code",
      "execution_count": 36,
      "metadata": {
        "colab": {
          "base_uri": "https://localhost:8080/"
        },
        "id": "ytU5xOo-L8f1",
        "outputId": "f9f6429e-549a-4a16-f8ae-cb4f52aed0e9"
      },
      "outputs": [],
      "source": [
        "%matplotlib inline\n",
        "import matplotlib.pylab as plt\n",
        "\n",
        "#import auxiliar functions\n",
        "import os,sys,inspect\n",
        "\n",
        "import pandas as pd\n",
        "import seaborn as sns\n",
        "import numpy as np\n",
        "import ipywidgets\n",
        "import random\n",
        "import time\n",
        "import datetime as dt\n",
        "from dateutil.relativedelta import relativedelta\n",
        "\n",
        "\n",
        "from sklearn.svm import SVC\n",
        "from sklearn.model_selection import GridSearchCV\n",
        "from sklearn.preprocessing import StandardScaler\n",
        "from sklearn.svm import LinearSVC\n",
        "from sklearn.feature_selection import SelectFromModel\n",
        "\n",
        "\n",
        "from imblearn.under_sampling import RandomUnderSampler\n",
        "from imblearn.combine import SMOTETomek\n",
        "from imblearn.pipeline import Pipeline\n",
        "\n",
        "\n",
        "np.random.seed(3123) # impose random seed for reproducibility"
      ]
    },
    {
      "cell_type": "markdown",
      "metadata": {
        "id": "taxA2GPCD3KO"
      },
      "source": [
        "# STRUCTURE OF NOTEBOOK:\n",
        "1) DI_INDEX IMPLEMENTATION\n",
        "\n",
        "2) FEATURE ENGINEERING\n",
        "\n",
        "3) MODEL FITTING / PREDICTING USING PIPELINE"
      ]
    },
    {
      "cell_type": "code",
      "execution_count": 37,
      "metadata": {
        "colab": {
          "base_uri": "https://localhost:8080/"
        },
        "id": "QdKiH9qgLpk5",
        "outputId": "d87db800-b104-4514-e3c3-c00409124fa1"
      },
      "outputs": [
        {
          "name": "stdout",
          "output_type": "stream",
          "text": [
            "/home/dante/CML/computational_machine_learning_1/SupportVectorMachines\n",
            "/home/dante/CML/computational_machine_learning_1/SupportVectorMachines/raw_data\n"
          ]
        }
      ],
      "source": [
        "# Getting folder location\n",
        "fl = os.getcwd()\n",
        "print(fl)\n",
        "# Locating data\n",
        "dl = os.path.join(os.getcwd(),'raw_data')\n",
        "print(dl)\n"
      ]
    },
    {
      "cell_type": "code",
      "execution_count": 38,
      "metadata": {
        "id": "EsZA6hSNLWFs"
      },
      "outputs": [],
      "source": [
        "# Loading training data\n",
        "training = pd.read_csv(os.path.join(dl,'mimic_train.csv'))\n",
        "\n",
        "# Loading test data\n",
        "test = pd.read_csv(os.path.join(dl,'mimic_test_death.csv'))\n",
        "\n",
        "# Loading comorbidities data\n",
        "comorbidities = pd.read_csv(os.path.join(dl,'MIMIC_diagnoses.csv'))\n"
      ]
    },
    {
      "cell_type": "code",
      "execution_count": 39,
      "metadata": {
        "colab": {
          "base_uri": "https://localhost:8080/",
          "height": 313
        },
        "id": "qzJhkyCvCl2Y",
        "outputId": "7e0add2d-4020-4d7c-dff7-245dea4a3b8d"
      },
      "outputs": [
        {
          "data": {
            "text/html": [
              "<div>\n",
              "<style scoped>\n",
              "    .dataframe tbody tr th:only-of-type {\n",
              "        vertical-align: middle;\n",
              "    }\n",
              "\n",
              "    .dataframe tbody tr th {\n",
              "        vertical-align: top;\n",
              "    }\n",
              "\n",
              "    .dataframe thead th {\n",
              "        text-align: right;\n",
              "    }\n",
              "</style>\n",
              "<table border=\"1\" class=\"dataframe\">\n",
              "  <thead>\n",
              "    <tr style=\"text-align: right;\">\n",
              "      <th></th>\n",
              "      <th>HOSPITAL_EXPIRE_FLAG</th>\n",
              "      <th>subject_id</th>\n",
              "      <th>hadm_id</th>\n",
              "      <th>icustay_id</th>\n",
              "      <th>HeartRate_Min</th>\n",
              "      <th>HeartRate_Max</th>\n",
              "      <th>HeartRate_Mean</th>\n",
              "      <th>SysBP_Min</th>\n",
              "      <th>SysBP_Max</th>\n",
              "      <th>SysBP_Mean</th>\n",
              "      <th>...</th>\n",
              "      <th>Diff</th>\n",
              "      <th>ADMISSION_TYPE</th>\n",
              "      <th>INSURANCE</th>\n",
              "      <th>RELIGION</th>\n",
              "      <th>MARITAL_STATUS</th>\n",
              "      <th>ETHNICITY</th>\n",
              "      <th>DIAGNOSIS</th>\n",
              "      <th>ICD9_diagnosis</th>\n",
              "      <th>FIRST_CAREUNIT</th>\n",
              "      <th>LOS</th>\n",
              "    </tr>\n",
              "  </thead>\n",
              "  <tbody>\n",
              "    <tr>\n",
              "      <th>0</th>\n",
              "      <td>0</td>\n",
              "      <td>55440</td>\n",
              "      <td>195768</td>\n",
              "      <td>228357</td>\n",
              "      <td>89.0</td>\n",
              "      <td>145.0</td>\n",
              "      <td>121.043478</td>\n",
              "      <td>74.0</td>\n",
              "      <td>127.0</td>\n",
              "      <td>106.586957</td>\n",
              "      <td>...</td>\n",
              "      <td>-61961.78470</td>\n",
              "      <td>EMERGENCY</td>\n",
              "      <td>Medicare</td>\n",
              "      <td>PROTESTANT QUAKER</td>\n",
              "      <td>SINGLE</td>\n",
              "      <td>WHITE</td>\n",
              "      <td>GASTROINTESTINAL BLEED</td>\n",
              "      <td>5789</td>\n",
              "      <td>MICU</td>\n",
              "      <td>4.5761</td>\n",
              "    </tr>\n",
              "    <tr>\n",
              "      <th>1</th>\n",
              "      <td>0</td>\n",
              "      <td>76908</td>\n",
              "      <td>126136</td>\n",
              "      <td>221004</td>\n",
              "      <td>63.0</td>\n",
              "      <td>110.0</td>\n",
              "      <td>79.117647</td>\n",
              "      <td>89.0</td>\n",
              "      <td>121.0</td>\n",
              "      <td>106.733333</td>\n",
              "      <td>...</td>\n",
              "      <td>-43146.18378</td>\n",
              "      <td>EMERGENCY</td>\n",
              "      <td>Private</td>\n",
              "      <td>UNOBTAINABLE</td>\n",
              "      <td>MARRIED</td>\n",
              "      <td>WHITE</td>\n",
              "      <td>ESOPHAGEAL FOOD IMPACTION</td>\n",
              "      <td>53013</td>\n",
              "      <td>MICU</td>\n",
              "      <td>0.7582</td>\n",
              "    </tr>\n",
              "    <tr>\n",
              "      <th>2</th>\n",
              "      <td>0</td>\n",
              "      <td>95798</td>\n",
              "      <td>136645</td>\n",
              "      <td>296315</td>\n",
              "      <td>81.0</td>\n",
              "      <td>98.0</td>\n",
              "      <td>91.689655</td>\n",
              "      <td>88.0</td>\n",
              "      <td>138.0</td>\n",
              "      <td>112.785714</td>\n",
              "      <td>...</td>\n",
              "      <td>-42009.96157</td>\n",
              "      <td>EMERGENCY</td>\n",
              "      <td>Medicare</td>\n",
              "      <td>PROTESTANT QUAKER</td>\n",
              "      <td>SEPARATED</td>\n",
              "      <td>BLACK/AFRICAN AMERICAN</td>\n",
              "      <td>UPPER GI BLEED</td>\n",
              "      <td>56983</td>\n",
              "      <td>MICU</td>\n",
              "      <td>3.7626</td>\n",
              "    </tr>\n",
              "    <tr>\n",
              "      <th>3</th>\n",
              "      <td>0</td>\n",
              "      <td>40708</td>\n",
              "      <td>102505</td>\n",
              "      <td>245557</td>\n",
              "      <td>76.0</td>\n",
              "      <td>128.0</td>\n",
              "      <td>98.857143</td>\n",
              "      <td>84.0</td>\n",
              "      <td>135.0</td>\n",
              "      <td>106.972973</td>\n",
              "      <td>...</td>\n",
              "      <td>-43585.37922</td>\n",
              "      <td>ELECTIVE</td>\n",
              "      <td>Medicare</td>\n",
              "      <td>NOT SPECIFIED</td>\n",
              "      <td>WIDOWED</td>\n",
              "      <td>WHITE</td>\n",
              "      <td>HIATAL HERNIA/SDA</td>\n",
              "      <td>5533</td>\n",
              "      <td>SICU</td>\n",
              "      <td>3.8734</td>\n",
              "    </tr>\n",
              "    <tr>\n",
              "      <th>4</th>\n",
              "      <td>0</td>\n",
              "      <td>28424</td>\n",
              "      <td>127337</td>\n",
              "      <td>225281</td>\n",
              "      <td>NaN</td>\n",
              "      <td>NaN</td>\n",
              "      <td>NaN</td>\n",
              "      <td>NaN</td>\n",
              "      <td>NaN</td>\n",
              "      <td>NaN</td>\n",
              "      <td>...</td>\n",
              "      <td>-50271.76602</td>\n",
              "      <td>EMERGENCY</td>\n",
              "      <td>Medicare</td>\n",
              "      <td>JEWISH</td>\n",
              "      <td>WIDOWED</td>\n",
              "      <td>WHITE</td>\n",
              "      <td>ABDOMINAL PAIN</td>\n",
              "      <td>56211</td>\n",
              "      <td>TSICU</td>\n",
              "      <td>5.8654</td>\n",
              "    </tr>\n",
              "  </tbody>\n",
              "</table>\n",
              "<p>5 rows × 44 columns</p>\n",
              "</div>"
            ],
            "text/plain": [
              "   HOSPITAL_EXPIRE_FLAG  subject_id  hadm_id  icustay_id  HeartRate_Min  \\\n",
              "0                     0       55440   195768      228357           89.0   \n",
              "1                     0       76908   126136      221004           63.0   \n",
              "2                     0       95798   136645      296315           81.0   \n",
              "3                     0       40708   102505      245557           76.0   \n",
              "4                     0       28424   127337      225281            NaN   \n",
              "\n",
              "   HeartRate_Max  HeartRate_Mean  SysBP_Min  SysBP_Max  SysBP_Mean  ...  \\\n",
              "0          145.0      121.043478       74.0      127.0  106.586957  ...   \n",
              "1          110.0       79.117647       89.0      121.0  106.733333  ...   \n",
              "2           98.0       91.689655       88.0      138.0  112.785714  ...   \n",
              "3          128.0       98.857143       84.0      135.0  106.972973  ...   \n",
              "4            NaN             NaN        NaN        NaN         NaN  ...   \n",
              "\n",
              "          Diff  ADMISSION_TYPE  INSURANCE           RELIGION  MARITAL_STATUS  \\\n",
              "0 -61961.78470       EMERGENCY   Medicare  PROTESTANT QUAKER          SINGLE   \n",
              "1 -43146.18378       EMERGENCY    Private       UNOBTAINABLE         MARRIED   \n",
              "2 -42009.96157       EMERGENCY   Medicare  PROTESTANT QUAKER       SEPARATED   \n",
              "3 -43585.37922        ELECTIVE   Medicare      NOT SPECIFIED         WIDOWED   \n",
              "4 -50271.76602       EMERGENCY   Medicare             JEWISH         WIDOWED   \n",
              "\n",
              "                ETHNICITY                  DIAGNOSIS  ICD9_diagnosis  \\\n",
              "0                   WHITE     GASTROINTESTINAL BLEED            5789   \n",
              "1                   WHITE  ESOPHAGEAL FOOD IMPACTION           53013   \n",
              "2  BLACK/AFRICAN AMERICAN             UPPER GI BLEED           56983   \n",
              "3                   WHITE          HIATAL HERNIA/SDA            5533   \n",
              "4                   WHITE             ABDOMINAL PAIN           56211   \n",
              "\n",
              "   FIRST_CAREUNIT     LOS  \n",
              "0            MICU  4.5761  \n",
              "1            MICU  0.7582  \n",
              "2            MICU  3.7626  \n",
              "3            SICU  3.8734  \n",
              "4           TSICU  5.8654  \n",
              "\n",
              "[5 rows x 44 columns]"
            ]
          },
          "execution_count": 39,
          "metadata": {},
          "output_type": "execute_result"
        }
      ],
      "source": [
        "training.head()"
      ]
    },
    {
      "cell_type": "code",
      "execution_count": 40,
      "metadata": {},
      "outputs": [
        {
          "data": {
            "text/html": [
              "<div>\n",
              "<style scoped>\n",
              "    .dataframe tbody tr th:only-of-type {\n",
              "        vertical-align: middle;\n",
              "    }\n",
              "\n",
              "    .dataframe tbody tr th {\n",
              "        vertical-align: top;\n",
              "    }\n",
              "\n",
              "    .dataframe thead th {\n",
              "        text-align: right;\n",
              "    }\n",
              "</style>\n",
              "<table border=\"1\" class=\"dataframe\">\n",
              "  <thead>\n",
              "    <tr style=\"text-align: right;\">\n",
              "      <th></th>\n",
              "      <th>subject_id</th>\n",
              "      <th>hadm_id</th>\n",
              "      <th>icustay_id</th>\n",
              "      <th>HeartRate_Min</th>\n",
              "      <th>HeartRate_Max</th>\n",
              "      <th>HeartRate_Mean</th>\n",
              "      <th>SysBP_Min</th>\n",
              "      <th>SysBP_Max</th>\n",
              "      <th>SysBP_Mean</th>\n",
              "      <th>DiasBP_Min</th>\n",
              "      <th>...</th>\n",
              "      <th>ADMITTIME</th>\n",
              "      <th>Diff</th>\n",
              "      <th>ADMISSION_TYPE</th>\n",
              "      <th>INSURANCE</th>\n",
              "      <th>RELIGION</th>\n",
              "      <th>MARITAL_STATUS</th>\n",
              "      <th>ETHNICITY</th>\n",
              "      <th>DIAGNOSIS</th>\n",
              "      <th>ICD9_diagnosis</th>\n",
              "      <th>FIRST_CAREUNIT</th>\n",
              "    </tr>\n",
              "  </thead>\n",
              "  <tbody>\n",
              "    <tr>\n",
              "      <th>0</th>\n",
              "      <td>64058</td>\n",
              "      <td>146725</td>\n",
              "      <td>208169</td>\n",
              "      <td>58.0</td>\n",
              "      <td>90.0</td>\n",
              "      <td>85.244898</td>\n",
              "      <td>77.0</td>\n",
              "      <td>153.0</td>\n",
              "      <td>98.490909</td>\n",
              "      <td>40.0</td>\n",
              "      <td>...</td>\n",
              "      <td>2196-02-23 11:45:00</td>\n",
              "      <td>-67454.42740</td>\n",
              "      <td>ELECTIVE</td>\n",
              "      <td>Medicare</td>\n",
              "      <td>CATHOLIC</td>\n",
              "      <td>MARRIED</td>\n",
              "      <td>WHITE</td>\n",
              "      <td>AORTIC STENOSIS\\CORONARY ARTERY BYPASS GRAFT W...</td>\n",
              "      <td>4241</td>\n",
              "      <td>CSRU</td>\n",
              "    </tr>\n",
              "    <tr>\n",
              "      <th>1</th>\n",
              "      <td>55871</td>\n",
              "      <td>108789</td>\n",
              "      <td>251754</td>\n",
              "      <td>91.0</td>\n",
              "      <td>145.0</td>\n",
              "      <td>115.055556</td>\n",
              "      <td>73.0</td>\n",
              "      <td>143.0</td>\n",
              "      <td>101.210526</td>\n",
              "      <td>42.0</td>\n",
              "      <td>...</td>\n",
              "      <td>2103-10-22 23:58:00</td>\n",
              "      <td>-34204.08546</td>\n",
              "      <td>EMERGENCY</td>\n",
              "      <td>Private</td>\n",
              "      <td>NOT SPECIFIED</td>\n",
              "      <td>MARRIED</td>\n",
              "      <td>WHITE</td>\n",
              "      <td>HYPERGLYCEMIA</td>\n",
              "      <td>25013</td>\n",
              "      <td>MICU</td>\n",
              "    </tr>\n",
              "    <tr>\n",
              "      <th>2</th>\n",
              "      <td>42892</td>\n",
              "      <td>139885</td>\n",
              "      <td>242171</td>\n",
              "      <td>106.0</td>\n",
              "      <td>132.0</td>\n",
              "      <td>117.750000</td>\n",
              "      <td>93.0</td>\n",
              "      <td>137.0</td>\n",
              "      <td>116.222222</td>\n",
              "      <td>51.0</td>\n",
              "      <td>...</td>\n",
              "      <td>2115-06-28 07:15:00</td>\n",
              "      <td>-38710.61714</td>\n",
              "      <td>ELECTIVE</td>\n",
              "      <td>Medicare</td>\n",
              "      <td>CATHOLIC</td>\n",
              "      <td>MARRIED</td>\n",
              "      <td>WHITE</td>\n",
              "      <td>KIDNEY STONES/SDA</td>\n",
              "      <td>5920</td>\n",
              "      <td>MICU</td>\n",
              "    </tr>\n",
              "    <tr>\n",
              "      <th>3</th>\n",
              "      <td>66629</td>\n",
              "      <td>173017</td>\n",
              "      <td>263035</td>\n",
              "      <td>72.0</td>\n",
              "      <td>105.0</td>\n",
              "      <td>83.627119</td>\n",
              "      <td>72.0</td>\n",
              "      <td>168.0</td>\n",
              "      <td>126.981818</td>\n",
              "      <td>39.0</td>\n",
              "      <td>...</td>\n",
              "      <td>2162-08-01 21:00:00</td>\n",
              "      <td>-54902.54313</td>\n",
              "      <td>EMERGENCY</td>\n",
              "      <td>Private</td>\n",
              "      <td>EPISCOPALIAN</td>\n",
              "      <td>WIDOWED</td>\n",
              "      <td>WHITE</td>\n",
              "      <td>RIGHT FEMUR FRACTURE</td>\n",
              "      <td>82120</td>\n",
              "      <td>CCU</td>\n",
              "    </tr>\n",
              "    <tr>\n",
              "      <th>4</th>\n",
              "      <td>79851</td>\n",
              "      <td>171573</td>\n",
              "      <td>279388</td>\n",
              "      <td>85.0</td>\n",
              "      <td>124.0</td>\n",
              "      <td>98.600000</td>\n",
              "      <td>86.0</td>\n",
              "      <td>144.0</td>\n",
              "      <td>110.666667</td>\n",
              "      <td>52.0</td>\n",
              "      <td>...</td>\n",
              "      <td>2103-01-16 22:05:00</td>\n",
              "      <td>-33906.93488</td>\n",
              "      <td>EMERGENCY</td>\n",
              "      <td>Medicare</td>\n",
              "      <td>CATHOLIC</td>\n",
              "      <td>SINGLE</td>\n",
              "      <td>WHITE</td>\n",
              "      <td>PNEUMONIA;RAPID AF;HYPOXIA</td>\n",
              "      <td>51884</td>\n",
              "      <td>MICU</td>\n",
              "    </tr>\n",
              "  </tbody>\n",
              "</table>\n",
              "<p>5 rows × 39 columns</p>\n",
              "</div>"
            ],
            "text/plain": [
              "   subject_id  hadm_id  icustay_id  HeartRate_Min  HeartRate_Max  \\\n",
              "0       64058   146725      208169           58.0           90.0   \n",
              "1       55871   108789      251754           91.0          145.0   \n",
              "2       42892   139885      242171          106.0          132.0   \n",
              "3       66629   173017      263035           72.0          105.0   \n",
              "4       79851   171573      279388           85.0          124.0   \n",
              "\n",
              "   HeartRate_Mean  SysBP_Min  SysBP_Max  SysBP_Mean  DiasBP_Min  ...  \\\n",
              "0       85.244898       77.0      153.0   98.490909        40.0  ...   \n",
              "1      115.055556       73.0      143.0  101.210526        42.0  ...   \n",
              "2      117.750000       93.0      137.0  116.222222        51.0  ...   \n",
              "3       83.627119       72.0      168.0  126.981818        39.0  ...   \n",
              "4       98.600000       86.0      144.0  110.666667        52.0  ...   \n",
              "\n",
              "             ADMITTIME         Diff  ADMISSION_TYPE  INSURANCE       RELIGION  \\\n",
              "0  2196-02-23 11:45:00 -67454.42740        ELECTIVE   Medicare       CATHOLIC   \n",
              "1  2103-10-22 23:58:00 -34204.08546       EMERGENCY    Private  NOT SPECIFIED   \n",
              "2  2115-06-28 07:15:00 -38710.61714        ELECTIVE   Medicare       CATHOLIC   \n",
              "3  2162-08-01 21:00:00 -54902.54313       EMERGENCY    Private   EPISCOPALIAN   \n",
              "4  2103-01-16 22:05:00 -33906.93488       EMERGENCY   Medicare       CATHOLIC   \n",
              "\n",
              "   MARITAL_STATUS  ETHNICITY  \\\n",
              "0         MARRIED      WHITE   \n",
              "1         MARRIED      WHITE   \n",
              "2         MARRIED      WHITE   \n",
              "3         WIDOWED      WHITE   \n",
              "4          SINGLE      WHITE   \n",
              "\n",
              "                                           DIAGNOSIS  ICD9_diagnosis  \\\n",
              "0  AORTIC STENOSIS\\CORONARY ARTERY BYPASS GRAFT W...            4241   \n",
              "1                                      HYPERGLYCEMIA           25013   \n",
              "2                                  KIDNEY STONES/SDA            5920   \n",
              "3                               RIGHT FEMUR FRACTURE           82120   \n",
              "4                         PNEUMONIA;RAPID AF;HYPOXIA           51884   \n",
              "\n",
              "   FIRST_CAREUNIT  \n",
              "0            CSRU  \n",
              "1            MICU  \n",
              "2            MICU  \n",
              "3             CCU  \n",
              "4            MICU  \n",
              "\n",
              "[5 rows x 39 columns]"
            ]
          },
          "execution_count": 40,
          "metadata": {},
          "output_type": "execute_result"
        }
      ],
      "source": [
        "test.head()"
      ]
    },
    {
      "cell_type": "code",
      "execution_count": 41,
      "metadata": {
        "colab": {
          "base_uri": "https://localhost:8080/",
          "height": 520
        },
        "id": "6cK25zhTCXo8",
        "outputId": "5cfed5f5-e12f-44b9-a0a2-db7eba7efc06"
      },
      "outputs": [
        {
          "data": {
            "text/html": [
              "<div>\n",
              "<style scoped>\n",
              "    .dataframe tbody tr th:only-of-type {\n",
              "        vertical-align: middle;\n",
              "    }\n",
              "\n",
              "    .dataframe tbody tr th {\n",
              "        vertical-align: top;\n",
              "    }\n",
              "\n",
              "    .dataframe thead th {\n",
              "        text-align: right;\n",
              "    }\n",
              "</style>\n",
              "<table border=\"1\" class=\"dataframe\">\n",
              "  <thead>\n",
              "    <tr style=\"text-align: right;\">\n",
              "      <th></th>\n",
              "      <th>SUBJECT_ID</th>\n",
              "      <th>HADM_ID</th>\n",
              "      <th>SEQ_NUM</th>\n",
              "      <th>ICD9_CODE</th>\n",
              "    </tr>\n",
              "  </thead>\n",
              "  <tbody>\n",
              "    <tr>\n",
              "      <th>0</th>\n",
              "      <td>256</td>\n",
              "      <td>108811</td>\n",
              "      <td>1.0</td>\n",
              "      <td>53240</td>\n",
              "    </tr>\n",
              "    <tr>\n",
              "      <th>1</th>\n",
              "      <td>256</td>\n",
              "      <td>108811</td>\n",
              "      <td>2.0</td>\n",
              "      <td>41071</td>\n",
              "    </tr>\n",
              "    <tr>\n",
              "      <th>2</th>\n",
              "      <td>256</td>\n",
              "      <td>108811</td>\n",
              "      <td>3.0</td>\n",
              "      <td>53560</td>\n",
              "    </tr>\n",
              "    <tr>\n",
              "      <th>3</th>\n",
              "      <td>256</td>\n",
              "      <td>108811</td>\n",
              "      <td>4.0</td>\n",
              "      <td>40390</td>\n",
              "    </tr>\n",
              "    <tr>\n",
              "      <th>4</th>\n",
              "      <td>256</td>\n",
              "      <td>108811</td>\n",
              "      <td>5.0</td>\n",
              "      <td>5859</td>\n",
              "    </tr>\n",
              "  </tbody>\n",
              "</table>\n",
              "</div>"
            ],
            "text/plain": [
              "   SUBJECT_ID  HADM_ID  SEQ_NUM ICD9_CODE\n",
              "0         256   108811      1.0     53240\n",
              "1         256   108811      2.0     41071\n",
              "2         256   108811      3.0     53560\n",
              "3         256   108811      4.0     40390\n",
              "4         256   108811      5.0      5859"
            ]
          },
          "execution_count": 41,
          "metadata": {},
          "output_type": "execute_result"
        }
      ],
      "source": [
        "comorbidities.head(5)"
      ]
    },
    {
      "cell_type": "code",
      "execution_count": 42,
      "metadata": {
        "colab": {
          "base_uri": "https://localhost:8080/"
        },
        "id": "J71-OtoXpnNV",
        "outputId": "f660a537-0810-4d16-eba9-c82f1d891947"
      },
      "outputs": [
        {
          "name": "stdout",
          "output_type": "stream",
          "text": [
            "Index(['HOSPITAL_EXPIRE_FLAG', 'subject_id', 'hadm_id', 'icustay_id',\n",
            "       'HeartRate_Min', 'HeartRate_Max', 'HeartRate_Mean', 'SysBP_Min',\n",
            "       'SysBP_Max', 'SysBP_Mean', 'DiasBP_Min', 'DiasBP_Max', 'DiasBP_Mean',\n",
            "       'MeanBP_Min', 'MeanBP_Max', 'MeanBP_Mean', 'RespRate_Min',\n",
            "       'RespRate_Max', 'RespRate_Mean', 'TempC_Min', 'TempC_Max', 'TempC_Mean',\n",
            "       'SpO2_Min', 'SpO2_Max', 'SpO2_Mean', 'Glucose_Min', 'Glucose_Max',\n",
            "       'Glucose_Mean', 'GENDER', 'DOB', 'DOD', 'ADMITTIME', 'DISCHTIME',\n",
            "       'DEATHTIME', 'Diff', 'ADMISSION_TYPE', 'INSURANCE', 'RELIGION',\n",
            "       'MARITAL_STATUS', 'ETHNICITY', 'DIAGNOSIS', 'ICD9_diagnosis',\n",
            "       'FIRST_CAREUNIT', 'LOS'],\n",
            "      dtype='object')\n",
            "Index(['subject_id', 'hadm_id', 'icustay_id', 'HeartRate_Min', 'HeartRate_Max',\n",
            "       'HeartRate_Mean', 'SysBP_Min', 'SysBP_Max', 'SysBP_Mean', 'DiasBP_Min',\n",
            "       'DiasBP_Max', 'DiasBP_Mean', 'MeanBP_Min', 'MeanBP_Max', 'MeanBP_Mean',\n",
            "       'RespRate_Min', 'RespRate_Max', 'RespRate_Mean', 'TempC_Min',\n",
            "       'TempC_Max', 'TempC_Mean', 'SpO2_Min', 'SpO2_Max', 'SpO2_Mean',\n",
            "       'Glucose_Min', 'Glucose_Max', 'Glucose_Mean', 'GENDER', 'DOB',\n",
            "       'ADMITTIME', 'Diff', 'ADMISSION_TYPE', 'INSURANCE', 'RELIGION',\n",
            "       'MARITAL_STATUS', 'ETHNICITY', 'DIAGNOSIS', 'ICD9_diagnosis',\n",
            "       'FIRST_CAREUNIT'],\n",
            "      dtype='object')\n",
            "Index(['SUBJECT_ID', 'HADM_ID', 'SEQ_NUM', 'ICD9_CODE'], dtype='object')\n"
          ]
        }
      ],
      "source": [
        "# Checking variables available\n",
        "print(training.columns)\n",
        "print(test.columns)\n",
        "print(comorbidities.columns)"
      ]
    },
    {
      "cell_type": "markdown",
      "metadata": {
        "id": "EZanfjX9Tcu0"
      },
      "source": [
        "## DI_INDEX IMPLEMENTATION"
      ]
    },
    {
      "cell_type": "markdown",
      "metadata": {
        "id": "IXqOEl7SHm5-"
      },
      "source": [
        "The Dante's inferno index will be based on the following intuition (basically target encoding).\n",
        "\n",
        "a) having a certain ICD9 diagnosis has a potentially negative impact on the probability of survival in the ICU for a given patient.\n",
        "\n",
        "b) having multiple ICD9 diagnoses has an arguably larger negative impact on the probability of survival in the ICU for a given patient.\n",
        "\n",
        "To construct an index that takes this into account, I will perform the feature engineering/manipulation below:\n",
        "\n",
        "1. Calculate the proportion of people that die in the ICU for all ICD9_diagnosis categories.\n",
        "\n",
        "2. Spread out this proportion to the co-morbidities data (per comorbidity, how many people die, on average according to training data)\n",
        "\n",
        "3. Sum the proportions by hadm_id (hospital admission id) in the co-morbidities data (*sumprop*).\n",
        "\n",
        "4. Join this to the test and training data. Call this <font color='blue'> di_index</font>.\n",
        "\n",
        "In essence, this 'index' could account for the 'additive strain' nature of having multiple ICD9 diagnoses at the same time.\n",
        "\n",
        "**N.B!** I am not claiming that the Dante's inferno index is by any means perfect... For some diseases, we have very little data (aka potential noise)...\n",
        "\n",
        "**P.S!** I tried to join the whole comorbidities dataset available in dummy form, on which I would then have cut down using featureselection (linearsvc), but at one stage in the process when performing a groupby, the kernel crashes. This happened for both the colab notebook and on my own pc. This would have been far better than the di_index, but c'est la vie!!\n",
        "\n",
        "**P.P.S!** Another obvious problem with this approach is that the di_index places the same weight for the 'probability of dying in the ICU' regardless of how many cases there are per disease provided that the ratio of deaths to survivals is the same. So for example, if pneumonia killed 500 people and another 500 survived the disease, then the di_index says the probability of dying from pneumonia is essentially the same as dying from another disease for which we only have 2 data points, one who survived and one who died..."
      ]
    },
    {
      "cell_type": "code",
      "execution_count": 43,
      "metadata": {
        "colab": {
          "base_uri": "https://localhost:8080/"
        },
        "id": "2qH2EvVL0tJE",
        "outputId": "decbeb76-97c6-4f62-cc6a-8a283169cd1a"
      },
      "outputs": [
        {
          "name": "stdout",
          "output_type": "stream",
          "text": [
            "HOSPITAL_EXPIRE_FLAG      0      1  di_index ICD9_CODE\n",
            "ICD9_diagnosis                                        \n",
            "0389                  683.0  289.0  0.297325      0389\n",
            "431                   308.0  107.0  0.257831       431\n",
            "51881                 308.0   83.0  0.212276     51881\n",
            "430                   181.0   42.0  0.188341       430\n",
            "486                   272.0   40.0  0.128205       486\n"
          ]
        }
      ],
      "source": [
        "# Getting the number of people that died and didn't die, per ICD9 diagnosis in the training data\n",
        "death_preds = pd.DataFrame(pd.pivot_table(training, index = 'HOSPITAL_EXPIRE_FLAG', columns = 'ICD9_diagnosis', values = 'Glucose_Max', aggfunc = 'count').T)\n",
        "\n",
        "# Filling NaNs with zeroes (could change this)\n",
        "death_preds[0] = death_preds[0].fillna(0)\n",
        "death_preds[1] = death_preds[1].fillna(0)\n",
        "\n",
        "# Calculating proportion of people that died per disease\n",
        "death_preds['di_index'] = death_preds[1] / (death_preds[0] + death_preds[1])\n",
        "\n",
        "# Sorting to view the deadliest diseases according to data\n",
        "death_preds = death_preds.sort_values(axis=0,by=1,ascending=False)\n",
        "\n",
        "# Casting ICD9_diagnosis as string\n",
        "death_preds['ICD9_CODE'] = death_preds.index.astype('str')\n",
        "\n",
        "# Inspecting visually\n",
        "print(death_preds.head())"
      ]
    },
    {
      "cell_type": "code",
      "execution_count": 44,
      "metadata": {
        "id": "LfFCr5IFi3VK"
      },
      "outputs": [],
      "source": [
        "# Here, we spread out the DI_index to the comorbidities data, and sum by hospitalization admission id\n",
        "# i.e. unique hospital stay\n",
        "comorbidities_merged=comorbidities.merge(death_preds[['ICD9_CODE','di_index']],how='left',on='ICD9_CODE')"
      ]
    },
    {
      "cell_type": "code",
      "execution_count": 45,
      "metadata": {
        "id": "y2V2q1mkkac2"
      },
      "outputs": [],
      "source": [
        "# There will most probably be a lot of ICD9_CODEs in the \n",
        "# comorbidities data that we do not have training data/deadliness on..\n",
        "#\n",
        "# Therefore, we will have to fill NaN's with zeroes...\n",
        "#\n",
        "# In this case, I am treating missing information as truly missing, which \n",
        "# might not be the most elegant solution, but c'est la vie...\n",
        "comorbidities_merged['di_index'] = comorbidities_merged['di_index'].fillna(0)\n",
        "\n",
        "# Next, we need to aggregate based on hadm_id...\n",
        "comorbidities_merged.drop(columns=['SEQ_NUM','SUBJECT_ID'],inplace=True)\n",
        "comorbidities_merged.head()\n",
        "\n",
        "# Summing up the di_index by hadm_id, for matching with training and test data purposes...\n",
        "death_indexes = comorbidities_merged.groupby(['HADM_ID']).sum()\n",
        "\n",
        "# Creating a new column for the hadm_id..\n",
        "death_indexes['hadm_id'] = death_indexes.index.astype('str')"
      ]
    },
    {
      "cell_type": "code",
      "execution_count": 46,
      "metadata": {
        "colab": {
          "base_uri": "https://localhost:8080/",
          "height": 472
        },
        "id": "QxyILvc9mham",
        "outputId": "77350409-63f0-4cf7-8422-191e344b97e0"
      },
      "outputs": [
        {
          "name": "stdout",
          "output_type": "stream",
          "text": [
            "count    58976.000000\n",
            "mean         0.572430\n",
            "std          0.623321\n",
            "min          0.000000\n",
            "25%          0.096154\n",
            "50%          0.378904\n",
            "75%          0.834082\n",
            "max          5.793390\n",
            "Name: di_index, dtype: float64\n"
          ]
        },
        {
          "data": {
            "text/plain": [
              "array([[<AxesSubplot:title={'center':'di_index'}>]], dtype=object)"
            ]
          },
          "execution_count": 46,
          "metadata": {},
          "output_type": "execute_result"
        },
        {
          "data": {
            "image/png": "[encoded data removed]",
            "text/plain": [
              "<Figure size 432x288 with 1 Axes>"
            ]
          },
          "metadata": {
            "needs_background": "light"
          },
          "output_type": "display_data"
        }
      ],
      "source": [
        "# Looking at the distribution of DI_Index across the comorbidities set.. \n",
        "print(death_indexes.di_index.describe())\n",
        "death_indexes.hist(column='di_index')\n",
        "\n",
        "# Seems like there is meaningful variation in the data!!!"
      ]
    },
    {
      "cell_type": "code",
      "execution_count": 47,
      "metadata": {},
      "outputs": [
        {
          "data": {
            "text/html": [
              "<div>\n",
              "<style scoped>\n",
              "    .dataframe tbody tr th:only-of-type {\n",
              "        vertical-align: middle;\n",
              "    }\n",
              "\n",
              "    .dataframe tbody tr th {\n",
              "        vertical-align: top;\n",
              "    }\n",
              "\n",
              "    .dataframe thead th {\n",
              "        text-align: right;\n",
              "    }\n",
              "</style>\n",
              "<table border=\"1\" class=\"dataframe\">\n",
              "  <thead>\n",
              "    <tr style=\"text-align: right;\">\n",
              "      <th></th>\n",
              "      <th>di_index</th>\n",
              "      <th>hadm_id</th>\n",
              "    </tr>\n",
              "    <tr>\n",
              "      <th>HADM_ID</th>\n",
              "      <th></th>\n",
              "      <th></th>\n",
              "    </tr>\n",
              "  </thead>\n",
              "  <tbody>\n",
              "    <tr>\n",
              "      <th>100001</th>\n",
              "      <td>0.256886</td>\n",
              "      <td>100001</td>\n",
              "    </tr>\n",
              "    <tr>\n",
              "      <th>100003</th>\n",
              "      <td>0.578856</td>\n",
              "      <td>100003</td>\n",
              "    </tr>\n",
              "    <tr>\n",
              "      <th>100006</th>\n",
              "      <td>1.397467</td>\n",
              "      <td>100006</td>\n",
              "    </tr>\n",
              "    <tr>\n",
              "      <th>100007</th>\n",
              "      <td>0.988205</td>\n",
              "      <td>100007</td>\n",
              "    </tr>\n",
              "    <tr>\n",
              "      <th>100009</th>\n",
              "      <td>0.008227</td>\n",
              "      <td>100009</td>\n",
              "    </tr>\n",
              "  </tbody>\n",
              "</table>\n",
              "</div>"
            ],
            "text/plain": [
              "         di_index hadm_id\n",
              "HADM_ID                  \n",
              "100001   0.256886  100001\n",
              "100003   0.578856  100003\n",
              "100006   1.397467  100006\n",
              "100007   0.988205  100007\n",
              "100009   0.008227  100009"
            ]
          },
          "execution_count": 47,
          "metadata": {},
          "output_type": "execute_result"
        }
      ],
      "source": [
        "death_indexes.head()"
      ]
    },
    {
      "cell_type": "code",
      "execution_count": 48,
      "metadata": {
        "id": "AKmkRctfpXjx"
      },
      "outputs": [],
      "source": [
        "# Re-indexing dataframe\n",
        "death_indexes.reset_index(inplace=True,drop=True)\n",
        "death_indexes['hadm_id'] = death_indexes['hadm_id'].astype('int')"
      ]
    },
    {
      "cell_type": "code",
      "execution_count": 49,
      "metadata": {
        "colab": {
          "base_uri": "https://localhost:8080/",
          "height": 206
        },
        "id": "SNFc--n-quwy",
        "outputId": "25e3e3d4-7b68-4509-8a9f-c64a98022259"
      },
      "outputs": [
        {
          "data": {
            "text/html": [
              "<div>\n",
              "<style scoped>\n",
              "    .dataframe tbody tr th:only-of-type {\n",
              "        vertical-align: middle;\n",
              "    }\n",
              "\n",
              "    .dataframe tbody tr th {\n",
              "        vertical-align: top;\n",
              "    }\n",
              "\n",
              "    .dataframe thead th {\n",
              "        text-align: right;\n",
              "    }\n",
              "</style>\n",
              "<table border=\"1\" class=\"dataframe\">\n",
              "  <thead>\n",
              "    <tr style=\"text-align: right;\">\n",
              "      <th></th>\n",
              "      <th>di_index</th>\n",
              "      <th>hadm_id</th>\n",
              "    </tr>\n",
              "  </thead>\n",
              "  <tbody>\n",
              "    <tr>\n",
              "      <th>0</th>\n",
              "      <td>0.256886</td>\n",
              "      <td>100001</td>\n",
              "    </tr>\n",
              "    <tr>\n",
              "      <th>1</th>\n",
              "      <td>0.578856</td>\n",
              "      <td>100003</td>\n",
              "    </tr>\n",
              "    <tr>\n",
              "      <th>2</th>\n",
              "      <td>1.397467</td>\n",
              "      <td>100006</td>\n",
              "    </tr>\n",
              "    <tr>\n",
              "      <th>3</th>\n",
              "      <td>0.988205</td>\n",
              "      <td>100007</td>\n",
              "    </tr>\n",
              "    <tr>\n",
              "      <th>4</th>\n",
              "      <td>0.008227</td>\n",
              "      <td>100009</td>\n",
              "    </tr>\n",
              "  </tbody>\n",
              "</table>\n",
              "</div>"
            ],
            "text/plain": [
              "   di_index  hadm_id\n",
              "0  0.256886   100001\n",
              "1  0.578856   100003\n",
              "2  1.397467   100006\n",
              "3  0.988205   100007\n",
              "4  0.008227   100009"
            ]
          },
          "execution_count": 49,
          "metadata": {},
          "output_type": "execute_result"
        }
      ],
      "source": [
        "# What we have below is the di_index ready to be merged into both the training and test data...\n",
        "death_indexes.head()"
      ]
    },
    {
      "cell_type": "code",
      "execution_count": 50,
      "metadata": {
        "id": "hZFql4r-swCx"
      },
      "outputs": [
        {
          "data": {
            "text/html": [
              "<div>\n",
              "<style scoped>\n",
              "    .dataframe tbody tr th:only-of-type {\n",
              "        vertical-align: middle;\n",
              "    }\n",
              "\n",
              "    .dataframe tbody tr th {\n",
              "        vertical-align: top;\n",
              "    }\n",
              "\n",
              "    .dataframe thead th {\n",
              "        text-align: right;\n",
              "    }\n",
              "</style>\n",
              "<table border=\"1\" class=\"dataframe\">\n",
              "  <thead>\n",
              "    <tr style=\"text-align: right;\">\n",
              "      <th>HOSPITAL_EXPIRE_FLAG</th>\n",
              "      <th>0</th>\n",
              "      <th>1</th>\n",
              "      <th>di_index_main</th>\n",
              "      <th>ICD9_CODE</th>\n",
              "    </tr>\n",
              "    <tr>\n",
              "      <th>ICD9_diagnosis</th>\n",
              "      <th></th>\n",
              "      <th></th>\n",
              "      <th></th>\n",
              "      <th></th>\n",
              "    </tr>\n",
              "  </thead>\n",
              "  <tbody>\n",
              "    <tr>\n",
              "      <th>0389</th>\n",
              "      <td>683.0</td>\n",
              "      <td>289.0</td>\n",
              "      <td>0.297325</td>\n",
              "      <td>0389</td>\n",
              "    </tr>\n",
              "    <tr>\n",
              "      <th>431</th>\n",
              "      <td>308.0</td>\n",
              "      <td>107.0</td>\n",
              "      <td>0.257831</td>\n",
              "      <td>431</td>\n",
              "    </tr>\n",
              "    <tr>\n",
              "      <th>51881</th>\n",
              "      <td>308.0</td>\n",
              "      <td>83.0</td>\n",
              "      <td>0.212276</td>\n",
              "      <td>51881</td>\n",
              "    </tr>\n",
              "    <tr>\n",
              "      <th>430</th>\n",
              "      <td>181.0</td>\n",
              "      <td>42.0</td>\n",
              "      <td>0.188341</td>\n",
              "      <td>430</td>\n",
              "    </tr>\n",
              "    <tr>\n",
              "      <th>486</th>\n",
              "      <td>272.0</td>\n",
              "      <td>40.0</td>\n",
              "      <td>0.128205</td>\n",
              "      <td>486</td>\n",
              "    </tr>\n",
              "  </tbody>\n",
              "</table>\n",
              "</div>"
            ],
            "text/plain": [
              "HOSPITAL_EXPIRE_FLAG      0      1  di_index_main ICD9_CODE\n",
              "ICD9_diagnosis                                             \n",
              "0389                  683.0  289.0       0.297325      0389\n",
              "431                   308.0  107.0       0.257831       431\n",
              "51881                 308.0   83.0       0.212276     51881\n",
              "430                   181.0   42.0       0.188341       430\n",
              "486                   272.0   40.0       0.128205       486"
            ]
          },
          "execution_count": 50,
          "metadata": {},
          "output_type": "execute_result"
        }
      ],
      "source": [
        "# Creating a copy of the earlier death predictions data frame with\n",
        "# hospital expiry 0 | hospital_expiry 1 | di_index | ICD9_CODE\n",
        "death_preds_c = death_preds.copy()\n",
        "death_preds_c.rename(columns = {'di_index' : 'di_index_main'},inplace=True)\n",
        "death_preds_c.head()"
      ]
    },
    {
      "cell_type": "markdown",
      "metadata": {},
      "source": [
        "### Merging di_index into training data"
      ]
    },
    {
      "cell_type": "code",
      "execution_count": 51,
      "metadata": {
        "id": "kihIyQneJV4F"
      },
      "outputs": [
        {
          "name": "stdout",
          "output_type": "stream",
          "text": [
            "False    20885\n",
            "Name: di_index, dtype: int64\n"
          ]
        },
        {
          "data": {
            "text/html": [
              "<div>\n",
              "<style scoped>\n",
              "    .dataframe tbody tr th:only-of-type {\n",
              "        vertical-align: middle;\n",
              "    }\n",
              "\n",
              "    .dataframe tbody tr th {\n",
              "        vertical-align: top;\n",
              "    }\n",
              "\n",
              "    .dataframe thead th {\n",
              "        text-align: right;\n",
              "    }\n",
              "</style>\n",
              "<table border=\"1\" class=\"dataframe\">\n",
              "  <thead>\n",
              "    <tr style=\"text-align: right;\">\n",
              "      <th></th>\n",
              "      <th>HOSPITAL_EXPIRE_FLAG</th>\n",
              "      <th>subject_id</th>\n",
              "      <th>hadm_id</th>\n",
              "      <th>icustay_id</th>\n",
              "      <th>HeartRate_Min</th>\n",
              "      <th>HeartRate_Max</th>\n",
              "      <th>HeartRate_Mean</th>\n",
              "      <th>SysBP_Min</th>\n",
              "      <th>SysBP_Max</th>\n",
              "      <th>SysBP_Mean</th>\n",
              "      <th>...</th>\n",
              "      <th>ADMISSION_TYPE</th>\n",
              "      <th>INSURANCE</th>\n",
              "      <th>RELIGION</th>\n",
              "      <th>MARITAL_STATUS</th>\n",
              "      <th>ETHNICITY</th>\n",
              "      <th>DIAGNOSIS</th>\n",
              "      <th>ICD9_CODE</th>\n",
              "      <th>FIRST_CAREUNIT</th>\n",
              "      <th>LOS</th>\n",
              "      <th>di_index</th>\n",
              "    </tr>\n",
              "  </thead>\n",
              "  <tbody>\n",
              "    <tr>\n",
              "      <th>0</th>\n",
              "      <td>0</td>\n",
              "      <td>55440</td>\n",
              "      <td>195768</td>\n",
              "      <td>228357</td>\n",
              "      <td>89.0</td>\n",
              "      <td>145.0</td>\n",
              "      <td>121.043478</td>\n",
              "      <td>74.0</td>\n",
              "      <td>127.0</td>\n",
              "      <td>106.586957</td>\n",
              "      <td>...</td>\n",
              "      <td>EMERGENCY</td>\n",
              "      <td>Medicare</td>\n",
              "      <td>PROTESTANT QUAKER</td>\n",
              "      <td>SINGLE</td>\n",
              "      <td>WHITE</td>\n",
              "      <td>GASTROINTESTINAL BLEED</td>\n",
              "      <td>5789</td>\n",
              "      <td>MICU</td>\n",
              "      <td>4.5761</td>\n",
              "      <td>0.852726</td>\n",
              "    </tr>\n",
              "    <tr>\n",
              "      <th>1</th>\n",
              "      <td>0</td>\n",
              "      <td>76908</td>\n",
              "      <td>126136</td>\n",
              "      <td>221004</td>\n",
              "      <td>63.0</td>\n",
              "      <td>110.0</td>\n",
              "      <td>79.117647</td>\n",
              "      <td>89.0</td>\n",
              "      <td>121.0</td>\n",
              "      <td>106.733333</td>\n",
              "      <td>...</td>\n",
              "      <td>EMERGENCY</td>\n",
              "      <td>Private</td>\n",
              "      <td>UNOBTAINABLE</td>\n",
              "      <td>MARRIED</td>\n",
              "      <td>WHITE</td>\n",
              "      <td>ESOPHAGEAL FOOD IMPACTION</td>\n",
              "      <td>53013</td>\n",
              "      <td>MICU</td>\n",
              "      <td>0.7582</td>\n",
              "      <td>0.000000</td>\n",
              "    </tr>\n",
              "    <tr>\n",
              "      <th>2</th>\n",
              "      <td>0</td>\n",
              "      <td>95798</td>\n",
              "      <td>136645</td>\n",
              "      <td>296315</td>\n",
              "      <td>81.0</td>\n",
              "      <td>98.0</td>\n",
              "      <td>91.689655</td>\n",
              "      <td>88.0</td>\n",
              "      <td>138.0</td>\n",
              "      <td>112.785714</td>\n",
              "      <td>...</td>\n",
              "      <td>EMERGENCY</td>\n",
              "      <td>Medicare</td>\n",
              "      <td>PROTESTANT QUAKER</td>\n",
              "      <td>SEPARATED</td>\n",
              "      <td>BLACK/AFRICAN AMERICAN</td>\n",
              "      <td>UPPER GI BLEED</td>\n",
              "      <td>56983</td>\n",
              "      <td>MICU</td>\n",
              "      <td>3.7626</td>\n",
              "      <td>1.199769</td>\n",
              "    </tr>\n",
              "    <tr>\n",
              "      <th>3</th>\n",
              "      <td>0</td>\n",
              "      <td>40708</td>\n",
              "      <td>102505</td>\n",
              "      <td>245557</td>\n",
              "      <td>76.0</td>\n",
              "      <td>128.0</td>\n",
              "      <td>98.857143</td>\n",
              "      <td>84.0</td>\n",
              "      <td>135.0</td>\n",
              "      <td>106.972973</td>\n",
              "      <td>...</td>\n",
              "      <td>ELECTIVE</td>\n",
              "      <td>Medicare</td>\n",
              "      <td>NOT SPECIFIED</td>\n",
              "      <td>WIDOWED</td>\n",
              "      <td>WHITE</td>\n",
              "      <td>HIATAL HERNIA/SDA</td>\n",
              "      <td>5533</td>\n",
              "      <td>SICU</td>\n",
              "      <td>3.8734</td>\n",
              "      <td>0.776220</td>\n",
              "    </tr>\n",
              "    <tr>\n",
              "      <th>4</th>\n",
              "      <td>0</td>\n",
              "      <td>28424</td>\n",
              "      <td>127337</td>\n",
              "      <td>225281</td>\n",
              "      <td>NaN</td>\n",
              "      <td>NaN</td>\n",
              "      <td>NaN</td>\n",
              "      <td>NaN</td>\n",
              "      <td>NaN</td>\n",
              "      <td>NaN</td>\n",
              "      <td>...</td>\n",
              "      <td>EMERGENCY</td>\n",
              "      <td>Medicare</td>\n",
              "      <td>JEWISH</td>\n",
              "      <td>WIDOWED</td>\n",
              "      <td>WHITE</td>\n",
              "      <td>ABDOMINAL PAIN</td>\n",
              "      <td>56211</td>\n",
              "      <td>TSICU</td>\n",
              "      <td>5.8654</td>\n",
              "      <td>1.211302</td>\n",
              "    </tr>\n",
              "  </tbody>\n",
              "</table>\n",
              "<p>5 rows × 45 columns</p>\n",
              "</div>"
            ],
            "text/plain": [
              "   HOSPITAL_EXPIRE_FLAG  subject_id  hadm_id  icustay_id  HeartRate_Min  \\\n",
              "0                     0       55440   195768      228357           89.0   \n",
              "1                     0       76908   126136      221004           63.0   \n",
              "2                     0       95798   136645      296315           81.0   \n",
              "3                     0       40708   102505      245557           76.0   \n",
              "4                     0       28424   127337      225281            NaN   \n",
              "\n",
              "   HeartRate_Max  HeartRate_Mean  SysBP_Min  SysBP_Max  SysBP_Mean  ...  \\\n",
              "0          145.0      121.043478       74.0      127.0  106.586957  ...   \n",
              "1          110.0       79.117647       89.0      121.0  106.733333  ...   \n",
              "2           98.0       91.689655       88.0      138.0  112.785714  ...   \n",
              "3          128.0       98.857143       84.0      135.0  106.972973  ...   \n",
              "4            NaN             NaN        NaN        NaN         NaN  ...   \n",
              "\n",
              "   ADMISSION_TYPE  INSURANCE           RELIGION  MARITAL_STATUS  \\\n",
              "0       EMERGENCY   Medicare  PROTESTANT QUAKER          SINGLE   \n",
              "1       EMERGENCY    Private       UNOBTAINABLE         MARRIED   \n",
              "2       EMERGENCY   Medicare  PROTESTANT QUAKER       SEPARATED   \n",
              "3        ELECTIVE   Medicare      NOT SPECIFIED         WIDOWED   \n",
              "4       EMERGENCY   Medicare             JEWISH         WIDOWED   \n",
              "\n",
              "                ETHNICITY                  DIAGNOSIS  ICD9_CODE  \\\n",
              "0                   WHITE     GASTROINTESTINAL BLEED       5789   \n",
              "1                   WHITE  ESOPHAGEAL FOOD IMPACTION      53013   \n",
              "2  BLACK/AFRICAN AMERICAN             UPPER GI BLEED      56983   \n",
              "3                   WHITE          HIATAL HERNIA/SDA       5533   \n",
              "4                   WHITE             ABDOMINAL PAIN      56211   \n",
              "\n",
              "   FIRST_CAREUNIT     LOS  di_index  \n",
              "0            MICU  4.5761  0.852726  \n",
              "1            MICU  0.7582  0.000000  \n",
              "2            MICU  3.7626  1.199769  \n",
              "3            SICU  3.8734  0.776220  \n",
              "4           TSICU  5.8654  1.211302  \n",
              "\n",
              "[5 rows x 45 columns]"
            ]
          },
          "execution_count": 51,
          "metadata": {},
          "output_type": "execute_result"
        }
      ],
      "source": [
        "# STARTING WITH THE TRAINING DATA\n",
        "\n",
        "# We begin by migrating the comorbidities di_index to the training dataset\n",
        "training.rename(columns = {'ICD9_diagnosis' : 'ICD9_CODE'}, inplace = True) \n",
        "training_merged=training.merge(death_indexes[['hadm_id','di_index']],how='left',on='hadm_id')\n",
        "\n",
        "# Next, we need to match the co-morbidities\n",
        "training_merged=training_merged.merge(death_preds_c[['ICD9_CODE','di_index_main']],how='left',on='ICD9_CODE')\n",
        "\n",
        "# Deleting the temporary columns...\n",
        "training_merged.drop(['di_index_main'],1,inplace=True)\n",
        "\n",
        "# Checking if we have NaNs...\n",
        "print(training_merged.di_index.isna().value_counts())\n",
        "\n",
        "# Visualizing the result\n",
        "training_merged.head()"
      ]
    },
    {
      "cell_type": "markdown",
      "metadata": {},
      "source": [
        "### Merging di_index into test data"
      ]
    },
    {
      "cell_type": "code",
      "execution_count": 52,
      "metadata": {
        "id": "ZGA4vW3KuU9A"
      },
      "outputs": [
        {
          "name": "stdout",
          "output_type": "stream",
          "text": [
            "False    5221\n",
            "Name: di_index, dtype: int64\n"
          ]
        },
        {
          "data": {
            "text/html": [
              "<div>\n",
              "<style scoped>\n",
              "    .dataframe tbody tr th:only-of-type {\n",
              "        vertical-align: middle;\n",
              "    }\n",
              "\n",
              "    .dataframe tbody tr th {\n",
              "        vertical-align: top;\n",
              "    }\n",
              "\n",
              "    .dataframe thead th {\n",
              "        text-align: right;\n",
              "    }\n",
              "</style>\n",
              "<table border=\"1\" class=\"dataframe\">\n",
              "  <thead>\n",
              "    <tr style=\"text-align: right;\">\n",
              "      <th></th>\n",
              "      <th>subject_id</th>\n",
              "      <th>hadm_id</th>\n",
              "      <th>icustay_id</th>\n",
              "      <th>HeartRate_Min</th>\n",
              "      <th>HeartRate_Max</th>\n",
              "      <th>HeartRate_Mean</th>\n",
              "      <th>SysBP_Min</th>\n",
              "      <th>SysBP_Max</th>\n",
              "      <th>SysBP_Mean</th>\n",
              "      <th>DiasBP_Min</th>\n",
              "      <th>...</th>\n",
              "      <th>Diff</th>\n",
              "      <th>ADMISSION_TYPE</th>\n",
              "      <th>INSURANCE</th>\n",
              "      <th>RELIGION</th>\n",
              "      <th>MARITAL_STATUS</th>\n",
              "      <th>ETHNICITY</th>\n",
              "      <th>DIAGNOSIS</th>\n",
              "      <th>ICD9_CODE</th>\n",
              "      <th>FIRST_CAREUNIT</th>\n",
              "      <th>di_index</th>\n",
              "    </tr>\n",
              "  </thead>\n",
              "  <tbody>\n",
              "    <tr>\n",
              "      <th>0</th>\n",
              "      <td>64058</td>\n",
              "      <td>146725</td>\n",
              "      <td>208169</td>\n",
              "      <td>58.0</td>\n",
              "      <td>90.0</td>\n",
              "      <td>85.244898</td>\n",
              "      <td>77.0</td>\n",
              "      <td>153.0</td>\n",
              "      <td>98.490909</td>\n",
              "      <td>40.0</td>\n",
              "      <td>...</td>\n",
              "      <td>-67454.42740</td>\n",
              "      <td>ELECTIVE</td>\n",
              "      <td>Medicare</td>\n",
              "      <td>CATHOLIC</td>\n",
              "      <td>MARRIED</td>\n",
              "      <td>WHITE</td>\n",
              "      <td>AORTIC STENOSIS\\CORONARY ARTERY BYPASS GRAFT W...</td>\n",
              "      <td>4241</td>\n",
              "      <td>CSRU</td>\n",
              "      <td>0.417914</td>\n",
              "    </tr>\n",
              "    <tr>\n",
              "      <th>1</th>\n",
              "      <td>55871</td>\n",
              "      <td>108789</td>\n",
              "      <td>251754</td>\n",
              "      <td>91.0</td>\n",
              "      <td>145.0</td>\n",
              "      <td>115.055556</td>\n",
              "      <td>73.0</td>\n",
              "      <td>143.0</td>\n",
              "      <td>101.210526</td>\n",
              "      <td>42.0</td>\n",
              "      <td>...</td>\n",
              "      <td>-34204.08546</td>\n",
              "      <td>EMERGENCY</td>\n",
              "      <td>Private</td>\n",
              "      <td>NOT SPECIFIED</td>\n",
              "      <td>MARRIED</td>\n",
              "      <td>WHITE</td>\n",
              "      <td>HYPERGLYCEMIA</td>\n",
              "      <td>25013</td>\n",
              "      <td>MICU</td>\n",
              "      <td>0.971712</td>\n",
              "    </tr>\n",
              "    <tr>\n",
              "      <th>2</th>\n",
              "      <td>42892</td>\n",
              "      <td>139885</td>\n",
              "      <td>242171</td>\n",
              "      <td>106.0</td>\n",
              "      <td>132.0</td>\n",
              "      <td>117.750000</td>\n",
              "      <td>93.0</td>\n",
              "      <td>137.0</td>\n",
              "      <td>116.222222</td>\n",
              "      <td>51.0</td>\n",
              "      <td>...</td>\n",
              "      <td>-38710.61714</td>\n",
              "      <td>ELECTIVE</td>\n",
              "      <td>Medicare</td>\n",
              "      <td>CATHOLIC</td>\n",
              "      <td>MARRIED</td>\n",
              "      <td>WHITE</td>\n",
              "      <td>KIDNEY STONES/SDA</td>\n",
              "      <td>5920</td>\n",
              "      <td>MICU</td>\n",
              "      <td>1.511370</td>\n",
              "    </tr>\n",
              "    <tr>\n",
              "      <th>3</th>\n",
              "      <td>66629</td>\n",
              "      <td>173017</td>\n",
              "      <td>263035</td>\n",
              "      <td>72.0</td>\n",
              "      <td>105.0</td>\n",
              "      <td>83.627119</td>\n",
              "      <td>72.0</td>\n",
              "      <td>168.0</td>\n",
              "      <td>126.981818</td>\n",
              "      <td>39.0</td>\n",
              "      <td>...</td>\n",
              "      <td>-54902.54313</td>\n",
              "      <td>EMERGENCY</td>\n",
              "      <td>Private</td>\n",
              "      <td>EPISCOPALIAN</td>\n",
              "      <td>WIDOWED</td>\n",
              "      <td>WHITE</td>\n",
              "      <td>RIGHT FEMUR FRACTURE</td>\n",
              "      <td>82120</td>\n",
              "      <td>CCU</td>\n",
              "      <td>1.364361</td>\n",
              "    </tr>\n",
              "    <tr>\n",
              "      <th>4</th>\n",
              "      <td>79851</td>\n",
              "      <td>171573</td>\n",
              "      <td>279388</td>\n",
              "      <td>85.0</td>\n",
              "      <td>124.0</td>\n",
              "      <td>98.600000</td>\n",
              "      <td>86.0</td>\n",
              "      <td>144.0</td>\n",
              "      <td>110.666667</td>\n",
              "      <td>52.0</td>\n",
              "      <td>...</td>\n",
              "      <td>-33906.93488</td>\n",
              "      <td>EMERGENCY</td>\n",
              "      <td>Medicare</td>\n",
              "      <td>CATHOLIC</td>\n",
              "      <td>SINGLE</td>\n",
              "      <td>WHITE</td>\n",
              "      <td>PNEUMONIA;RAPID AF;HYPOXIA</td>\n",
              "      <td>51884</td>\n",
              "      <td>MICU</td>\n",
              "      <td>1.114860</td>\n",
              "    </tr>\n",
              "  </tbody>\n",
              "</table>\n",
              "<p>5 rows × 40 columns</p>\n",
              "</div>"
            ],
            "text/plain": [
              "   subject_id  hadm_id  icustay_id  HeartRate_Min  HeartRate_Max  \\\n",
              "0       64058   146725      208169           58.0           90.0   \n",
              "1       55871   108789      251754           91.0          145.0   \n",
              "2       42892   139885      242171          106.0          132.0   \n",
              "3       66629   173017      263035           72.0          105.0   \n",
              "4       79851   171573      279388           85.0          124.0   \n",
              "\n",
              "   HeartRate_Mean  SysBP_Min  SysBP_Max  SysBP_Mean  DiasBP_Min  ...  \\\n",
              "0       85.244898       77.0      153.0   98.490909        40.0  ...   \n",
              "1      115.055556       73.0      143.0  101.210526        42.0  ...   \n",
              "2      117.750000       93.0      137.0  116.222222        51.0  ...   \n",
              "3       83.627119       72.0      168.0  126.981818        39.0  ...   \n",
              "4       98.600000       86.0      144.0  110.666667        52.0  ...   \n",
              "\n",
              "          Diff  ADMISSION_TYPE  INSURANCE       RELIGION  MARITAL_STATUS  \\\n",
              "0 -67454.42740        ELECTIVE   Medicare       CATHOLIC         MARRIED   \n",
              "1 -34204.08546       EMERGENCY    Private  NOT SPECIFIED         MARRIED   \n",
              "2 -38710.61714        ELECTIVE   Medicare       CATHOLIC         MARRIED   \n",
              "3 -54902.54313       EMERGENCY    Private   EPISCOPALIAN         WIDOWED   \n",
              "4 -33906.93488       EMERGENCY   Medicare       CATHOLIC          SINGLE   \n",
              "\n",
              "   ETHNICITY                                          DIAGNOSIS  ICD9_CODE  \\\n",
              "0      WHITE  AORTIC STENOSIS\\CORONARY ARTERY BYPASS GRAFT W...       4241   \n",
              "1      WHITE                                      HYPERGLYCEMIA      25013   \n",
              "2      WHITE                                  KIDNEY STONES/SDA       5920   \n",
              "3      WHITE                               RIGHT FEMUR FRACTURE      82120   \n",
              "4      WHITE                         PNEUMONIA;RAPID AF;HYPOXIA      51884   \n",
              "\n",
              "   FIRST_CAREUNIT  di_index  \n",
              "0            CSRU  0.417914  \n",
              "1            MICU  0.971712  \n",
              "2            MICU  1.511370  \n",
              "3             CCU  1.364361  \n",
              "4            MICU  1.114860  \n",
              "\n",
              "[5 rows x 40 columns]"
            ]
          },
          "execution_count": 52,
          "metadata": {},
          "output_type": "execute_result"
        }
      ],
      "source": [
        "# CONTINUING WITH THE TEST DATA\n",
        "\n",
        "# We begin by migrating the comorbidities di_index to the test dataset\n",
        "test.rename(columns = {'ICD9_diagnosis' : 'ICD9_CODE'}, inplace = True) \n",
        "test_merged=test.merge(death_indexes[['hadm_id','di_index']],how='left',on='hadm_id')\n",
        "\n",
        "# Next, we need to match the co-morbidities\n",
        "test_merged=test_merged.merge(death_preds_c[['ICD9_CODE','di_index_main']],how='left',on='ICD9_CODE')\n",
        "\n",
        "# Deleting the temporary columns...\n",
        "test_merged.drop(['di_index_main'],1,inplace=True)\n",
        "\n",
        "# Checking if we have NaNs..\n",
        "print(test_merged.di_index.isna().value_counts())\n",
        "\n",
        "# Visualizing the result\n",
        "test_merged.head()"
      ]
    },
    {
      "cell_type": "markdown",
      "metadata": {
        "id": "b5gUSKFQVl4I"
      },
      "source": [
        "## Feature Engineering"
      ]
    },
    {
      "cell_type": "code",
      "execution_count": 53,
      "metadata": {
        "colab": {
          "base_uri": "https://localhost:8080/"
        },
        "id": "GMKd3C3zK5zQ",
        "outputId": "7fea2c82-2f3a-4e32-efe2-bfb549c6e329"
      },
      "outputs": [
        {
          "data": {
            "text/plain": [
              "Index(['HOSPITAL_EXPIRE_FLAG', 'subject_id', 'hadm_id', 'icustay_id',\n",
              "       'HeartRate_Min', 'HeartRate_Max', 'HeartRate_Mean', 'SysBP_Min',\n",
              "       'SysBP_Max', 'SysBP_Mean', 'DiasBP_Min', 'DiasBP_Max', 'DiasBP_Mean',\n",
              "       'MeanBP_Min', 'MeanBP_Max', 'MeanBP_Mean', 'RespRate_Min',\n",
              "       'RespRate_Max', 'RespRate_Mean', 'TempC_Min', 'TempC_Max', 'TempC_Mean',\n",
              "       'SpO2_Min', 'SpO2_Max', 'SpO2_Mean', 'Glucose_Min', 'Glucose_Max',\n",
              "       'Glucose_Mean', 'GENDER', 'DOB', 'DOD', 'ADMITTIME', 'DISCHTIME',\n",
              "       'DEATHTIME', 'Diff', 'ADMISSION_TYPE', 'INSURANCE', 'RELIGION',\n",
              "       'MARITAL_STATUS', 'ETHNICITY', 'DIAGNOSIS', 'ICD9_CODE',\n",
              "       'FIRST_CAREUNIT', 'LOS', 'di_index'],\n",
              "      dtype='object')"
            ]
          },
          "execution_count": 53,
          "metadata": {},
          "output_type": "execute_result"
        }
      ],
      "source": [
        "training_merged.columns"
      ]
    },
    {
      "cell_type": "code",
      "execution_count": 54,
      "metadata": {
        "colab": {
          "base_uri": "https://localhost:8080/"
        },
        "id": "luYz85HXK824",
        "outputId": "8cbca3d8-ed34-4ba9-e5ed-558f196d89c5"
      },
      "outputs": [
        {
          "data": {
            "text/plain": [
              "Index(['subject_id', 'hadm_id', 'icustay_id', 'HeartRate_Min', 'HeartRate_Max',\n",
              "       'HeartRate_Mean', 'SysBP_Min', 'SysBP_Max', 'SysBP_Mean', 'DiasBP_Min',\n",
              "       'DiasBP_Max', 'DiasBP_Mean', 'MeanBP_Min', 'MeanBP_Max', 'MeanBP_Mean',\n",
              "       'RespRate_Min', 'RespRate_Max', 'RespRate_Mean', 'TempC_Min',\n",
              "       'TempC_Max', 'TempC_Mean', 'SpO2_Min', 'SpO2_Max', 'SpO2_Mean',\n",
              "       'Glucose_Min', 'Glucose_Max', 'Glucose_Mean', 'GENDER', 'DOB',\n",
              "       'ADMITTIME', 'Diff', 'ADMISSION_TYPE', 'INSURANCE', 'RELIGION',\n",
              "       'MARITAL_STATUS', 'ETHNICITY', 'DIAGNOSIS', 'ICD9_CODE',\n",
              "       'FIRST_CAREUNIT', 'di_index'],\n",
              "      dtype='object')"
            ]
          },
          "execution_count": 54,
          "metadata": {},
          "output_type": "execute_result"
        }
      ],
      "source": [
        "test_merged.columns"
      ]
    },
    {
      "cell_type": "markdown",
      "metadata": {
        "id": "WWbrYZb9H4q8"
      },
      "source": [
        "## 2.1) Training data"
      ]
    },
    {
      "cell_type": "code",
      "execution_count": 55,
      "metadata": {
        "id": "7t0UAI-NP8qo"
      },
      "outputs": [],
      "source": [
        "# narrowing down the glucose levels as they are way too high for some... (outlier deletion)\n",
        "training = training[training.Glucose_Max < 1000]\n",
        "training = training[training.Glucose_Mean < 1000]"
      ]
    },
    {
      "cell_type": "code",
      "execution_count": 56,
      "metadata": {
        "id": "Y0nuDMCZVloE"
      },
      "outputs": [],
      "source": [
        "# CHOOSING WHICH COLUMNS I WANT TO DUMMIFY...\n",
        "training = pd.get_dummies(training_merged, prefix=['INSURED'], columns=['INSURANCE'], drop_first = True)\n",
        "training = pd.get_dummies(training, prefix=['SEX'], columns=['GENDER'], drop_first = True)\n",
        "#training = pd.get_dummies(training, prefix=['ICD9'], columns=['ICD9_diagnosis'], drop_first = True)\n",
        "training = pd.get_dummies(training, prefix=['ADM_T'], columns=['ADMISSION_TYPE'], drop_first = True)\n",
        "#training = pd.get_dummies(training, prefix=['MAR_STAT'], columns=['MARITAL_STATUS'], drop_first = True)\n",
        "training = pd.get_dummies(training, prefix=['FST_CAR'], columns=['FIRST_CAREUNIT'], drop_first = True)\n",
        "#training = pd.get_dummies(training, prefix=['REL'], columns=['RELIGION'], drop_first = True)\n",
        "#training = pd.get_dummies(training, prefix =['DIAG'], columns = ['DIAGNOSIS'], drop_first = True)\n",
        "#training = pd.get_dummies(training, prefix=['ETH'], columns=['ETHNICITY'], drop_first = True)"
      ]
    },
    {
      "cell_type": "code",
      "execution_count": 57,
      "metadata": {
        "id": "KyHch7xKa-Fu"
      },
      "outputs": [],
      "source": [
        "# Computing age variable (can't use a simple difference as this leads to overflow error...)\n",
        "training['ADMITTIME'] = pd.to_datetime(training['ADMITTIME'])\n",
        "training['DOB'] = pd.to_datetime(training['DOB'])\n",
        "training['age'] = [relativedelta(a, b).years for a, b in zip(training['ADMITTIME'], training['DOB'])]"
      ]
    },
    {
      "cell_type": "code",
      "execution_count": 58,
      "metadata": {
        "id": "uigNFvKgW7C3"
      },
      "outputs": [],
      "source": [
        "# Dropping all irrelevant columns (both out of project prompt and found through tinkering)\n",
        "training.drop(['hadm_id','subject_id'],1,inplace=True)\n",
        "training.drop(['icustay_id','DOB','DOD','ADMITTIME','DISCHTIME','DEATHTIME','Diff','LOS','DIAGNOSIS'],1,inplace=True)\n",
        "training.drop(['MARITAL_STATUS'],1,inplace=True)\n",
        "training.drop(['ICD9_CODE'],1,inplace=True)\n",
        "training.drop(['RELIGION'],1,inplace=True)\n",
        "training.drop(['ETHNICITY'],1,inplace=True)"
      ]
    },
    {
      "cell_type": "code",
      "execution_count": 59,
      "metadata": {
        "colab": {
          "base_uri": "https://localhost:8080/"
        },
        "id": "f4JpVowDXjTp",
        "outputId": "6ab8aa40-3c9e-45cd-ebd5-5e30094b63ff"
      },
      "outputs": [
        {
          "data": {
            "text/plain": [
              "Index(['HeartRate_Min', 'HeartRate_Max', 'HeartRate_Mean', 'SysBP_Min',\n",
              "       'SysBP_Max', 'SysBP_Mean', 'DiasBP_Min', 'DiasBP_Max', 'DiasBP_Mean',\n",
              "       'MeanBP_Min', 'MeanBP_Max', 'MeanBP_Mean', 'RespRate_Min',\n",
              "       'RespRate_Max', 'RespRate_Mean', 'TempC_Min', 'TempC_Max', 'TempC_Mean',\n",
              "       'SpO2_Min', 'SpO2_Max', 'SpO2_Mean', 'Glucose_Min', 'Glucose_Max',\n",
              "       'Glucose_Mean', 'di_index', 'INSURED_Medicaid', 'INSURED_Medicare',\n",
              "       'INSURED_Private', 'INSURED_Self Pay', 'SEX_M', 'ADM_T_EMERGENCY',\n",
              "       'ADM_T_URGENT', 'FST_CAR_CSRU', 'FST_CAR_MICU', 'FST_CAR_SICU',\n",
              "       'FST_CAR_TSICU', 'age'],\n",
              "      dtype='object')"
            ]
          },
          "execution_count": 59,
          "metadata": {},
          "output_type": "execute_result"
        }
      ],
      "source": [
        "training.columns[1:50]"
      ]
    },
    {
      "cell_type": "code",
      "execution_count": 60,
      "metadata": {
        "id": "lKGItITQWQqO"
      },
      "outputs": [
        {
          "data": {
            "text/plain": [
              "False"
            ]
          },
          "execution_count": 60,
          "metadata": {},
          "output_type": "execute_result"
        }
      ],
      "source": [
        "# Imputing means on the training data\n",
        "# Imputing means for each category that have missing values...\n",
        "for col in training.columns.tolist():\n",
        "  col = str(col)\n",
        "  if 'Min' in col:\n",
        "    training[col] = training[col].fillna(training[col].mean())\n",
        "  if 'Max' in col:\n",
        "    training[col] = training[col].fillna(training[col].mean())\n",
        "  if 'Mean' in col:\n",
        "    training[col] = training[col].fillna(training[col].mean())\n",
        "\n",
        "# Checking that we have gotten rid of NaNs...\n",
        "training.isnull().values.any()"
      ]
    },
    {
      "cell_type": "code",
      "execution_count": 61,
      "metadata": {
        "colab": {
          "base_uri": "https://localhost:8080/"
        },
        "id": "dr1waxYPYTBp",
        "outputId": "9aa78ec9-b7c9-4bdd-db50-aa5837345abc"
      },
      "outputs": [
        {
          "name": "stdout",
          "output_type": "stream",
          "text": [
            "<class 'pandas.core.frame.DataFrame'>\n",
            "Int64Index: 20885 entries, 0 to 20884\n",
            "Data columns (total 38 columns):\n",
            " #   Column                Non-Null Count  Dtype  \n",
            "---  ------                --------------  -----  \n",
            " 0   HOSPITAL_EXPIRE_FLAG  20885 non-null  int64  \n",
            " 1   HeartRate_Min         20885 non-null  float64\n",
            " 2   HeartRate_Max         20885 non-null  float64\n",
            " 3   HeartRate_Mean        20885 non-null  float64\n",
            " 4   SysBP_Min             20885 non-null  float64\n",
            " 5   SysBP_Max             20885 non-null  float64\n",
            " 6   SysBP_Mean            20885 non-null  float64\n",
            " 7   DiasBP_Min            20885 non-null  float64\n",
            " 8   DiasBP_Max            20885 non-null  float64\n",
            " 9   DiasBP_Mean           20885 non-null  float64\n",
            " 10  MeanBP_Min            20885 non-null  float64\n",
            " 11  MeanBP_Max            20885 non-null  float64\n",
            " 12  MeanBP_Mean           20885 non-null  float64\n",
            " 13  RespRate_Min          20885 non-null  float64\n",
            " 14  RespRate_Max          20885 non-null  float64\n",
            " 15  RespRate_Mean         20885 non-null  float64\n",
            " 16  TempC_Min             20885 non-null  float64\n",
            " 17  TempC_Max             20885 non-null  float64\n",
            " 18  TempC_Mean            20885 non-null  float64\n",
            " 19  SpO2_Min              20885 non-null  float64\n",
            " 20  SpO2_Max              20885 non-null  float64\n",
            " 21  SpO2_Mean             20885 non-null  float64\n",
            " 22  Glucose_Min           20885 non-null  float64\n",
            " 23  Glucose_Max           20885 non-null  float64\n",
            " 24  Glucose_Mean          20885 non-null  float64\n",
            " 25  di_index              20885 non-null  float64\n",
            " 26  INSURED_Medicaid      20885 non-null  uint8  \n",
            " 27  INSURED_Medicare      20885 non-null  uint8  \n",
            " 28  INSURED_Private       20885 non-null  uint8  \n",
            " 29  INSURED_Self Pay      20885 non-null  uint8  \n",
            " 30  SEX_M                 20885 non-null  uint8  \n",
            " 31  ADM_T_EMERGENCY       20885 non-null  uint8  \n",
            " 32  ADM_T_URGENT          20885 non-null  uint8  \n",
            " 33  FST_CAR_CSRU          20885 non-null  uint8  \n",
            " 34  FST_CAR_MICU          20885 non-null  uint8  \n",
            " 35  FST_CAR_SICU          20885 non-null  uint8  \n",
            " 36  FST_CAR_TSICU         20885 non-null  uint8  \n",
            " 37  age                   20885 non-null  int64  \n",
            "dtypes: float64(25), int64(2), uint8(11)\n",
            "memory usage: 4.7 MB\n"
          ]
        }
      ],
      "source": [
        "training.info()"
      ]
    },
    {
      "cell_type": "markdown",
      "metadata": {
        "id": "Sei3Dfa9H8ic"
      },
      "source": [
        "## 2.2) Test data"
      ]
    },
    {
      "cell_type": "code",
      "execution_count": 62,
      "metadata": {
        "id": "Fws0HM6uhGSd"
      },
      "outputs": [],
      "source": [
        "# CHOOSING WHICH COLUMNS I WANT TO DUMMIFY... (has to match training choice)\n",
        "test = pd.get_dummies(test_merged, prefix=['INSURED'], columns=['INSURANCE'], drop_first = True)\n",
        "test = pd.get_dummies(test, prefix=['SEX'], columns=['GENDER'], drop_first = True)\n",
        "#test = pd.get_dummies(test, prefix=['ICD9'], columns=['ICD9_diagnosis'], drop_first = True)\n",
        "test = pd.get_dummies(test, prefix=['ADM_T'], columns=['ADMISSION_TYPE'], drop_first = True)\n",
        "#test = pd.get_dummies(test, prefix=['MAR_STAT'], columns=['MARITAL_STATUS'], drop_first = True)\n",
        "test = pd.get_dummies(test, prefix=['FST_CAR'], columns=['FIRST_CAREUNIT'], drop_first = True)\n",
        "#test = pd.get_dummies(test, prefix=['REL'], columns=['RELIGION'], drop_first = True)\n",
        "#test = pd.get_dummies(test, prefix =['DIAG'], columns = ['DIAGNOSIS'], drop_first = True)\n",
        "#test = pd.get_dummies(test, prefix=['ETH'], columns=['ETHNICITY'], drop_first = True)"
      ]
    },
    {
      "cell_type": "code",
      "execution_count": 63,
      "metadata": {
        "id": "2bJNbViChGL8"
      },
      "outputs": [],
      "source": [
        "# Computing age variable (can't use a simple difference as this leads to overflow error...)\n",
        "test['ADMITTIME'] = pd.to_datetime(test['ADMITTIME'])\n",
        "test['DOB'] = pd.to_datetime(test['DOB'])\n",
        "test['age'] = [relativedelta(a, b).years for a, b in zip(test['ADMITTIME'], test['DOB'])]"
      ]
    },
    {
      "cell_type": "code",
      "execution_count": 64,
      "metadata": {
        "id": "E3H6I0BBhGJr"
      },
      "outputs": [],
      "source": [
        "# Dropping all irrelevant columns (both out of project prompt and found through tinkering)\n",
        "test.drop(['DOB','ADMITTIME','Diff','DIAGNOSIS'],1,inplace=True)\n",
        "test.drop(['hadm_id'],1,inplace=True)\n",
        "test.drop(['MARITAL_STATUS','ICD9_CODE'],1,inplace=True)\n",
        "test.drop(['ETHNICITY'],1,inplace=True)\n",
        "test.drop(['RELIGION'],1,inplace=True)\n",
        "test_for_processing = test.drop(['icustay_id'],1)"
      ]
    },
    {
      "cell_type": "code",
      "execution_count": 65,
      "metadata": {
        "id": "wBPNeTc5jbJV"
      },
      "outputs": [
        {
          "data": {
            "text/plain": [
              "False"
            ]
          },
          "execution_count": 65,
          "metadata": {},
          "output_type": "execute_result"
        }
      ],
      "source": [
        "# we will proceed by using the means from the test set data...\n",
        "for col in test_for_processing.columns.tolist():\n",
        "  col = str(col)\n",
        "  if 'Min' in col:\n",
        "    test_for_processing[col] = test_for_processing[col].fillna(test_for_processing[col].mean())\n",
        "  if 'Max' in col:\n",
        "    test_for_processing[col] = test_for_processing[col].fillna(test_for_processing[col].mean())\n",
        "  if 'Mean' in col:\n",
        "    test_for_processing[col] = test_for_processing[col].fillna(test_for_processing[col].mean())\n",
        "\n",
        "# Checking that we have gotten rid of NaNs...\n",
        "test_for_processing.isnull().values.any()"
      ]
    },
    {
      "cell_type": "code",
      "execution_count": 66,
      "metadata": {
        "colab": {
          "base_uri": "https://localhost:8080/"
        },
        "id": "SrfR5J8AQHM0",
        "outputId": "d76462a7-287d-488a-c5d1-7ec3edf29085"
      },
      "outputs": [
        {
          "name": "stdout",
          "output_type": "stream",
          "text": [
            "<class 'pandas.core.frame.DataFrame'>\n",
            "Int64Index: 5221 entries, 0 to 5220\n",
            "Data columns (total 38 columns):\n",
            " #   Column            Non-Null Count  Dtype  \n",
            "---  ------            --------------  -----  \n",
            " 0   subject_id        5221 non-null   int64  \n",
            " 1   HeartRate_Min     5221 non-null   float64\n",
            " 2   HeartRate_Max     5221 non-null   float64\n",
            " 3   HeartRate_Mean    5221 non-null   float64\n",
            " 4   SysBP_Min         5221 non-null   float64\n",
            " 5   SysBP_Max         5221 non-null   float64\n",
            " 6   SysBP_Mean        5221 non-null   float64\n",
            " 7   DiasBP_Min        5221 non-null   float64\n",
            " 8   DiasBP_Max        5221 non-null   float64\n",
            " 9   DiasBP_Mean       5221 non-null   float64\n",
            " 10  MeanBP_Min        5221 non-null   float64\n",
            " 11  MeanBP_Max        5221 non-null   float64\n",
            " 12  MeanBP_Mean       5221 non-null   float64\n",
            " 13  RespRate_Min      5221 non-null   float64\n",
            " 14  RespRate_Max      5221 non-null   float64\n",
            " 15  RespRate_Mean     5221 non-null   float64\n",
            " 16  TempC_Min         5221 non-null   float64\n",
            " 17  TempC_Max         5221 non-null   float64\n",
            " 18  TempC_Mean        5221 non-null   float64\n",
            " 19  SpO2_Min          5221 non-null   float64\n",
            " 20  SpO2_Max          5221 non-null   float64\n",
            " 21  SpO2_Mean         5221 non-null   float64\n",
            " 22  Glucose_Min       5221 non-null   float64\n",
            " 23  Glucose_Max       5221 non-null   float64\n",
            " 24  Glucose_Mean      5221 non-null   float64\n",
            " 25  di_index          5221 non-null   float64\n",
            " 26  INSURED_Medicaid  5221 non-null   uint8  \n",
            " 27  INSURED_Medicare  5221 non-null   uint8  \n",
            " 28  INSURED_Private   5221 non-null   uint8  \n",
            " 29  INSURED_Self Pay  5221 non-null   uint8  \n",
            " 30  SEX_M             5221 non-null   uint8  \n",
            " 31  ADM_T_EMERGENCY   5221 non-null   uint8  \n",
            " 32  ADM_T_URGENT      5221 non-null   uint8  \n",
            " 33  FST_CAR_CSRU      5221 non-null   uint8  \n",
            " 34  FST_CAR_MICU      5221 non-null   uint8  \n",
            " 35  FST_CAR_SICU      5221 non-null   uint8  \n",
            " 36  FST_CAR_TSICU     5221 non-null   uint8  \n",
            " 37  age               5221 non-null   int64  \n",
            "dtypes: float64(25), int64(2), uint8(11)\n",
            "memory usage: 1.2 MB\n"
          ]
        }
      ],
      "source": [
        "test_for_processing.info()"
      ]
    },
    {
      "cell_type": "markdown",
      "metadata": {
        "id": "iW8yDUx8IrcG"
      },
      "source": [
        "## Model Fitting / Predicting Using Pipeline\n"
      ]
    },
    {
      "cell_type": "markdown",
      "metadata": {
        "id": "BTrrrx6AJJD2"
      },
      "source": [
        "### General comments\n",
        "\n",
        "- Notice that below I am constructing a imblearn Pipeline, in order for me to be able to do the model fitting and analysis in a more neat way.\n",
        "- For the SVC algorithm, I noticed that the best performance was consistently reached at svc_C = .4, svc_kernel = 'poly',svc_degree = 3. Anything above and below would fare worse.\n",
        "- For the sake of efficiency I have tidied the below pipeline to only use these parameters...\n",
        "\n",
        "### Pipeline construction comments\n",
        "In my Pipeline, I am using the following components:\n",
        "\n",
        "1) RandomUnderSampler from the imblearn library,\n",
        "- The reason why I am undersampling is to avoid long computation times... (this tackles the class imbalance issue at hand with way more HOSPITAL_EXPIRE_FLAG 0s than 1s in the training data)...\n",
        "- An alternative to this is using Tomek-Links undersampling from the imblearn library, which removes ambiguous examples. I don't know the effective sample size that comes out of this, as it depends on each CV.. (it also does worse that RandomUnderSampler).\n",
        "\n",
        "2) StandardScaler from the sklearn library,\n",
        "\n",
        "3) SVC classifier from sklearn."
      ]
    },
    {
      "cell_type": "code",
      "execution_count": 67,
      "metadata": {
        "id": "0sE0MEFtbkhz"
      },
      "outputs": [],
      "source": [
        "# Defining the scaler to be used in the pipeline\n",
        "scaler = StandardScaler()\n",
        "\n",
        "# Defining the undersampler to be used in the pipeline\n",
        "samplr = RandomUnderSampler()\n",
        "\n",
        "# Defining our model to be used in the pipeline\n",
        "svc = SVC(probability = True)\n",
        "\n",
        "# Defining our final pipeline to be used \n",
        "pipeline = Pipeline([('samplr',samplr),\n",
        "                     ('scaler',scaler),\n",
        "                     ('feat_sel',SelectFromModel(LinearSVC(penalty=\"l1\",dual=False))),\n",
        "                     ('svc',svc)])"
      ]
    },
    {
      "cell_type": "code",
      "execution_count": 68,
      "metadata": {
        "id": "VOCipOCRbz4W"
      },
      "outputs": [],
      "source": [
        "# Best setup for the SCV classifier, found by extensive tinkering...\n",
        "grid_params = {'svc__kernel' : ['poly'], 'svc__degree' : [3], 'svc__C' : [.4]}"
      ]
    },
    {
      "cell_type": "code",
      "execution_count": 69,
      "metadata": {
        "id": "I7CmSj1Ubz4X"
      },
      "outputs": [],
      "source": [
        "# Simple performance reporting function\n",
        "def clf_performance(classifier, model_name):\n",
        "    print(model_name)\n",
        "    print('Best Score: ' + str(classifier.best_score_))\n",
        "    print('Best Parameters: ' + str(classifier.best_params_))"
      ]
    },
    {
      "cell_type": "code",
      "execution_count": 70,
      "metadata": {
        "colab": {
          "base_uri": "https://localhost:8080/"
        },
        "id": "ne1OE_qpbz4Y",
        "outputId": "c189f45d-d509-4719-b083-ad95e2b0577f"
      },
      "outputs": [
        {
          "name": "stdout",
          "output_type": "stream",
          "text": [
            "Pipeline(steps=[('samplr', RandomUnderSampler()), ('scaler', StandardScaler()),\n",
            "                ('feat_sel',\n",
            "                 SelectFromModel(estimator=LinearSVC(dual=False,\n",
            "                                                     penalty='l1'))),\n",
            "                ('svc', SVC(probability=True))])\n"
          ]
        }
      ],
      "source": [
        "# Printing the setup to make sure it's alright.\n",
        "print(pipeline)"
      ]
    },
    {
      "cell_type": "code",
      "execution_count": 71,
      "metadata": {
        "colab": {
          "base_uri": "https://localhost:8080/"
        },
        "id": "meZZ2hPVbz4a",
        "outputId": "73f325c2-d5cf-4e62-8584-c619f2b98cc1"
      },
      "outputs": [
        {
          "data": {
            "text/plain": [
              "dict_keys(['cv', 'error_score', 'estimator__memory', 'estimator__steps', 'estimator__verbose', 'estimator__samplr', 'estimator__scaler', 'estimator__feat_sel', 'estimator__svc', 'estimator__samplr__random_state', 'estimator__samplr__replacement', 'estimator__samplr__sampling_strategy', 'estimator__scaler__copy', 'estimator__scaler__with_mean', 'estimator__scaler__with_std', 'estimator__feat_sel__estimator__C', 'estimator__feat_sel__estimator__class_weight', 'estimator__feat_sel__estimator__dual', 'estimator__feat_sel__estimator__fit_intercept', 'estimator__feat_sel__estimator__intercept_scaling', 'estimator__feat_sel__estimator__loss', 'estimator__feat_sel__estimator__max_iter', 'estimator__feat_sel__estimator__multi_class', 'estimator__feat_sel__estimator__penalty', 'estimator__feat_sel__estimator__random_state', 'estimator__feat_sel__estimator__tol', 'estimator__feat_sel__estimator__verbose', 'estimator__feat_sel__estimator', 'estimator__feat_sel__importance_getter', 'estimator__feat_sel__max_features', 'estimator__feat_sel__norm_order', 'estimator__feat_sel__prefit', 'estimator__feat_sel__threshold', 'estimator__svc__C', 'estimator__svc__break_ties', 'estimator__svc__cache_size', 'estimator__svc__class_weight', 'estimator__svc__coef0', 'estimator__svc__decision_function_shape', 'estimator__svc__degree', 'estimator__svc__gamma', 'estimator__svc__kernel', 'estimator__svc__max_iter', 'estimator__svc__probability', 'estimator__svc__random_state', 'estimator__svc__shrinking', 'estimator__svc__tol', 'estimator__svc__verbose', 'estimator', 'n_jobs', 'param_grid', 'pre_dispatch', 'refit', 'return_train_score', 'scoring', 'verbose'])"
            ]
          },
          "execution_count": 71,
          "metadata": {},
          "output_type": "execute_result"
        }
      ],
      "source": [
        "# Setting up the search grid, and having a look at what I can change should I wish to...\n",
        "grid = GridSearchCV(pipeline, param_grid = grid_params, cv = 5, scoring = 'roc_auc')\n",
        "grid.get_params().keys()"
      ]
    },
    {
      "cell_type": "code",
      "execution_count": 72,
      "metadata": {
        "colab": {
          "base_uri": "https://localhost:8080/"
        },
        "id": "EHfVaLTjbz4b",
        "outputId": "2994e711-2b2e-4490-a4d4-a52f56b1f5de"
      },
      "outputs": [
        {
          "data": {
            "text/plain": [
              "GridSearchCV(cv=5,\n",
              "             estimator=Pipeline(steps=[('samplr', RandomUnderSampler()),\n",
              "                                       ('scaler', StandardScaler()),\n",
              "                                       ('feat_sel',\n",
              "                                        SelectFromModel(estimator=LinearSVC(dual=False,\n",
              "                                                                            penalty='l1'))),\n",
              "                                       ('svc', SVC(probability=True))]),\n",
              "             param_grid={'svc__C': [0.4], 'svc__degree': [3],\n",
              "                         'svc__kernel': ['poly']},\n",
              "             scoring='roc_auc')"
            ]
          },
          "execution_count": 72,
          "metadata": {},
          "output_type": "execute_result"
        }
      ],
      "source": [
        "# Fitting the actual grid...\n",
        "grid.fit(np.array(training.drop(['HOSPITAL_EXPIRE_FLAG'],1)),np.array(training['HOSPITAL_EXPIRE_FLAG']))"
      ]
    },
    {
      "cell_type": "code",
      "execution_count": 76,
      "metadata": {
        "colab": {
          "base_uri": "https://localhost:8080/"
        },
        "id": "-Spt8yNjbzkt",
        "outputId": "1d76ec00-7352-42ea-c15a-820acc7d8d26"
      },
      "outputs": [
        {
          "name": "stdout",
          "output_type": "stream",
          "text": [
            "SVM\n",
            "Best Score: 0.8418099056267436\n",
            "Best Parameters: {'svc__C': 0.4, 'svc__degree': 3, 'svc__kernel': 'poly'}\n"
          ]
        }
      ],
      "source": [
        "# Gauging the best performing estimator\n",
        "clf_performance(grid,'SVM')"
      ]
    },
    {
      "cell_type": "code",
      "execution_count": 77,
      "metadata": {
        "id": "8d6j-qr2bzii"
      },
      "outputs": [],
      "source": [
        "# Predicting using the best estimator.\n",
        "y_hat_clf_svm = grid.best_estimator_.predict_proba(test_for_processing.drop(['subject_id'],1))"
      ]
    },
    {
      "cell_type": "code",
      "execution_count": 78,
      "metadata": {
        "colab": {
          "base_uri": "https://localhost:8080/"
        },
        "id": "lTViZNJxjyp4",
        "outputId": "a91c7b63-e3c3-4ae7-db40-a2ec07dfcd5e"
      },
      "outputs": [
        {
          "name": "stdout",
          "output_type": "stream",
          "text": [
            "[0.04884404904682216, 0.8982039222503554, 0.46817980130741227, 0.4364109439515714, 0.5271022951902581, 0.06387131630523989, 0.001691472861210546, 0.3304003939680931, 0.035766912604768414, 0.06079799361188518, 0.5163258185376636, 0.8317341942728931, 0.9950960660211764, 0.8208457242202933, 0.37756050417037507, 0.29986749128197365, 0.8598171002584429, 0.26510624246324105, 0.4363398354040733, 0.39844486568975074, 0.7993978265301463, 0.2850514651280435, 0.520875064245832, 0.6635072100062281, 0.5941581545589001, 0.7051260163720069, 0.2981139543934007, 0.18005031780885777, 0.3331277134749647, 0.20482511025486622, 0.4396583242287081, 0.6607663388020019, 0.9463057985718774, 0.19741358517679697, 0.5, 0.18426687081382873, 0.24667948062739434, 0.3014768586648639, 0.506517811382544, 0.04282940849614617, 0.5192399753041194, 0.9727355414445055, 0.08535587606276984, 0.3031047698765572, 0.161666909090708, 0.10518200388303099, 0.033910818729574695, 0.16801335096985576, 0.5116156065662355, 0.44227331205352993, 0.529382830600825, 0.6714892557599527, 0.4767115927041908, 0.7792616300721982, 0.1587547070179113, 0.40254693210601444, 0.13230817831025965, 0.1548748335980377, 0.7191706851349463, 0.23387463913392878, 0.09129429140841155, 0.22088360052171974, 0.31730404321690475, 0.34731992736581146, 0.18163736218311816, 0.15462479139804752, 0.5656005828297703, 0.2636030951215137, 0.48978558700218283, 0.6000355479976958, 0.3877097296652573, 0.5250729266081647, 0.5750954828057245, 0.9948223553491827, 0.8213643460878357, 0.5223894482370672, 0.5630935341379735, 0.40028948698850386, 0.4307694657164356, 0.4872304669391711, 0.4791326157994282, 0.09637318745082901, 0.35013446746330146, 0.20577595902797566, 0.4353083899187059, 0.11626068682920165, 0.1521390864570698, 0.15043541353828452, 0.1827587601079988, 0.05326048269497752, 0.1424777462531714, 0.24692999450386183, 0.21511420905008388, 0.5275822451366179, 0.47588916786602714, 0.4401422389760761, 0.5, 0.2108686325671772, 0.4416846349938599, 0.060851209748204266, 0.44894618026635286, 0.8307178742078508, 0.6045671449408688, 0.45893622508654175, 0.41693750439093935, 0.18453540986814737, 0.2006455593353195, 0.7306486688489529, 0.3298535988800874, 0.37574237931134463, 0.1703217126104158, 0.21322508629703876, 0.4423076589878035, 0.6669850139261364, 0.8838467052059114, 0.1173772484198328, 0.004079925760369649, 0.3606989623240656, 0.3445175378391496, 0.5928547773151877, 0.1397194792377995, 0.2644057274892138, 0.7608772468689475, 0.7416195809286925, 0.5097947510118883, 0.024667797371154963, 0.05250131691659384, 0.43601167352948644, 0.1482289154720777, 0.09632287049748932, 0.12933189415481022, 0.39891791393000153, 0.22948663572031613, 0.1668559062741778, 0.3644751150912427, 0.12160721039649938, 0.6399892410176394, 0.3047420753852327, 0.059739062200216554, 0.3004415589124279, 0.021249476335611917, 0.5192508412444526, 0.13516661422260948, 0.04195697021908603, 0.9481186303390581, 0.03238362377012954, 0.2545119979540796, 0.29424907287625485, 0.4890888769927485, 0.29135591597704275, 0.10528667928704999, 0.9338818239927945, 0.1597264273512232, 0.12575946722148335, 0.5467357197537291, 0.34764520462878007, 0.13703572001099656, 0.9815159241315559, 0.5140320655566083, 0.7487729060213093, 0.08185069222813046, 0.5, 0.22406735049492862, 0.21982651382832627, 0.6242408355224249, 0.3287311159950609, 0.15822174616272372, 0.5072289669093982, 0.19596862257962025, 0.28566437340089273, 0.5868115218861157, 0.5564169516376829, 0.43123005531511727, 0.4485127439654059, 0.3530422197709271, 0.48662657155745037, 0.4896554725587717, 0.22078991746457552, 0.4677086319924258, 0.5, 0.09508690064138518, 0.33570364736496755, 0.25790381788095273, 0.05934952167263538, 0.6114753943182988, 0.5278032822460478, 0.3152797108015453, 0.10751043794765104, 0.40631499660703657, 0.38962876416394804, 0.2673459465484358, 0.30103115870645325, 0.014691761766903476, 0.4309466030018261, 0.2109862606944067, 0.2324827911159073, 0.27059234329680676, 0.8025171035340889, 0.22461430209022448, 0.25664086644070294, 0.9605537189850758, 0.43049254485105254, 0.5751366323106128, 0.08710716487400272, 0.6132756762468172, 0.3392497977399612, 0.21671620998742025, 0.3223611976385146, 0.683787544427196, 0.2689334096890505, 0.2373599999815131, 0.2938775721486147, 0.19191477007011404, 0.17626114973220616, 0.33282597993553203, 0.5059551688973011, 0.9007291018167294, 0.08789331096659986, 0.981984750454547, 0.0683284588635971, 0.052892463979845865, 0.10334249625849737, 0.16295942421589996, 0.910522432957327, 0.6380638008693065, 0.31626646959504734, 0.9075310365228267, 0.4757146742569586, 0.507115291276521, 0.18440235568079436, 0.22050131256323377, 0.6374746394418142, 0.36421342062904155, 0.7134090053205902, 0.5959169492940488, 0.1348108072947423, 0.22689883774152514, 0.5248582276463387, 0.5246597318638787, 0.23172190897257158, 0.45677448665041653, 0.2725361487067514, 0.493898757788442, 0.3450362277571373, 0.07034185963406497, 0.1977020469426723, 0.8153818007511875, 0.4308029750152827, 0.541574195546442, 0.5370210816276276, 0.6972994792501177, 0.1928142596757579, 0.37779110164188884, 0.41010265464571, 0.25737578570395636, 0.6997931410291396, 0.06576412480007125, 0.4196087311597619, 0.5, 0.47077828242990677, 0.2439308294566602, 0.9506223990594855, 0.46876224912369563, 0.0030434110924808717, 0.0147510080848661, 0.36876181062979824, 0.54846481365406, 0.33807268374421073, 0.5796521335851289, 0.10948780171665361, 0.29353283189333174, 0.042728151114428785, 0.3390893124632174, 0.5589976849106859, 0.44492874187629794, 0.5424875422845493, 0.6838967186400328, 0.9910660976561354, 0.5127941103547207, 0.6464907279342111, 0.10103883132852437, 0.6482621776459878, 0.4664743481734508, 0.16328579933129517, 0.014308509946187643, 0.13753453188843762, 0.9999999999896987, 0.09176363149404396, 0.19149248188524873, 0.1946997007510687, 0.6625493305013112, 0.22162700924745987, 0.47524379999312444, 0.12465200957200923, 0.00913922144350076, 0.6364472717319005, 0.14388238982792895, 0.2867934524350666, 0.07785360781289878, 0.5402588846112811, 0.43792041787303954, 0.20956236484456958, 0.14336166891072236, 0.06587199596173139, 0.7497040396288406, 0.7598698581045692, 0.5070244900267268, 0.053219576430828745, 0.552625863123606, 0.07850140521651357, 0.00826505829418051, 0.48898927944587856, 0.3751812744702469, 0.5474825317662283, 0.15573837093605225, 0.7988290974620252, 0.4915462791785489, 0.29459728627276494, 0.15530266068043638, 0.24046932356779238, 0.4758448230372876, 0.7073676266068355, 0.023350678987237, 0.4298055705166996, 0.10561330064309253, 0.1585854020617362, 0.30096241955538056, 0.32152862382122965, 0.5702755191876406, 0.3060626566018218, 0.3891713619856169, 0.27677089652983566, 0.8121511554396871, 0.8096987067628988, 0.4163955844955286, 0.20463239364460975, 0.9839564565687943, 0.4813571434232284, 0.5295592207650748, 0.47414284503259596, 0.4323868370363557, 0.2548612342035239, 0.28184693461373117, 0.4774829103110948, 0.4006311554436097, 0.3566638977552004, 0.5515526700137786, 0.05960126530655724, 0.4572856614722065, 0.27202936548728807, 0.37876988039557724, 0.1535319487029161, 0.37263159130339696, 0.2814156813010667, 0.05531132945177941, 0.41552799153045744, 0.7128148218359746, 0.25491410528199054, 0.7333026620979969, 0.2181723682196702, 0.5052506403187446, 0.17039179590863912, 0.13679285355319956, 0.1106562955493077, 0.7189450674550624, 0.28895162557566856, 0.5262688470697049, 0.48666078961780945, 0.24077174443442328, 0.5163108646510997, 0.44454324450246113, 0.2658697678735825, 0.9879521877785341, 0.34920063514660904, 0.2486113783351898, 0.17587005692862423, 0.43504201532919556, 0.22970923164908624, 0.116809826529173, 0.07751320023203372, 0.316587905447558, 0.45205792609241774, 0.5644839076796645, 0.25235573061067906, 0.06055336865311497, 0.336273623062464, 0.08019812792156908, 0.02332631676969763, 0.08986950288128313, 0.6417989785026008, 0.08170294788429146, 0.048447658359647386, 0.5117718687769667, 0.5196602466803683, 0.37013600355793275, 0.5411288128059666, 0.4103040897449708, 0.07400150183705335, 0.3750118096106287, 0.7143672245642556, 0.4146010759882609, 0.9928371079762268, 0.05199042250829959, 0.5315571470701577, 0.5, 0.45887471499662813, 0.7043237811034817, 0.748673509441224, 0.0951103904329261, 0.7655711547976333, 0.15398743421391578, 0.11974387213004709, 0.5, 0.33000860564805584, 0.4298452554246919, 0.43312651248504547, 0.6727662374943609, 0.025381577059499526, 0.1492797546498134, 0.16922836091904214, 0.16719408476338257, 0.23901688546152844, 0.7499277501864131, 0.4735798584892003, 0.317085537494754, 0.1156597875614485, 0.9111711257203947, 0.41589904922649445, 0.1322961610795448, 0.27796180638947776, 0.0832278161337992, 0.14259743553249243, 0.4181345357650186, 0.19016051702953043, 0.05256571945972016, 0.0005807896041732964, 0.33405337806516006, 0.5148784507680898, 0.06097017721519788, 0.9927235814953485, 0.19801288812151235, 0.29289509685733706, 0.4388909448820324, 0.10039139631017145, 0.44888518763470064, 0.3342757590132062, 0.9999983170482666, 0.5740657559666568, 0.5, 0.24276981111768833, 0.3907223761614562, 0.1507016031379369, 0.2748514765358423, 0.15965499933737456, 0.9172871766039138, 0.12691302649798028, 0.5856298437540383, 0.43421365174616444, 0.13970307445335872, 0.9963295198820141, 0.669447504003315, 0.43081464257369506, 0.16456529763951938, 0.4714051631319185, 0.1181294564179819, 0.2127563692581867, 0.19120634127909245, 0.8866723219530805, 0.5805424992415441, 0.161934430778555, 0.6270537559276775, 0.6058252479627543, 0.12131528924913061, 0.3911908894501611, 0.5446944278503776, 0.36162336480276586, 0.060113384083729654, 0.48717837790396, 0.30635295722758876, 0.059834295120013765, 0.031895288164276094, 0.06168938694637992, 0.48248878481708257, 0.4867139615794648, 0.3164640713426199, 0.19352372983330762, 0.5377021125406289, 0.5804246527556861, 0.0705944387934194, 0.78294640180156, 0.16500000067021162, 0.045442013860062025, 0.8015596596109622, 0.5342430369423293, 0.9999999977134124, 0.14387521135230144, 0.3407232060032265, 0.17642174705380148, 0.08504291997907316, 0.0346882460362466, 0.1077919653109175, 0.6476719274418314, 0.4085208405926378, 0.43815990340119904, 0.144761548013952, 0.22179836564467964, 0.4807340216052224, 0.7500141575806938, 0.8652488874192125, 0.9043479826962604, 0.4898368716201897, 0.3780619701747035, 0.40513066789472374, 0.11147506388134194, 0.20822697981347296, 0.9908535669313051, 0.044431004378762295, 0.22302671889287165, 0.45450624836193293, 0.3501597191288482, 0.7619785911635828, 0.36490727162486386, 0.9692889617299574, 0.28380452869029515, 0.4319216269809459, 0.2532992266519378, 0.39281283084694507, 0.3819626467726292, 0.24944156353648528, 0.07563770989150216, 0.9924095421037706, 0.1729019873680607, 0.24470595830424713, 0.522494698448774, 0.7699389088839838, 0.1275965314784907, 0.16980216126816589, 0.036949782120615, 0.3202035691290281, 0.31057236025737056, 0.27854374837848456, 0.48631900587473204, 0.1687445640207588, 0.00912025129575446, 0.24837219823109982, 0.6393345886577557, 0.1566602979787769, 0.27049086297757247, 0.5455902107420664, 0.1872530328005498, 0.6582370676765643, 0.04455932066782786, 0.27983852995833436, 0.6127893811632324, 0.06907210825350873, 0.06200833258887834, 0.11604509059378744, 0.8583405148397161, 0.3322505347235178, 0.39126862924365163, 0.4931602159375375, 0.31392140619458064, 0.7465408437406671, 0.5867832230213026, 0.9192963020366597, 0.5660069848423994, 0.23630868532967642, 0.07178928894568568, 0.5346893284222327, 0.19027714519417777, 0.5636603595099128, 0.09987479264807883, 0.2846425748951172, 0.4689201086129964, 0.28845667960049287, 0.21239932891316085, 0.519885631995347, 0.7766180193889913, 0.5278138623087099, 0.5422344961893414, 0.6267594734813323, 0.2708251599188123, 0.19583211159685046, 0.3168061786227548, 0.2183248472385302, 0.15089663533824121, 0.5746730516902897, 0.6964908313460321, 0.17654784031967963, 0.40186072747690926, 0.17116715976337174, 0.39493554099064254, 0.6817126806119729, 0.48667230669877154, 0.30564692977874225, 0.4487330920967168, 0.4478879134344547, 0.061335808751914384, 0.6381093861754905, 0.30739115478699797, 0.0563058661476259, 0.5984416945869753, 0.07296389564583822, 0.9749056723381965, 0.35509570271198077, 0.3669439050163181, 0.9356365280174209, 0.6179467257085042, 0.689131617310722, 0.1892288429139997, 0.4632914465411685, 0.26966085224290953, 0.4435831041266423, 0.4562402125082579, 0.4904984909897288, 0.8602733295295002, 0.899673058273434, 0.16468563736222164, 0.005515267815300678, 0.48015173031928526, 0.14084375759735618, 0.4415554510232384, 0.7956324014321696, 0.64449344224218, 0.36211130685773507, 0.8718837320333647, 0.506008659049981, 0.42676747569250695, 0.8547021136304335, 0.40491112467929524, 0.6063902275125694, 0.10462147987223672, 0.43933675375153675, 0.6943758272417924, 0.4619022844805051, 0.38301061369917627, 0.9999999999999699, 0.2773130157599439, 0.4763078535069182, 0.6249705090566663, 0.5797929237664329, 0.4586834073966584, 0.2433063439709557, 0.420917128828546, 0.26365521404910447, 0.38661624538808215, 0.22730908773069194, 0.17988220752141668, 0.35641301165925454, 0.8416806642331888, 0.6574307509239985, 0.15849730128589523, 9.058427732164093e-07, 0.17690819612391637, 0.2254113312260993, 0.060513374617043376, 0.7231930832108887, 0.33845323249777937, 0.7027522100336895, 0.22105302585058223, 0.9384072871283075, 0.2847774720949112, 0.8169375710900575, 0.03270662122797605, 0.332085203976823, 0.4354043454674292, 0.5209656580748256, 0.4167312346764541, 0.44337741132942715, 0.2034664361784047, 0.23300088959277812, 0.9999994180340797, 0.35143337288499815, 0.29843096574489847, 0.6561817616142642, 0.4491448571925147, 0.35958241214190534, 0.8710039577386186, 0.34016613521980577, 0.050294960733094675, 0.4329889915004619, 0.7441118002035253, 0.8337780190403734, 0.5256293473883801, 0.44313604551146574, 0.16978495588161616, 0.060647775447433876, 0.1848429046022965, 0.13029154437252327, 0.762948094798463, 0.05821893032658283, 0.43481747801708476, 0.26081833588528414, 0.3104600007167697, 0.35287991698830345, 0.5826335098879502, 0.04233881685156351, 0.41348924957446426, 0.07997374499868605, 0.018873942665459494, 0.37501952459620913, 0.17675270863990647, 0.43802637084856433, 0.30170287712413624, 0.5789836618737044, 0.07048129980615311, 0.37400461292254045, 0.4347298451588051, 0.42306509284708527, 0.460160836080283, 0.21263309391214813, 0.08139139205222379, 0.3066650467314288, 0.5798805254832977, 0.3612673347608675, 0.2562872574601265, 0.19509892569855508, 0.4095781349598315, 0.1458092087248826, 0.07068915670125732, 0.3797939617998867, 0.2648553199717762, 0.29323024096503375, 0.2256249164134883, 0.3103444558527004, 0.9141901645752882, 0.33011988847140566, 0.5240247590760225, 0.3546401956184623, 0.26895651477403104, 0.4602160478795278, 0.05074624730403702, 0.447624858510831, 0.5076505801788616, 0.34738490668749317, 0.1984275334268091, 0.5557268903023929, 0.5073700111858139, 0.23393407956933593, 0.4369673962407098, 0.2032167543219026, 0.08945225953562962, 0.8925627136236313, 0.7044405820511114, 0.6166528499027083, 0.42769114790286084, 0.37622013164063856, 0.26397383136595914, 0.1950464426188188, 0.07770268929985004, 0.1537014327806487, 0.51522752380861, 0.8495027556941751, 0.4064085323167642, 0.35612135718840526, 0.02988767882606598, 0.5344192013899625, 0.1187434617354145, 0.356100114097058, 0.43824244012161373, 0.10650947202081895, 0.6467779272051589, 0.2704824364002818, 0.14738006431230868, 0.613117496943155, 0.0591709104394066, 0.41495790572654184, 0.19388579733700612, 0.061137955566061976, 0.029082740942484815, 0.4510090375611082, 0.06799906618757419, 0.000411325401442712, 0.1266051514068028, 0.08356312091368005, 0.4359303756388734, 0.7140847794872262, 0.4600048710943567, 0.16664257154651252, 0.17103984429767086, 0.47962827113789636, 0.004803641297938079, 0.8376544196851825, 0.17439119676704168, 0.40674539908320345, 0.4736294842983974, 0.9106319025969146, 0.5, 0.25004119907258504, 0.2724392354760345, 0.48311198842274533, 0.5874253792209876, 0.5933893394870848, 0.6366550854708943, 0.5734139272296925, 0.0652196425446731, 0.8752014808927416, 0.11082639803277561, 0.663108308610977, 0.23678271726525174, 0.439662739588457, 0.0829748295036818, 0.5803931464675027, 0.8322237171338851, 0.4941731816105151, 0.47651845725029834, 0.0931898840274764, 0.907550703280697, 0.5185534190158121, 0.18019748854409443, 0.18987282913121012, 0.08229794089445354, 0.5484983385396709, 0.6064402698190865, 0.837199890818403, 0.1596993032821157, 0.11328814617427843, 0.09385459680644906, 0.4143986881328784, 0.9173650734259533, 0.1482857040116084, 0.3810779990720916, 0.5952005878988564, 0.4187750442011583, 0.5587107995224312, 0.39170877632309187, 0.5389134299285822, 0.399946090472076, 0.2582665354425827, 0.047782783598246614, 0.23928227849044129, 0.2806528398720779, 0.7370377194353233, 0.328071667291847, 0.36721463418591366, 0.15163137288277437, 0.5535790883259877, 0.10443064287204612, 0.9017580233367989, 0.8108006451838392, 0.567717611198448, 0.640669692508983, 0.3786247925873368, 0.3905875367372567, 0.3493347997318255, 0.7469491206443325, 0.44834041243271716, 0.9574567209474454, 0.056793264067217075, 0.4663475284272487, 0.19825014048770748, 0.8974528548608205, 0.56902400987809, 0.5729949038880826, 0.19435682254535644, 0.3794549812923067, 0.1654380525650319, 0.6208331984544966, 0.15042252097059053, 0.07566078299305658, 0.40472695363262595, 0.5102298958426019, 0.020999612580646542, 0.37891784528762523, 0.263298331243642, 0.22686271014758558, 0.37670143186690835, 0.6732326197802831, 0.11261609696239899, 0.258847242570207, 0.5702096436488919, 0.1584361013664004, 0.19819148464743147, 0.07812569380713742, 0.40875172349935535, 0.008577985981599671, 0.28107324371639275, 0.14105302604211178, 0.03091039645920487, 0.4637268603126411, 0.2788217399256327, 0.03030591946638192, 0.3501909257473909, 0.10240595031977168, 0.4046824054594638, 0.0041691747034285935, 0.580941059013721, 0.0818365727014536, 0.6453857092019567, 0.48797497456046657, 0.48781037625409757, 0.5074514279332926, 0.04415414332629178, 0.16768823936152613, 0.30696064433086045, 0.15487118776887424, 0.38262778576082507, 0.11079632051701813, 0.016202245522455683, 0.34251856965064986, 0.1284252760452411, 0.5, 0.2774053585014571, 0.058902494265399334, 0.4376260328098751, 0.058819535679373, 0.38494320414281746, 0.14148915503056766, 0.18779968598008467, 0.411587057298448, 0.4125367736999752, 0.6816935064725915, 0.434182544258102, 0.3086165319909046, 0.48230058762889616, 0.5, 0.5589870847850489, 0.3048569816206224, 0.10591062365771856, 0.4088411943223983, 0.25921800645051374, 0.3054690342418815, 0.3309545822942594, 0.5250395057052051, 0.9785969081328941, 0.17766593031932654, 0.26910159146329177, 0.6585360129788926, 0.7699611355665825, 0.6011973018922586, 0.3525928580542825, 0.9594709976413577, 0.2770317628766998, 0.9563825254864011, 0.16207989949828444, 0.09214584970363028, 0.5618996352179294, 0.6431653305191732, 0.13081613681236562, 0.48177869014648433, 0.032064757649758184, 0.7122563822596001, 0.34594222276630593, 0.4490060830731171, 0.9999999969860085, 0.6652014961907715, 0.5810606278818727, 0.6195971019668594, 0.22289923397203681, 0.2732721034441278, 0.4889323620307315, 0.41332460996624226, 0.274531586661265, 0.28585626750775345, 0.5628010953522012, 0.46856493997170645, 0.10561853748871249, 0.4065486016883307, 0.002139938836957558, 0.5612801762674614, 0.34016197024492295, 0.32950789457156143, 0.044704222116909866, 0.18479036396842055, 0.1088065507419599, 0.24504001481335613, 0.003597963761293759, 0.2542038494061356, 0.3914030999479643, 0.7063444191109236, 0.48347186304681833, 0.8614167333529633, 0.057633286781200034, 0.08289731123431936, 0.07872549014358461, 0.8331181139413683, 0.22137947735326033, 0.06885198931961255, 0.6842643773673723, 0.12727381982321234, 0.22868761437272503, 0.5, 0.2690342284484368, 0.7686036257714011, 0.4714799721576448, 0.05297402290554665, 0.20421507407105408, 0.4828511689875446, 0.34653747338770013, 0.4679264748814031, 0.09269945750970059, 0.3574995707787243, 0.16306414629597124, 0.37136089347941276, 0.187984410737289, 0.10731943364721634, 0.020505321640276946, 0.17140437180842838, 0.5089720629472883, 0.19593282224919345, 0.6106987687348442, 0.5682292843267397, 0.2903584682464268, 0.15963434685801428, 0.3951244234483158, 0.52790063959456, 0.5604683244678678, 0.36475210153055243, 0.281219558055125, 0.1845174100821822, 0.29575151432253927, 0.3466278757918247, 0.21302196430972598, 0.25417770369174364, 0.27457817394749057, 0.05314016151412229, 0.4880370569616855, 0.5154194383977683, 0.39147777122247374, 0.296053093747831, 0.030915614249890335, 0.3517990116951942, 0.379055269566136, 0.5, 0.9914456561830822, 0.18370585950441562, 0.1270409268921342, 0.47466119209922897, 0.40889417341217593, 0.1093753925160031, 0.6620890325047993, 0.4140836186633485, 0.9010512275476945, 0.3370228234719692, 0.2877058464691422, 0.9534050905157, 0.3359263752272697, 0.22408268441178814, 0.46706284445620627, 0.20725699606041678, 0.6252350637769698, 0.29658439788602103, 0.05174702940823217, 0.4815955851475775, 0.0901475896286792, 0.005430767607748088, 0.10764836386415369, 0.08133185654134018, 0.15924039588164926, 0.43018904011152814, 0.488187312127843, 0.12689145899661508, 0.40057685372329965, 0.42369938977314575, 0.4918628564865643, 0.48931067776609016, 0.029237063893509288, 0.22472215033729057, 0.06614163497923464, 0.38748022075385613, 0.3616504220739418, 0.7616790188558606, 0.11980810030587974, 0.1766306374601197, 0.3234455733842119, 0.4654601552198873, 0.1732974146144747, 0.6815554294840936, 0.5191008855771769, 0.4559428584332502, 0.2584633234741963, 0.09548330783619237, 0.06099540118615292, 0.30307165753283155, 0.48141026942059917, 0.5342413259229017, 0.3585011338170749, 0.5920821836777334, 0.12016583263366677, 0.6102407515423893, 0.21047572781043156, 0.12510764257688978, 0.23719862096154448, 0.4137543396001824, 0.5445767510451697, 0.02868879598960422, 0.16121367163250677, 0.6749744856296213, 0.08183163594419568, 0.1604612400963109, 0.9999860058134646, 0.720216972243622, 0.4531581887265642, 0.7008615986137213, 0.18088026392232104, 0.5697246304715838, 0.46475453333806355, 0.15093139579193776, 0.4122865074505312, 0.486374399461659, 0.04884926212605903, 0.03580947856481928, 0.33454273748739893, 0.38186450999713234, 0.3968101985699041, 0.1220775543087224, 0.1657058004003387, 0.0808267701008542, 0.07307808762854798, 0.4486928236777798, 0.3534100399179041, 0.0785596383989826, 0.7391920045798273, 0.4520874719422683, 0.10324373025244275, 0.33407024025680254, 0.305143133185202, 0.5771636415864413, 0.39921756511971124, 0.2732113475011932, 0.1422622964747735, 0.09687700188281816, 0.21128477539571355, 0.4611252347692756, 0.4080725697210797, 0.2174203208985252, 0.5696315955175977, 0.24021162161509751, 0.12575048697333546, 0.22384141428918722, 0.21204777303361994, 0.36803290873235034, 0.9999999168180644, 0.3781026794720304, 0.45652781988219576, 0.19440697183415145, 0.10557196984044441, 0.16521124728751507, 0.9701827891576805, 0.6951778639466324, 0.17056221040262556, 0.24527630568035505, 0.5483955989181157, 0.5275255498581584, 0.17012704188976008, 0.1275838313925144, 0.05206451001254694, 0.9965553352754672, 0.473145331065845, 0.07439864717580058, 0.21805214394605804, 0.03351230231421242, 0.8035737506325612, 0.3098608240458263, 0.11213506254290927, 0.46341620227806174, 0.031618236904143865, 0.9524199966789556, 0.26625936676233514, 0.15829363673775965, 0.4478089185430469, 0.5651783779237043, 0.03381925811657185, 0.08114373339695254, 0.17362081257971124, 0.4735097960980238, 0.6262566214236786, 0.45883081985249974, 0.49350106041819136, 0.12179546672603901, 0.26108284002392296, 0.2908684438397749, 0.39500062616114767, 0.5054105000068483, 0.7087023642882893, 0.046679133537731426, 0.5940454709422589, 0.1624166288719578, 0.697528814939939, 0.28646129485566946, 0.8991496357964311, 0.1808470160899853, 0.07544843536518524, 0.6028587653076801, 0.41885407479936376, 0.44909696202782057, 0.8000222066305276, 0.2177378924951966, 0.1978407664375679, 0.4631789244545367, 0.03209465876072988, 0.24263486453888405, 0.6496408876342787, 0.30410061000558913, 0.9931487607198922, 0.2437623103098582, 0.3556879790475149, 0.21798025848617142, 0.27721374109923935, 0.4603791183974868, 0.31163623893530523, 0.45236385657819317, 0.2300927447309457, 0.06796337728510615, 0.24576327764322617, 0.03123091120328272, 0.7748263443897035, 0.8752741392505216, 0.18390984608306338, 0.4125943097468523, 0.3529352704147011, 0.27987776728869784, 0.17040055998984782, 0.2955569371868384, 0.8465269190936848, 0.1848591438265316, 0.2020394303906997, 0.34604101685024546, 0.21890995605528352, 0.145480706478209, 0.016892202508170858, 0.44964078032657684, 0.48305282466015265, 0.011859484446949413, 0.5453451772399763, 0.5234714717309964, 0.3912167998978877, 0.4223239329029551, 0.0008350885808023193, 0.8721578457460325, 0.6479317633304399, 0.5, 0.38753778630655655, 0.12336409616559892, 0.09491343549004849, 0.4894909802793534, 0.023459411663356987, 0.11774784753826806, 0.07766588526107676, 0.5485941083242853, 0.18423642991435069, 0.3666971373367226, 0.4887370487904451, 0.6640161544958116, 0.20158096589338434, 0.45134482426129063, 0.1926373039301703, 0.18475751497688928, 0.8280442582804742, 0.539872467693447, 0.10958274214809846, 0.11730269303320297, 0.34758170190664883, 0.24400684308984402, 0.4813543908484783, 0.2443378035447026, 0.20990057161329953, 0.24721095194547657, 0.6984022276009241, 0.17768340804060456, 0.26820277023769273, 0.6378423251719965, 0.28758061195761203, 0.22737594274897774, 0.8644579871439434, 0.26211440926603685, 0.7098026650781787, 0.056523757893231046, 0.7814528098040034, 0.2416401783554806, 0.6397710289274997, 0.3888030347081915, 0.172153798137818, 0.36879610018644965, 0.06806237600931316, 0.2888187563506566, 0.07419367451608254, 0.28857860369796223, 0.14888506274825267, 0.8072280265535029, 0.3717720164861175, 0.032392490966610316, 0.9912079752393921, 0.7780315961268867, 0.716735405911562, 0.5258054038511032, 0.22060398549425309, 0.5325016079179158, 0.4244243874863964, 0.4764364402038538, 0.2630863271410081, 0.7957025697345528, 0.5713554153121446, 0.1884975339366017, 0.12233575199504679, 0.33111342261935256, 0.26614600821848866, 0.16327055734776666, 0.016570986895628876, 0.30953864443335916, 0.04318630982905416, 0.6347796692918176, 0.424024144004949, 0.08224515432015954, 0.3505373069891531, 0.5056051566787145, 0.28609269835979895, 0.16510067248779156, 0.12221496639033261, 0.4899905471229008, 0.1459929052866715, 0.7170641457345713, 0.3450736247341387, 0.6795288087074587, 0.5592112624771796, 0.07334397960218024, 0.4870634360424067, 0.1159898298817121, 0.16410482052592174, 0.6943682988820414, 0.44476241551634565, 0.27692312940969865, 0.6350549845937773, 0.25117069266284664, 0.29230949314939947, 0.46576493580509165, 0.07860060058887278, 0.5441601293734246, 0.5675900584673047, 0.3085948772948948, 0.4523955488214609, 0.2239903805440748, 0.38389207710530326, 0.2591393984297575, 0.5, 0.42014430516967793, 0.5695653003988084, 0.5190076854957075, 0.15436914042370384, 0.26305780255448197, 0.4358507408938195, 0.7021342294459395, 0.4496798928405598, 0.4823136374414646, 0.08652242643618775, 0.2556624266059521, 0.19643230006625909, 0.08699013574475335, 0.3184017925154786, 0.3628939502716759, 0.15422802345074224, 0.6163610989434679, 0.09141825711138749, 0.2665119044518736, 0.5, 0.057982921648632786, 0.08115683038127762, 0.18253581201473212, 0.41777014938724594, 0.5116691269976307, 0.8237906820585648, 0.020325930439079674, 0.06737562996865874, 0.17876424814475525, 0.8587662703530604, 0.18150792213300107, 0.15682834305770688, 0.35730036335304455, 0.3707445641500818, 0.5191666906066458, 0.11642715341266355, 0.19611005604036427, 0.5757320029164971, 0.011491377151894721, 0.020260186143084478, 0.3958703892787481, 0.10046844334244935, 0.1544467836300699, 0.14121972904401575, 0.3536284477564685, 0.6900144714263812, 0.7420967054643712, 0.4243691273897904, 0.5952483131406581, 0.4501023245983938, 0.1442325712164872, 0.29443834959602055, 0.37699685714005327, 0.5459927222288745, 0.19130823763849752, 0.08168951088600639, 0.3125825066130564, 0.7310207718863648, 0.3201310882323923, 0.44278076669724514, 0.25408848499659065, 0.013700048548818098, 0.12686555406555708, 0.2953805474414196, 0.2047403588892095, 0.12804316244776945, 0.4562180295975786, 0.3928609077070295, 0.49423100775225187, 0.11416847112148808, 0.19331036114589745, 0.42722069613237573, 0.019377973915191506, 0.7533036888761122, 0.30952987591694087, 0.1581985119746006, 0.13539857069853128, 0.37512544392935604, 0.7349684501090917, 0.4358920476176212, 0.49123588790244094, 0.4383868445800468, 0.7956319666101045, 0.2273245929042653, 0.5428049401555259, 0.2208791849419208, 0.46270364871829534, 0.043603492003497606, 0.9999998666658007, 0.3157155445592704, 0.20894299240293945, 0.2078231465215219, 0.023630139090188605, 0.6186529146427556, 0.483309401578524, 0.3500922944219473, 0.5497017388685923, 0.26949503131264424, 0.8172784333373018, 0.4106312996277484, 0.21350641844048196, 0.3180967555344618, 0.4188153978515207, 0.6499722596202505, 0.2618699112381687, 0.21145770320583995, 0.14169483610345962, 0.18961907469970346, 0.3208693131755752, 0.47867118178462165, 0.3599566629444402, 0.3316744338321643, 0.5814048131450955, 0.45132425101820106, 0.3928387683269783, 0.16630183339303803, 0.43704565237179716, 0.43552717464623886, 0.0926327579664628, 0.08842630900725124, 0.5281413495019255, 0.7718459317091829, 0.20511233599827935, 0.3477945546947725, 0.41644846670703334, 0.9537587244260669, 0.38054396151109604, 0.22580307390891377, 0.5206433192469189, 0.27306125776867823, 0.2943323355044557, 0.12536671744530645, 0.42255957137795636, 0.2080756649067016, 0.6283133084124196, 0.3317466234646519, 0.5750122534556905, 0.6951658823960765, 0.7293778612018599, 0.14363415082672645, 0.13716353087048924, 0.09444545939969763, 0.9916680790118552, 0.2570593562534091, 0.4943078092558633, 0.2665215082397432, 0.17736793170904488, 0.2629839135798065, 0.6183120126188938, 0.27867679499517, 0.5660742852132935, 0.471395878589764, 0.9999999999916896, 0.4854496640204665, 0.2645875674023638, 0.527177970202636, 0.2837521153859882, 0.7038695309368592, 0.4062504454130625, 0.5663881459302545, 0.9158396705615184, 0.39085335089645146, 0.26316398153510373, 0.41319644118237625, 0.391803386539613, 0.5, 0.20037528070606633, 0.5523085948197655, 0.12942231479504648, 0.3639350128178249, 0.413299051693198, 0.8549650446170749, 0.5680987092936576, 0.29925270139638444, 0.5702161531115801, 0.2134020910637354, 0.07089805690620454, 0.0781709188325494, 0.20156884568607192, 0.20326464151640994, 0.3616990905838061, 0.2068253095277272, 0.1957683446555024, 0.047267936863519, 0.16047988499179786, 0.10079861116396689, 0.38671181750149275, 0.5875069708026179, 0.2315497336072827, 0.5625039605925258, 0.5404206856518068, 0.20304705355757843, 0.11936640948083858, 0.609879375578138, 0.03708851809612274, 0.39807864845300467, 0.40928614140391734, 0.06676002451006079, 0.6437220606779555, 0.39853008325288813, 0.12328808202287106, 0.8783164771096708, 0.5648959288687531, 0.13171051241148762, 0.25745361999638566, 0.31710714307115834, 0.4882152946462233, 0.2595745441640717, 0.0397063211834105, 0.09332423324541052, 0.16848688459246158, 0.318662114415482, 0.19822213384076967, 0.4153534808783588, 0.30128478799898395, 0.15598886231394826, 0.023402132709576765, 0.5877101198298061, 0.2525430607031028, 0.1862527968349518, 0.30452168073718494, 0.1308630455587724, 0.5057673881376639, 0.4535497814398714, 0.2607223211248563, 0.5, 0.35386559173393634, 0.050995157710951276, 0.5659907481615004, 0.037368712050871, 0.45965307863631055, 0.30704390951558697, 0.09743084722226093, 0.23833432618957606, 0.1048088157097522, 0.1938676113381302, 0.5494210623783596, 0.08415437333565243, 0.2754892141176435, 0.6871414624012996, 0.4042394841403258, 0.20877684629153268, 0.19519560142613918, 0.006593756774353854, 0.30889700526000746, 0.4288671387358599, 0.03457481924415209, 0.07116938915841049, 0.4274697205679572, 0.10061137446295013, 0.025533261511247973, 0.5618782330764177, 0.3795116504696547, 0.47503015404441423, 0.205371339322947, 0.1151467987049341, 0.715030077856581, 0.7059113871015175, 0.16459208678410056, 0.36963167689941595, 0.4220424874677906, 0.16452397217567793, 0.4710757092770836, 0.5418888152660779, 0.33879897724112157, 0.34401889875485836, 0.31855703403411056, 0.10008815219011415, 0.4099045134625733, 0.35000179579615476, 0.01138398466663924, 0.11402571053009795, 0.42391602004618806, 0.22376645193082279, 0.27919371164905343, 0.4875896938823001, 0.40375475892904866, 0.35402363559164984, 0.6335618398125948, 0.989740886585677, 0.3527448686091746, 0.43069124953824206, 0.031006821220284753, 0.4216941162370016, 0.20936513092501918, 0.003994083795307573, 0.33169656576346584, 0.17849782434545108, 0.37549985804055247, 0.39301805678861235, 0.8456802926532857, 0.15321524482726154, 0.6307541884583537, 0.06149528452981946, 0.5725296969279304, 0.10196905362607483, 0.2792241348394884, 0.21227625644238227, 0.7152722399985239, 0.2363593754131934, 0.3968551435362072, 0.2029545268170213, 0.5923809721583907, 0.2105301402785556, 0.44326413442741264, 0.002050879515789912, 0.5622753591527586, 0.05806374040446156, 0.7720246198718939, 0.4679517985704663, 0.5895142325267683, 0.3761855358477675, 0.05853262382552093, 0.4011897750036896, 0.25724413119825296, 0.39919157136219974, 0.20380060752512963, 0.5951113104953426, 0.4550230917982589, 0.578527248547054, 0.33245884441894186, 0.22243282186567234, 0.2336121186326352, 0.3414321784474462, 0.3747789384599964, 0.5891845230252966, 0.5315320993400492, 0.632869555574725, 0.4632189080011147, 0.0832331945616526, 0.0664934127635739, 0.31552403206881785, 0.23075040590276716, 0.3201104205329804, 0.7341218125823926, 0.0927296922645914, 0.4122114167917884, 0.4019747256891331, 0.07360518509666594, 0.014176205941943023, 0.07182470643780502, 0.1093769700859731, 0.2414339023449566, 0.042479458756269205, 0.059839576597318846, 0.026324752882553645, 0.5237829217797186, 0.10219529186845673, 0.016314741125977167, 0.03608996052909752, 0.9966245690417098, 0.3348304083700047, 0.8024549681413677, 0.30314252557307264, 0.12194537111940935, 0.20988520989193102, 0.009021923134586517, 0.35301504699315134, 0.6704828333749255, 0.9753650562538126, 0.19553812197178996, 0.19352744595176752, 0.44488453331111294, 0.008575298282463915, 0.86671691906946, 0.28764772114057435, 0.23523176128451473, 0.10806728480051601, 0.4893007513484143, 0.7051353978456768, 0.11888133881994264, 0.2384919680035488, 0.558615031708558, 0.5095239343254185, 0.7763048827840003, 0.474550040789494, 0.4470475698971699, 0.9968809406290449, 0.9961830420980996, 0.21942505461927572, 0.19868983313059682, 0.4496254486515005, 0.37473937010098757, 0.03135617020687488, 0.42569251423951066, 0.9230922491440989, 0.46848325237775473, 0.17823645800361843, 0.7335224526309593, 0.9567108778366844, 0.39073202878758534, 0.4632407566683364, 0.43427909412409793, 0.4248129263711038, 0.12020336883051401, 0.03708257104058523, 0.569669358730472, 0.21693901000024454, 0.790597835064494, 0.5443161315171432, 0.12692161576709565, 0.5099639905230576, 0.21176132603189818, 0.3935640254878377, 0.5795784343240545, 0.8201535780244853, 0.1383438820360199, 0.023485005492571744, 0.3091516133256934, 0.19829058101418584, 0.8596050292587827, 0.6347269356970998, 0.4414496453601639, 0.556883565408204, 0.08755423567283156, 0.2931699748970173, 0.2717812051885272, 0.5636963294733045, 0.3997640486357286, 0.05691655915342739, 0.0688449402268245, 0.1493955830561785, 0.18264113678738614, 0.4550403052994724, 0.4150855686872136, 0.242188149744646, 0.19794214827184567, 0.7369490738009709, 0.48954752485655373, 0.17689450347897206, 0.3920875529872624, 0.2835277159767501, 0.1702659277688887, 0.9948524115138354, 0.6047097443643887, 0.4511081384293438, 0.30153875897867294, 0.09795533430794276, 0.16666858542353766, 0.20997408300621093, 0.5538902589825513, 0.42644258753059566, 0.3658892862380249, 0.14007482510960498, 0.07471683636589317, 0.6887578395017517, 0.3302975489484492, 0.513186807929993, 0.0905305187382402, 0.338980953312225, 0.11660875442911169, 0.46664349176992437, 0.6885540203014852, 0.03797305411228026, 0.13720929765379214, 0.328862172538111, 0.5400675797937369, 0.13426564235679717, 0.36992249084319234, 0.06387898766378018, 0.47074925196906137, 0.9999999999436737, 0.635015226710419, 0.08985834693793013, 0.12462827449822313, 0.5613591517798897, 0.4725186789347847, 0.2760265397993078, 0.9999876863484547, 0.33409587197790824, 0.3955300614230289, 0.7540911032447185, 0.40618373175524125, 0.40113213243665863, 0.06069773167711568, 0.2414781326554461, 0.004147169655732411, 0.31369357084043403, 0.08197072323213489, 0.04114472232562841, 0.05233499198079189, 0.19848229856273142, 0.18948727227911463, 0.5188622502090716, 0.14927196065584905, 0.11958180573304733, 0.210168907617922, 0.6190737791997505, 0.27075317401829674, 0.11258402350262864, 0.2032708588785156, 0.1465277664965527, 0.27557738928963427, 0.21851521458023634, 0.13536694725390128, 0.5919054310327861, 0.47844681076323947, 0.26805620265114394, 0.44949080914215855, 0.6369344937317045, 0.5449539984925144, 0.42130740799600674, 0.5, 0.9304610615759418, 0.7476949446787512, 0.5262532094823723, 0.227506421897737, 0.46971861141538834, 0.20052414386615078, 0.5086022183984077, 0.3317737329398035, 0.29301675905110913, 0.7404833208314525, 0.896651174001643, 0.4657430867429894, 0.26212654410145075, 0.09966242200512532, 0.05924232579587053, 0.21668835896214292, 0.2581080698319213, 0.37693375356335196, 0.022985577281957287, 0.07551975513085127, 0.9661081840618574, 0.5079742708787952, 0.15225954420287996, 0.43374699885125634, 0.9926268901428617, 0.05842420930412787, 0.5296742521350136, 0.39115324417666225, 0.09231782468719489, 0.7538903567396761, 0.7217578484718643, 0.48298913769023066, 0.17766202171709347, 0.6626030130098864, 0.12008375650747326, 0.3764198518421115, 0.21228578835014153, 0.8387187416559597, 0.6297503206248641, 0.2996959714324764, 0.032119241477720606, 0.18767007417269632, 0.06413180736039138, 0.3541337292096959, 0.04051268234339395, 0.4202434610578723, 0.6876209470672079, 0.260788762020393, 0.0005659945401329036, 0.19486139372787276, 0.97557033306931, 0.9907785136179398, 0.12447100319487142, 0.22031293900822035, 0.13257273873614003, 0.06070530936770323, 0.1547851617689892, 0.014600852489720489, 0.5124775884314691, 0.26767448291027673, 0.1699120109233757, 0.4669778994211382, 0.5918125607705949, 0.6410109001345171, 0.5315506086143869, 0.08312044260390436, 0.3200121910917416, 0.14677664344549868, 0.5233568642109276, 0.04320981913690703, 0.494350975819083, 0.29571746578529085, 0.6559482623298547, 0.8941720479972335, 0.6240394244647902, 0.1738794208093532, 0.31060345548393226, 0.344449807380431, 0.6330062919776718, 0.2905646694430899, 0.5264126775410808, 0.1802898178214688, 0.4470640801967087, 0.5882243155573749, 0.01936868776485994, 0.15556540186911108, 0.11452910173316763, 0.607885493723865, 0.2737799712668676, 0.1563852810013789, 0.4197472221408957, 0.49460679823372317, 0.03329899545872627, 0.11412078497789205, 0.45249467499320095, 0.37500188978813015, 0.594664567970521, 0.013258998821548695, 0.1717740086315513, 0.46998380693259206, 0.20144000921723296, 0.004988239446503896, 0.01845007952366312, 0.8050383537588146, 0.5180847431529456, 0.4910902689931584, 0.47447553364973355, 0.4337128175840684, 0.40992634722358207, 0.4613894938936846, 0.47192606832501627, 0.641738724857927, 0.11670246373877265, 0.23772077436487762, 0.45979355269131267, 0.9029350040709365, 0.44063478091407976, 0.3448761679681523, 0.030777478741073654, 0.00022062287951017478, 0.1566937701857868, 0.5292992091478286, 0.5328583865056802, 0.22117038743021897, 0.2561451809155349, 0.4872483861637653, 0.07568023939828358, 0.15420080239714956, 0.6183797131602159, 0.06276136157814236, 0.26313618293075214, 0.02496178503074342, 0.8044626914225236, 0.3892808807992681, 0.006560636476203846, 0.31940262674938225, 0.14193220764701522, 0.08700717014799669, 0.04516862545890624, 0.5061757847031098, 0.7092665358183587, 0.08515542574551113, 0.4434259257235649, 0.3846707903613619, 0.15409200815833551, 0.525127710869339, 0.383016630360731, 0.012691455817896031, 0.23714903660674228, 0.8550128479162034, 0.7492623592854959, 0.5073299366145235, 0.3348974218034277, 0.2296253910701067, 0.523552026494137, 0.3450449101914451, 0.7995183329285388, 0.0327611035791154, 0.13890493825450856, 0.7030412913655381, 0.4145714758379105, 0.38550178022150317, 0.07992791877739207, 0.43215036337797597, 0.562566470846292, 0.3840488462276994, 0.28479085731530396, 0.3823947389571131, 0.5201446365746899, 0.12514201905545166, 0.08849510981850514, 0.12263660099045447, 0.15421290975714783, 0.9925629028451696, 0.5929326158502121, 0.3753489305976803, 0.2529470851137907, 0.012796554359697149, 0.06808361829117077, 0.48438527737705567, 0.9999999999999601, 0.1158900472804445, 0.41662517497098506, 0.28600801981115836, 0.740733228007886, 0.19269327337178888, 0.4113453062950119, 0.34896160971109147, 0.6894635369766365, 0.3214095086227037, 0.4350098742563916, 0.9900283670281054, 0.2025545910986869, 0.3979461330087223, 0.7225107287668727, 0.43951388717521317, 0.7609898692046823, 0.47774341254056185, 0.3061067227365898, 0.7643352604448039, 0.17448181306838043, 0.34647530978969127, 0.6051575314068971, 0.36494526758824286, 0.2939345155348713, 0.8667169581085188, 0.9319736137252826, 0.2503014981645968, 0.8479149249886816, 0.43431601500605893, 0.6450614018207342, 0.008249676281136048, 0.4133633429598409, 0.6391093022394125, 0.7128272192197572, 0.3924306065687211, 0.3692161773528251, 0.9265548711300463, 0.14942272155347316, 0.1468178377706665, 0.14047567872138012, 0.015280647696684262, 0.4441320287527969, 0.1321658062274494, 0.4551030996402145, 0.6272711859869015, 0.8513031280284301, 0.37402529047837846, 0.5105158061936872, 0.36852999992504937, 0.1993466157265532, 0.2666136872651563, 0.6273166179441535, 0.43094061637889036, 0.2891651046609817, 0.6322308962932032, 0.03659904030535606, 0.9633444314914036, 0.9999977384525788, 0.15472762303466545, 0.5, 0.016833460089839082, 0.9999995385134127, 0.10058086467672452, 0.3121609242562592, 0.21441825075066803, 0.6048065498593508, 0.25088061427675257, 0.3368262721816814, 0.8136734649750785, 0.24478984892910807, 0.7882064765000464, 0.2864469434802852, 0.24250359271727784, 0.5705866288838992, 0.5, 0.760090223234679, 0.07035127573802014, 0.5927545861890829, 0.22533992392512253, 0.8310143761566543, 0.47390065595789216, 0.5814726292003833, 0.9533896825248614, 0.01788656354778748, 0.7448562742886048, 0.39070931167696926, 0.5525623535408972, 0.6842091937261555, 0.05547728138061019, 0.6699186779954647, 0.388545957864342, 0.3022060363851829, 0.4812452351717499, 0.46062290639132253, 0.012938580367960837, 0.34435892550080077, 0.22243316743939104, 0.17930651053028324, 0.750200967073247, 0.1723278928673598, 0.33317425756347163, 0.42470984371847714, 0.12039721496063813, 0.7114202174202158, 0.7948851030721547, 0.9026018666664497, 0.5469003988891061, 0.27908048615320924, 0.9866358869876822, 0.5617006227539565, 0.2926127646585402, 0.40623772296596594, 0.11951021962878847, 0.3110402327049171, 0.19382377875815252, 0.28346438992944123, 0.7762248763001222, 0.17474549972695394, 0.08020354414730377, 0.45878489733517375, 0.5150667722279109, 0.27139253470632574, 0.07701707166860351, 0.6810622946101965, 0.060188870789838596, 0.8228142356498253, 0.35674258906596745, 0.03613836723609738, 0.45639529719681493, 0.43038171373188017, 0.635558552255841, 0.43975106237429984, 0.29596090272633113, 0.36915883143496975, 0.6536234965697194, 0.38882608872485186, 0.0365237816990446, 0.6059208466348932, 0.8601740071751268, 0.9843141619325438, 1.4050243752787364e-06, 0.28068413256175906, 0.4298867492587501, 0.4722676430706398, 0.5317874666952079, 0.5938432866140063, 0.295598520468828, 0.009951991184250641, 0.5832283275322597, 0.2144461424627751, 0.030425548823002576, 0.13852205047279914, 0.3621593253117267, 0.49245800421111535, 0.004252553308164359, 0.25027517781960595, 0.5231829839489218, 0.805665601299064, 0.9999999912193044, 0.3902370839619913, 0.299368585810872, 0.2407020532104564, 0.3087707797866669, 0.49280553761482654, 0.22969822495451528, 0.7827210338343584, 0.6967332579654036, 0.6474515336122565, 0.20978224969972525, 0.6815857081117889, 0.30054272866185683, 0.008063288664565281, 0.3767205134199474, 0.38871023772318397, 0.4645865587587902, 0.38942212470101945, 0.2512241790080427, 0.4540268816481478, 0.20570073372286596, 0.2768494045784762, 0.4200470097949877, 0.07186331690783575, 0.45560785649106383, 0.23767914778162325, 0.9892516970289653, 0.4223399018129773, 0.11723850974338555, 0.4021042166655998, 0.46889130863568607, 0.23902905117230652, 0.2256073166788721, 0.6470533933869436, 0.12485904693729484, 0.21061034545396848, 0.18884954976037624, 0.4327138737884259, 0.1596222194596127, 0.4590786614585602, 0.8310729487769987, 0.6007395371736283, 0.055516529509322066, 0.2227549285890805, 0.34514857317171144, 0.11042917482389125, 0.39144745232318673, 0.42096419862499684, 0.815232149815047, 0.6217902257392183, 0.22699001824020465, 0.3792407740073163, 0.17981707966662897, 0.5, 0.2326329597614607, 0.24162266285987033, 0.745309312858841, 0.3823222129565573, 0.48839266418970917, 0.01471544754059236, 0.026477927763409428, 0.15548290176037258, 0.5074438622934585, 0.3771052972568379, 0.10953774267813195, 0.21626150244378556, 0.017672518901653552, 0.35415783526144407, 0.11181719951644073, 0.5086656673573694, 0.43809939470529696, 0.8053353749778587, 0.505827249667749, 0.3809208681810384, 0.12533584463040975, 0.2585464530378967, 0.43918798517220253, 0.36146872507463385, 0.35833349254867436, 0.18623566410397865, 0.4735222090270427, 0.4128164344086142, 0.5, 0.05615608992369744, 0.5799826933629573, 0.1816424013000235, 0.2114276424506023, 0.0770885917490284, 0.5088969263192241, 0.40188907948585084, 0.15625251662717313, 0.18598571818019016, 0.46087338445837267, 0.3318870765630471, 0.46789757517085123, 0.15743572235838277, 0.09870753308394757, 0.43558476399684165, 0.426039050199547, 0.09132405044917706, 0.03978623442162736, 0.5665772455969892, 0.2292012953097382, 0.4210682103831216, 0.3227111982732164, 0.1515426284909042, 0.06037637615068258, 0.1884690402366615, 0.3720042023080829, 0.18284704289658898, 0.45311157455577766, 0.39407185157072633, 0.7371724519191186, 0.5257851798270596, 0.06519398520423156, 0.3547603375847853, 0.14224734811942039, 0.5639952433595047, 0.22976391544762667, 0.4708304931152737, 0.6776947989858262, 0.21330051126193914, 0.46216855881441044, 0.6443683536619779, 0.48133896122652525, 0.21840472456517743, 0.5533830851122388, 0.7665780993802677, 0.6922542108887283, 0.3367315906224908, 0.11901689862886376, 0.64464136527791, 0.4507184608709846, 0.28174257748283493, 0.002766686147249085, 0.3714993049125193, 0.4103662552021105, 0.2911157118225792, 0.16011279504227463, 0.07678551887611766, 0.5521010970206742, 0.6889844873825514, 0.4245155813211485, 0.7013258363188158, 0.0008633155680425229, 0.44551806106916136, 0.7590921979266075, 0.8367254554892791, 0.010085424292991963, 0.8892760995799773, 0.0652981176926257, 0.08651485996060532, 0.8218648959567993, 0.29399214107271, 0.09633561828394825, 0.1088281814476452, 0.3832513985140852, 0.05805061609492682, 0.9169488475643962, 0.9078896425416958, 0.353291735135146, 0.4172637220764412, 0.07117903705084383, 0.11755055657349679, 0.12989269046221083, 0.14307430812885427, 0.5977289147145962, 0.23488399942983665, 0.8513080319762907, 0.3139396530375186, 0.17005506928807745, 0.2768994785417474, 0.03303889876581903, 0.04419071044703805, 0.18921910298410655, 0.1704276720045572, 0.48200193684476816, 0.8436054330259947, 0.4006698113279889, 0.1830573434037907, 0.5438908485898897, 0.2092789209940568, 0.5068791972613432, 0.19840739624533116, 0.4468427234265386, 0.3068157015987764, 0.01617555681923714, 0.41998758800158037, 0.5876254430579975, 0.41657156185126143, 0.06944511560421716, 0.2375627542154407, 0.19761808456844976, 0.7491671645540136, 0.86946738829391, 0.4442935179801841, 0.13417770887491917, 0.647993158084975, 0.06682045130821854, 0.21076595572546114, 0.23236149110330262, 0.09963995967132225, 0.6843907231092041, 0.4712627340616705, 0.06445936546925275, 0.12091935719514242, 0.17711946321754413, 0.19348741195205688, 0.24274383483283915, 0.5247531661639688, 0.2295524753479367, 0.1435958764243289, 0.3329320121830995, 0.15769422642009842, 0.995979536316894, 0.24424472417977697, 0.21010640678704193, 0.5473211784916979, 0.09717950394726554, 0.21968833680817565, 0.18897188966098652, 0.5298724063426142, 0.2305039920694632, 0.5337414194835572, 0.1250392049795494, 0.41772965312407584, 0.07001434285985558, 0.44782698199592935, 0.21548803695696508, 0.5627582162410623, 0.40235740672429193, 0.15688278412185197, 0.5, 0.3044030121448624, 0.2732881729619821, 0.03809296395063493, 0.8441286043870943, 0.2053592638552682, 0.07127159240680499, 0.720470788667052, 0.2551964518432865, 0.07188997358700225, 0.056785543716361166, 0.3726498671416121, 0.10304012746599449, 0.11828676215242401, 0.626882106307929, 0.5912745407866833, 0.002182242593144381, 0.13253052523372516, 0.5083551574286721, 0.29509345363672845, 0.24441130096893451, 0.33310327326982114, 0.2871349538433775, 0.4762872857358429, 0.5457286033732843, 0.12339612116282525, 0.2501729655435876, 0.13475437627323752, 0.2185375984749936, 0.5051509798997043, 0.7597664928042472, 0.7445626097296103, 0.8605870954316407, 0.45048650117685524, 0.15172008969627607, 0.46801704839387165, 0.28117555033496144, 0.30086592572522697, 0.1519176506274327, 0.18350687157788806, 0.23974304871297727, 0.4012599068737189, 0.3800900401764116, 0.8965078146991857, 0.43345580288599084, 0.05248427633060603, 0.9819728140623454, 0.18639535997578097, 0.23591560959679028, 0.46671940231171644, 0.05821189545085749, 0.17565688473820307, 0.3343220527253896, 0.8726678787739481, 0.376999615571138, 0.43255781406024624, 0.47741537010324697, 0.8367605551689523, 0.7799061709273795, 0.04425000175990233, 0.2087990880387007, 0.2809592560217009, 0.4807300841280231, 0.8298225470874355, 0.04243246272505814, 0.009606985975598207, 0.2582730479497581, 0.04909513968289707, 0.44873931554142465, 0.4414910942459067, 0.06785421008778224, 0.6843157429119548, 0.2519951683346893, 0.3607214914483985, 0.09933600761027143, 0.008626588125786951, 0.3847248270104746, 0.5601294943350775, 0.5673862349217029, 0.27366216100417895, 0.3291214893327943, 0.8331844234229602, 0.10359091162359732, 0.8532844050170466, 0.2624532905922024, 0.5, 0.006249161655800639, 0.5206471534897568, 0.5099102462953898, 0.7150790579986398, 0.5322777552194129, 0.09343045462996256, 0.8606493600756401, 0.9999999998842618, 0.4191048774200189, 0.36878171694481543, 0.1967402837262212, 0.09877161456699979, 0.23244616768901388, 0.15127595123128174, 0.0782626378784224, 0.08539517711369046, 0.3004183086053177, 0.5683614847225517, 0.30555696462654125, 0.0691011677565033, 0.8299136313153229, 1.0000000994736041e-07, 0.16040985517855566, 0.10274489885570526, 0.09244909340967626, 0.04272434172841358, 0.19981082503358416, 0.09612518864749993, 0.4460533014093831, 0.16528132257257283, 0.22164632895499384, 0.1356447709257937, 0.5078739109130501, 0.2072228415856662, 0.08524895886257575, 0.8272032113426655, 0.07113104711041553, 0.3173306418604299, 0.38896798345362177, 0.27959868939990384, 0.38659485713772884, 0.2659279160816674, 0.18264909948976552, 0.008435061294421918, 0.5500938771850874, 0.5393536841783683, 0.020874613292529414, 0.20910738704618978, 0.444874962026611, 0.8438363761866122, 0.947606210768376, 0.8934771206726301, 0.44299926420591096, 0.9340390997673875, 0.07124029947304616, 0.2820938362345259, 0.5100715187896212, 0.15913938652102408, 0.3350322079709613, 0.04203635015455641, 0.17742263246559192, 0.08155916537441761, 0.1254289592587441, 0.18802960518217784, 0.601500132523458, 0.08970077147881488, 0.5103697265671766, 0.26031059152526753, 0.18914367096897491, 0.47785397215742464, 0.5901287774470177, 0.177411947537367, 0.13421711973361475, 0.021491669116098594, 0.13855493127818858, 0.3690997559124954, 0.3292947680894454, 0.4840601724218054, 0.20083161308352723, 0.35647685764321296, 0.34010596831222173, 0.1577265892245127, 0.41272372523973977, 0.10526675981366859, 0.19085046224881766, 0.7144172764854146, 0.20036928436638282, 0.3010574355304308, 0.5477019079390096, 0.5381285745761798, 0.5700521802220484, 0.5363782721220396, 0.4252952874485852, 0.7249051302848002, 0.2339839887687599, 0.010667792098658719, 0.3107670077148893, 0.5205027658063133, 0.3102108540780032, 0.3049550148673973, 0.41685941016632, 0.17297748821794165, 0.17577023017120494, 0.2061875855262816, 0.7133615152904728, 0.6606957642486788, 0.6598344686884526, 0.12829180162148968, 0.1755000962580293, 0.46978663248646246, 0.15064016142469966, 0.6227709538834009, 0.04100485962223568, 0.9999989042792612, 0.0877440729472436, 0.09865570199861254, 0.056284673154444735, 0.9695647603891685, 0.41936165955616655, 0.12739952315907555, 0.10241696495131081, 0.18581045839546895, 0.07324918660776078, 0.2545057921435872, 0.6996271987801674, 0.7240919233398316, 0.11403950439704545, 0.14846754461032086, 0.8428021351181882, 0.22482884979275128, 0.1572111260519813, 0.4781195916460616, 0.4702426749242537, 0.5641943242761311, 0.8387117276629318, 0.47870265795525596, 0.46029493071442146, 0.39502129993236823, 0.5270322029576573, 0.4380754616164604, 0.25302956835355694, 0.46653657858667935, 0.08836406601711862, 0.0865299181113636, 0.40539357853917524, 0.674041319831122, 0.388761131367886, 0.49005992123770525, 0.31632094610560846, 0.12741104564764943, 0.3454061283155547, 0.36035632131649836, 0.21164851716752528, 0.34338977605674137, 0.3938749854450798, 0.01979730947817047, 0.3162700010658979, 0.5336747733051844, 0.5480936609991408, 0.15043268871983045, 0.32127946318216066, 0.43896589352374116, 0.014921288080392258, 0.4348807388738388, 0.09238864694172906, 0.13604650791464135, 0.025151513973396905, 0.2553138165908071, 0.029001498313176638, 0.6218097129972067, 0.05227175870121768, 0.44067729136398165, 0.5387133243083786, 0.3363701179913191, 0.0773339138361469, 0.5, 0.008529250453452842, 0.014778982614047552, 0.1205528415709658, 0.43662900618703254, 0.3100503315792474, 0.7320894603575893, 0.31331725548479333, 0.035448680709444076, 0.4709357495777881, 0.16722414699838706, 0.2628178081388927, 0.4162238943746212, 0.3032510394360525, 0.42419449641690804, 0.1291549152591696, 0.5, 0.42645908241097513, 0.03820217350296762, 0.75521745742148, 0.44185789695941013, 0.5, 0.15831493468902746, 0.5523356015785743, 0.07559513056803285, 0.13051422703773857, 0.56557247048806, 0.48605321139329527, 0.4827938396755567, 0.7650611169566119, 0.2770041263029085, 0.15808487372056323, 0.5131275928413591, 0.16759267111505446, 0.1330173868710232, 0.4411091022070793, 0.304244935618496, 0.40057142549597824, 0.4694764568422645, 0.07592189932861197, 0.1508750808275402, 0.9851245754650089, 0.5882850948494783, 0.3779305422485157, 0.3055601582158471, 0.7931802624596265, 0.9999997821741595, 0.4384928905012257, 0.2678688416491605, 0.6009552702597978, 0.48930385153159434, 0.21852615077065105, 0.19083455877586858, 0.6495007956560995, 0.44969368995892894, 0.936228752431049, 0.2747948083217548, 0.21706035843432828, 0.9285422717860082, 0.24895108497037582, 0.24590398921870738, 0.12395991403187136, 0.1250933689811843, 0.1758915503154569, 0.27938339021818115, 0.5725093379984506, 0.892798669571836, 0.15462143315732862, 0.5, 0.7435138324289433, 0.34104344887943044, 0.4609561164239309, 0.6876843402190711, 0.20623569257473864, 0.42246818288263177, 0.08420031078172385, 0.2931784256490002, 0.4933975697472872, 0.5365021665377486, 0.2608570006018973, 0.47073421980425006, 0.2061220456080946, 0.48485032904190417, 0.1429514036733127, 0.18497656657241582, 0.5971163017575158, 0.7357334904935945, 0.5, 0.5669434429860023, 0.08453055392261342, 0.03176249066868112, 0.4893539920490561, 0.7751157574882289, 0.06986932433859525, 0.23096726912102336, 0.5312144463559921, 0.12520731144131766, 0.1866833259926469, 0.1858638126269468, 0.11855161835018378, 0.6960312106384033, 0.3994911391497552, 0.9030167523010855, 0.04289638959143155, 0.15221502975351273, 0.25661438055787705, 0.9390422528558381, 0.1749309310758884, 0.6786286180770521, 0.5635068251382304, 0.7253888431826396, 0.45719867395583885, 0.1626209368488914, 0.18319977125002992, 0.5301399274771555, 0.25700857665547, 0.08092982091938998, 0.47848451704362566, 0.5493769529331823, 0.4025984767022722, 0.9971316669974168, 0.2070608893596662, 0.6581204563613712, 0.24086276585232289, 0.45601693084788025, 0.38415708048464486, 0.32280478963821835, 0.3505636550275158, 0.1296004390942198, 0.3324789138598051, 0.20177030025809353, 0.1702823768103863, 0.1642643852976346, 0.2546869284947322, 0.058858101057207915, 0.2813230417732808, 0.21090096396230093, 0.04180203588397443, 0.22607220414060808, 0.15652060407993193, 0.4675079057729601, 0.8802205890650865, 0.9236678634350751, 0.06235741871483791, 0.6847723765424124, 0.38326487702682155, 0.5649546576664704, 0.34598329072810435, 0.30666989044036647, 0.6716426884946444, 0.1764827353943663, 0.5132363384609219, 0.44107113746899074, 0.21364852020600075, 0.1465246217876962, 0.15547948000227568, 0.4798336964810688, 0.9460561666833741, 0.5572307547419448, 0.29918367281982844, 0.7157936318401665, 0.10034483601969686, 0.0602420456069105, 0.2924375853113473, 0.8523397822442188, 0.3162451977060134, 0.4335937215769925, 0.10016224369006635, 0.20088157050978833, 0.6389999521159806, 0.5502148214112115, 0.11850107214884305, 0.343694962225616, 0.4104931291974811, 0.18242787206451927, 0.5266314296257422, 0.47480642063654077, 0.23536483036241848, 0.643394054474932, 0.9962887224433458, 0.09217942768590334, 0.36518973275920646, 0.37218032100792964, 0.9999999999999699, 0.009659474023294196, 0.13471740394190831, 0.25245352461678705, 0.45209391411751393, 0.3497615608806255, 0.42333711047938494, 0.9328839394708209, 0.18625004810857454, 0.5453177499578589, 0.030830819557100125, 0.16617821224225068, 0.4241918815796633, 0.5678427166010217, 0.7176251860705841, 0.22252516322930765, 0.3574881265785155, 0.24001972903752797, 0.6806201307356186, 0.3883795125170187, 0.17254382194246323, 0.01883112482049485, 0.37072378360263897, 0.090010164267509, 0.4021313389202918, 0.5, 0.3416781420251914, 0.08328095688943508, 0.24020940952285078, 0.5, 0.559893782277903, 0.3963930765705316, 0.7267645375679891, 0.01688829403716494, 0.941047790760046, 0.6782491031000908, 0.07457291479396214, 0.47053089816365945, 0.14593976137376646, 0.26056306968641324, 0.1689942279180611, 0.4229134223131661, 0.040119799964476316, 0.06025038230306461, 0.45585321572488385, 0.07676254061198409, 0.1844718562119083, 0.20629190901031963, 0.4819958967120671, 0.464045953751502, 0.22520861687757876, 0.13393509821441746, 0.42323806317199714, 0.1662157478732535, 0.46104748640292126, 0.41498488680588347, 0.07958561217696092, 0.15043145801989324, 0.3107798608918066, 0.20958145687337312, 0.9999999999999699, 0.181626247228373, 0.15501004718378836, 0.28532713900039697, 0.3308190848219026, 0.1155885179638624, 0.4926786536646054, 0.03512775010534615, 0.15810105580503198, 0.1954090216512266, 0.4232498906041332, 0.2882451618058121, 0.46554560236057835, 0.18908932383644836, 0.32321940605885274, 0.44434191367852666, 2.1510950218475912e-06, 0.07425485468961185, 0.30199326939628157, 0.44337331104690203, 0.9150453618146258, 0.39322119079902923, 0.3765497625746066, 0.4754076235250171, 0.4283241798253112, 0.08768884773077058, 0.9641236239585684, 0.21583418958017528, 0.033439872690620584, 0.13136437712241916, 0.5, 0.015573237999840535, 0.2549497504769188, 0.0561649421921304, 0.10857607534526652, 0.4277978559026049, 0.1260336752118847, 0.4835825159990528, 0.10131503127800627, 0.5739030240364448, 0.07208041756157456, 0.13351234358715716, 0.6751020412317216, 0.07124143997627422, 0.1822391665357583, 0.051215787877086354, 0.14481502721128714, 0.169865054421977, 0.6249551815901078, 0.190917151730502, 0.6861147578940182, 0.05837065059643134, 0.20107143093251686, 0.5836181152960457, 0.06931331684309049, 0.14705275901885292, 0.1280910447103468, 0.14256657042501503, 0.28777757041365004, 0.23044173890981823, 0.6962630877439487, 0.732952877341826, 0.0914034558213806, 0.4659479131473861, 0.46290166037868585, 0.06042391803019267, 0.17124650967223287, 0.02207877024230823, 0.9560006473788054, 0.9056539950502303, 0.16762247821221365, 0.20162745668911444, 0.5251646390656678, 0.44860720522787273, 0.5970032045152691, 0.12269347872400328, 0.15145076483222206, 0.610539684515022, 0.015461184400352492, 0.13138436334342177, 0.4418446489581947, 0.38652704528352355, 0.14866034542329673, 0.022332473131691028, 0.6246489276887608, 0.7524205237945624, 0.5080758725694374, 0.4902738055358813, 0.3166824669003765, 0.16863100496589273, 0.2715788170634619, 0.24391317285701022, 0.0995424620640111, 0.19732984128295722, 0.4276072093267835, 0.6746007416525317, 0.7279772720865154, 0.4548814208059433, 0.30728150016168243, 0.4289502765936229, 0.357306607020975, 0.44685051686848504, 0.40607042622525025, 0.6147845261093658, 0.24646499582817458, 0.3175808736138318, 0.2367977755906724, 0.21920248706828072, 0.2508742516779245, 0.09964775585736439, 0.08265501760506537, 0.48496381350493306, 0.17421913215268167, 0.23780450347705456, 0.4029887467710061, 0.444229157946236, 0.2801160072205038, 0.08695858164957664, 0.03852773337041785, 0.34506493231809315, 0.4177172235656848, 0.13560237651037488, 0.3946575687309892, 0.646732568952323, 0.18476407137284834, 0.38168779640568146, 0.42816090957688774, 0.3667691747062362, 0.23464490324101153, 0.45076690620642385, 0.017125929395924368, 0.05757243068375614, 0.46353404675216936, 0.07632671422833447, 0.4185494894949758, 0.3451490233526817, 0.13507853565332809, 0.03908901449299298, 0.4714258775598305, 0.2393867078177264, 0.7768750267502568, 0.2937669693607677, 0.6344437745570849, 0.19653124840849567, 0.18800535173971117, 0.43553050761706635, 0.46242420990049615, 0.3950361531754305, 0.14962142505605655, 0.06443653862414944, 0.1715579043994999, 0.20301553805107894, 0.2152011550220671, 0.8253916901082002, 0.045870297706571785, 0.3176291605552082, 0.8063455665249051, 0.32241520515633515, 0.9999999193736279, 0.2363095820933258, 0.08284739917000804, 0.5488373887381465, 0.16161047474927384, 0.180648266260845, 0.03561778394377645, 0.01823765628479212, 0.38738111154631777, 0.730158729002278, 0.21552184996861024, 0.5387223875335656, 0.1799350687065391, 0.5212916916301892, 0.21931052577709698, 0.738408838128455, 0.5562761909329969, 0.35509164548612415, 0.30562919213760237, 0.1276984217810342, 0.9397752555884847, 0.9952066144328673, 0.44954590751828544, 0.35757532090553357, 0.08388291820117381, 0.07603985373743592, 0.4585743015324402, 0.48952174305937884, 0.20287211171506903, 0.46777350071044244, 0.178177193455436, 0.12316444649625287, 0.7887317155751777, 0.2743970456721687, 0.21746843579541209, 0.2877119778324111, 0.04920088408986666, 0.024741894872657377, 0.3965819280902359, 0.23165837479547555, 0.0042385258263868495, 0.766945422774786, 0.3546365832368316, 0.14249327843109083, 0.20398852890127947, 0.17878128280325797, 0.7069391177648628, 0.06077661718968425, 0.4089193307111256, 0.2672871617564957, 0.17791831694687574, 0.9959088226125955, 0.08763316786812173, 0.43094186846479354, 0.6732250619244344, 0.3745896102440576, 0.3205580413181962, 0.4484294891177298, 0.09396325296738026, 0.009002533367747574, 0.18023654224617502, 0.2270828415347178, 0.6210354827004297, 0.7827519024095215, 0.5720562317172441, 0.18166912812342828, 0.47882699712119026, 0.5372149981705825, 0.06994796329701355, 0.459242072506426, 0.9040652409665516, 0.2596887668078848, 0.39882065232915354, 0.14411341263697147, 0.31575931701804943, 0.5156812059165018, 0.4565454169301052, 0.08965605045362851, 0.3437021189949425, 0.17534276473830449, 0.3304795797713456, 0.7906819713699806, 0.20104003125382475, 0.6124693243786515, 0.4364291457240097, 0.34027090460595444, 0.8663988518627511, 0.012538757564864677, 0.2666540453646628, 0.5419925493360351, 0.8034090153678837, 0.5252832600252086, 0.37509343165973114, 0.13424544114677306, 0.1651979413613797, 0.2251941679037781, 0.2903469039866767, 0.03800233218283549, 0.9936874549101573, 0.6960215987133662, 0.10196250948535662, 0.8807645557837397, 0.29807163211204113, 0.4603049780811024, 0.9924380719043495, 0.006490860801847686, 0.5383262001174892, 0.24750291382381698, 0.03118249205717588, 0.41363665137349387, 0.346902218804918, 0.15375506880905043, 0.08379890859167048, 0.08118910915435376, 0.36254579557281047, 0.2871988328300127, 0.01996884688163794, 0.4348954306630804, 0.696803385320649, 0.39335566538680344, 0.6919258394652638, 0.8109743709409469, 0.1997811083223452, 0.17320586318053197, 0.1251992767315997, 0.19363168677094647, 0.9048872873408995, 0.11443077666300737, 0.542877398359225, 0.8259816579573205, 0.41938209680735683, 0.2295056140285022, 0.5200802544376979, 0.9999999999999699, 0.5, 0.19985124172054122, 0.04154356237277225, 0.8603618221946788, 0.08332751767531016, 0.616817043610212, 0.047226404672718936, 0.8021843681456775, 0.5587721304918153, 0.48231449815949745, 0.18706325930564324, 0.9999999999999699, 0.5211235021238613, 0.6359404152708025, 0.7330162293356784, 0.3980522798595094, 0.39591176509404263, 0.15204089641822022, 0.1380712627960004, 0.2962327659943595, 0.2620864622329701, 0.3411705164695212, 0.6411383448999044, 0.23567673092304559, 0.4570116879172383, 0.1516838298924713, 0.47992301886659566, 0.4866458409507272, 0.09120780679048873, 0.45197140780418643, 0.9475444614707642, 0.28779246797723196, 0.19091504136350265, 0.4080887848984282, 0.29514151412612044, 0.3393604409571092, 0.7333648634057359, 0.2923620542807333, 0.4667693187898096, 0.22260548679402375, 0.5, 0.01930846080450853, 0.4026834832410112, 0.5700290880486143, 0.5835569413373148, 0.2352898766624567, 0.108601882060979, 0.401262678954028, 0.5115374617973, 0.2614734219360946, 0.425452790066332, 0.5516172905271381, 0.30840753545762817, 0.1597252670522307, 0.31787328217303695, 0.6219978953900642, 0.3572203937110602, 0.9875513450419575, 0.06443622236143806, 0.26070438823605746, 0.8871261029386895, 0.4686210980095624, 0.24988203227139488, 0.46615068605729104, 0.04739632836976779, 0.6515344218858025, 0.3735805902889474, 0.11540535033871714, 0.46792925847769656, 0.4735517872851631, 0.2839780148371421, 0.5616109336473241, 0.10300221878445476, 0.5347920738339897, 0.5114298563374016, 0.09027460611621244, 0.5149086993642765, 0.4044141803347143, 0.5297376546599387, 0.5328060801755615, 0.3839692386686133, 0.3015208372470944, 0.21169624250330651, 0.05013857685694902, 0.055618121374327686, 0.6549572868545471, 0.011932041897849122, 0.1460103723611526, 0.25438888247115865, 0.8512058622739772, 0.5052667534490641, 0.3944513505817067, 0.3706315016801824, 0.20037511364529847, 0.07921069353185599, 0.06565166895377644, 0.4608552510206676, 0.11910219388561416, 0.5396987706867831, 0.050845513704056496, 0.43226415190418815, 0.49095719282217604, 0.6375683443890761, 0.011516800088533608, 0.27310848300144097, 0.2883057331372746, 0.4680408741057312, 0.45148051988072696, 0.3566363866725714, 0.5835532608842844, 0.12659105676384735, 0.9297752557051778, 0.4494714393758256, 0.13477953267960296, 0.013614015863379174, 0.2511069205517306, 0.40316637621659623, 0.5, 0.5631996932593206, 0.09444950525663867, 0.5098926443301438, 0.4492431917404969, 0.3158619714023864, 0.6387903883268488, 0.6536879722957535, 0.5157122355875863, 0.34889917793580766, 0.2894572801453778, 0.8608260526203072, 0.12987933802175516, 0.13645561469312395, 0.39832290727448066, 0.35187048921226677, 0.9962445761971477, 0.27475837222421273, 0.3201448370049994, 0.23861903796339437, 0.34524484859584725, 0.048368506856461824, 0.06007243797053055, 0.9143517379645849, 0.5417979055003991, 0.42723829018039655, 0.9409144714178821, 0.37247332821015905, 0.40724983285748123, 0.09792218218299355, 0.5222160665671215, 0.6214604798737545, 0.21150079326572188, 0.08337175530939264, 0.24721590317605754, 0.5724372834693374, 0.4250824961088722, 0.679627497300624, 0.6401803658895459, 0.24382751130501157, 0.23117121599962356, 0.27004945276424647, 0.09164890358476495, 0.603627069134644, 0.014608312787312821, 0.41345935092942177, 0.7585101863449806, 0.49173082745812435, 0.23240394056621033, 0.5, 0.29279121667099567, 0.30913254219098324, 0.3286277774430026, 0.6814462731604167, 0.1752487713561312, 0.18617774237994686, 0.10247985492356661, 0.21986245252204156, 0.39671921777749963, 0.32344526618867675, 0.46672264029486243, 0.06428374309144061, 0.11332687887878597, 0.2525157698621414, 0.14489430890535288, 0.4558821939410056, 0.2281180269764485, 0.4531226999808077, 0.03625955951820849, 0.14228016592224513, 0.15187557795992332, 0.5635852466537125, 0.6463140523725834, 0.0734708894755611, 0.5500210152742073, 0.3063808757077848, 0.4927687233555968, 0.20194800457049278, 0.054697721267896314, 0.30567843263983874, 0.7027977053851149, 0.13982782764200044, 0.697211277171908, 0.4200533010171261, 0.1185769260132483, 0.5634298524949486, 0.6117043692458918, 0.14141434824941634, 0.9132996876610737, 0.1532244081834839, 0.7772132059929293, 0.31595187463585117, 0.6118421673402367, 0.07035663276756146, 0.3699540174583417, 0.6633669840243002, 0.08550143407796364, 0.9999848461391904, 0.45618017633889396, 0.5592288821233579, 0.5, 0.24100491886569436, 0.18332158960074704, 0.09886880233267686, 0.6865049894213622, 0.5299443321753219, 0.9999999998199748, 0.41480404788190955, 0.39516165608952675, 0.9566178567956758, 0.06452462421393758, 0.5766696448470101, 0.13773498338369394, 0.3571544307185285, 0.09889326132445958, 0.35780803540785955, 0.3115590173757597, 0.38813297700040594, 0.7892969422060184, 0.5865327978373484, 0.23998295600095448, 0.4037035750441399, 0.3731210269029122, 0.033562863152297166, 0.37726311672246143, 0.39581979119421523, 0.0438728255844333, 0.5543377299983462, 0.4860959632236087, 0.3033002572604694, 0.005285665983995227, 0.4557076604564475, 0.3342081357800434, 0.35623848921875656, 0.6475468833826155, 0.7772331459542803, 0.07430863744604964, 0.2024953342733486, 0.4887262060338648, 0.02267148418060638, 0.4159572035655872, 0.8413597072671427, 0.2791088046389969, 0.22052737575820164, 0.30107173304383855, 0.34900844989836344, 0.2926969680173285, 0.5, 0.33834709858234446, 0.4670147608751141, 0.40981228760549804, 0.5934742310484498, 0.3831094412833369, 5.939262328098707e-05, 0.14102580107460763, 0.14541591861614547, 0.3501115600881522, 0.5790918288857818, 0.9999992712705082, 0.8966756763172502, 0.9590882499669954, 0.13989195844129804, 0.9905459604655253, 0.08581224295837109, 0.3832248023332668, 0.07063884202865872, 2.0832327312599028e-05, 0.786467270567373, 0.3106800536859904, 0.30097950922967137, 0.038408678572544985, 0.14262991984290524, 0.3615434092542638, 0.4693927396820822, 0.9970623977088938, 0.06739345595462283, 0.6966695809763049, 0.29550507896860434, 0.7561552656486967, 0.21635737461378843, 0.4540300705761443, 0.36030228377141915, 0.5556995807898784, 0.47066270844447783, 0.71840583410693, 0.2618573444364492, 0.18431187443123848, 0.5713182616191411, 0.06403175041636237, 0.15186656615698407, 0.884251054538091, 0.4808278178331605, 0.36718409121318923, 0.11945568143872431, 0.07469397234737249, 0.37164067901286146, 0.4357520099970405, 0.5656216574451398, 0.21949110705620822, 0.4250878556518343, 0.33398432431794806, 0.4636459348973744, 0.39614467697172756, 0.1352519687520915, 0.04670736149833099, 0.18663957224086689, 0.37119214216830965, 0.5850192979657074, 0.5490398539588187, 0.11292297101371992, 0.11852962684848085, 0.4299226745888916, 0.8105008213737533, 0.4371554120342411, 0.4907726099617379, 0.4456929890675554, 0.5171296609855195, 0.6563074161817342, 0.5, 0.3123450462208884, 0.5655372484201344, 0.4274295540925104, 0.24849570950809483, 0.328487835735812, 0.24980293140660503, 0.11904338452901649, 0.05769307463424121, 0.28254125151066944, 0.35405091140381256, 0.258984574042349, 0.4791989249429054, 0.12173220494857502, 0.6160404039733236, 0.5374526000611249, 0.0016119614684761121, 0.29737912283245943, 0.1728230278536493, 0.07013578400519477, 0.5604762980422155, 0.4788269879197025, 0.4089272595103682, 0.266294917821538, 0.054449768076418686, 0.9587589322015743, 0.5, 0.9721457621774052, 0.4120345312161024, 0.5697379588774579, 0.35278480267793527, 0.2601951122785386, 0.6562718556321179, 0.8253148692898247, 0.2337157628097687, 0.3931064073602357, 0.06022247632964958, 0.6633648508334169, 0.912343203138317, 0.20842327122904286, 0.3437284529496864, 0.19455460430229732, 0.546368918168945, 0.31709866213522114, 0.2296098853929624, 0.07501955951875616, 0.9999959269995895, 0.583702188611864, 0.06475274647235524, 0.18481775104624903, 0.0005430254442976259, 0.3061297600490258, 0.28262494271191113, 0.33030067903329224, 0.22261698011527326, 0.3073155214556488, 0.698653040838882, 0.17961964116679957, 0.8336660400471233, 0.6564910289703944, 0.1727702515682796, 0.7755838480349015, 0.5899233900872388, 0.32300711765403683, 0.3978451309289582, 0.39329318213010855, 0.3051627010026653, 0.7115036099856935, 0.8502921681069135, 0.4157688505894347, 0.048360052382612616, 0.4759862235140374, 0.6803421103790656, 0.07597788694578869, 0.6027150089584535, 0.23970030565504957, 0.3834137478590327, 0.3027517671121589, 0.15379918226533026, 0.24358055479798718, 0.07865118190479455, 0.09567630533147517, 0.06872504315886517, 0.6545409857087308, 0.11509440655078726, 0.32295166917223805, 0.2960020382300326, 0.16712571554317, 0.451678477361566, 0.30828293348417996, 0.9576659075169228, 0.19093885232341865, 0.3922137698145972, 0.5357574562363315, 0.21466753400316005, 0.6920505427626273, 0.6852829072672572, 0.08865388077852518, 0.434266863441628, 0.17367501460415347, 0.5694233767803886, 0.44448694181847404, 0.14623796420705018, 0.005853244994317862, 0.06367328593119335, 0.08098470511626478, 0.14559859742103784, 0.3048588311131853, 0.12776213143495396, 0.3586797270939327, 0.39126672020573905, 0.47498790074812297, 0.6230782208566941, 0.48082946702845647, 0.8261448335710466, 0.4312387815187981, 0.8666153212686311, 0.6634677070132086, 0.11654861127275666, 0.41440828556699794, 0.19859159059406295, 0.5373663901484766, 0.14297367284511261, 0.5679339744575762, 0.037773886884432166, 0.44972488479668493, 0.4438158202018583, 0.13396094260035307, 0.4799354147626134, 0.20601673649402386, 0.561137954341894, 0.9999829463337719, 0.5491803720018832, 0.6073677339135461, 0.38282038292384274, 0.32128664323222167, 0.2457616490300343, 0.39220139948433663, 0.37573079708366813, 0.16430587959105095, 0.22474903582731298, 0.1573764681415822, 0.5948104935863946, 0.6063239615449082, 0.2556773098921584, 0.1264028645061789, 0.21563047465938243, 0.06296048981359441, 0.41488498409929747, 0.405159064324827, 0.9053705122656204, 0.5066537614050243, 0.2873546894773739, 0.40841513486736153, 0.37961283926855766, 0.005056978938990338, 0.5935343815033902, 0.12744354193356733, 0.8431215365929772, 0.4180790644140463, 0.006235108422208807, 0.7527898393011032, 0.09412812564092245, 0.4558666240030952, 0.4032106176354919, 0.4577114515280821, 0.11952797752659712, 0.357094863388637, 0.2318742105897518, 0.338586213648989, 0.3060961256843535, 0.31880854943347503, 0.5198979275930148, 0.1998635281185735, 0.40238696299351473, 0.19318158867212668, 0.7589268364943663, 0.4200777951843268, 0.43279730839828295, 0.8107457340957976, 0.3832143134166109, 0.1446376283294024, 0.6640072075046491, 0.276646603459662, 0.25826784035050404, 0.04151595896347546, 0.30416846445211293, 0.1729962501174405, 0.208460971101389, 0.2901317798914201, 0.258794192616833, 0.6174246667180199, 0.6096374739527699, 0.23667593727399225, 0.12003116240851337, 0.41768961886979755, 0.34645605058822926, 0.07782013109550732, 0.2757557478116388, 0.4488562256643224, 0.9999999991083999, 0.45108879835358573, 0.6256963748866449, 0.3105435377467066, 0.08626562133695347, 0.28829411109968095, 0.46812249435965375, 0.45891506995070896, 0.33100815443144876, 0.05163792248192986, 0.16128006392472422, 0.4042071343792365, 0.006974458384753966, 0.5437406844791508, 0.8760886252191098, 0.2354645918442369, 0.19293897996463272, 0.4393998082302857, 0.18721069822043312, 0.29704512820198203, 0.21713022075052246, 0.1498099486685098, 0.39002769303659174, 0.1891451539679233, 0.23445147091875276, 0.48318455659939213, 0.6642842023077485, 0.141307643067216, 0.2190124947763913, 0.10274790338393126, 0.43536915901488077, 0.48083671604512335, 0.19453416272378474, 0.15307153735453813, 0.0587657448175596, 0.9930899762522629, 0.16282636721406837, 0.5918310737616116, 0.27647558978741826, 0.5315685922310308, 0.18586050168224433, 0.5604075366062713, 0.4074034092154204, 0.9271446358083042, 0.4870763272077374, 0.5628632724363714, 0.17821835722925825, 0.7507346533100008, 0.2590669357703573, 0.2551139692424726, 0.8495072688741181, 0.36056205594841884, 0.30111100503695315, 0.19071567507366513, 0.1636894923896121, 0.1151335825788471, 0.053502030260154626, 0.2699153764692991, 0.18312626444590366, 0.045988283388272946, 0.07469178931698817, 0.84440030953402, 0.060412285180499764, 0.14395988263448706, 0.35370434306605736, 0.5525435525475394, 0.12607411853862865, 0.9312751856280832, 0.33042697632025964, 0.3659662956236025, 0.10557030301649607, 0.2999047479852499, 0.5411940134757892, 0.42765009835617807, 0.464529846573093, 0.10771889881292938, 0.06561252393825688, 0.3214867452948953, 0.42879883166732263, 0.18605466634473924, 0.5663771774833835, 0.567381933378796, 0.6694670799628679, 0.24653538688621582, 0.7357883125515027, 0.35344020925042824, 0.14858282120045777, 0.5252683859577504, 0.7451847341945659, 0.16123315357646772, 0.13539584135311789, 0.42302761556394075, 0.25537205963522547, 0.3910468324826772, 0.8271985371737229, 0.48197588237828193, 0.09803553058362925, 0.15291008847997847, 0.11013143665925398, 0.4765673438462191, 0.37609025727071055, 0.4124742459732233, 0.3495664027810769, 0.6335538075742913, 0.3219322839557486, 0.5124618834476785, 0.67967586967008, 0.4826996778495225, 0.03169373222221696, 0.6272075114279144, 0.18367209168206414, 0.13030901754556734, 0.5917118189842571, 0.5958462565027896, 0.21083478627965552, 0.3479658093993921, 0.5346399149760345, 0.04585893308197892, 0.4547766128407542, 0.4497275073639132, 0.3861663064107625, 0.11173844568526947, 0.597388222777249, 0.2503042322654985, 0.39251463016079535, 0.408630328410167, 0.3921362438347414, 0.43838572256966607, 0.2831770486794512, 0.09937863975984054, 0.934600231453579, 0.3613303035688869, 0.09142000626836141, 0.512601520167338, 0.3882715122214531, 0.434051960449076, 0.4267991889586533, 0.45365703601833457, 0.15885130335668754, 0.3890748722743216, 0.04574927158477601, 0.8935715180772006, 0.2594811608315287, 0.598753774494629, 0.24919592828330045, 0.34610552110417514, 0.10175377910911011, 0.5, 0.5262160425942878, 0.13672366927955287, 0.20525136807777664, 0.5258018609942181, 0.7243043499675591, 0.02645042219965712, 0.49416353916453043, 0.15777546246263527, 0.42819928734418133, 0.47745603968966305, 0.32062423477533686, 0.2669364870782716, 0.469539628750984, 0.3557532273148573, 0.39489815490077496, 0.26575208487237656, 0.25530449042518477, 0.12297121809997417, 0.31880207857862153, 0.05495408200371323, 0.2693567737199372, 0.40520086151087076, 0.17200951074382, 0.38627687198108973, 0.9446421252395438, 0.48785694958689424, 0.34831608057985514, 0.1473358970514687, 0.4169618176342333, 0.5840011103560407, 0.7629670827128416, 0.3013131892654133, 0.19096133506911792, 0.2578403139334191, 0.16612692886600416, 0.23631886434640537, 0.37521208192505184, 0.6228048838468927, 0.5960449535528873, 0.8916899656600571, 0.9999999856223193, 0.10320570702930403, 0.15681246734338472, 0.45416267992118287, 0.29522582906163386, 0.5731468231091601, 0.47898475004031554, 0.0982159423691538, 0.07238065830141285, 0.7783180121246714, 0.4496365673724857, 0.3158570411818879, 0.2677236934964109, 0.3477999558196551, 0.12327435544917953, 0.05691207426034278, 0.8819074993625353, 0.14374640317020063, 0.39411937388665086, 0.21403626210633256, 0.49249936489402624, 0.04572958269875021, 0.636742037196462, 0.05798855545460377, 0.5586982012374062, 0.30800264462185317, 0.7498958839480235, 0.56609100151193, 0.4447527463452124, 0.24005542656069734, 0.43120215100678805, 0.33726476223299, 0.3122478764225313, 0.12253646033825169, 0.7910865332060945, 0.22209342558032205, 0.1223269739198936, 0.6549100922671901, 0.23358438898684178, 0.5350722062546903, 0.07082157982992913, 0.44738833248786863, 0.41091310656640323, 0.44114244272960723, 0.48876464897135075, 0.13377349642134267, 0.5336359360335234, 0.23386116866067025, 0.3566178347394121, 0.7137162260160473, 0.6975821488244287, 0.4665966284933972, 0.2840533340961005, 0.367604752772407, 0.6919323406846069, 0.2732418589987636, 0.7412125120540823, 0.5082114223995018, 0.5554080327732948, 0.4006520664616537, 0.6166912877895582, 0.3990580948047735, 0.49461452123499444, 0.4005025024000254, 0.23907294469157403, 0.05758180229756801, 0.1590037357778256, 0.25000534288500004, 0.9372779957505606, 0.5682207483928041, 0.307636591024158, 0.35514098004055844, 0.4410216125911201, 0.16522549826503277, 0.25551939319740313, 0.05819308159691872, 0.20357290198625305, 0.08677891052278687, 0.019203840909576428, 0.059755488468475844, 0.5128867181790886, 0.16918518659553178, 0.48461369452299125, 0.09430625773808186, 0.2566555956650579, 0.9970951267900553, 0.27625792593478565, 0.17219815460972182, 0.23850366510139415, 0.7092442604858291, 0.060105384281320284, 0.2801341167592062, 0.5814122669800486, 0.14123003006375495, 0.4118283121302582, 0.12626438312023244, 0.6924590384221683, 0.47960230222910655, 0.43520458726257505, 0.7153330090703126, 0.1909469919185928, 0.3230443372609625, 0.5, 0.14345524626890113, 0.10797282107784696, 0.32928994523008515, 0.5, 0.9999998057689403, 0.4096176374162626, 0.602146444330908, 0.4048597190949742, 0.029794829054493484, 0.01394557937436955, 0.3444859125918546, 0.2795181702169593, 0.23616592036339207, 0.22146461662704692, 0.8852173309710448, 0.6352017337332382, 0.5, 0.48558571032053577, 0.41724268731456204, 0.5804744902901523, 0.043487869258854984, 0.10142273698642525, 0.0603057871455493, 0.4848193926464851, 0.07484747089895948, 0.28308656166811313, 0.12346779504537109, 0.44222156731050394, 0.1570735123853684, 0.5167012296922179, 0.567389222727254, 0.9242697370909715, 0.1946438124735102, 0.14524699192908985, 0.24288982898635378, 0.4321891709048865, 0.30573022050195925, 0.33123771606323305, 0.12037185630019265, 0.5208764954491393, 0.13746991404891654, 0.12394642673326005, 0.6595110590245624, 0.0666303054775562, 0.35455628894093233, 0.2994698419585812, 0.2854001275637002, 0.4014875714514975, 0.09521693309718106, 0.3417665764182989, 0.13715989351955532, 0.4526402038367382, 0.2449006876384919, 0.24328307750034175, 0.17758322640308066, 0.3200500483353716, 0.5, 0.5579903457047248, 0.08261457740772743, 0.477225402169409, 0.3189722732798075, 0.3552642910031715, 0.2868371452194939, 0.08176138448464061, 0.34992979927728457, 0.30957763259694393, 0.05892935747587359, 0.24200073575370232, 0.12853493859457427, 0.4601214308973366, 0.5125773268493862, 0.12618115484336065, 0.6463807267947158, 0.7314784384058717, 0.8508664456025163, 0.8623297840919772, 0.6266695424921921, 0.6991860643530247, 0.2737499972368182, 0.2779895059071604, 0.43506984105383306, 0.14320206896578055, 0.4248522934895703, 0.013875528517219654, 0.17031865413687614, 0.9697564148952775, 0.5603784477624992, 0.08472217048862005, 0.0813661624549023, 0.3941257620692924, 0.5743803062788639, 0.5232913720694107, 0.3867986471816141, 0.32854613861015886, 0.18708610599886016, 0.06156307679944449, 0.267418801223665, 0.3154394846231675, 0.2994234105361683, 0.34092151454014386, 0.24953246955990574, 0.10037441310851848, 0.10977688363258394, 0.03815228359433587, 0.5465095405086213, 0.30609188322643754, 0.6927583430385275, 0.22221205489622398, 0.577379295447678, 0.5999408095674927, 0.6074082078135545, 0.37888153773021854, 0.9621938175452003, 0.20962050222335943, 0.486205030758014, 0.1055077821322331, 0.7743282641116881, 0.4059865872367939, 0.21624037075022473, 0.12410498561029142, 0.2546610291517712, 0.5474160719853057, 0.16083663743513393, 0.4297536463265512, 0.5, 0.11102415166432691, 0.25928649881052135, 0.14039701353348785, 0.9967334177068418, 0.14496116752301164, 0.05080765568960667, 0.21266743740848532, 0.2647802700491843, 0.8979480877664809, 0.9900612396093177, 0.23067944028607992, 0.04815258734164095, 0.33976916224477294, 0.8158777337626109, 0.4620939043807095, 0.6398960620404728, 0.6460116597694678, 0.2278380801736231, 0.10820169125892336, 0.34987840129048503, 0.33366653070283625, 0.04835470867669299, 0.1786621614974422, 0.09693742951547245, 0.5, 0.16228024347074158, 0.5624548221097269, 0.8205752102149959, 0.3112641068636137, 0.08388878843177612, 0.9885869089047853, 0.5524510377243584, 0.4662953215868864, 0.5355724855554724, 0.41125677477759826, 0.10496525363456455, 0.3753164555902202, 0.1424313400781953, 0.07987791562024171, 0.26687233984607683, 0.3440588665009199, 0.05107681091545026, 0.17818969686686986, 0.40052986363322235, 0.00104033622206758, 0.31792442647274605, 0.11106247084136371, 0.4552288231782293, 0.6367840691151984, 0.42374958703194493, 0.10578145866708029, 0.5062915919578039, 0.4421940108892371, 0.38881410244940423, 0.24930075502430143, 0.5904653016398549, 0.17633757666799363, 0.3806621660553535, 0.6721878122775501, 0.26713720166857763, 0.5359684131679574, 0.2717822042953201, 0.030170826566805652, 0.24011951428808742, 0.17980217938385432, 0.3203599935309636, 0.5453889992029314, 0.14030096491545707, 0.7448526553061988, 0.8092177943819218, 0.12518265561228553, 0.057501786728009235, 0.35786584307867425, 0.3991162631986758, 0.5, 0.10901947610854631, 0.6435921705075345, 0.4414360134555232, 0.33823559336519204, 0.23015692038871327, 0.40130225674316733, 0.16418648087403573, 0.5564081707730636, 0.40221461963595584, 0.11299566469001586, 0.5, 0.4430659973499378, 0.5993548291143944, 0.45671231681758023, 0.8056574646546236, 0.3871995762193449, 0.36205884527944443, 0.24825878191024084, 0.34984001126221564, 0.9870958800148185, 0.3706724289459954, 0.99316501907242, 0.2149859533555304, 0.30109434509399324, 0.38549734702020283, 0.2841020494528153, 0.26823451200789594, 0.32737802876140465, 0.16326733615512543, 0.11095657010771426, 0.5285539923524394, 0.9850628325879824, 0.189068122412746, 0.10195428517563931, 0.04980807294548927, 0.1670904252869242, 0.8753198744249745, 0.1552942360885647, 0.4004238952299301, 0.7924319898636358, 0.2762596933680985, 0.22828992935917622, 0.20195334920741786, 0.6361947282005993, 0.2645023513986645, 0.1013161548835891, 0.47120607761620037, 0.6301678822859897, 0.14023373666699682, 0.31034986609572107, 0.020266843909018124, 0.48187217963399187, 0.2650868729037131, 0.3982335027202612, 0.8517238994792932, 0.2489291832117921, 0.618149384603463, 0.4176579560444076, 0.40920886402473994, 0.3793710317152085, 0.2359336609329037, 0.6916795439385889, 0.21372591347215106, 0.41647369488506086, 0.6517267188833106, 0.13983881475613447, 0.5686964912858833, 0.2511554916385496, 0.33316499636805746, 0.13587199920847529, 0.18639598585590805, 0.28502278786274127, 0.5315190413666121, 0.5501494370055243, 0.42283934873104484, 0.7999297849765025, 0.9321996969180291, 0.2565482853835006, 0.25291452090441113, 0.4104985333412684, 0.3861545284109756, 0.8372606280304279, 0.2361612991355843, 0.45165391822591006, 0.10466912823511071, 0.18604546119624732, 0.6995685489750493, 0.17769195022512696, 0.9648843211553839, 0.6496186065236849, 0.030235827299672762, 0.5284010059649225, 0.22358777791382667, 0.12716475430181087, 0.18806528564257663, 0.4347879480483248, 0.9160732268967571, 0.23101266698949166, 0.5268756332228889, 0.6558332448407636, 0.5, 0.43575901224615243, 0.16668385261731825, 0.3769879816323527, 0.17966058080174874, 0.08111758892740693, 0.392953753399285, 0.8022359362318867, 0.6205116758333112, 0.9731933824328975, 0.307054752924542, 0.3473723822941354, 0.03431198268350715, 0.20179545234862598, 0.5306512128752144, 0.27527075755454833, 0.08607966711199255, 0.8826351720321582, 0.28891974433297934, 0.1701640214992846, 0.4287421171898489, 0.5070692599990193, 0.11955962694778852, 0.08701168438349374, 0.9971837550712291, 0.527985555161216, 0.42824447801091486, 0.06030296509680616, 0.09216521134401898, 0.27003618506396043, 0.9999996473358042, 0.9999999999999699, 0.2811119600153544, 0.24394203383559795, 0.30671641372518443, 0.9115435202526118, 0.5160550530231426, 0.5313224651804861, 0.28092234957617196, 0.45847370883602756, 0.4344041815769939, 0.3650342373756357, 0.20705236204257313, 0.550032752828002, 0.35409062052443374, 0.2592145617379754, 0.12522119164332007, 0.5729324924382962, 0.60689068054515, 0.3174927783153675, 0.1515637900924903, 0.7186647067256892, 0.6847510696403099, 0.9933609807680909, 0.6413693786444938, 0.23421482545833308, 0.4692304567418916, 0.10824532373292362, 0.3474630995230574, 0.8144141624220024, 0.3045216428915611, 0.08197669838513261, 0.6750418979014043, 0.11079719973065323, 0.9894450857762069, 0.838155963458104, 0.03232878545785871, 0.44374143633556, 0.4572582701878381, 0.7685877429901076, 0.22621943019829568, 0.2963675638598334, 0.3761242693733542, 0.0546125928749687, 0.12815351822867088, 0.4948447321088484, 0.2889661331370964, 0.8837810517427697, 0.16117615456765524, 0.34136862309365584, 0.36625910018387203, 0.38057999430708267, 0.10114804749572669, 0.4308111303449622, 0.5744130008073411, 0.9999999999999699, 0.19030404592530625, 0.029921833726660987, 0.5672384478804646, 0.2392727028243701, 0.9999999999999699, 0.46560751346964824, 0.9999999961376529, 0.46537195848101315, 0.08354690690203512, 0.4390585247383511, 0.2961847260971649, 0.16077076406366528, 0.3631675463343427, 0.5528874356475472, 0.4286791655188556, 0.4148351026417707, 0.8714583788375265, 0.13736333259511932, 0.056424510804710726, 0.13399477707149574, 0.7692588773444965, 0.6425596063771118, 0.3448832932102196, 0.32094302791483686, 0.06902237550307518, 0.08523784605500795, 0.7610753533717544, 0.11031156273723182, 0.5303417304425745, 0.09091858993313238, 0.8300912484138955, 0.15820853109540917, 0.6819785614704389, 0.23161505249583725, 0.44757891732935395, 0.3768148351079965, 0.6350302801876829, 0.3990449209065876, 0.35731529641563353, 0.24306478442101298, 0.1375574606863513, 0.889596464001709, 0.5515217418421715, 0.13399922247981247, 0.17900397617629296, 0.16789845457825003, 0.4222937996678865, 0.05397854550956783, 0.19389493911462474, 0.2964049708094707, 0.2634735817295333, 0.3005867955843477, 0.45400175558984673, 0.3975400524818406, 0.4699910072851342, 0.6095947087670709, 0.15181715415371616, 0.6437019038550961, 0.27847321725742474, 0.17409371275798052, 0.15528927550948016, 0.26894235858097537, 0.6812786644881225, 0.08520614862998964, 0.4093830223605809, 0.4396833649380194, 0.39618701831421627, 0.08342877756602292, 0.04833607084975653, 0.8159670979925288, 0.7508542147639076, 0.4155286418447771, 0.13029628900936988, 0.36567544279922165, 0.4511790878241147, 0.2924572077749599, 0.19462665209187166, 0.3587611215155005, 0.9999999999999699, 0.2297976346941364, 0.6214721963416057, 0.5341012198391757, 0.917021057305934, 0.36917592646176906, 0.3750394924569451, 0.022290554848997703, 0.47524569438348796, 0.13663013377950928, 0.5295165461525434, 0.20699422924494904, 0.4242740508114793, 0.8095162808693003, 0.7716067327489964, 0.7375823508423146, 0.6434521911577331, 0.402702415628476, 0.8847020966959154, 0.7245014465538036, 0.39974931796323937, 0.4614187315443796, 0.5583460296806156, 0.3849903232400678, 0.46441007369343124, 0.00880833446086419, 0.6586260484746543, 0.48158104516909944, 0.030473232981327224, 0.15318911213939895, 0.2797066437546025, 0.20910172071652217, 0.627276071959028, 0.08776240424557363, 0.07070406574731636, 0.39994630880294757, 0.40719854994139365, 0.36311283355198204, 0.1458582780676782, 0.263577290774488, 0.8045390610880208, 0.07616177479212836, 0.1625094169063682, 0.08295506217684198, 0.8765409266499968, 0.07569549726494694, 0.09308375406090219, 0.12123328650984692, 0.3181591371372786, 0.12614716660997158, 0.18888947318698776, 0.9999999756215705, 0.5893831930248884, 0.16887361626664416, 0.13631427708755625, 0.23888849993610556, 0.20359063023830026, 0.26076658593237145, 0.4116433307223121, 0.2979505916328707, 0.30794125741393613, 0.5076043545984315, 0.9658155784186568, 0.6530800995192346, 0.45025425956432996, 0.9999996455622284, 0.14632328482469864, 0.369872864771632, 0.29046595750073084, 0.7670946439586008, 0.1513740834362935, 0.5699653251546877, 0.08818703124351301, 0.8480433469645653, 0.24245762232943327, 0.3208865441708516, 0.9999950596036447, 0.7537436878282027, 0.33570786444170186, 0.36674982559584596, 0.355125586911374, 0.45967654540445485, 0.21657322769651707, 0.812746206881736, 0.0631936837163465, 0.3216090318002884, 0.018531508898549254, 0.5650187708117487, 0.9288257730587056, 0.42769495616726877, 0.3219450021398821, 0.31387625608799175, 0.30869535223842265, 0.3413360363263361, 0.8557638703385173, 0.219091795264474, 0.47092626034482, 0.5620801852477215, 0.12004967150434877, 0.15775764492713207, 0.14285146087550182, 0.20380748698054693, 0.29239481849657933, 0.6061680390674595, 0.33743009596540136, 0.19385778226430003, 0.08572690389299197, 0.013666330371045882, 0.6005444914800773, 0.5914012332728802, 0.2188814248696455, 0.3279329601523656, 0.27855806418672674, 0.09179086008639539, 0.11915917715204832, 0.27449037567539064, 0.15330535430129294, 0.3178255190148008, 0.03552832321031275, 0.9558251315772388, 0.15408729153285713, 0.39885929923074726, 0.001442690332437141, 0.7262559887908261, 0.05238739110315905, 0.07962385410161674, 0.8789755126543259, 0.186407879061254, 0.583217729051186, 0.6938941889889374, 0.4177162535211325, 0.08442489598093361, 0.24658070279849742, 0.029260099856216013, 0.03876276720135134, 0.2459093317998346, 0.1739221953802624, 0.6833326089314651, 0.5616590039703188, 0.5435345198965181, 0.4694486554174613, 0.20969796586196235, 0.243268939263137, 0.5354712227475589, 0.040824931932241536, 0.3689201280363167, 0.04739818388824346, 0.4107294428712738, 0.27245524750620587, 0.3505970479124383, 0.4928282802291977, 0.1434213239722235, 0.011229964115124235, 0.12283169898489517, 0.42454836513760386, 0.030366639727761494, 0.20212436939093684, 0.4615876593062628, 0.20678689262106306, 0.7883875942879401, 0.40214619566800713, 0.09861914773469342, 0.47889514739210376, 0.6934228724311815, 0.16283749061394795, 0.09315912841963259, 0.17818680301956957, 0.3588281585721958, 0.15778836114623251, 0.11651510847487578, 0.3664257915541917, 0.35687916600145975, 0.14436937884739134, 0.4465017386517404, 0.07757722710971356, 0.10725358225567198, 0.07451574830173752, 0.058289097868835515, 0.6401791516175304, 0.2838682898901244, 0.24303113037752935, 0.013597797647469462, 0.462454959855127, 0.4751674414792467, 0.36425277398347994, 0.6371913679423893, 0.1864987718180952, 0.43337320372524474, 0.607579904848486, 0.024040722976197793, 0.09911201302925933, 0.2705791487453206, 0.22644944645938062, 0.6108123527304624, 0.644807449065607, 0.07308534865776432, 0.10493249482778766, 0.21049725414500498, 0.04034429608704107, 0.07411299297644015, 0.4946001150245458, 0.10113781024574643, 0.2956635333854757, 0.6006174853568462, 0.8994445928388637, 0.19047471600341498, 0.591490424679496, 0.9966653055986976, 0.27397926211168844, 0.07611914145790605, 0.25503572156369947, 0.26929009400440024, 0.14259962625996575, 0.5708615112648514, 0.4428404645508505, 0.6746639579490092, 0.44267577968517174, 0.1284829212854092, 0.13662410934962232, 0.9355842950573569, 0.5779659402215107, 0.5554289031627966, 0.7056095169429276, 0.11209351678654537, 0.37987702750677965, 0.36229858947194415, 0.29176688594467726, 0.06092685508744452, 0.18949198715174048, 0.6405598035623519, 0.3294088881699813, 0.1144693926481338, 0.2659297825526681, 0.25610153874348285, 0.2040073075519714, 0.22906070686412036, 0.48802824181720733, 0.24177167225944457, 0.5980459820951367, 0.3303053845332337, 0.2597115189702436, 0.8257468138070845, 0.5442359173254456, 0.8738196012708338, 0.46195612123917, 0.39641140216002047, 0.08527560214008591, 0.14026359338157465, 0.48987506441286405, 0.4374261805762591, 0.35270913039417706, 0.2940704765492445, 0.4425414379738298, 0.2945198716435216, 0.25257928012667274, 0.4128667219794664, 0.6673457078961627, 0.5291301358362709, 0.5, 0.24983708523153733, 0.3071061952066958, 0.06701614167125339, 0.4756633907707686, 0.08834538602095435, 0.231269452650003, 0.4699502251618097, 0.44329349040791793, 0.43699792750815775, 0.3373505428261751, 0.13796435855108777, 0.2539128925714494, 0.28759932144321276, 0.5330044358526429, 0.4827717575616654, 0.06147490343679918, 0.39211025670015576, 0.18795662457473689, 0.36186613351781816, 0.16563706454893634, 0.601713782738, 0.018910575349441586, 0.8075317807636572, 0.3507961027207977, 0.9999820783238353, 0.566875303930867, 0.016439378630790556, 0.40669669670292286, 0.34679145957477403, 0.16701017637002263, 0.2645327112496581, 0.6949803162866818, 0.211542038086051, 0.4368622790123384, 0.11341837416113322, 0.16764393509062547, 0.427784080103595, 0.26413114953777495, 0.5243864809520471, 0.613613784076829, 0.6151587521269133, 0.6984622572122354, 0.3550098865108813, 0.40798061466027025, 0.8319078658649789, 0.926666831438481, 0.2892095553418461, 0.3379342992218738, 0.5449752640846415, 0.46521567387470575, 0.3387174408555308, 0.641768096893306, 0.06116956330838694, 0.8006300959228243, 0.0845896408279624, 0.3855366503390555, 0.21654177429103308, 0.12613124050390892, 0.2127439120311219, 0.978353235168433, 0.08978995369257184, 0.10125532888335817, 0.5938237176427142, 0.9623385765541751, 0.33340372441625205, 0.31361973041588087, 0.09493846259469735, 0.17579323320784998, 0.13276113444826707, 0.13501777316625324, 0.14118109461445227, 0.42400375083945535, 0.07836142167777248, 0.5515554094051144, 0.0824376979350305, 0.19703932643455957, 0.5409927884904935, 0.1180890383043404, 0.3354097609559794, 0.47336945179047557, 0.5504703310444623, 0.2081634392965288, 0.34129615623743736, 0.35982787723037696, 0.7785624735876171, 0.07217112732950752, 0.019614322067378245, 0.3647228582360338, 0.5187940988389563, 0.9934647556828466, 0.8743670897466255, 0.4055542704647136, 0.47400900030072723, 0.16471571863670534, 0.14203702734643822, 0.20947642457057614, 0.04859822230653438, 0.4029799106333059, 0.15989617794425676, 0.36089848583796935, 0.10114709472928946, 0.3202783849683711, 0.23070001479073735, 0.36434771512917025, 0.4202125955468646, 0.1299610954880365, 0.2828441695454354, 0.5094153633155789, 0.3350714608917304, 0.1992931578202814, 0.17129671608227004, 0.08859428115123627, 0.24740423206771872, 0.47407851947519103, 0.42313637487943, 0.4898254974124358, 0.24941879416905477, 0.25529471186975244, 0.5, 0.7559661012386703, 0.6223352930638474, 0.4583770422890923, 0.12859017287284222, 0.10451012221473886, 0.6285931132658121, 0.19267044490964058, 0.25609423340550663, 0.7407039143732818, 0.7336649158001426, 0.140586106725339, 0.9861355710925879, 0.505657241476314, 0.3856917561179071, 0.431446867838668, 0.05227266630298131, 0.4643084719269026, 0.033271574235336804, 0.39286037806637225, 0.8748439647599306, 0.5, 0.3923823614327795, 0.8559065749944118, 0.034095280923194055, 0.15433572195446682, 0.5252721632964742, 0.5217662309369189, 0.3177192464854093, 0.9999942554203483, 0.295489718530116, 0.5340549365666593, 0.15687311007940047, 0.007177136788886301, 0.5915318487779536, 0.04579225908982482, 0.15571280997331094, 0.4511527021425147, 0.10426892114965512, 0.6912131346776331, 0.16578620601248503, 0.23589471935153866, 0.5849521552356585, 0.2924435201093175, 0.04013715061201177, 0.5275018491160323, 0.4077973885865705, 0.5261681075883806, 0.34785371381377717, 0.37589564216636756, 0.31924242449015483, 0.9999999993013361, 0.5, 0.10560246403012591, 0.41454254436676186, 0.2825218302928953, 0.5430937010336384, 0.4501979611405056, 0.3641414985347263, 0.1067331301378924, 0.5296646351687121, 0.4877795315013075, 0.9218195679822453, 0.479326858931697, 0.3496021975298692, 0.24167372833840384, 0.09769203070324939, 0.9313055461638017, 0.5533202293824745, 0.12003241938785317, 0.4314362911735533, 0.0341445030115203, 0.2917191444296283, 0.41680664938937834, 0.05936191363238904, 0.26911227272931415, 0.16137534272296397, 0.4769979575744548, 0.08454301990529234, 0.5056565666291889, 0.4619235782261917, 0.5060707797466365, 0.054425937439454744, 0.3382702598429004, 0.2472452200609579, 0.10634279284963002, 0.9999932450840091, 0.5058100122097194, 0.44033917711103365, 0.04290124825118529, 0.4552023062495153, 0.229307319465228, 0.06580929701936744, 0.5205390691258527, 0.0595904263198735, 0.0710602906050901, 0.0861861430836328, 0.5411661511264871, 0.5597269580208395, 0.39635989675091926, 0.5705712380660506, 0.5535142172486233, 0.36949133523717376, 0.984755561516949, 0.9859307095057414, 0.556508939999225, 0.3149557185659346, 0.16466261735928014, 0.016270305612413, 0.4738780665287012, 0.28519944840294204, 0.5542334250211616, 0.4002328143982692, 0.04454703223700744, 0.7803898129385543, 0.6305947958923551, 0.5, 0.17692356907951062, 0.3942037191652661, 0.030661780939614643, 0.8808904455249621, 0.4151358433056123, 0.11872997830277261, 0.3160086897623959, 0.35731028212087956, 0.48690080780141226, 0.4667091284097581, 0.04367080559790949, 0.3824482186597895, 0.3034201450276644, 0.30003649535262195, 0.46050923762961454, 0.44385483999097214, 0.3572334194494828, 0.4281948505950536, 0.9723731089986796, 0.4514505938164634, 0.5758203711386725, 0.3656093181987183, 0.5537737074740559, 0.23425375018536027, 0.5280149812773992, 0.6204162211695804, 0.5433860260732799, 0.5, 0.1406165095427627, 0.45538963164734364, 0.3546649298788014, 0.08937438417579918, 0.45774173029520443, 0.5389521767301982, 0.38348564823490083, 0.08631824136380202, 0.1834354942682428, 0.5207356916867569, 0.016142253630385156, 0.4061513238541115, 0.4015971377864192, 0.4135545273529117, 0.43038286670056086, 0.27990970224583483, 0.35797337983231714, 0.4106622573635738, 0.24528606244056705, 0.559739122950949, 0.26655218346729403, 0.7064836919284841, 0.4123932864419404, 0.31384622068698576, 0.025512222815696813, 0.2777010929432849, 0.16396276042345623, 0.06297097060060836, 0.13107040419066776, 0.9495293037990379, 0.5384812886699919, 0.9557434638049455, 0.5422388672721853, 0.3460344254481691, 0.41203030785786826, 0.37023327892930474, 0.19928285122189354, 0.979301726283623, 0.24621558807516064, 0.4082320043735959, 0.2970127612602232, 0.22892643757736933, 0.31795152925158293, 0.1606771431031002, 0.04728538492168415, 0.34090489644756894, 0.5863155686081054, 0.596809236928598, 0.5532476913263484, 0.012172938762584224, 0.27219445542288884, 0.0990067201370733, 0.841232481706813, 0.3215610268631225, 0.5453428304920738, 0.033065547564144766, 0.21622303119094055, 0.040705862142140364, 0.6520147863837853, 0.12549384484382903, 0.0970903580177258, 0.2067469764745648, 0.15523726403881227, 0.13347412916477802, 0.06961515753423192, 0.09326134731110865, 0.24200834104258115, 0.11504638701037147, 0.4656855200401392, 0.39317451720981345, 0.2802185389165279, 0.40672003741264684, 0.14685174218319977, 0.005282258842186376, 0.2931799253436935, 0.9415650266416824, 0.1816904048926722, 0.22502665178027098, 0.12402810503502006, 0.5154956397275916, 1.0000000994736041e-07, 0.07729313061114343, 0.3447455246045623, 0.5265948501048607, 0.336889244652431, 0.6397089143896832, 0.14644781764718903, 0.3857166639146939, 0.15942047680174293, 0.18720791602176032, 0.768089985438199, 0.18906099576912547, 0.47184585534525164, 0.10598219924973276, 0.6137951039198297, 0.06291012244815414, 0.2874799682645353, 0.08982011913505912, 0.5, 0.18860673558916546, 0.47001055163554206, 0.017600303684134427, 0.012137629815205648, 0.5698947483157373, 0.6150757796351352, 0.12473909692626338, 0.23037732285644633, 0.30087673974124035, 0.10108200987287538, 0.6471972475295761, 0.086206624435805, 0.4123196367620224, 0.43584084027940057, 0.06598473550179296, 0.03428165403064156, 0.12612687106749507, 0.1347024725119373, 0.06825378501607707, 0.25151420464282664, 0.4747669169346448, 0.4887372206967339, 0.16238761030073565, 0.18933801895001365, 0.3330086130900301, 0.4495549549100732, 0.9707628215061558, 0.4185174022397393, 0.3138506570972742, 0.07195425564377432, 0.605443689908819, 0.5114926517397559, 0.06754573683092446, 0.34240714307939923, 0.5989672689975148, 0.48292224371661807, 0.4389786087753566, 0.04628161351441304, 0.894396298272377, 0.5645584475095531, 0.3426856898095276, 0.4329372622158964, 0.1336520234046875, 0.44619566472469835, 0.2736610694521922, 0.4443540582880058, 0.20361896497930113, 0.5743851376611724, 0.625305762045881, 0.7940665289427832, 0.013606451467817056, 0.36122036530891116, 0.3531030425270309, 0.19347212372179298, 0.14437335533774315, 0.16977759990785835, 0.676409220259966, 0.7953391154254159, 0.1201126476561894, 0.34730581467048416, 0.3353691533680317, 0.7897028810318282, 0.5320052428307472, 0.14483194803962074, 0.4599209974858096, 0.014962452238502873, 0.2979945286105393, 0.02050743099894697, 0.7666023250977027, 0.7715396127822487, 0.2581911437479534, 0.8173097812710645, 0.6997754244673614, 0.5632259694111165, 0.3834458159629279, 0.7109901055348026, 0.6953854574191328, 0.08990580729956325, 0.1005983699528428, 0.4568636337017044, 0.45685702887924223, 0.44972532029861817, 0.42778597894441134, 0.8201719180064501, 0.9615766793453678, 0.8282483327408638, 0.24041072197773, 0.29134557361290137, 0.1823186905557919, 0.29143215142174134, 0.22550649027757483, 0.585501313306989, 0.6111318323898525, 0.21222766896367692, 0.7255970812091085, 0.04337400336035391, 0.5731653040659961, 0.9096789111711675, 0.35833887051072616, 0.22927459541201478, 0.6316816447418079, 0.2432304388458199, 0.2968380903426951, 0.10108052751306876, 0.044469923955439854]\n"
          ]
        }
      ],
      "source": [
        "# Taking our predictions and putting them in a list for final format...\n",
        "empty_list = []\n",
        "for observation in y_hat_clf_svm:\n",
        "  empty_list.append(observation[1])\n",
        "print(empty_list)\n",
        "\n",
        "final_pred = np.array(empty_list)\n"
      ]
    },
    {
      "cell_type": "code",
      "execution_count": 79,
      "metadata": {
        "id": "R2HhybzwbzZb"
      },
      "outputs": [],
      "source": [
        "# Saving the final submission, for uploading...\n",
        "final_data = {'icustay_id': test.icustay_id, 'HOSPITAL_EXPIRE_FLAG': final_pred}\n",
        "submission = pd.DataFrame(data=final_data)\n",
        "submission.to_csv(os.path.join(fl,'processed_data/predicted_deaths.csv'), index =False)"
      ]
    }
  ],
  "metadata": {
    "colab": {
      "collapsed_sections": [],
      "name": "DGJ_200821 - KNN_project.ipynb",
      "provenance": []
    },
    "kernelspec": {
      "display_name": "Python 3",
      "language": "python",
      "name": "python3"
    },
    "language_info": {
      "codemirror_mode": {
        "name": "ipython",
        "version": 3
      },
      "file_extension": ".py",
      "mimetype": "text/x-python",
      "name": "python",
      "nbconvert_exporter": "python",
      "pygments_lexer": "ipython3",
      "version": "3.8.8"
    },
    "toc": {
      "base_numbering": 1,
      "nav_menu": {},
      "number_sections": true,
      "sideBar": true,
      "skip_h1_title": false,
      "title_cell": "Table of Contents",
      "title_sidebar": "Contents",
      "toc_cell": false,
      "toc_position": {},
      "toc_section_display": true,
      "toc_window_display": true
    }
  },
  "nbformat": 4,
  "nbformat_minor": 0
}
